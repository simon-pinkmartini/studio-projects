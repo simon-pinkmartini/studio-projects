{
 "cells": [
  {
   "cell_type": "code",
   "execution_count": 1,
   "metadata": {
    "collapsed": true
   },
   "outputs": [],
   "source": [
    "import pandas as pd"
   ]
  },
  {
   "cell_type": "markdown",
   "metadata": {},
   "source": [
    "This file helps to create the html to load into the selectboxes"
   ]
  },
  {
   "cell_type": "code",
   "execution_count": 2,
   "metadata": {
    "collapsed": true
   },
   "outputs": [],
   "source": [
    "options = {}"
   ]
  },
  {
   "cell_type": "code",
   "execution_count": 3,
   "metadata": {
    "collapsed": true
   },
   "outputs": [],
   "source": [
    "#A function to create an option string\n",
    "def make_options(df):\n",
    "    string = ''\n",
    "    for col in df.columns:\n",
    "        string += '<option value=\"' + col + '\">' + col + '</option>'\n",
    "    return string"
   ]
  },
  {
   "cell_type": "markdown",
   "metadata": {},
   "source": [
    "### Household size"
   ]
  },
  {
   "cell_type": "code",
   "execution_count": 4,
   "metadata": {},
   "outputs": [
    {
     "data": {
      "text/html": [
       "<div>\n",
       "<style>\n",
       "    .dataframe thead tr:only-child th {\n",
       "        text-align: right;\n",
       "    }\n",
       "\n",
       "    .dataframe thead th {\n",
       "        text-align: left;\n",
       "    }\n",
       "\n",
       "    .dataframe tbody tr th {\n",
       "        vertical-align: top;\n",
       "    }\n",
       "</style>\n",
       "<table border=\"1\" class=\"dataframe\">\n",
       "  <thead>\n",
       "    <tr style=\"text-align: right;\">\n",
       "      <th></th>\n",
       "      <th>1</th>\n",
       "      <th>2</th>\n",
       "      <th>3</th>\n",
       "      <th>4</th>\n",
       "      <th>5</th>\n",
       "      <th>6+</th>\n",
       "    </tr>\n",
       "  </thead>\n",
       "  <tbody>\n",
       "    <tr>\n",
       "      <th>0</th>\n",
       "      <td>0.0</td>\n",
       "      <td>0.0</td>\n",
       "      <td>0.0</td>\n",
       "      <td>0.0</td>\n",
       "      <td>0.0</td>\n",
       "      <td>0.0</td>\n",
       "    </tr>\n",
       "  </tbody>\n",
       "</table>\n",
       "</div>"
      ],
      "text/plain": [
       "     1    2    3    4    5   6+\n",
       "0  0.0  0.0  0.0  0.0  0.0  0.0"
      ]
     },
     "execution_count": 4,
     "metadata": {},
     "output_type": "execute_result"
    }
   ],
   "source": [
    "df_hh = pd.read_csv('StructuredData/CH-Haushaltsgroesse.csv')\n",
    "df_hh.head(2)"
   ]
  },
  {
   "cell_type": "code",
   "execution_count": 5,
   "metadata": {
    "collapsed": true
   },
   "outputs": [],
   "source": [
    "options['Haushaltsgroesse'] = make_options(df_hh)"
   ]
  },
  {
   "cell_type": "code",
   "execution_count": 6,
   "metadata": {},
   "outputs": [
    {
     "data": {
      "text/plain": [
       "'<option value=\"1\">1</option><option value=\"2\">2</option><option value=\"3\">3</option><option value=\"4\">4</option><option value=\"5\">5</option><option value=\"6+\">6+</option>'"
      ]
     },
     "execution_count": 6,
     "metadata": {},
     "output_type": "execute_result"
    }
   ],
   "source": [
    "options['Haushaltsgroesse']"
   ]
  },
  {
   "cell_type": "markdown",
   "metadata": {},
   "source": [
    "### Age"
   ]
  },
  {
   "cell_type": "code",
   "execution_count": 7,
   "metadata": {},
   "outputs": [
    {
     "data": {
      "text/html": [
       "<div>\n",
       "<style>\n",
       "    .dataframe thead tr:only-child th {\n",
       "        text-align: right;\n",
       "    }\n",
       "\n",
       "    .dataframe thead th {\n",
       "        text-align: left;\n",
       "    }\n",
       "\n",
       "    .dataframe tbody tr th {\n",
       "        vertical-align: top;\n",
       "    }\n",
       "</style>\n",
       "<table border=\"1\" class=\"dataframe\">\n",
       "  <thead>\n",
       "    <tr style=\"text-align: right;\">\n",
       "      <th></th>\n",
       "      <th>0</th>\n",
       "      <th>1</th>\n",
       "      <th>2</th>\n",
       "      <th>3</th>\n",
       "      <th>4</th>\n",
       "      <th>5</th>\n",
       "      <th>6</th>\n",
       "      <th>7</th>\n",
       "      <th>8</th>\n",
       "      <th>9</th>\n",
       "      <th>...</th>\n",
       "      <th>91</th>\n",
       "      <th>92</th>\n",
       "      <th>93</th>\n",
       "      <th>94</th>\n",
       "      <th>95</th>\n",
       "      <th>96</th>\n",
       "      <th>97</th>\n",
       "      <th>98</th>\n",
       "      <th>99</th>\n",
       "      <th>100</th>\n",
       "    </tr>\n",
       "  </thead>\n",
       "  <tbody>\n",
       "    <tr>\n",
       "      <th>0</th>\n",
       "      <td>0.0</td>\n",
       "      <td>0.0</td>\n",
       "      <td>0.0</td>\n",
       "      <td>0.0</td>\n",
       "      <td>0.0</td>\n",
       "      <td>0.0</td>\n",
       "      <td>0.0</td>\n",
       "      <td>0.0</td>\n",
       "      <td>0.0</td>\n",
       "      <td>0.0</td>\n",
       "      <td>...</td>\n",
       "      <td>0.0</td>\n",
       "      <td>0.0</td>\n",
       "      <td>0.0</td>\n",
       "      <td>0.0</td>\n",
       "      <td>0.0</td>\n",
       "      <td>0.0</td>\n",
       "      <td>0.0</td>\n",
       "      <td>0.0</td>\n",
       "      <td>0.0</td>\n",
       "      <td>0.0</td>\n",
       "    </tr>\n",
       "  </tbody>\n",
       "</table>\n",
       "<p>1 rows × 101 columns</p>\n",
       "</div>"
      ],
      "text/plain": [
       "     0    1    2    3    4    5    6    7    8    9 ...    91   92   93   94  \\\n",
       "0  0.0  0.0  0.0  0.0  0.0  0.0  0.0  0.0  0.0  0.0 ...   0.0  0.0  0.0  0.0   \n",
       "\n",
       "    95   96   97   98   99  100  \n",
       "0  0.0  0.0  0.0  0.0  0.0  0.0  \n",
       "\n",
       "[1 rows x 101 columns]"
      ]
     },
     "execution_count": 7,
     "metadata": {},
     "output_type": "execute_result"
    }
   ],
   "source": [
    "df_age = pd.read_csv('StructuredData/CH-Alter.csv')\n",
    "df_age.head(2)"
   ]
  },
  {
   "cell_type": "code",
   "execution_count": 8,
   "metadata": {
    "collapsed": true
   },
   "outputs": [],
   "source": [
    "options['Alter'] = make_options(df_age)"
   ]
  },
  {
   "cell_type": "code",
   "execution_count": 9,
   "metadata": {},
   "outputs": [
    {
     "data": {
      "text/plain": [
       "'<option value=\"0\">0</option><option value=\"1\">1</option><option value=\"2\">2</option><option value=\"3\">3</option><option value=\"4\">4</option><option value=\"5\">5</option><option value=\"6\">6</option><option value=\"7\">7</option><option value=\"8\">8</option><option value=\"9\">9</option><option value=\"10\">10</option><option value=\"11\">11</option><option value=\"12\">12</option><option value=\"13\">13</option><option value=\"14\">14</option><option value=\"15\">15</option><option value=\"16\">16</option><option value=\"17\">17</option><option value=\"18\">18</option><option value=\"19\">19</option><option value=\"20\">20</option><option value=\"21\">21</option><option value=\"22\">22</option><option value=\"23\">23</option><option value=\"24\">24</option><option value=\"25\">25</option><option value=\"26\">26</option><option value=\"27\">27</option><option value=\"28\">28</option><option value=\"29\">29</option><option value=\"30\">30</option><option value=\"31\">31</option><option value=\"32\">32</option><option value=\"33\">33</option><option value=\"34\">34</option><option value=\"35\">35</option><option value=\"36\">36</option><option value=\"37\">37</option><option value=\"38\">38</option><option value=\"39\">39</option><option value=\"40\">40</option><option value=\"41\">41</option><option value=\"42\">42</option><option value=\"43\">43</option><option value=\"44\">44</option><option value=\"45\">45</option><option value=\"46\">46</option><option value=\"47\">47</option><option value=\"48\">48</option><option value=\"49\">49</option><option value=\"50\">50</option><option value=\"51\">51</option><option value=\"52\">52</option><option value=\"53\">53</option><option value=\"54\">54</option><option value=\"55\">55</option><option value=\"56\">56</option><option value=\"57\">57</option><option value=\"58\">58</option><option value=\"59\">59</option><option value=\"60\">60</option><option value=\"61\">61</option><option value=\"62\">62</option><option value=\"63\">63</option><option value=\"64\">64</option><option value=\"65\">65</option><option value=\"66\">66</option><option value=\"67\">67</option><option value=\"68\">68</option><option value=\"69\">69</option><option value=\"70\">70</option><option value=\"71\">71</option><option value=\"72\">72</option><option value=\"73\">73</option><option value=\"74\">74</option><option value=\"75\">75</option><option value=\"76\">76</option><option value=\"77\">77</option><option value=\"78\">78</option><option value=\"79\">79</option><option value=\"80\">80</option><option value=\"81\">81</option><option value=\"82\">82</option><option value=\"83\">83</option><option value=\"84\">84</option><option value=\"85\">85</option><option value=\"86\">86</option><option value=\"87\">87</option><option value=\"88\">88</option><option value=\"89\">89</option><option value=\"90\">90</option><option value=\"91\">91</option><option value=\"92\">92</option><option value=\"93\">93</option><option value=\"94\">94</option><option value=\"95\">95</option><option value=\"96\">96</option><option value=\"97\">97</option><option value=\"98\">98</option><option value=\"99\">99</option><option value=\"100\">100</option>'"
      ]
     },
     "execution_count": 9,
     "metadata": {},
     "output_type": "execute_result"
    }
   ],
   "source": [
    "options['Alter']"
   ]
  },
  {
   "cell_type": "markdown",
   "metadata": {},
   "source": [
    "### Marital Status"
   ]
  },
  {
   "cell_type": "code",
   "execution_count": 10,
   "metadata": {},
   "outputs": [
    {
     "data": {
      "text/html": [
       "<div>\n",
       "<style>\n",
       "    .dataframe thead tr:only-child th {\n",
       "        text-align: right;\n",
       "    }\n",
       "\n",
       "    .dataframe thead th {\n",
       "        text-align: left;\n",
       "    }\n",
       "\n",
       "    .dataframe tbody tr th {\n",
       "        vertical-align: top;\n",
       "    }\n",
       "</style>\n",
       "<table border=\"1\" class=\"dataframe\">\n",
       "  <thead>\n",
       "    <tr style=\"text-align: right;\">\n",
       "      <th></th>\n",
       "      <th>Ledig</th>\n",
       "      <th>Verheiratet</th>\n",
       "      <th>Geschieden</th>\n",
       "      <th>Wervitwet</th>\n",
       "    </tr>\n",
       "  </thead>\n",
       "  <tbody>\n",
       "    <tr>\n",
       "      <th>0</th>\n",
       "      <td>0.0</td>\n",
       "      <td>0.0</td>\n",
       "      <td>0.0</td>\n",
       "      <td>0.0</td>\n",
       "    </tr>\n",
       "  </tbody>\n",
       "</table>\n",
       "</div>"
      ],
      "text/plain": [
       "   Ledig  Verheiratet  Geschieden  Wervitwet\n",
       "0    0.0          0.0         0.0        0.0"
      ]
     },
     "execution_count": 10,
     "metadata": {},
     "output_type": "execute_result"
    }
   ],
   "source": [
    "df_ziv = pd.read_csv('StructuredData/CH-Zivilstand.csv')\n",
    "df_ziv.head(2)"
   ]
  },
  {
   "cell_type": "code",
   "execution_count": 11,
   "metadata": {
    "collapsed": true
   },
   "outputs": [],
   "source": [
    "options['Zivilstand'] = make_options(df_ziv)"
   ]
  },
  {
   "cell_type": "code",
   "execution_count": 12,
   "metadata": {},
   "outputs": [
    {
     "data": {
      "text/plain": [
       "'<option value=\"Ledig\">Ledig</option><option value=\"Verheiratet\">Verheiratet</option><option value=\"Geschieden\">Geschieden</option><option value=\"Wervitwet\">Wervitwet</option>'"
      ]
     },
     "execution_count": 12,
     "metadata": {},
     "output_type": "execute_result"
    }
   ],
   "source": [
    "options['Zivilstand']"
   ]
  },
  {
   "cell_type": "markdown",
   "metadata": {},
   "source": [
    "### Nationality"
   ]
  },
  {
   "cell_type": "code",
   "execution_count": 13,
   "metadata": {},
   "outputs": [
    {
     "data": {
      "text/html": [
       "<div>\n",
       "<style>\n",
       "    .dataframe thead tr:only-child th {\n",
       "        text-align: right;\n",
       "    }\n",
       "\n",
       "    .dataframe thead th {\n",
       "        text-align: left;\n",
       "    }\n",
       "\n",
       "    .dataframe tbody tr th {\n",
       "        vertical-align: top;\n",
       "    }\n",
       "</style>\n",
       "<table border=\"1\" class=\"dataframe\">\n",
       "  <thead>\n",
       "    <tr style=\"text-align: right;\">\n",
       "      <th></th>\n",
       "      <th>Schweiz</th>\n",
       "      <th>Afghanistan</th>\n",
       "      <th>Ägypten</th>\n",
       "      <th>Albanien</th>\n",
       "      <th>Algerien</th>\n",
       "      <th>Andorra</th>\n",
       "      <th>Angola</th>\n",
       "      <th>Antigua und Barbuda</th>\n",
       "      <th>Äquatorialguinea</th>\n",
       "      <th>Argentinien</th>\n",
       "      <th>...</th>\n",
       "      <th>Vatikanstadt</th>\n",
       "      <th>Venezuela</th>\n",
       "      <th>Vereinigte Arabische Emirate</th>\n",
       "      <th>Vereinigte Staaten</th>\n",
       "      <th>Vereinigtes Königreich</th>\n",
       "      <th>Vietnam</th>\n",
       "      <th>Westsahara</th>\n",
       "      <th>Zentralafrikanische Republik</th>\n",
       "      <th>Zypern</th>\n",
       "      <th>Ohne Angabe</th>\n",
       "    </tr>\n",
       "  </thead>\n",
       "  <tbody>\n",
       "    <tr>\n",
       "      <th>0</th>\n",
       "      <td>0.0</td>\n",
       "      <td>0.0</td>\n",
       "      <td>0.0</td>\n",
       "      <td>0.0</td>\n",
       "      <td>0.0</td>\n",
       "      <td>0.0</td>\n",
       "      <td>0.0</td>\n",
       "      <td>0.0</td>\n",
       "      <td>0.0</td>\n",
       "      <td>0.0</td>\n",
       "      <td>...</td>\n",
       "      <td>0.0</td>\n",
       "      <td>0.0</td>\n",
       "      <td>0.0</td>\n",
       "      <td>0.0</td>\n",
       "      <td>0.0</td>\n",
       "      <td>0.0</td>\n",
       "      <td>0.0</td>\n",
       "      <td>0.0</td>\n",
       "      <td>0.0</td>\n",
       "      <td>0.0</td>\n",
       "    </tr>\n",
       "  </tbody>\n",
       "</table>\n",
       "<p>1 rows × 200 columns</p>\n",
       "</div>"
      ],
      "text/plain": [
       "   Schweiz  Afghanistan  Ägypten  Albanien  Algerien  Andorra  Angola  \\\n",
       "0      0.0          0.0      0.0       0.0       0.0      0.0     0.0   \n",
       "\n",
       "   Antigua und Barbuda  Äquatorialguinea  Argentinien     ...       \\\n",
       "0                  0.0               0.0          0.0     ...        \n",
       "\n",
       "   Vatikanstadt  Venezuela  Vereinigte Arabische Emirate  Vereinigte Staaten  \\\n",
       "0           0.0        0.0                           0.0                 0.0   \n",
       "\n",
       "   Vereinigtes Königreich  Vietnam  Westsahara  Zentralafrikanische Republik  \\\n",
       "0                     0.0      0.0         0.0                           0.0   \n",
       "\n",
       "   Zypern  Ohne Angabe  \n",
       "0     0.0          0.0  \n",
       "\n",
       "[1 rows x 200 columns]"
      ]
     },
     "execution_count": 13,
     "metadata": {},
     "output_type": "execute_result"
    }
   ],
   "source": [
    "df_ziv = pd.read_csv('StructuredData/CH-Nationalitaet.csv')\n",
    "df_ziv.head(2)"
   ]
  },
  {
   "cell_type": "code",
   "execution_count": 14,
   "metadata": {
    "collapsed": true
   },
   "outputs": [],
   "source": [
    "options['Nationalitaet'] = make_options(df_ziv)"
   ]
  },
  {
   "cell_type": "code",
   "execution_count": 15,
   "metadata": {
    "scrolled": true
   },
   "outputs": [
    {
     "data": {
      "text/plain": [
       "'<option value=\"Schweiz\">Schweiz</option><option value=\"Afghanistan\">Afghanistan</option><option value=\"Ägypten\">Ägypten</option><option value=\"Albanien\">Albanien</option><option value=\"Algerien\">Algerien</option><option value=\"Andorra\">Andorra</option><option value=\"Angola\">Angola</option><option value=\"Antigua und Barbuda\">Antigua und Barbuda</option><option value=\"Äquatorialguinea\">Äquatorialguinea</option><option value=\"Argentinien\">Argentinien</option><option value=\"Armenien\">Armenien</option><option value=\"Aserbaidschan\">Aserbaidschan</option><option value=\"Äthiopien\">Äthiopien</option><option value=\"Australien\">Australien</option><option value=\"Bahamas\">Bahamas</option><option value=\"Bahrain\">Bahrain</option><option value=\"Bangladesch\">Bangladesch</option><option value=\"Barbados\">Barbados</option><option value=\"Belarus\">Belarus</option><option value=\"Belgien\">Belgien</option><option value=\"Belize\">Belize</option><option value=\"Benin\">Benin</option><option value=\"Bhutan\">Bhutan</option><option value=\"Bolivien\">Bolivien</option><option value=\"Bosnien und Herzegowina\">Bosnien und Herzegowina</option><option value=\"Botsuana\">Botsuana</option><option value=\"Brasilien\">Brasilien</option><option value=\"Brunei Darussalam\">Brunei Darussalam</option><option value=\"Bulgarien\">Bulgarien</option><option value=\"Burkina Faso\">Burkina Faso</option><option value=\"Burundi\">Burundi</option><option value=\"Chile\">Chile</option><option value=\"China\">China</option><option value=\"Costa Rica\">Costa Rica</option><option value=\"Côte d\\'Ivoire\">Côte d\\'Ivoire</option><option value=\"Dänemark\">Dänemark</option><option value=\"Deutschland\">Deutschland</option><option value=\"Dominica\">Dominica</option><option value=\"Dominikanische Republik\">Dominikanische Republik</option><option value=\"Dschibuti\">Dschibuti</option><option value=\"Ecuador\">Ecuador</option><option value=\"El Salvador\">El Salvador</option><option value=\"Eritrea\">Eritrea</option><option value=\"Estland\">Estland</option><option value=\"Fidschi\">Fidschi</option><option value=\"Finnland\">Finnland</option><option value=\"Frankreich\">Frankreich</option><option value=\"Gabun\">Gabun</option><option value=\"Gambia\">Gambia</option><option value=\"Georgien\">Georgien</option><option value=\"Ghana\">Ghana</option><option value=\"Grenada\">Grenada</option><option value=\"Griechenland\">Griechenland</option><option value=\"Guatemala\">Guatemala</option><option value=\"Guinea\">Guinea</option><option value=\"Guinea-Bissau\">Guinea-Bissau</option><option value=\"Guyana\">Guyana</option><option value=\"Haiti\">Haiti</option><option value=\"Honduras\">Honduras</option><option value=\"Indien\">Indien</option><option value=\"Indonesien\">Indonesien</option><option value=\"Irak\">Irak</option><option value=\"Iran\">Iran</option><option value=\"Irland\">Irland</option><option value=\"Island\">Island</option><option value=\"Israel\">Israel</option><option value=\"Italien\">Italien</option><option value=\"Jamaika\">Jamaika</option><option value=\"Japan\">Japan</option><option value=\"Jemen\">Jemen</option><option value=\"Jordanien\">Jordanien</option><option value=\"Kambodscha\">Kambodscha</option><option value=\"Kamerun\">Kamerun</option><option value=\"Kanada\">Kanada</option><option value=\"Kap Verde\">Kap Verde</option><option value=\"Kasachstan\">Kasachstan</option><option value=\"Katar\">Katar</option><option value=\"Kenia\">Kenia</option><option value=\"Kirgisistan\">Kirgisistan</option><option value=\"Kiribati\">Kiribati</option><option value=\"Kolumbien\">Kolumbien</option><option value=\"Komoren\">Komoren</option><option value=\"Kongo (Brazzaville)\">Kongo (Brazzaville)</option><option value=\"Kongo (Kinshasa)\">Kongo (Kinshasa)</option><option value=\"Korea (Nord-)\">Korea (Nord-)</option><option value=\"Korea (Süd-)\">Korea (Süd-)</option><option value=\"Kosovo\">Kosovo</option><option value=\"Kroatien\">Kroatien</option><option value=\"Kuba\">Kuba</option><option value=\"Kuwait\">Kuwait</option><option value=\"Laos\">Laos</option><option value=\"Lesotho\">Lesotho</option><option value=\"Lettland\">Lettland</option><option value=\"Libanon\">Libanon</option><option value=\"Liberia\">Liberia</option><option value=\"Libyen\">Libyen</option><option value=\"Liechtenstein\">Liechtenstein</option><option value=\"Litauen\">Litauen</option><option value=\"Luxemburg\">Luxemburg</option><option value=\"Madagaskar\">Madagaskar</option><option value=\"Malawi\">Malawi</option><option value=\"Malaysia\">Malaysia</option><option value=\"Malediven\">Malediven</option><option value=\"Mali\">Mali</option><option value=\"Malta\">Malta</option><option value=\"Marokko\">Marokko</option><option value=\"Marshallinseln\">Marshallinseln</option><option value=\"Mauretanien\">Mauretanien</option><option value=\"Mauritius\">Mauritius</option><option value=\"Mazedonien\">Mazedonien</option><option value=\"Mexiko\">Mexiko</option><option value=\"Mikronesien\">Mikronesien</option><option value=\"Moldova\">Moldova</option><option value=\"Monaco\">Monaco</option><option value=\"Mongolei\">Mongolei</option><option value=\"Montenegro\">Montenegro</option><option value=\"Mosambik\">Mosambik</option><option value=\"Myanmar\">Myanmar</option><option value=\"Namibia\">Namibia</option><option value=\"Nauru\">Nauru</option><option value=\"Nepal\">Nepal</option><option value=\"Neuseeland\">Neuseeland</option><option value=\"Nicaragua\">Nicaragua</option><option value=\"Niederlande\">Niederlande</option><option value=\"Niger\">Niger</option><option value=\"Nigeria\">Nigeria</option><option value=\"Norwegen\">Norwegen</option><option value=\"Oman\">Oman</option><option value=\"Österreich\">Österreich</option><option value=\"Pakistan\">Pakistan</option><option value=\"Palästina\">Palästina</option><option value=\"Palau\">Palau</option><option value=\"Panama\">Panama</option><option value=\"Papua-Neuguinea\">Papua-Neuguinea</option><option value=\"Paraguay\">Paraguay</option><option value=\"Peru\">Peru</option><option value=\"Philippinen\">Philippinen</option><option value=\"Polen\">Polen</option><option value=\"Portugal\">Portugal</option><option value=\"Ruanda\">Ruanda</option><option value=\"Rumänien\">Rumänien</option><option value=\"Russland\">Russland</option><option value=\"Salomoninseln\">Salomoninseln</option><option value=\"Sambia\">Sambia</option><option value=\"Samoa\">Samoa</option><option value=\"San Marino\">San Marino</option><option value=\"São Tomé und Príncipe\">São Tomé und Príncipe</option><option value=\"Saudi-Arabien\">Saudi-Arabien</option><option value=\"Schweden\">Schweden</option><option value=\"Senegal\">Senegal</option><option value=\"Serbien\">Serbien</option><option value=\"Seychellen\">Seychellen</option><option value=\"Sierra Leone\">Sierra Leone</option><option value=\"Simbabwe\">Simbabwe</option><option value=\"Singapur\">Singapur</option><option value=\"Slowakei\">Slowakei</option><option value=\"Slowenien\">Slowenien</option><option value=\"Somalia\">Somalia</option><option value=\"Spanien\">Spanien</option><option value=\"Sri Lanka\">Sri Lanka</option><option value=\"St. Kitts und Nevis\">St. Kitts und Nevis</option><option value=\"St. Lucia\">St. Lucia</option><option value=\"St. Vincent und die Grenadinen\">St. Vincent und die Grenadinen</option><option value=\"Staatenlos\">Staatenlos</option><option value=\"Südafrika\">Südafrika</option><option value=\"Sudan\">Sudan</option><option value=\"Südsudan\">Südsudan</option><option value=\"Suriname\">Suriname</option><option value=\"Swasiland\">Swasiland</option><option value=\"Syrien\">Syrien</option><option value=\"Tadschikistan\">Tadschikistan</option><option value=\"Taiwan (Chinesisches Taipei)\">Taiwan (Chinesisches Taipei)</option><option value=\"Tansania\">Tansania</option><option value=\"Thailand\">Thailand</option><option value=\"Timor-Leste\">Timor-Leste</option><option value=\"Togo\">Togo</option><option value=\"Tonga\">Tonga</option><option value=\"Trinidad und Tobago\">Trinidad und Tobago</option><option value=\"Tschad\">Tschad</option><option value=\"Tschechische Republik\">Tschechische Republik</option><option value=\"Tunesien\">Tunesien</option><option value=\"Türkei\">Türkei</option><option value=\"Turkmenistan\">Turkmenistan</option><option value=\"Tuvalu\">Tuvalu</option><option value=\"Uganda\">Uganda</option><option value=\"Ukraine\">Ukraine</option><option value=\"Ungarn\">Ungarn</option><option value=\"Uruguay\">Uruguay</option><option value=\"Usbekistan\">Usbekistan</option><option value=\"Vanuatu\">Vanuatu</option><option value=\"Vatikanstadt\">Vatikanstadt</option><option value=\"Venezuela\">Venezuela</option><option value=\"Vereinigte Arabische Emirate\">Vereinigte Arabische Emirate</option><option value=\"Vereinigte Staaten\">Vereinigte Staaten</option><option value=\"Vereinigtes Königreich\">Vereinigtes Königreich</option><option value=\"Vietnam\">Vietnam</option><option value=\"Westsahara\">Westsahara</option><option value=\"Zentralafrikanische Republik\">Zentralafrikanische Republik</option><option value=\"Zypern\">Zypern</option><option value=\"Ohne Angabe\">Ohne Angabe</option>'"
      ]
     },
     "execution_count": 15,
     "metadata": {},
     "output_type": "execute_result"
    }
   ],
   "source": [
    "options['Nationalitaet']"
   ]
  },
  {
   "cell_type": "markdown",
   "metadata": {},
   "source": [
    "### Parties"
   ]
  },
  {
   "cell_type": "code",
   "execution_count": 16,
   "metadata": {},
   "outputs": [
    {
     "data": {
      "text/html": [
       "<div>\n",
       "<style>\n",
       "    .dataframe thead tr:only-child th {\n",
       "        text-align: right;\n",
       "    }\n",
       "\n",
       "    .dataframe thead th {\n",
       "        text-align: left;\n",
       "    }\n",
       "\n",
       "    .dataframe tbody tr th {\n",
       "        vertical-align: top;\n",
       "    }\n",
       "</style>\n",
       "<table border=\"1\" class=\"dataframe\">\n",
       "  <thead>\n",
       "    <tr style=\"text-align: right;\">\n",
       "      <th></th>\n",
       "      <th>BDP</th>\n",
       "      <th>CVP</th>\n",
       "      <th>EDU</th>\n",
       "      <th>EVP</th>\n",
       "      <th>FDP</th>\n",
       "      <th>GLP</th>\n",
       "      <th>Grüne</th>\n",
       "      <th>SP</th>\n",
       "      <th>SVP</th>\n",
       "      <th>Übrige</th>\n",
       "    </tr>\n",
       "  </thead>\n",
       "  <tbody>\n",
       "    <tr>\n",
       "      <th>0</th>\n",
       "      <td>0.0</td>\n",
       "      <td>0.0</td>\n",
       "      <td>0.0</td>\n",
       "      <td>0.0</td>\n",
       "      <td>0.0</td>\n",
       "      <td>0.0</td>\n",
       "      <td>0.0</td>\n",
       "      <td>0.0</td>\n",
       "      <td>0.0</td>\n",
       "      <td>0.0</td>\n",
       "    </tr>\n",
       "  </tbody>\n",
       "</table>\n",
       "</div>"
      ],
      "text/plain": [
       "   BDP  CVP  EDU  EVP  FDP  GLP  Grüne   SP  SVP  Übrige\n",
       "0  0.0  0.0  0.0  0.0  0.0  0.0    0.0  0.0  0.0     0.0"
      ]
     },
     "execution_count": 16,
     "metadata": {},
     "output_type": "execute_result"
    }
   ],
   "source": [
    "df_ziv = pd.read_csv('StructuredData/CH-Parteien.csv')\n",
    "df_ziv.head(2)"
   ]
  },
  {
   "cell_type": "code",
   "execution_count": 17,
   "metadata": {
    "collapsed": true
   },
   "outputs": [],
   "source": [
    "options['Parteien'] = make_options(df_ziv)"
   ]
  },
  {
   "cell_type": "code",
   "execution_count": 18,
   "metadata": {
    "scrolled": false
   },
   "outputs": [
    {
     "data": {
      "text/plain": [
       "'<option value=\"BDP\">BDP</option><option value=\"CVP\">CVP</option><option value=\"EDU\">EDU</option><option value=\"EVP\">EVP</option><option value=\"FDP\">FDP</option><option value=\"GLP\">GLP</option><option value=\"Grüne\">Grüne</option><option value=\"SP\">SP</option><option value=\"SVP\">SVP</option><option value=\"Übrige\">Übrige</option>'"
      ]
     },
     "execution_count": 18,
     "metadata": {},
     "output_type": "execute_result"
    }
   ],
   "source": [
    "options['Parteien']"
   ]
  },
  {
   "cell_type": "markdown",
   "metadata": {},
   "source": [
    "### Income"
   ]
  },
  {
   "cell_type": "code",
   "execution_count": 20,
   "metadata": {},
   "outputs": [
    {
     "data": {
      "text/html": [
       "<div>\n",
       "<style>\n",
       "    .dataframe thead tr:only-child th {\n",
       "        text-align: right;\n",
       "    }\n",
       "\n",
       "    .dataframe thead th {\n",
       "        text-align: left;\n",
       "    }\n",
       "\n",
       "    .dataframe tbody tr th {\n",
       "        vertical-align: top;\n",
       "    }\n",
       "</style>\n",
       "<table border=\"1\" class=\"dataframe\">\n",
       "  <thead>\n",
       "    <tr style=\"text-align: right;\">\n",
       "      <th></th>\n",
       "      <th>Bis 14’999</th>\n",
       "      <th>15’000-19’999</th>\n",
       "      <th>20’000-29’999</th>\n",
       "      <th>30’000-39’999</th>\n",
       "      <th>40’000-49’999</th>\n",
       "      <th>50’000-74999</th>\n",
       "      <th>75’000 und mehr</th>\n",
       "    </tr>\n",
       "  </thead>\n",
       "  <tbody>\n",
       "    <tr>\n",
       "      <th>0</th>\n",
       "      <td>70236</td>\n",
       "      <td>84736</td>\n",
       "      <td>362383</td>\n",
       "      <td>446657</td>\n",
       "      <td>484778</td>\n",
       "      <td>969316</td>\n",
       "      <td>1098958</td>\n",
       "    </tr>\n",
       "  </tbody>\n",
       "</table>\n",
       "</div>"
      ],
      "text/plain": [
       "   Bis 14’999  15’000-19’999  20’000-29’999  30’000-39’999  40’000-49’999  \\\n",
       "0       70236          84736         362383         446657         484778   \n",
       "\n",
       "   50’000-74999  75’000 und mehr  \n",
       "0        969316          1098958  "
      ]
     },
     "execution_count": 20,
     "metadata": {},
     "output_type": "execute_result"
    }
   ],
   "source": [
    "df_ein = pd.read_csv('StructuredData/CH-Einkommen-abs.csv')\n",
    "df_ein.head(2)"
   ]
  },
  {
   "cell_type": "code",
   "execution_count": 21,
   "metadata": {
    "collapsed": true
   },
   "outputs": [],
   "source": [
    "options['Einkommen'] = make_options(df_ein)"
   ]
  },
  {
   "cell_type": "code",
   "execution_count": 22,
   "metadata": {
    "scrolled": false
   },
   "outputs": [
    {
     "data": {
      "text/plain": [
       "'<option value=\"Bis 14’999\">Bis 14’999</option><option value=\"15’000-19’999\">15’000-19’999</option><option value=\"20’000-29’999\">20’000-29’999</option><option value=\"30’000-39’999\">30’000-39’999</option><option value=\"40’000-49’999\">40’000-49’999</option><option value=\"50’000-74999\">50’000-74999</option><option value=\"75’000 und mehr\">75’000 und mehr</option>'"
      ]
     },
     "execution_count": 22,
     "metadata": {},
     "output_type": "execute_result"
    }
   ],
   "source": [
    "options['Einkommen']"
   ]
  },
  {
   "cell_type": "code",
   "execution_count": null,
   "metadata": {
    "collapsed": true
   },
   "outputs": [],
   "source": []
  },
  {
   "cell_type": "code",
   "execution_count": null,
   "metadata": {
    "collapsed": true
   },
   "outputs": [],
   "source": []
  },
  {
   "cell_type": "code",
   "execution_count": null,
   "metadata": {
    "collapsed": true
   },
   "outputs": [],
   "source": []
  },
  {
   "cell_type": "code",
   "execution_count": null,
   "metadata": {
    "collapsed": true
   },
   "outputs": [],
   "source": []
  },
  {
   "cell_type": "markdown",
   "metadata": {},
   "source": [
    "## Export as json"
   ]
  },
  {
   "cell_type": "code",
   "execution_count": 24,
   "metadata": {
    "collapsed": true
   },
   "outputs": [],
   "source": [
    "#We will copy this string by hand into the html :-D\n",
    "with open('web/json/searchOptions.js', 'w') as f:\n",
    "    f.write(\"var searchOptions = \" + str(options) + \";\")"
   ]
  },
  {
   "cell_type": "code",
   "execution_count": 23,
   "metadata": {},
   "outputs": [
    {
     "data": {
      "text/plain": [
       "{'Alter': '<option value=\"0\">0</option><option value=\"1\">1</option><option value=\"2\">2</option><option value=\"3\">3</option><option value=\"4\">4</option><option value=\"5\">5</option><option value=\"6\">6</option><option value=\"7\">7</option><option value=\"8\">8</option><option value=\"9\">9</option><option value=\"10\">10</option><option value=\"11\">11</option><option value=\"12\">12</option><option value=\"13\">13</option><option value=\"14\">14</option><option value=\"15\">15</option><option value=\"16\">16</option><option value=\"17\">17</option><option value=\"18\">18</option><option value=\"19\">19</option><option value=\"20\">20</option><option value=\"21\">21</option><option value=\"22\">22</option><option value=\"23\">23</option><option value=\"24\">24</option><option value=\"25\">25</option><option value=\"26\">26</option><option value=\"27\">27</option><option value=\"28\">28</option><option value=\"29\">29</option><option value=\"30\">30</option><option value=\"31\">31</option><option value=\"32\">32</option><option value=\"33\">33</option><option value=\"34\">34</option><option value=\"35\">35</option><option value=\"36\">36</option><option value=\"37\">37</option><option value=\"38\">38</option><option value=\"39\">39</option><option value=\"40\">40</option><option value=\"41\">41</option><option value=\"42\">42</option><option value=\"43\">43</option><option value=\"44\">44</option><option value=\"45\">45</option><option value=\"46\">46</option><option value=\"47\">47</option><option value=\"48\">48</option><option value=\"49\">49</option><option value=\"50\">50</option><option value=\"51\">51</option><option value=\"52\">52</option><option value=\"53\">53</option><option value=\"54\">54</option><option value=\"55\">55</option><option value=\"56\">56</option><option value=\"57\">57</option><option value=\"58\">58</option><option value=\"59\">59</option><option value=\"60\">60</option><option value=\"61\">61</option><option value=\"62\">62</option><option value=\"63\">63</option><option value=\"64\">64</option><option value=\"65\">65</option><option value=\"66\">66</option><option value=\"67\">67</option><option value=\"68\">68</option><option value=\"69\">69</option><option value=\"70\">70</option><option value=\"71\">71</option><option value=\"72\">72</option><option value=\"73\">73</option><option value=\"74\">74</option><option value=\"75\">75</option><option value=\"76\">76</option><option value=\"77\">77</option><option value=\"78\">78</option><option value=\"79\">79</option><option value=\"80\">80</option><option value=\"81\">81</option><option value=\"82\">82</option><option value=\"83\">83</option><option value=\"84\">84</option><option value=\"85\">85</option><option value=\"86\">86</option><option value=\"87\">87</option><option value=\"88\">88</option><option value=\"89\">89</option><option value=\"90\">90</option><option value=\"91\">91</option><option value=\"92\">92</option><option value=\"93\">93</option><option value=\"94\">94</option><option value=\"95\">95</option><option value=\"96\">96</option><option value=\"97\">97</option><option value=\"98\">98</option><option value=\"99\">99</option><option value=\"100\">100</option>',\n",
       " 'Einkommen': '<option value=\"Bis 14’999\">Bis 14’999</option><option value=\"15’000-19’999\">15’000-19’999</option><option value=\"20’000-29’999\">20’000-29’999</option><option value=\"30’000-39’999\">30’000-39’999</option><option value=\"40’000-49’999\">40’000-49’999</option><option value=\"50’000-74999\">50’000-74999</option><option value=\"75’000 und mehr\">75’000 und mehr</option>',\n",
       " 'Haushaltsgroesse': '<option value=\"1\">1</option><option value=\"2\">2</option><option value=\"3\">3</option><option value=\"4\">4</option><option value=\"5\">5</option><option value=\"6+\">6+</option>',\n",
       " 'Nationalitaet': '<option value=\"Schweiz\">Schweiz</option><option value=\"Afghanistan\">Afghanistan</option><option value=\"Ägypten\">Ägypten</option><option value=\"Albanien\">Albanien</option><option value=\"Algerien\">Algerien</option><option value=\"Andorra\">Andorra</option><option value=\"Angola\">Angola</option><option value=\"Antigua und Barbuda\">Antigua und Barbuda</option><option value=\"Äquatorialguinea\">Äquatorialguinea</option><option value=\"Argentinien\">Argentinien</option><option value=\"Armenien\">Armenien</option><option value=\"Aserbaidschan\">Aserbaidschan</option><option value=\"Äthiopien\">Äthiopien</option><option value=\"Australien\">Australien</option><option value=\"Bahamas\">Bahamas</option><option value=\"Bahrain\">Bahrain</option><option value=\"Bangladesch\">Bangladesch</option><option value=\"Barbados\">Barbados</option><option value=\"Belarus\">Belarus</option><option value=\"Belgien\">Belgien</option><option value=\"Belize\">Belize</option><option value=\"Benin\">Benin</option><option value=\"Bhutan\">Bhutan</option><option value=\"Bolivien\">Bolivien</option><option value=\"Bosnien und Herzegowina\">Bosnien und Herzegowina</option><option value=\"Botsuana\">Botsuana</option><option value=\"Brasilien\">Brasilien</option><option value=\"Brunei Darussalam\">Brunei Darussalam</option><option value=\"Bulgarien\">Bulgarien</option><option value=\"Burkina Faso\">Burkina Faso</option><option value=\"Burundi\">Burundi</option><option value=\"Chile\">Chile</option><option value=\"China\">China</option><option value=\"Costa Rica\">Costa Rica</option><option value=\"Côte d\\'Ivoire\">Côte d\\'Ivoire</option><option value=\"Dänemark\">Dänemark</option><option value=\"Deutschland\">Deutschland</option><option value=\"Dominica\">Dominica</option><option value=\"Dominikanische Republik\">Dominikanische Republik</option><option value=\"Dschibuti\">Dschibuti</option><option value=\"Ecuador\">Ecuador</option><option value=\"El Salvador\">El Salvador</option><option value=\"Eritrea\">Eritrea</option><option value=\"Estland\">Estland</option><option value=\"Fidschi\">Fidschi</option><option value=\"Finnland\">Finnland</option><option value=\"Frankreich\">Frankreich</option><option value=\"Gabun\">Gabun</option><option value=\"Gambia\">Gambia</option><option value=\"Georgien\">Georgien</option><option value=\"Ghana\">Ghana</option><option value=\"Grenada\">Grenada</option><option value=\"Griechenland\">Griechenland</option><option value=\"Guatemala\">Guatemala</option><option value=\"Guinea\">Guinea</option><option value=\"Guinea-Bissau\">Guinea-Bissau</option><option value=\"Guyana\">Guyana</option><option value=\"Haiti\">Haiti</option><option value=\"Honduras\">Honduras</option><option value=\"Indien\">Indien</option><option value=\"Indonesien\">Indonesien</option><option value=\"Irak\">Irak</option><option value=\"Iran\">Iran</option><option value=\"Irland\">Irland</option><option value=\"Island\">Island</option><option value=\"Israel\">Israel</option><option value=\"Italien\">Italien</option><option value=\"Jamaika\">Jamaika</option><option value=\"Japan\">Japan</option><option value=\"Jemen\">Jemen</option><option value=\"Jordanien\">Jordanien</option><option value=\"Kambodscha\">Kambodscha</option><option value=\"Kamerun\">Kamerun</option><option value=\"Kanada\">Kanada</option><option value=\"Kap Verde\">Kap Verde</option><option value=\"Kasachstan\">Kasachstan</option><option value=\"Katar\">Katar</option><option value=\"Kenia\">Kenia</option><option value=\"Kirgisistan\">Kirgisistan</option><option value=\"Kiribati\">Kiribati</option><option value=\"Kolumbien\">Kolumbien</option><option value=\"Komoren\">Komoren</option><option value=\"Kongo (Brazzaville)\">Kongo (Brazzaville)</option><option value=\"Kongo (Kinshasa)\">Kongo (Kinshasa)</option><option value=\"Korea (Nord-)\">Korea (Nord-)</option><option value=\"Korea (Süd-)\">Korea (Süd-)</option><option value=\"Kosovo\">Kosovo</option><option value=\"Kroatien\">Kroatien</option><option value=\"Kuba\">Kuba</option><option value=\"Kuwait\">Kuwait</option><option value=\"Laos\">Laos</option><option value=\"Lesotho\">Lesotho</option><option value=\"Lettland\">Lettland</option><option value=\"Libanon\">Libanon</option><option value=\"Liberia\">Liberia</option><option value=\"Libyen\">Libyen</option><option value=\"Liechtenstein\">Liechtenstein</option><option value=\"Litauen\">Litauen</option><option value=\"Luxemburg\">Luxemburg</option><option value=\"Madagaskar\">Madagaskar</option><option value=\"Malawi\">Malawi</option><option value=\"Malaysia\">Malaysia</option><option value=\"Malediven\">Malediven</option><option value=\"Mali\">Mali</option><option value=\"Malta\">Malta</option><option value=\"Marokko\">Marokko</option><option value=\"Marshallinseln\">Marshallinseln</option><option value=\"Mauretanien\">Mauretanien</option><option value=\"Mauritius\">Mauritius</option><option value=\"Mazedonien\">Mazedonien</option><option value=\"Mexiko\">Mexiko</option><option value=\"Mikronesien\">Mikronesien</option><option value=\"Moldova\">Moldova</option><option value=\"Monaco\">Monaco</option><option value=\"Mongolei\">Mongolei</option><option value=\"Montenegro\">Montenegro</option><option value=\"Mosambik\">Mosambik</option><option value=\"Myanmar\">Myanmar</option><option value=\"Namibia\">Namibia</option><option value=\"Nauru\">Nauru</option><option value=\"Nepal\">Nepal</option><option value=\"Neuseeland\">Neuseeland</option><option value=\"Nicaragua\">Nicaragua</option><option value=\"Niederlande\">Niederlande</option><option value=\"Niger\">Niger</option><option value=\"Nigeria\">Nigeria</option><option value=\"Norwegen\">Norwegen</option><option value=\"Oman\">Oman</option><option value=\"Österreich\">Österreich</option><option value=\"Pakistan\">Pakistan</option><option value=\"Palästina\">Palästina</option><option value=\"Palau\">Palau</option><option value=\"Panama\">Panama</option><option value=\"Papua-Neuguinea\">Papua-Neuguinea</option><option value=\"Paraguay\">Paraguay</option><option value=\"Peru\">Peru</option><option value=\"Philippinen\">Philippinen</option><option value=\"Polen\">Polen</option><option value=\"Portugal\">Portugal</option><option value=\"Ruanda\">Ruanda</option><option value=\"Rumänien\">Rumänien</option><option value=\"Russland\">Russland</option><option value=\"Salomoninseln\">Salomoninseln</option><option value=\"Sambia\">Sambia</option><option value=\"Samoa\">Samoa</option><option value=\"San Marino\">San Marino</option><option value=\"São Tomé und Príncipe\">São Tomé und Príncipe</option><option value=\"Saudi-Arabien\">Saudi-Arabien</option><option value=\"Schweden\">Schweden</option><option value=\"Senegal\">Senegal</option><option value=\"Serbien\">Serbien</option><option value=\"Seychellen\">Seychellen</option><option value=\"Sierra Leone\">Sierra Leone</option><option value=\"Simbabwe\">Simbabwe</option><option value=\"Singapur\">Singapur</option><option value=\"Slowakei\">Slowakei</option><option value=\"Slowenien\">Slowenien</option><option value=\"Somalia\">Somalia</option><option value=\"Spanien\">Spanien</option><option value=\"Sri Lanka\">Sri Lanka</option><option value=\"St. Kitts und Nevis\">St. Kitts und Nevis</option><option value=\"St. Lucia\">St. Lucia</option><option value=\"St. Vincent und die Grenadinen\">St. Vincent und die Grenadinen</option><option value=\"Staatenlos\">Staatenlos</option><option value=\"Südafrika\">Südafrika</option><option value=\"Sudan\">Sudan</option><option value=\"Südsudan\">Südsudan</option><option value=\"Suriname\">Suriname</option><option value=\"Swasiland\">Swasiland</option><option value=\"Syrien\">Syrien</option><option value=\"Tadschikistan\">Tadschikistan</option><option value=\"Taiwan (Chinesisches Taipei)\">Taiwan (Chinesisches Taipei)</option><option value=\"Tansania\">Tansania</option><option value=\"Thailand\">Thailand</option><option value=\"Timor-Leste\">Timor-Leste</option><option value=\"Togo\">Togo</option><option value=\"Tonga\">Tonga</option><option value=\"Trinidad und Tobago\">Trinidad und Tobago</option><option value=\"Tschad\">Tschad</option><option value=\"Tschechische Republik\">Tschechische Republik</option><option value=\"Tunesien\">Tunesien</option><option value=\"Türkei\">Türkei</option><option value=\"Turkmenistan\">Turkmenistan</option><option value=\"Tuvalu\">Tuvalu</option><option value=\"Uganda\">Uganda</option><option value=\"Ukraine\">Ukraine</option><option value=\"Ungarn\">Ungarn</option><option value=\"Uruguay\">Uruguay</option><option value=\"Usbekistan\">Usbekistan</option><option value=\"Vanuatu\">Vanuatu</option><option value=\"Vatikanstadt\">Vatikanstadt</option><option value=\"Venezuela\">Venezuela</option><option value=\"Vereinigte Arabische Emirate\">Vereinigte Arabische Emirate</option><option value=\"Vereinigte Staaten\">Vereinigte Staaten</option><option value=\"Vereinigtes Königreich\">Vereinigtes Königreich</option><option value=\"Vietnam\">Vietnam</option><option value=\"Westsahara\">Westsahara</option><option value=\"Zentralafrikanische Republik\">Zentralafrikanische Republik</option><option value=\"Zypern\">Zypern</option><option value=\"Ohne Angabe\">Ohne Angabe</option>',\n",
       " 'Parteien': '<option value=\"BDP\">BDP</option><option value=\"CVP\">CVP</option><option value=\"EDU\">EDU</option><option value=\"EVP\">EVP</option><option value=\"FDP\">FDP</option><option value=\"GLP\">GLP</option><option value=\"Grüne\">Grüne</option><option value=\"SP\">SP</option><option value=\"SVP\">SVP</option><option value=\"Übrige\">Übrige</option>',\n",
       " 'Zivilstand': '<option value=\"Ledig\">Ledig</option><option value=\"Verheiratet\">Verheiratet</option><option value=\"Geschieden\">Geschieden</option><option value=\"Wervitwet\">Wervitwet</option>'}"
      ]
     },
     "execution_count": 23,
     "metadata": {},
     "output_type": "execute_result"
    }
   ],
   "source": [
    "options"
   ]
  },
  {
   "cell_type": "code",
   "execution_count": null,
   "metadata": {
    "collapsed": true
   },
   "outputs": [],
   "source": []
  }
 ],
 "metadata": {
  "kernelspec": {
   "display_name": "Python 3",
   "language": "python",
   "name": "python3"
  },
  "language_info": {
   "codemirror_mode": {
    "name": "ipython",
    "version": 3
   },
   "file_extension": ".py",
   "mimetype": "text/x-python",
   "name": "python",
   "nbconvert_exporter": "python",
   "pygments_lexer": "ipython3",
   "version": "3.6.1"
  }
 },
 "nbformat": 4,
 "nbformat_minor": 2
}
