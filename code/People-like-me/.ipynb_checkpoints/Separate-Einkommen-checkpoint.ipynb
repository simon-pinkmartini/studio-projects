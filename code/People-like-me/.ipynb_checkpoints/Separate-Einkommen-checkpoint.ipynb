{
 "cells": [
  {
   "cell_type": "code",
   "execution_count": 2,
   "metadata": {
    "collapsed": true
   },
   "outputs": [],
   "source": [
    "import pandas as pd"
   ]
  },
  {
   "cell_type": "code",
   "execution_count": 3,
   "metadata": {
    "collapsed": true
   },
   "outputs": [],
   "source": [
    "%matplotlib inline"
   ]
  },
  {
   "cell_type": "markdown",
   "metadata": {},
   "source": [
    "## Read data and separate Switzerland, Cantons, Districts, Communes"
   ]
  },
  {
   "cell_type": "markdown",
   "metadata": {},
   "source": [
    "THIS SHEET IS DIFFERENT ONE FROM THE OTHERS SINCE THE DATA COMES FROM ANOTHER SOURCE!!!!!!!!!!!!!!!"
   ]
  },
  {
   "cell_type": "markdown",
   "metadata": {},
   "source": [
    "### Load the Excel with all the data in it"
   ]
  },
  {
   "cell_type": "code",
   "execution_count": 202,
   "metadata": {},
   "outputs": [],
   "source": [
    "df = pd.read_excel('ReadinData/00_gemeindeauswertung_sp_2013_d.xls', sheetname='241')"
   ]
  },
  {
   "cell_type": "code",
   "execution_count": 203,
   "metadata": {},
   "outputs": [
    {
     "data": {
      "text/html": [
       "<div>\n",
       "<style>\n",
       "    .dataframe thead tr:only-child th {\n",
       "        text-align: right;\n",
       "    }\n",
       "\n",
       "    .dataframe thead th {\n",
       "        text-align: left;\n",
       "    }\n",
       "\n",
       "    .dataframe tbody tr th {\n",
       "        vertical-align: top;\n",
       "    }\n",
       "</style>\n",
       "<table border=\"1\" class=\"dataframe\">\n",
       "  <thead>\n",
       "    <tr style=\"text-align: right;\">\n",
       "      <th></th>\n",
       "      <th>Gemeinde_ID</th>\n",
       "      <th>Gemeinde_Name</th>\n",
       "      <th>Bis 14’999</th>\n",
       "      <th>15’000-19’999</th>\n",
       "      <th>20’000-29’999</th>\n",
       "      <th>30’000-39’999</th>\n",
       "      <th>40’000-49’999</th>\n",
       "      <th>50’000-74999</th>\n",
       "      <th>75’000 und mehr</th>\n",
       "    </tr>\n",
       "  </thead>\n",
       "  <tbody>\n",
       "    <tr>\n",
       "      <th>0</th>\n",
       "      <td>1</td>\n",
       "      <td>Aeugst am Albis</td>\n",
       "      <td>5</td>\n",
       "      <td>17</td>\n",
       "      <td>77</td>\n",
       "      <td>82</td>\n",
       "      <td>86</td>\n",
       "      <td>192</td>\n",
       "      <td>462</td>\n",
       "    </tr>\n",
       "    <tr>\n",
       "      <th>1</th>\n",
       "      <td>2</td>\n",
       "      <td>Affoltern am Albis</td>\n",
       "      <td>29</td>\n",
       "      <td>98</td>\n",
       "      <td>502</td>\n",
       "      <td>629</td>\n",
       "      <td>737</td>\n",
       "      <td>1439</td>\n",
       "      <td>1515</td>\n",
       "    </tr>\n",
       "  </tbody>\n",
       "</table>\n",
       "</div>"
      ],
      "text/plain": [
       "   Gemeinde_ID         Gemeinde_Name  Bis 14’999  15’000-19’999  \\\n",
       "0            1       Aeugst am Albis           5             17   \n",
       "1            2    Affoltern am Albis          29             98   \n",
       "\n",
       "   20’000-29’999  30’000-39’999  40’000-49’999  50’000-74999  75’000 und mehr  \n",
       "0             77             82             86           192              462  \n",
       "1            502            629            737          1439             1515  "
      ]
     },
     "execution_count": 203,
     "metadata": {},
     "output_type": "execute_result"
    }
   ],
   "source": [
    "df.head(2)"
   ]
  },
  {
   "cell_type": "code",
   "execution_count": 204,
   "metadata": {},
   "outputs": [],
   "source": [
    "#Make sure we don't have any NaN in there\n",
    "df = df[df['Gemeinde_ID'].notnull()]"
   ]
  },
  {
   "cell_type": "code",
   "execution_count": 205,
   "metadata": {},
   "outputs": [
    {
     "data": {
      "text/plain": [
       "(2408, 9)"
      ]
     },
     "execution_count": 205,
     "metadata": {},
     "output_type": "execute_result"
    }
   ],
   "source": [
    "df.shape"
   ]
  },
  {
   "cell_type": "markdown",
   "metadata": {},
   "source": [
    "### Update the communes from 2013 to 2015"
   ]
  },
  {
   "cell_type": "code",
   "execution_count": 206,
   "metadata": {
    "collapsed": true
   },
   "outputs": [],
   "source": [
    "mutationen_2013 = [\n",
    "    {'alt': [5099, 5130, 5133], 'neu': 5396},\n",
    "    {'alt': [5155, 5163, 5170, 5173, 5174, 5192, 5224, 5229], 'neu': 5192},\n",
    "    {'alt': [5243, 5253, 5254, 5255], 'neu': 5254},\n",
    "    {'alt': [212, 229], 'neu': 298},\n",
    "    {'alt': [440, 447], 'neu': 449},\n",
    "    {'alt': [534, 537, 538, 539, 542, 545, 549, 555], 'neu': 538},\n",
    "    {'alt': [540, 547, 550], 'neu': 540},\n",
    "    {'alt': [604, 619], 'neu': 619},\n",
    "    {'alt': [721, 722, 725], 'neu': 726},\n",
    "    {'alt': [764, 764, 930], 'neu': 770},\n",
    "    {'alt': [781, 784], 'neu': 784},\n",
    "    {'alt': [871, 885], 'neu': 885},\n",
    "    {'alt': [2126, 2127], 'neu': 2163},\n",
    "    {'alt': [2441, 2442, 2444, 2446, 2449, 2450, 2452, 2453, 2458, 2462], 'neu': 2465},\n",
    "    {'alt': [3571, 3574, 3576, 3577, 3578, 3579, 3580, 3583, 3584, 3593, 3613, 3614, 3615], 'neu': 3619},\n",
    "    {'alt': [4063, 4069], 'neu': 4063},\n",
    "    {'alt': [4109, 4115], 'neu': 4125},\n",
    "    {'alt': [4305, 4321], 'neu': 4305},\n",
    "    {'alt': [6171, 6178], 'neu': 6205}\n",
    "]\n",
    "mutationen_2014 = [\n",
    "    {'alt': [171, 179], 'neu': 297},\n",
    "    {'alt': [436, 439], 'neu': 450},\n",
    "    {'alt': [682, 697, 702], 'neu': 717},\n",
    "    {'alt': [684, 699, 710, 712], 'neu': 716},\n",
    "    {'alt': [3501, 3502, 3504, 3505, 3511, 3512, 3515], 'neu': 3542},\n",
    "    {'alt': [3598, 3603], 'neu': 3603},\n",
    "    {'alt': [3631, 3634, 3635, 3636, 3671], 'neu': 3673},\n",
    "    {'alt': [3741, 3742, 3745, 3761, 3762, 3763], 'neu': 3762},\n",
    "    {'alt': [3743, 3744, 3746], 'neu': 3746},\n",
    "    {'alt': [3801, 3803, 3806, 3811], 'neu': 3837}\n",
    "]"
   ]
  },
  {
   "cell_type": "code",
   "execution_count": 207,
   "metadata": {},
   "outputs": [],
   "source": [
    "def mutation(df, on, scheme):\n",
    "    df_temp = df.copy()\n",
    "    for mut in scheme:\n",
    "        df_olds = df[df[on].isin(mut['alt'])]\n",
    "        df_new = df_olds.sum()\n",
    "        df_new[on] = mut['neu']\n",
    "        df_temp.drop(df[df[on].isin(mut['alt'])].index, inplace=True)\n",
    "        df_temp = df_temp.append(df_new, ignore_index=True)\n",
    "    return df_temp"
   ]
  },
  {
   "cell_type": "code",
   "execution_count": 208,
   "metadata": {},
   "outputs": [],
   "source": [
    "df = mutation(df, 'Gemeinde_ID', mutationen_2013)"
   ]
  },
  {
   "cell_type": "code",
   "execution_count": 209,
   "metadata": {},
   "outputs": [],
   "source": [
    "df = mutation(df, 'Gemeinde_ID', mutationen_2014)"
   ]
  },
  {
   "cell_type": "markdown",
   "metadata": {},
   "source": [
    "### Load some helper files"
   ]
  },
  {
   "cell_type": "code",
   "execution_count": 210,
   "metadata": {},
   "outputs": [
    {
     "data": {
      "text/html": [
       "<div>\n",
       "<style>\n",
       "    .dataframe thead tr:only-child th {\n",
       "        text-align: right;\n",
       "    }\n",
       "\n",
       "    .dataframe thead th {\n",
       "        text-align: left;\n",
       "    }\n",
       "\n",
       "    .dataframe tbody tr th {\n",
       "        vertical-align: top;\n",
       "    }\n",
       "</style>\n",
       "<table border=\"1\" class=\"dataframe\">\n",
       "  <thead>\n",
       "    <tr style=\"text-align: right;\">\n",
       "      <th></th>\n",
       "      <th>Kanton_ABK</th>\n",
       "      <th>Kanton_ID</th>\n",
       "      <th>Kanton_Name</th>\n",
       "      <th>Kanton_Name2</th>\n",
       "    </tr>\n",
       "  </thead>\n",
       "  <tbody>\n",
       "    <tr>\n",
       "      <th>0</th>\n",
       "      <td>ZH</td>\n",
       "      <td>1</td>\n",
       "      <td>Zürich</td>\n",
       "      <td>Zürich</td>\n",
       "    </tr>\n",
       "    <tr>\n",
       "      <th>1</th>\n",
       "      <td>BE</td>\n",
       "      <td>2</td>\n",
       "      <td>Bern</td>\n",
       "      <td>Bern / Berne</td>\n",
       "    </tr>\n",
       "  </tbody>\n",
       "</table>\n",
       "</div>"
      ],
      "text/plain": [
       "  Kanton_ABK  Kanton_ID Kanton_Name  Kanton_Name2\n",
       "0         ZH          1      Zürich        Zürich\n",
       "1         BE          2        Bern  Bern / Berne"
      ]
     },
     "execution_count": 210,
     "metadata": {},
     "output_type": "execute_result"
    }
   ],
   "source": [
    "#Load the numbers and abbreviations file for the cantons\n",
    "df_kant_ids = pd.read_csv('HelperData/Kantone-ABK-ID.csv')\n",
    "df_kant_ids.head(2)"
   ]
  },
  {
   "cell_type": "code",
   "execution_count": 211,
   "metadata": {},
   "outputs": [
    {
     "data": {
      "text/html": [
       "<div>\n",
       "<style>\n",
       "    .dataframe thead tr:only-child th {\n",
       "        text-align: right;\n",
       "    }\n",
       "\n",
       "    .dataframe thead th {\n",
       "        text-align: left;\n",
       "    }\n",
       "\n",
       "    .dataframe tbody tr th {\n",
       "        vertical-align: top;\n",
       "    }\n",
       "</style>\n",
       "<table border=\"1\" class=\"dataframe\">\n",
       "  <thead>\n",
       "    <tr style=\"text-align: right;\">\n",
       "      <th></th>\n",
       "      <th>Hist.-Nummer</th>\n",
       "      <th>Kanton</th>\n",
       "      <th>Bezirksnummer</th>\n",
       "      <th>Bezirksname</th>\n",
       "      <th>BFS Gde-nummer</th>\n",
       "      <th>Gemeindename</th>\n",
       "      <th>Datum der Aufnahme</th>\n",
       "    </tr>\n",
       "  </thead>\n",
       "  <tbody>\n",
       "    <tr>\n",
       "      <th>0</th>\n",
       "      <td>13256</td>\n",
       "      <td>ZH</td>\n",
       "      <td>101</td>\n",
       "      <td>Affoltern</td>\n",
       "      <td>1</td>\n",
       "      <td>Aeugst am Albis</td>\n",
       "      <td>1976-11-15</td>\n",
       "    </tr>\n",
       "    <tr>\n",
       "      <th>1</th>\n",
       "      <td>11742</td>\n",
       "      <td>ZH</td>\n",
       "      <td>101</td>\n",
       "      <td>Affoltern</td>\n",
       "      <td>2</td>\n",
       "      <td>Affoltern am Albis</td>\n",
       "      <td>1960-01-01</td>\n",
       "    </tr>\n",
       "  </tbody>\n",
       "</table>\n",
       "</div>"
      ],
      "text/plain": [
       "   Hist.-Nummer Kanton  Bezirksnummer Bezirksname  BFS Gde-nummer  \\\n",
       "0         13256     ZH            101   Affoltern               1   \n",
       "1         11742     ZH            101   Affoltern               2   \n",
       "\n",
       "         Gemeindename Datum der Aufnahme  \n",
       "0     Aeugst am Albis         1976-11-15  \n",
       "1  Affoltern am Albis         1960-01-01  "
      ]
     },
     "execution_count": 211,
     "metadata": {},
     "output_type": "execute_result"
    }
   ],
   "source": [
    "#Load the canton/district infos for the communes\n",
    "df_gem_ids = pd.read_excel('HelperData/Gemeindestand-2015.xls')\n",
    "df_gem_ids.head(2)"
   ]
  },
  {
   "cell_type": "code",
   "execution_count": 212,
   "metadata": {},
   "outputs": [
    {
     "data": {
      "text/html": [
       "<div>\n",
       "<style>\n",
       "    .dataframe thead tr:only-child th {\n",
       "        text-align: right;\n",
       "    }\n",
       "\n",
       "    .dataframe thead th {\n",
       "        text-align: left;\n",
       "    }\n",
       "\n",
       "    .dataframe tbody tr th {\n",
       "        vertical-align: top;\n",
       "    }\n",
       "</style>\n",
       "<table border=\"1\" class=\"dataframe\">\n",
       "  <thead>\n",
       "    <tr style=\"text-align: right;\">\n",
       "      <th></th>\n",
       "      <th>Kanton_ABK</th>\n",
       "      <th>Bezirk_ID</th>\n",
       "      <th>Bezirk_Name</th>\n",
       "      <th>Gemeinde_ID</th>\n",
       "    </tr>\n",
       "  </thead>\n",
       "  <tbody>\n",
       "    <tr>\n",
       "      <th>0</th>\n",
       "      <td>ZH</td>\n",
       "      <td>101</td>\n",
       "      <td>Affoltern</td>\n",
       "      <td>1</td>\n",
       "    </tr>\n",
       "    <tr>\n",
       "      <th>1</th>\n",
       "      <td>ZH</td>\n",
       "      <td>101</td>\n",
       "      <td>Affoltern</td>\n",
       "      <td>2</td>\n",
       "    </tr>\n",
       "  </tbody>\n",
       "</table>\n",
       "</div>"
      ],
      "text/plain": [
       "  Kanton_ABK  Bezirk_ID Bezirk_Name  Gemeinde_ID\n",
       "0         ZH        101   Affoltern            1\n",
       "1         ZH        101   Affoltern            2"
      ]
     },
     "execution_count": 212,
     "metadata": {},
     "output_type": "execute_result"
    }
   ],
   "source": [
    "df_gem_ids.pop('Hist.-Nummer')\n",
    "df_gem_ids.pop('Gemeindename')\n",
    "df_gem_ids.pop('Datum der Aufnahme')\n",
    "df_gem_ids.rename(columns={'Bezirksnummer': 'Bezirk_ID', 'Bezirksname': 'Bezirk_Name', 'BFS Gde-nummer': 'Gemeinde_ID', 'Kanton': 'Kanton_ABK'}, inplace=True)\n",
    "df_gem_ids.head(2)"
   ]
  },
  {
   "cell_type": "code",
   "execution_count": 213,
   "metadata": {},
   "outputs": [
    {
     "data": {
      "text/html": [
       "<div>\n",
       "<style>\n",
       "    .dataframe thead tr:only-child th {\n",
       "        text-align: right;\n",
       "    }\n",
       "\n",
       "    .dataframe thead th {\n",
       "        text-align: left;\n",
       "    }\n",
       "\n",
       "    .dataframe tbody tr th {\n",
       "        vertical-align: top;\n",
       "    }\n",
       "</style>\n",
       "<table border=\"1\" class=\"dataframe\">\n",
       "  <thead>\n",
       "    <tr style=\"text-align: right;\">\n",
       "      <th></th>\n",
       "      <th>Kanton_ABK</th>\n",
       "      <th>Bezirk_ID</th>\n",
       "      <th>Bezirk_Name</th>\n",
       "    </tr>\n",
       "  </thead>\n",
       "  <tbody>\n",
       "    <tr>\n",
       "      <th>0</th>\n",
       "      <td>ZH</td>\n",
       "      <td>101</td>\n",
       "      <td>Affoltern</td>\n",
       "    </tr>\n",
       "    <tr>\n",
       "      <th>14</th>\n",
       "      <td>ZH</td>\n",
       "      <td>102</td>\n",
       "      <td>Andelfingen</td>\n",
       "    </tr>\n",
       "  </tbody>\n",
       "</table>\n",
       "</div>"
      ],
      "text/plain": [
       "   Kanton_ABK  Bezirk_ID  Bezirk_Name\n",
       "0          ZH        101    Affoltern\n",
       "14         ZH        102  Andelfingen"
      ]
     },
     "execution_count": 213,
     "metadata": {},
     "output_type": "execute_result"
    }
   ],
   "source": [
    "#Construct a set of district ids\n",
    "df_bez_ids = df_gem_ids.drop_duplicates(subset='Bezirk_ID')\n",
    "df_bez_ids.pop('Gemeinde_ID')\n",
    "df_bez_ids.head(2)"
   ]
  },
  {
   "cell_type": "markdown",
   "metadata": {},
   "source": [
    "## Get a dataframe for each geopraphic level"
   ]
  },
  {
   "cell_type": "markdown",
   "metadata": {},
   "source": [
    "### Separate Switzerland"
   ]
  },
  {
   "cell_type": "code",
   "execution_count": 215,
   "metadata": {},
   "outputs": [
    {
     "data": {
      "text/html": [
       "<div>\n",
       "<style>\n",
       "    .dataframe thead tr:only-child th {\n",
       "        text-align: right;\n",
       "    }\n",
       "\n",
       "    .dataframe thead th {\n",
       "        text-align: left;\n",
       "    }\n",
       "\n",
       "    .dataframe tbody tr th {\n",
       "        vertical-align: top;\n",
       "    }\n",
       "</style>\n",
       "<table border=\"1\" class=\"dataframe\">\n",
       "  <thead>\n",
       "    <tr style=\"text-align: right;\">\n",
       "      <th></th>\n",
       "      <th>Bis 14’999</th>\n",
       "      <th>15’000-19’999</th>\n",
       "      <th>20’000-29’999</th>\n",
       "      <th>30’000-39’999</th>\n",
       "      <th>40’000-49’999</th>\n",
       "      <th>50’000-74999</th>\n",
       "      <th>75’000 und mehr</th>\n",
       "    </tr>\n",
       "  </thead>\n",
       "  <tbody>\n",
       "    <tr>\n",
       "      <th>0</th>\n",
       "      <td>70236</td>\n",
       "      <td>84736</td>\n",
       "      <td>362383</td>\n",
       "      <td>446657</td>\n",
       "      <td>484778</td>\n",
       "      <td>969316</td>\n",
       "      <td>1098958</td>\n",
       "    </tr>\n",
       "  </tbody>\n",
       "</table>\n",
       "</div>"
      ],
      "text/plain": [
       "  Bis 14’999 15’000-19’999 20’000-29’999 30’000-39’999 40’000-49’999  \\\n",
       "0      70236         84736        362383        446657        484778   \n",
       "\n",
       "  50’000-74999 75’000 und mehr  \n",
       "0       969316         1098958  "
      ]
     },
     "execution_count": 215,
     "metadata": {},
     "output_type": "execute_result"
    }
   ],
   "source": [
    "#Switzerland\n",
    "df_ch = df.sum().to_frame().transpose()\n",
    "df_ch.pop('Gemeinde_ID')\n",
    "df_ch.pop('Gemeinde_Name')\n",
    "df_ch"
   ]
  },
  {
   "cell_type": "code",
   "execution_count": 24,
   "metadata": {},
   "outputs": [
    {
     "data": {
      "text/plain": [
       "(1, 6)"
      ]
     },
     "execution_count": 24,
     "metadata": {},
     "output_type": "execute_result"
    }
   ],
   "source": [
    "df_ch.shape"
   ]
  },
  {
   "cell_type": "markdown",
   "metadata": {},
   "source": [
    "### Separate the cantons"
   ]
  },
  {
   "cell_type": "code",
   "execution_count": 225,
   "metadata": {},
   "outputs": [
    {
     "data": {
      "text/html": [
       "<div>\n",
       "<style>\n",
       "    .dataframe thead tr:only-child th {\n",
       "        text-align: right;\n",
       "    }\n",
       "\n",
       "    .dataframe thead th {\n",
       "        text-align: left;\n",
       "    }\n",
       "\n",
       "    .dataframe tbody tr th {\n",
       "        vertical-align: top;\n",
       "    }\n",
       "</style>\n",
       "<table border=\"1\" class=\"dataframe\">\n",
       "  <thead>\n",
       "    <tr style=\"text-align: right;\">\n",
       "      <th></th>\n",
       "      <th>Bis 14’999</th>\n",
       "      <th>15’000-19’999</th>\n",
       "      <th>20’000-29’999</th>\n",
       "      <th>30’000-39’999</th>\n",
       "      <th>40’000-49’999</th>\n",
       "      <th>50’000-74999</th>\n",
       "      <th>75’000 und mehr</th>\n",
       "      <th>Kanton_ABK</th>\n",
       "    </tr>\n",
       "  </thead>\n",
       "  <tbody>\n",
       "    <tr>\n",
       "      <th>0</th>\n",
       "      <td>5</td>\n",
       "      <td>17</td>\n",
       "      <td>77</td>\n",
       "      <td>82</td>\n",
       "      <td>86</td>\n",
       "      <td>192</td>\n",
       "      <td>462</td>\n",
       "      <td>ZH</td>\n",
       "    </tr>\n",
       "    <tr>\n",
       "      <th>1</th>\n",
       "      <td>29</td>\n",
       "      <td>98</td>\n",
       "      <td>502</td>\n",
       "      <td>629</td>\n",
       "      <td>737</td>\n",
       "      <td>1439</td>\n",
       "      <td>1515</td>\n",
       "      <td>ZH</td>\n",
       "    </tr>\n",
       "  </tbody>\n",
       "</table>\n",
       "</div>"
      ],
      "text/plain": [
       "   Bis 14’999  15’000-19’999  20’000-29’999  30’000-39’999  40’000-49’999  \\\n",
       "0           5             17             77             82             86   \n",
       "1          29             98            502            629            737   \n",
       "\n",
       "   50’000-74999  75’000 und mehr Kanton_ABK  \n",
       "0           192              462         ZH  \n",
       "1          1439             1515         ZH  "
      ]
     },
     "execution_count": 225,
     "metadata": {},
     "output_type": "execute_result"
    }
   ],
   "source": [
    "df_kant = df.merge(df_gem_ids, on='Gemeinde_ID')\n",
    "df_kant.pop('Bezirk_ID')\n",
    "df_kant.pop('Gemeinde_ID')\n",
    "df_kant.pop('Gemeinde_Name')\n",
    "df_kant.pop('Bezirk_Name')\n",
    "df_kant.head(2)"
   ]
  },
  {
   "cell_type": "code",
   "execution_count": 226,
   "metadata": {},
   "outputs": [
    {
     "data": {
      "text/html": [
       "<div>\n",
       "<style>\n",
       "    .dataframe thead tr:only-child th {\n",
       "        text-align: right;\n",
       "    }\n",
       "\n",
       "    .dataframe thead th {\n",
       "        text-align: left;\n",
       "    }\n",
       "\n",
       "    .dataframe tbody tr th {\n",
       "        vertical-align: top;\n",
       "    }\n",
       "</style>\n",
       "<table border=\"1\" class=\"dataframe\">\n",
       "  <thead>\n",
       "    <tr style=\"text-align: right;\">\n",
       "      <th></th>\n",
       "      <th>Kanton_ABK</th>\n",
       "      <th>Bis 14’999</th>\n",
       "      <th>15’000-19’999</th>\n",
       "      <th>20’000-29’999</th>\n",
       "      <th>30’000-39’999</th>\n",
       "      <th>40’000-49’999</th>\n",
       "      <th>50’000-74999</th>\n",
       "      <th>75’000 und mehr</th>\n",
       "      <th>Kanton_ID</th>\n",
       "      <th>Kanton_Name</th>\n",
       "    </tr>\n",
       "  </thead>\n",
       "  <tbody>\n",
       "    <tr>\n",
       "      <th>0</th>\n",
       "      <td>AG</td>\n",
       "      <td>1781</td>\n",
       "      <td>5160</td>\n",
       "      <td>24155</td>\n",
       "      <td>33933</td>\n",
       "      <td>40423</td>\n",
       "      <td>83465</td>\n",
       "      <td>90708</td>\n",
       "      <td>19</td>\n",
       "      <td>Aargau</td>\n",
       "    </tr>\n",
       "    <tr>\n",
       "      <th>1</th>\n",
       "      <td>AI</td>\n",
       "      <td>106</td>\n",
       "      <td>202</td>\n",
       "      <td>822</td>\n",
       "      <td>956</td>\n",
       "      <td>1057</td>\n",
       "      <td>1734</td>\n",
       "      <td>1818</td>\n",
       "      <td>16</td>\n",
       "      <td>Appenzell Innerrhoden</td>\n",
       "    </tr>\n",
       "  </tbody>\n",
       "</table>\n",
       "</div>"
      ],
      "text/plain": [
       "  Kanton_ABK  Bis 14’999  15’000-19’999  20’000-29’999  30’000-39’999  \\\n",
       "0         AG        1781           5160          24155          33933   \n",
       "1         AI         106            202            822            956   \n",
       "\n",
       "   40’000-49’999  50’000-74999  75’000 und mehr  Kanton_ID  \\\n",
       "0          40423         83465            90708         19   \n",
       "1           1057          1734             1818         16   \n",
       "\n",
       "             Kanton_Name  \n",
       "0                 Aargau  \n",
       "1  Appenzell Innerrhoden  "
      ]
     },
     "execution_count": 226,
     "metadata": {},
     "output_type": "execute_result"
    }
   ],
   "source": [
    "df_kant = df_kant.groupby('Kanton_ABK').sum().reset_index()\n",
    "df_kant = df_kant.merge(df_kant_ids, on='Kanton_ABK')\n",
    "df_kant.pop('Kanton_Name2')\n",
    "df_kant.head(2)"
   ]
  },
  {
   "cell_type": "code",
   "execution_count": 14,
   "metadata": {},
   "outputs": [
    {
     "data": {
      "text/plain": [
       "(26, 9)"
      ]
     },
     "execution_count": 14,
     "metadata": {},
     "output_type": "execute_result"
    }
   ],
   "source": [
    "df_kant.shape"
   ]
  },
  {
   "cell_type": "markdown",
   "metadata": {},
   "source": [
    "### Separate the districts"
   ]
  },
  {
   "cell_type": "code",
   "execution_count": 238,
   "metadata": {},
   "outputs": [
    {
     "data": {
      "text/html": [
       "<div>\n",
       "<style>\n",
       "    .dataframe thead tr:only-child th {\n",
       "        text-align: right;\n",
       "    }\n",
       "\n",
       "    .dataframe thead th {\n",
       "        text-align: left;\n",
       "    }\n",
       "\n",
       "    .dataframe tbody tr th {\n",
       "        vertical-align: top;\n",
       "    }\n",
       "</style>\n",
       "<table border=\"1\" class=\"dataframe\">\n",
       "  <thead>\n",
       "    <tr style=\"text-align: right;\">\n",
       "      <th></th>\n",
       "      <th>Bis 14’999</th>\n",
       "      <th>15’000-19’999</th>\n",
       "      <th>20’000-29’999</th>\n",
       "      <th>30’000-39’999</th>\n",
       "      <th>40’000-49’999</th>\n",
       "      <th>50’000-74999</th>\n",
       "      <th>75’000 und mehr</th>\n",
       "      <th>Bezirk_ID</th>\n",
       "    </tr>\n",
       "  </thead>\n",
       "  <tbody>\n",
       "    <tr>\n",
       "      <th>0</th>\n",
       "      <td>5</td>\n",
       "      <td>17</td>\n",
       "      <td>77</td>\n",
       "      <td>82</td>\n",
       "      <td>86</td>\n",
       "      <td>192</td>\n",
       "      <td>462</td>\n",
       "      <td>101</td>\n",
       "    </tr>\n",
       "    <tr>\n",
       "      <th>1</th>\n",
       "      <td>29</td>\n",
       "      <td>98</td>\n",
       "      <td>502</td>\n",
       "      <td>629</td>\n",
       "      <td>737</td>\n",
       "      <td>1439</td>\n",
       "      <td>1515</td>\n",
       "      <td>101</td>\n",
       "    </tr>\n",
       "  </tbody>\n",
       "</table>\n",
       "</div>"
      ],
      "text/plain": [
       "   Bis 14’999  15’000-19’999  20’000-29’999  30’000-39’999  40’000-49’999  \\\n",
       "0           5             17             77             82             86   \n",
       "1          29             98            502            629            737   \n",
       "\n",
       "   50’000-74999  75’000 und mehr  Bezirk_ID  \n",
       "0           192              462        101  \n",
       "1          1439             1515        101  "
      ]
     },
     "execution_count": 238,
     "metadata": {},
     "output_type": "execute_result"
    }
   ],
   "source": [
    "#Districts - there should be 148 of them\n",
    "df_bez = df.merge(df_gem_ids, on='Gemeinde_ID')\n",
    "df_bez.pop('Gemeinde_ID')\n",
    "df_bez.pop('Gemeinde_Name')\n",
    "df_bez.pop('Kanton_ABK')\n",
    "df_bez.pop('Bezirk_Name')\n",
    "df_bez.head(2)"
   ]
  },
  {
   "cell_type": "code",
   "execution_count": 241,
   "metadata": {},
   "outputs": [
    {
     "data": {
      "text/html": [
       "<div>\n",
       "<style>\n",
       "    .dataframe thead tr:only-child th {\n",
       "        text-align: right;\n",
       "    }\n",
       "\n",
       "    .dataframe thead th {\n",
       "        text-align: left;\n",
       "    }\n",
       "\n",
       "    .dataframe tbody tr th {\n",
       "        vertical-align: top;\n",
       "    }\n",
       "</style>\n",
       "<table border=\"1\" class=\"dataframe\">\n",
       "  <thead>\n",
       "    <tr style=\"text-align: right;\">\n",
       "      <th></th>\n",
       "      <th>Bezirk_ID</th>\n",
       "      <th>Bis 14’999</th>\n",
       "      <th>15’000-19’999</th>\n",
       "      <th>20’000-29’999</th>\n",
       "      <th>30’000-39’999</th>\n",
       "      <th>40’000-49’999</th>\n",
       "      <th>50’000-74999</th>\n",
       "      <th>75’000 und mehr</th>\n",
       "      <th>Bezirk_Name</th>\n",
       "    </tr>\n",
       "  </thead>\n",
       "  <tbody>\n",
       "    <tr>\n",
       "      <th>0</th>\n",
       "      <td>101</td>\n",
       "      <td>129</td>\n",
       "      <td>373</td>\n",
       "      <td>1746</td>\n",
       "      <td>2173</td>\n",
       "      <td>2511</td>\n",
       "      <td>5712</td>\n",
       "      <td>9222</td>\n",
       "      <td>Affoltern</td>\n",
       "    </tr>\n",
       "    <tr>\n",
       "      <th>1</th>\n",
       "      <td>102</td>\n",
       "      <td>78</td>\n",
       "      <td>248</td>\n",
       "      <td>1120</td>\n",
       "      <td>1431</td>\n",
       "      <td>1759</td>\n",
       "      <td>3511</td>\n",
       "      <td>4909</td>\n",
       "      <td>Andelfingen</td>\n",
       "    </tr>\n",
       "  </tbody>\n",
       "</table>\n",
       "</div>"
      ],
      "text/plain": [
       "   Bezirk_ID  Bis 14’999  15’000-19’999  20’000-29’999  30’000-39’999  \\\n",
       "0        101         129            373           1746           2173   \n",
       "1        102          78            248           1120           1431   \n",
       "\n",
       "   40’000-49’999  50’000-74999  75’000 und mehr  Bezirk_Name  \n",
       "0           2511          5712             9222    Affoltern  \n",
       "1           1759          3511             4909  Andelfingen  "
      ]
     },
     "execution_count": 241,
     "metadata": {},
     "output_type": "execute_result"
    }
   ],
   "source": [
    "df_bez = df_bez.groupby('Bezirk_ID').sum().reset_index()\n",
    "df_bez = df_bez.merge(df_bez_ids, on='Bezirk_ID')\n",
    "df_bez.pop('Kanton_ABK')\n",
    "df_bez.head(2)"
   ]
  },
  {
   "cell_type": "code",
   "execution_count": 242,
   "metadata": {},
   "outputs": [
    {
     "data": {
      "text/plain": [
       "(148, 9)"
      ]
     },
     "execution_count": 242,
     "metadata": {},
     "output_type": "execute_result"
    }
   ],
   "source": [
    "df_bez.shape"
   ]
  },
  {
   "cell_type": "markdown",
   "metadata": {},
   "source": [
    "### Separate the communes"
   ]
  },
  {
   "cell_type": "code",
   "execution_count": 245,
   "metadata": {},
   "outputs": [
    {
     "data": {
      "text/html": [
       "<div>\n",
       "<style>\n",
       "    .dataframe thead tr:only-child th {\n",
       "        text-align: right;\n",
       "    }\n",
       "\n",
       "    .dataframe thead th {\n",
       "        text-align: left;\n",
       "    }\n",
       "\n",
       "    .dataframe tbody tr th {\n",
       "        vertical-align: top;\n",
       "    }\n",
       "</style>\n",
       "<table border=\"1\" class=\"dataframe\">\n",
       "  <thead>\n",
       "    <tr style=\"text-align: right;\">\n",
       "      <th></th>\n",
       "      <th>Gemeinde_ID</th>\n",
       "      <th>Gemeinde_Name</th>\n",
       "      <th>Bis 14’999</th>\n",
       "      <th>15’000-19’999</th>\n",
       "      <th>20’000-29’999</th>\n",
       "      <th>30’000-39’999</th>\n",
       "      <th>40’000-49’999</th>\n",
       "      <th>50’000-74999</th>\n",
       "      <th>75’000 und mehr</th>\n",
       "    </tr>\n",
       "  </thead>\n",
       "  <tbody>\n",
       "    <tr>\n",
       "      <th>0</th>\n",
       "      <td>1</td>\n",
       "      <td>Aeugst am Albis</td>\n",
       "      <td>5</td>\n",
       "      <td>17</td>\n",
       "      <td>77</td>\n",
       "      <td>82</td>\n",
       "      <td>86</td>\n",
       "      <td>192</td>\n",
       "      <td>462</td>\n",
       "    </tr>\n",
       "    <tr>\n",
       "      <th>1</th>\n",
       "      <td>2</td>\n",
       "      <td>Affoltern am Albis</td>\n",
       "      <td>29</td>\n",
       "      <td>98</td>\n",
       "      <td>502</td>\n",
       "      <td>629</td>\n",
       "      <td>737</td>\n",
       "      <td>1439</td>\n",
       "      <td>1515</td>\n",
       "    </tr>\n",
       "  </tbody>\n",
       "</table>\n",
       "</div>"
      ],
      "text/plain": [
       "   Gemeinde_ID         Gemeinde_Name  Bis 14’999  15’000-19’999  \\\n",
       "0            1       Aeugst am Albis           5             17   \n",
       "1            2    Affoltern am Albis          29             98   \n",
       "\n",
       "   20’000-29’999  30’000-39’999  40’000-49’999  50’000-74999  75’000 und mehr  \n",
       "0             77             82             86           192              462  \n",
       "1            502            629            737          1439             1515  "
      ]
     },
     "execution_count": 245,
     "metadata": {},
     "output_type": "execute_result"
    }
   ],
   "source": [
    "#Gemeinden - there should be 2324 of them\n",
    "df_gem = df\n",
    "df_gem.head(2)"
   ]
  },
  {
   "cell_type": "code",
   "execution_count": 244,
   "metadata": {},
   "outputs": [
    {
     "data": {
      "text/plain": [
       "(2326, 9)"
      ]
     },
     "execution_count": 244,
     "metadata": {},
     "output_type": "execute_result"
    }
   ],
   "source": [
    "#D\n",
    "df_gem.shape"
   ]
  },
  {
   "cell_type": "markdown",
   "metadata": {},
   "source": [
    "## Export the data"
   ]
  },
  {
   "cell_type": "markdown",
   "metadata": {},
   "source": [
    "### absolute numbers"
   ]
  },
  {
   "cell_type": "code",
   "execution_count": 250,
   "metadata": {},
   "outputs": [
    {
     "data": {
      "text/html": [
       "<div>\n",
       "<style>\n",
       "    .dataframe thead tr:only-child th {\n",
       "        text-align: right;\n",
       "    }\n",
       "\n",
       "    .dataframe thead th {\n",
       "        text-align: left;\n",
       "    }\n",
       "\n",
       "    .dataframe tbody tr th {\n",
       "        vertical-align: top;\n",
       "    }\n",
       "</style>\n",
       "<table border=\"1\" class=\"dataframe\">\n",
       "  <thead>\n",
       "    <tr style=\"text-align: right;\">\n",
       "      <th></th>\n",
       "      <th>Bis 14’999</th>\n",
       "      <th>15’000-19’999</th>\n",
       "      <th>20’000-29’999</th>\n",
       "      <th>30’000-39’999</th>\n",
       "      <th>40’000-49’999</th>\n",
       "      <th>50’000-74999</th>\n",
       "      <th>75’000 und mehr</th>\n",
       "    </tr>\n",
       "  </thead>\n",
       "  <tbody>\n",
       "    <tr>\n",
       "      <th>0</th>\n",
       "      <td>70236</td>\n",
       "      <td>84736</td>\n",
       "      <td>362383</td>\n",
       "      <td>446657</td>\n",
       "      <td>484778</td>\n",
       "      <td>969316</td>\n",
       "      <td>1098958</td>\n",
       "    </tr>\n",
       "  </tbody>\n",
       "</table>\n",
       "</div>"
      ],
      "text/plain": [
       "   Bis 14’999  15’000-19’999  20’000-29’999  30’000-39’999  40’000-49’999  \\\n",
       "0       70236          84736         362383         446657         484778   \n",
       "\n",
       "   50’000-74999  75’000 und mehr  \n",
       "0        969316          1098958  "
      ]
     },
     "execution_count": 250,
     "metadata": {},
     "output_type": "execute_result"
    }
   ],
   "source": [
    "#Switzerland\n",
    "df_ch.to_csv('StructuredData/CH-Einkommen-Abs.csv', index=False)\n",
    "df_temp = pd.read_csv('StructuredData/CH-Einkommen-Abs.csv')\n",
    "df_temp.head(2)"
   ]
  },
  {
   "cell_type": "code",
   "execution_count": 251,
   "metadata": {},
   "outputs": [
    {
     "data": {
      "text/html": [
       "<div>\n",
       "<style>\n",
       "    .dataframe thead tr:only-child th {\n",
       "        text-align: right;\n",
       "    }\n",
       "\n",
       "    .dataframe thead th {\n",
       "        text-align: left;\n",
       "    }\n",
       "\n",
       "    .dataframe tbody tr th {\n",
       "        vertical-align: top;\n",
       "    }\n",
       "</style>\n",
       "<table border=\"1\" class=\"dataframe\">\n",
       "  <thead>\n",
       "    <tr style=\"text-align: right;\">\n",
       "      <th></th>\n",
       "      <th>Kanton_ABK</th>\n",
       "      <th>Bis 14’999</th>\n",
       "      <th>15’000-19’999</th>\n",
       "      <th>20’000-29’999</th>\n",
       "      <th>30’000-39’999</th>\n",
       "      <th>40’000-49’999</th>\n",
       "      <th>50’000-74999</th>\n",
       "      <th>75’000 und mehr</th>\n",
       "      <th>Kanton_ID</th>\n",
       "      <th>Kanton_Name</th>\n",
       "    </tr>\n",
       "  </thead>\n",
       "  <tbody>\n",
       "    <tr>\n",
       "      <th>0</th>\n",
       "      <td>AG</td>\n",
       "      <td>1781</td>\n",
       "      <td>5160</td>\n",
       "      <td>24155</td>\n",
       "      <td>33933</td>\n",
       "      <td>40423</td>\n",
       "      <td>83465</td>\n",
       "      <td>90708</td>\n",
       "      <td>19</td>\n",
       "      <td>Aargau</td>\n",
       "    </tr>\n",
       "    <tr>\n",
       "      <th>1</th>\n",
       "      <td>AI</td>\n",
       "      <td>106</td>\n",
       "      <td>202</td>\n",
       "      <td>822</td>\n",
       "      <td>956</td>\n",
       "      <td>1057</td>\n",
       "      <td>1734</td>\n",
       "      <td>1818</td>\n",
       "      <td>16</td>\n",
       "      <td>Appenzell Innerrhoden</td>\n",
       "    </tr>\n",
       "  </tbody>\n",
       "</table>\n",
       "</div>"
      ],
      "text/plain": [
       "  Kanton_ABK  Bis 14’999  15’000-19’999  20’000-29’999  30’000-39’999  \\\n",
       "0         AG        1781           5160          24155          33933   \n",
       "1         AI         106            202            822            956   \n",
       "\n",
       "   40’000-49’999  50’000-74999  75’000 und mehr  Kanton_ID  \\\n",
       "0          40423         83465            90708         19   \n",
       "1           1057          1734             1818         16   \n",
       "\n",
       "             Kanton_Name  \n",
       "0                 Aargau  \n",
       "1  Appenzell Innerrhoden  "
      ]
     },
     "execution_count": 251,
     "metadata": {},
     "output_type": "execute_result"
    }
   ],
   "source": [
    "#Cantons\n",
    "df_kant.to_csv('StructuredData/kant-Einkommen-Abs.csv', index=False)\n",
    "df_temp = pd.read_csv('StructuredData/kant-Einkommen-Abs.csv')\n",
    "df_temp.head(2)"
   ]
  },
  {
   "cell_type": "code",
   "execution_count": 252,
   "metadata": {},
   "outputs": [
    {
     "data": {
      "text/html": [
       "<div>\n",
       "<style>\n",
       "    .dataframe thead tr:only-child th {\n",
       "        text-align: right;\n",
       "    }\n",
       "\n",
       "    .dataframe thead th {\n",
       "        text-align: left;\n",
       "    }\n",
       "\n",
       "    .dataframe tbody tr th {\n",
       "        vertical-align: top;\n",
       "    }\n",
       "</style>\n",
       "<table border=\"1\" class=\"dataframe\">\n",
       "  <thead>\n",
       "    <tr style=\"text-align: right;\">\n",
       "      <th></th>\n",
       "      <th>Bezirk_ID</th>\n",
       "      <th>Bis 14’999</th>\n",
       "      <th>15’000-19’999</th>\n",
       "      <th>20’000-29’999</th>\n",
       "      <th>30’000-39’999</th>\n",
       "      <th>40’000-49’999</th>\n",
       "      <th>50’000-74999</th>\n",
       "      <th>75’000 und mehr</th>\n",
       "      <th>Bezirk_Name</th>\n",
       "    </tr>\n",
       "  </thead>\n",
       "  <tbody>\n",
       "    <tr>\n",
       "      <th>0</th>\n",
       "      <td>101</td>\n",
       "      <td>129</td>\n",
       "      <td>373</td>\n",
       "      <td>1746</td>\n",
       "      <td>2173</td>\n",
       "      <td>2511</td>\n",
       "      <td>5712</td>\n",
       "      <td>9222</td>\n",
       "      <td>Affoltern</td>\n",
       "    </tr>\n",
       "    <tr>\n",
       "      <th>1</th>\n",
       "      <td>102</td>\n",
       "      <td>78</td>\n",
       "      <td>248</td>\n",
       "      <td>1120</td>\n",
       "      <td>1431</td>\n",
       "      <td>1759</td>\n",
       "      <td>3511</td>\n",
       "      <td>4909</td>\n",
       "      <td>Andelfingen</td>\n",
       "    </tr>\n",
       "  </tbody>\n",
       "</table>\n",
       "</div>"
      ],
      "text/plain": [
       "   Bezirk_ID  Bis 14’999  15’000-19’999  20’000-29’999  30’000-39’999  \\\n",
       "0        101         129            373           1746           2173   \n",
       "1        102          78            248           1120           1431   \n",
       "\n",
       "   40’000-49’999  50’000-74999  75’000 und mehr  Bezirk_Name  \n",
       "0           2511          5712             9222    Affoltern  \n",
       "1           1759          3511             4909  Andelfingen  "
      ]
     },
     "execution_count": 252,
     "metadata": {},
     "output_type": "execute_result"
    }
   ],
   "source": [
    "#Districts\n",
    "df_bez.to_csv('StructuredData/bez-Einkommen-Abs.csv', index=False)\n",
    "df_temp = pd.read_csv('StructuredData/bez-Einkommen-Abs.csv')\n",
    "df_temp.head(2)"
   ]
  },
  {
   "cell_type": "code",
   "execution_count": 253,
   "metadata": {},
   "outputs": [
    {
     "data": {
      "text/html": [
       "<div>\n",
       "<style>\n",
       "    .dataframe thead tr:only-child th {\n",
       "        text-align: right;\n",
       "    }\n",
       "\n",
       "    .dataframe thead th {\n",
       "        text-align: left;\n",
       "    }\n",
       "\n",
       "    .dataframe tbody tr th {\n",
       "        vertical-align: top;\n",
       "    }\n",
       "</style>\n",
       "<table border=\"1\" class=\"dataframe\">\n",
       "  <thead>\n",
       "    <tr style=\"text-align: right;\">\n",
       "      <th></th>\n",
       "      <th>Gemeinde_ID</th>\n",
       "      <th>Gemeinde_Name</th>\n",
       "      <th>Bis 14’999</th>\n",
       "      <th>15’000-19’999</th>\n",
       "      <th>20’000-29’999</th>\n",
       "      <th>30’000-39’999</th>\n",
       "      <th>40’000-49’999</th>\n",
       "      <th>50’000-74999</th>\n",
       "      <th>75’000 und mehr</th>\n",
       "    </tr>\n",
       "  </thead>\n",
       "  <tbody>\n",
       "    <tr>\n",
       "      <th>0</th>\n",
       "      <td>1</td>\n",
       "      <td>Aeugst am Albis</td>\n",
       "      <td>5</td>\n",
       "      <td>17</td>\n",
       "      <td>77</td>\n",
       "      <td>82</td>\n",
       "      <td>86</td>\n",
       "      <td>192</td>\n",
       "      <td>462</td>\n",
       "    </tr>\n",
       "    <tr>\n",
       "      <th>1</th>\n",
       "      <td>2</td>\n",
       "      <td>Affoltern am Albis</td>\n",
       "      <td>29</td>\n",
       "      <td>98</td>\n",
       "      <td>502</td>\n",
       "      <td>629</td>\n",
       "      <td>737</td>\n",
       "      <td>1439</td>\n",
       "      <td>1515</td>\n",
       "    </tr>\n",
       "  </tbody>\n",
       "</table>\n",
       "</div>"
      ],
      "text/plain": [
       "   Gemeinde_ID         Gemeinde_Name  Bis 14’999  15’000-19’999  \\\n",
       "0            1       Aeugst am Albis           5             17   \n",
       "1            2    Affoltern am Albis          29             98   \n",
       "\n",
       "   20’000-29’999  30’000-39’999  40’000-49’999  50’000-74999  75’000 und mehr  \n",
       "0             77             82             86           192              462  \n",
       "1            502            629            737          1439             1515  "
      ]
     },
     "execution_count": 253,
     "metadata": {},
     "output_type": "execute_result"
    }
   ],
   "source": [
    "#Communes\n",
    "df_gem.to_csv('StructuredData/gem-Einkommen-Abs.csv', index=False)\n",
    "df_temp = pd.read_csv('StructuredData/gem-Einkommen-Abs.csv')\n",
    "df_temp.head(2)"
   ]
  },
  {
   "cell_type": "code",
   "execution_count": null,
   "metadata": {
    "collapsed": true
   },
   "outputs": [],
   "source": []
  }
 ],
 "metadata": {
  "kernelspec": {
   "display_name": "Python 3",
   "language": "python",
   "name": "python3"
  },
  "language_info": {
   "codemirror_mode": {
    "name": "ipython",
    "version": 3
   },
   "file_extension": ".py",
   "mimetype": "text/x-python",
   "name": "python",
   "nbconvert_exporter": "python",
   "pygments_lexer": "ipython3",
   "version": "3.6.1"
  }
 },
 "nbformat": 4,
 "nbformat_minor": 2
}
