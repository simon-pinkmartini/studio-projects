{
 "cells": [
  {
   "cell_type": "markdown",
   "metadata": {},
   "source": [
    "# Geojson for all Swiss entities"
   ]
  },
  {
   "cell_type": "markdown",
   "metadata": {},
   "source": [
    "This file creates a simple GeoJson that exports the geometry for CH, Cantons, Districts and Communes with the corresponding ID from the Federal Office of Statistics"
   ]
  },
  {
   "cell_type": "code",
   "execution_count": 3,
   "metadata": {
    "collapsed": true
   },
   "outputs": [],
   "source": [
    "import pandas as pd"
   ]
  },
  {
   "cell_type": "code",
   "execution_count": 4,
   "metadata": {
    "collapsed": true
   },
   "outputs": [],
   "source": [
    "import geopandas as gpd"
   ]
  },
  {
   "cell_type": "markdown",
   "metadata": {},
   "source": [
    "## Load the Geodata"
   ]
  },
  {
   "cell_type": "code",
   "execution_count": 47,
   "metadata": {},
   "outputs": [
    {
     "data": {
      "text/html": [
       "<div>\n",
       "<style>\n",
       "    .dataframe thead tr:only-child th {\n",
       "        text-align: right;\n",
       "    }\n",
       "\n",
       "    .dataframe thead th {\n",
       "        text-align: left;\n",
       "    }\n",
       "\n",
       "    .dataframe tbody tr th {\n",
       "        vertical-align: top;\n",
       "    }\n",
       "</style>\n",
       "<table border=\"1\" class=\"dataframe\">\n",
       "  <thead>\n",
       "    <tr style=\"text-align: right;\">\n",
       "      <th></th>\n",
       "      <th>AREA_HA</th>\n",
       "      <th>CH_ISO</th>\n",
       "      <th>X_CNTR</th>\n",
       "      <th>X_MAX</th>\n",
       "      <th>X_MIN</th>\n",
       "      <th>Y_CNTR</th>\n",
       "      <th>Y_MAX</th>\n",
       "      <th>Y_MIN</th>\n",
       "      <th>Z_AVG</th>\n",
       "      <th>Z_MAX</th>\n",
       "      <th>Z_MED</th>\n",
       "      <th>Z_MIN</th>\n",
       "      <th>geometry</th>\n",
       "    </tr>\n",
       "  </thead>\n",
       "  <tbody>\n",
       "    <tr>\n",
       "      <th>0</th>\n",
       "      <td>4129069</td>\n",
       "      <td>CH</td>\n",
       "      <td>659600</td>\n",
       "      <td>833841</td>\n",
       "      <td>485411</td>\n",
       "      <td>201300</td>\n",
       "      <td>295934</td>\n",
       "      <td>75272</td>\n",
       "      <td>1306</td>\n",
       "      <td>4631</td>\n",
       "      <td>1079</td>\n",
       "      <td>192</td>\n",
       "      <td>POLYGON ((684984.0100000016 295674.0813000016,...</td>\n",
       "    </tr>\n",
       "  </tbody>\n",
       "</table>\n",
       "</div>"
      ],
      "text/plain": [
       "   AREA_HA CH_ISO  X_CNTR   X_MAX   X_MIN  Y_CNTR   Y_MAX  Y_MIN  Z_AVG  \\\n",
       "0  4129069     CH  659600  833841  485411  201300  295934  75272   1306   \n",
       "\n",
       "   Z_MAX  Z_MED  Z_MIN                                           geometry  \n",
       "0   4631   1079    192  POLYGON ((684984.0100000016 295674.0813000016,...  "
      ]
     },
     "execution_count": 47,
     "metadata": {},
     "output_type": "execute_result"
    }
   ],
   "source": [
    "#One for switzerland\n",
    "gdf_CH = gpd.read_file('shp/g1l15.shp')\n",
    "gdf_CH.head(2)"
   ]
  },
  {
   "cell_type": "code",
   "execution_count": 48,
   "metadata": {},
   "outputs": [
    {
     "data": {
      "text/html": [
       "<div>\n",
       "<style>\n",
       "    .dataframe thead tr:only-child th {\n",
       "        text-align: right;\n",
       "    }\n",
       "\n",
       "    .dataframe thead th {\n",
       "        text-align: left;\n",
       "    }\n",
       "\n",
       "    .dataframe tbody tr th {\n",
       "        vertical-align: top;\n",
       "    }\n",
       "</style>\n",
       "<table border=\"1\" class=\"dataframe\">\n",
       "  <thead>\n",
       "    <tr style=\"text-align: right;\">\n",
       "      <th></th>\n",
       "      <th>AREA_HA</th>\n",
       "      <th>GRNR</th>\n",
       "      <th>KTNAME</th>\n",
       "      <th>KTNR</th>\n",
       "      <th>X_CNTR</th>\n",
       "      <th>X_MAX</th>\n",
       "      <th>X_MIN</th>\n",
       "      <th>Y_CNTR</th>\n",
       "      <th>Y_MAX</th>\n",
       "      <th>Y_MIN</th>\n",
       "      <th>Z_AVG</th>\n",
       "      <th>Z_MAX</th>\n",
       "      <th>Z_MED</th>\n",
       "      <th>Z_MIN</th>\n",
       "      <th>geometry</th>\n",
       "    </tr>\n",
       "  </thead>\n",
       "  <tbody>\n",
       "    <tr>\n",
       "      <th>0</th>\n",
       "      <td>172895</td>\n",
       "      <td>4</td>\n",
       "      <td>Zürich</td>\n",
       "      <td>1</td>\n",
       "      <td>691800</td>\n",
       "      <td>716900</td>\n",
       "      <td>669244</td>\n",
       "      <td>252000</td>\n",
       "      <td>283343</td>\n",
       "      <td>223896</td>\n",
       "      <td>533</td>\n",
       "      <td>1290</td>\n",
       "      <td>504</td>\n",
       "      <td>331</td>\n",
       "      <td>POLYGON ((692429.2012999989 281173.7074999996,...</td>\n",
       "    </tr>\n",
       "    <tr>\n",
       "      <th>1</th>\n",
       "      <td>595956</td>\n",
       "      <td>2</td>\n",
       "      <td>Bern / Berne</td>\n",
       "      <td>2</td>\n",
       "      <td>614200</td>\n",
       "      <td>677745</td>\n",
       "      <td>556241</td>\n",
       "      <td>185600</td>\n",
       "      <td>243834</td>\n",
       "      <td>130585</td>\n",
       "      <td>1198</td>\n",
       "      <td>4269</td>\n",
       "      <td>979</td>\n",
       "      <td>399</td>\n",
       "      <td>(POLYGON ((573502.2038000003 194804.7199999988...</td>\n",
       "    </tr>\n",
       "  </tbody>\n",
       "</table>\n",
       "</div>"
      ],
      "text/plain": [
       "   AREA_HA  GRNR        KTNAME  KTNR  X_CNTR   X_MAX   X_MIN  Y_CNTR   Y_MAX  \\\n",
       "0   172895     4        Zürich     1  691800  716900  669244  252000  283343   \n",
       "1   595956     2  Bern / Berne     2  614200  677745  556241  185600  243834   \n",
       "\n",
       "    Y_MIN  Z_AVG  Z_MAX  Z_MED  Z_MIN  \\\n",
       "0  223896    533   1290    504    331   \n",
       "1  130585   1198   4269    979    399   \n",
       "\n",
       "                                            geometry  \n",
       "0  POLYGON ((692429.2012999989 281173.7074999996,...  \n",
       "1  (POLYGON ((573502.2038000003 194804.7199999988...  "
      ]
     },
     "execution_count": 48,
     "metadata": {},
     "output_type": "execute_result"
    }
   ],
   "source": [
    "#One for the cantons\n",
    "gdf_kant = gpd.read_file('shp/g1k15.shp')\n",
    "gdf_kant.head(2)"
   ]
  },
  {
   "cell_type": "code",
   "execution_count": 49,
   "metadata": {},
   "outputs": [
    {
     "data": {
      "text/plain": [
       "(26, 15)"
      ]
     },
     "execution_count": 49,
     "metadata": {},
     "output_type": "execute_result"
    }
   ],
   "source": [
    "gdf_kant.shape"
   ]
  },
  {
   "cell_type": "code",
   "execution_count": 50,
   "metadata": {},
   "outputs": [
    {
     "data": {
      "text/html": [
       "<div>\n",
       "<style>\n",
       "    .dataframe thead tr:only-child th {\n",
       "        text-align: right;\n",
       "    }\n",
       "\n",
       "    .dataframe thead th {\n",
       "        text-align: left;\n",
       "    }\n",
       "\n",
       "    .dataframe tbody tr th {\n",
       "        vertical-align: top;\n",
       "    }\n",
       "</style>\n",
       "<table border=\"1\" class=\"dataframe\">\n",
       "  <thead>\n",
       "    <tr style=\"text-align: right;\">\n",
       "      <th></th>\n",
       "      <th>AREA_HA</th>\n",
       "      <th>BZNAME</th>\n",
       "      <th>BZNR</th>\n",
       "      <th>GRNR</th>\n",
       "      <th>KTNR</th>\n",
       "      <th>X_CNTR</th>\n",
       "      <th>X_MAX</th>\n",
       "      <th>X_MIN</th>\n",
       "      <th>Y_CNTR</th>\n",
       "      <th>Y_MAX</th>\n",
       "      <th>Y_MIN</th>\n",
       "      <th>Z_AVG</th>\n",
       "      <th>Z_MAX</th>\n",
       "      <th>Z_MED</th>\n",
       "      <th>Z_MIN</th>\n",
       "      <th>geometry</th>\n",
       "    </tr>\n",
       "  </thead>\n",
       "  <tbody>\n",
       "    <tr>\n",
       "      <th>0</th>\n",
       "      <td>11303</td>\n",
       "      <td>Bezirk Affoltern</td>\n",
       "      <td>101</td>\n",
       "      <td>4</td>\n",
       "      <td>1</td>\n",
       "      <td>678300</td>\n",
       "      <td>686462</td>\n",
       "      <td>671862</td>\n",
       "      <td>235900</td>\n",
       "      <td>245396</td>\n",
       "      <td>229137</td>\n",
       "      <td>561</td>\n",
       "      <td>914</td>\n",
       "      <td>557</td>\n",
       "      <td>380</td>\n",
       "      <td>POLYGON ((679207.6875 245176.5949999988, 68006...</td>\n",
       "    </tr>\n",
       "    <tr>\n",
       "      <th>1</th>\n",
       "      <td>16652</td>\n",
       "      <td>Bezirk Andelfingen</td>\n",
       "      <td>102</td>\n",
       "      <td>4</td>\n",
       "      <td>1</td>\n",
       "      <td>693200</td>\n",
       "      <td>704388</td>\n",
       "      <td>684956</td>\n",
       "      <td>274000</td>\n",
       "      <td>283343</td>\n",
       "      <td>264720</td>\n",
       "      <td>437</td>\n",
       "      <td>694</td>\n",
       "      <td>426</td>\n",
       "      <td>342</td>\n",
       "      <td>POLYGON ((692429.2012999989 281173.7074999996,...</td>\n",
       "    </tr>\n",
       "  </tbody>\n",
       "</table>\n",
       "</div>"
      ],
      "text/plain": [
       "   AREA_HA              BZNAME  BZNR  GRNR  KTNR  X_CNTR   X_MAX   X_MIN  \\\n",
       "0    11303    Bezirk Affoltern   101     4     1  678300  686462  671862   \n",
       "1    16652  Bezirk Andelfingen   102     4     1  693200  704388  684956   \n",
       "\n",
       "   Y_CNTR   Y_MAX   Y_MIN  Z_AVG  Z_MAX  Z_MED  Z_MIN  \\\n",
       "0  235900  245396  229137    561    914    557    380   \n",
       "1  274000  283343  264720    437    694    426    342   \n",
       "\n",
       "                                            geometry  \n",
       "0  POLYGON ((679207.6875 245176.5949999988, 68006...  \n",
       "1  POLYGON ((692429.2012999989 281173.7074999996,...  "
      ]
     },
     "execution_count": 50,
     "metadata": {},
     "output_type": "execute_result"
    }
   ],
   "source": [
    "#One for the districts\n",
    "gdf_bez = gpd.read_file('shp/g1b15.shp')\n",
    "gdf_bez.head(2)"
   ]
  },
  {
   "cell_type": "code",
   "execution_count": 51,
   "metadata": {},
   "outputs": [
    {
     "data": {
      "text/plain": [
       "(148, 16)"
      ]
     },
     "execution_count": 51,
     "metadata": {},
     "output_type": "execute_result"
    }
   ],
   "source": [
    "gdf_bez.shape"
   ]
  },
  {
   "cell_type": "code",
   "execution_count": 52,
   "metadata": {},
   "outputs": [
    {
     "data": {
      "text/html": [
       "<div>\n",
       "<style>\n",
       "    .dataframe thead tr:only-child th {\n",
       "        text-align: right;\n",
       "    }\n",
       "\n",
       "    .dataframe thead th {\n",
       "        text-align: left;\n",
       "    }\n",
       "\n",
       "    .dataframe tbody tr th {\n",
       "        vertical-align: top;\n",
       "    }\n",
       "</style>\n",
       "<table border=\"1\" class=\"dataframe\">\n",
       "  <thead>\n",
       "    <tr style=\"text-align: right;\">\n",
       "      <th></th>\n",
       "      <th>AREA_HA</th>\n",
       "      <th>BZNR</th>\n",
       "      <th>GMDNAME</th>\n",
       "      <th>GMDNR</th>\n",
       "      <th>GRNR</th>\n",
       "      <th>KTNR</th>\n",
       "      <th>OBJECTID</th>\n",
       "      <th>Shape_Area</th>\n",
       "      <th>Shape_Leng</th>\n",
       "      <th>X_CNTR</th>\n",
       "      <th>...</th>\n",
       "      <th>X_MIN</th>\n",
       "      <th>Y_CNTR</th>\n",
       "      <th>Y_MAX</th>\n",
       "      <th>Y_MIN</th>\n",
       "      <th>Z_AVG</th>\n",
       "      <th>Z_CNTR</th>\n",
       "      <th>Z_MAX</th>\n",
       "      <th>Z_MED</th>\n",
       "      <th>Z_MIN</th>\n",
       "      <th>geometry</th>\n",
       "    </tr>\n",
       "  </thead>\n",
       "  <tbody>\n",
       "    <tr>\n",
       "      <th>0</th>\n",
       "      <td>791</td>\n",
       "      <td>101</td>\n",
       "      <td>Aeugst am Albis</td>\n",
       "      <td>1</td>\n",
       "      <td>4</td>\n",
       "      <td>1</td>\n",
       "      <td>1</td>\n",
       "      <td>7.945775e+06</td>\n",
       "      <td>12833.889364</td>\n",
       "      <td>679300</td>\n",
       "      <td>...</td>\n",
       "      <td>678110</td>\n",
       "      <td>235700</td>\n",
       "      <td>238544</td>\n",
       "      <td>234561</td>\n",
       "      <td>684</td>\n",
       "      <td>700</td>\n",
       "      <td>886</td>\n",
       "      <td>673</td>\n",
       "      <td>532</td>\n",
       "      <td>POLYGON ((680805.25 237763.620000001, 681154.0...</td>\n",
       "    </tr>\n",
       "    <tr>\n",
       "      <th>1</th>\n",
       "      <td>1059</td>\n",
       "      <td>101</td>\n",
       "      <td>Affoltern am Albis</td>\n",
       "      <td>2</td>\n",
       "      <td>4</td>\n",
       "      <td>1</td>\n",
       "      <td>2</td>\n",
       "      <td>1.057995e+07</td>\n",
       "      <td>18747.490903</td>\n",
       "      <td>676800</td>\n",
       "      <td>...</td>\n",
       "      <td>673825</td>\n",
       "      <td>236800</td>\n",
       "      <td>239339</td>\n",
       "      <td>235208</td>\n",
       "      <td>529</td>\n",
       "      <td>490</td>\n",
       "      <td>749</td>\n",
       "      <td>502</td>\n",
       "      <td>440</td>\n",
       "      <td>POLYGON ((678521.9299999997 238539.8399999999,...</td>\n",
       "    </tr>\n",
       "  </tbody>\n",
       "</table>\n",
       "<p>2 rows × 21 columns</p>\n",
       "</div>"
      ],
      "text/plain": [
       "   AREA_HA  BZNR             GMDNAME  GMDNR  GRNR  KTNR  OBJECTID  \\\n",
       "0      791   101     Aeugst am Albis      1     4     1         1   \n",
       "1     1059   101  Affoltern am Albis      2     4     1         2   \n",
       "\n",
       "     Shape_Area    Shape_Leng  X_CNTR  \\\n",
       "0  7.945775e+06  12833.889364  679300   \n",
       "1  1.057995e+07  18747.490903  676800   \n",
       "\n",
       "                         ...                           X_MIN  Y_CNTR   Y_MAX  \\\n",
       "0                        ...                          678110  235700  238544   \n",
       "1                        ...                          673825  236800  239339   \n",
       "\n",
       "    Y_MIN  Z_AVG  Z_CNTR  Z_MAX  Z_MED  Z_MIN  \\\n",
       "0  234561    684     700    886    673    532   \n",
       "1  235208    529     490    749    502    440   \n",
       "\n",
       "                                            geometry  \n",
       "0  POLYGON ((680805.25 237763.620000001, 681154.0...  \n",
       "1  POLYGON ((678521.9299999997 238539.8399999999,...  \n",
       "\n",
       "[2 rows x 21 columns]"
      ]
     },
     "execution_count": 52,
     "metadata": {},
     "output_type": "execute_result"
    }
   ],
   "source": [
    "#This shapefile is for the communes\n",
    "gdf_gem = gpd.read_file('shp/g1g15.shp')\n",
    "gdf_gem.head(2)"
   ]
  },
  {
   "cell_type": "code",
   "execution_count": 53,
   "metadata": {},
   "outputs": [
    {
     "data": {
      "text/plain": [
       "(2328, 21)"
      ]
     },
     "execution_count": 53,
     "metadata": {},
     "output_type": "execute_result"
    }
   ],
   "source": [
    "gdf_gem.shape"
   ]
  },
  {
   "cell_type": "markdown",
   "metadata": {},
   "source": [
    "## Reduce to the Max"
   ]
  },
  {
   "cell_type": "code",
   "execution_count": 54,
   "metadata": {},
   "outputs": [
    {
     "data": {
      "text/html": [
       "<div>\n",
       "<style>\n",
       "    .dataframe thead tr:only-child th {\n",
       "        text-align: right;\n",
       "    }\n",
       "\n",
       "    .dataframe thead th {\n",
       "        text-align: left;\n",
       "    }\n",
       "\n",
       "    .dataframe tbody tr th {\n",
       "        vertical-align: top;\n",
       "    }\n",
       "</style>\n",
       "<table border=\"1\" class=\"dataframe\">\n",
       "  <thead>\n",
       "    <tr style=\"text-align: right;\">\n",
       "      <th></th>\n",
       "      <th>id</th>\n",
       "      <th>geometry</th>\n",
       "      <th>name</th>\n",
       "    </tr>\n",
       "  </thead>\n",
       "  <tbody>\n",
       "    <tr>\n",
       "      <th>0</th>\n",
       "      <td>CH</td>\n",
       "      <td>POLYGON ((684984.0100000016 295674.0813000016,...</td>\n",
       "      <td>Schweiz</td>\n",
       "    </tr>\n",
       "  </tbody>\n",
       "</table>\n",
       "</div>"
      ],
      "text/plain": [
       "   id                                           geometry     name\n",
       "0  CH  POLYGON ((684984.0100000016 295674.0813000016,...  Schweiz"
      ]
     },
     "execution_count": 54,
     "metadata": {},
     "output_type": "execute_result"
    }
   ],
   "source": [
    "#Switzerland\n",
    "gdf_CH = gdf_CH[['CH_ISO', 'geometry']]\n",
    "gdf_CH.rename(columns={'CH_ISO': 'id'}, inplace=True)\n",
    "gdf_CH['name'] = 'Schweiz'\n",
    "gdf_CH.head(2)"
   ]
  },
  {
   "cell_type": "code",
   "execution_count": 55,
   "metadata": {},
   "outputs": [
    {
     "data": {
      "text/html": [
       "<div>\n",
       "<style>\n",
       "    .dataframe thead tr:only-child th {\n",
       "        text-align: right;\n",
       "    }\n",
       "\n",
       "    .dataframe thead th {\n",
       "        text-align: left;\n",
       "    }\n",
       "\n",
       "    .dataframe tbody tr th {\n",
       "        vertical-align: top;\n",
       "    }\n",
       "</style>\n",
       "<table border=\"1\" class=\"dataframe\">\n",
       "  <thead>\n",
       "    <tr style=\"text-align: right;\">\n",
       "      <th></th>\n",
       "      <th>id</th>\n",
       "      <th>name</th>\n",
       "      <th>geometry</th>\n",
       "    </tr>\n",
       "  </thead>\n",
       "  <tbody>\n",
       "    <tr>\n",
       "      <th>0</th>\n",
       "      <td>1</td>\n",
       "      <td>Zürich</td>\n",
       "      <td>POLYGON ((692429.2012999989 281173.7074999996,...</td>\n",
       "    </tr>\n",
       "    <tr>\n",
       "      <th>1</th>\n",
       "      <td>2</td>\n",
       "      <td>Bern / Berne</td>\n",
       "      <td>(POLYGON ((573502.2038000003 194804.7199999988...</td>\n",
       "    </tr>\n",
       "  </tbody>\n",
       "</table>\n",
       "</div>"
      ],
      "text/plain": [
       "   id          name                                           geometry\n",
       "0   1        Zürich  POLYGON ((692429.2012999989 281173.7074999996,...\n",
       "1   2  Bern / Berne  (POLYGON ((573502.2038000003 194804.7199999988..."
      ]
     },
     "execution_count": 55,
     "metadata": {},
     "output_type": "execute_result"
    }
   ],
   "source": [
    "#Cantons\n",
    "gdf_kant = gdf_kant[['KTNR', 'KTNAME', 'geometry']]\n",
    "gdf_kant.rename(columns={'KTNR': 'id', 'KTNAME': 'name'}, inplace=True)\n",
    "gdf_kant.head(2)"
   ]
  },
  {
   "cell_type": "code",
   "execution_count": 56,
   "metadata": {},
   "outputs": [
    {
     "data": {
      "text/html": [
       "<div>\n",
       "<style>\n",
       "    .dataframe thead tr:only-child th {\n",
       "        text-align: right;\n",
       "    }\n",
       "\n",
       "    .dataframe thead th {\n",
       "        text-align: left;\n",
       "    }\n",
       "\n",
       "    .dataframe tbody tr th {\n",
       "        vertical-align: top;\n",
       "    }\n",
       "</style>\n",
       "<table border=\"1\" class=\"dataframe\">\n",
       "  <thead>\n",
       "    <tr style=\"text-align: right;\">\n",
       "      <th></th>\n",
       "      <th>id</th>\n",
       "      <th>name</th>\n",
       "      <th>geometry</th>\n",
       "    </tr>\n",
       "  </thead>\n",
       "  <tbody>\n",
       "    <tr>\n",
       "      <th>0</th>\n",
       "      <td>101</td>\n",
       "      <td>Bezirk Affoltern</td>\n",
       "      <td>POLYGON ((679207.6875 245176.5949999988, 68006...</td>\n",
       "    </tr>\n",
       "    <tr>\n",
       "      <th>1</th>\n",
       "      <td>102</td>\n",
       "      <td>Bezirk Andelfingen</td>\n",
       "      <td>POLYGON ((692429.2012999989 281173.7074999996,...</td>\n",
       "    </tr>\n",
       "  </tbody>\n",
       "</table>\n",
       "</div>"
      ],
      "text/plain": [
       "    id                name                                           geometry\n",
       "0  101    Bezirk Affoltern  POLYGON ((679207.6875 245176.5949999988, 68006...\n",
       "1  102  Bezirk Andelfingen  POLYGON ((692429.2012999989 281173.7074999996,..."
      ]
     },
     "execution_count": 56,
     "metadata": {},
     "output_type": "execute_result"
    }
   ],
   "source": [
    "#Districts\n",
    "gdf_bez = gdf_bez[['BZNR', 'BZNAME', 'geometry']]\n",
    "gdf_bez.rename(columns={'BZNR': 'id', 'BZNAME': 'name'}, inplace=True)\n",
    "gdf_bez.head(2)"
   ]
  },
  {
   "cell_type": "code",
   "execution_count": 58,
   "metadata": {},
   "outputs": [
    {
     "data": {
      "text/html": [
       "<div>\n",
       "<style>\n",
       "    .dataframe thead tr:only-child th {\n",
       "        text-align: right;\n",
       "    }\n",
       "\n",
       "    .dataframe thead th {\n",
       "        text-align: left;\n",
       "    }\n",
       "\n",
       "    .dataframe tbody tr th {\n",
       "        vertical-align: top;\n",
       "    }\n",
       "</style>\n",
       "<table border=\"1\" class=\"dataframe\">\n",
       "  <thead>\n",
       "    <tr style=\"text-align: right;\">\n",
       "      <th></th>\n",
       "      <th>id</th>\n",
       "      <th>name</th>\n",
       "      <th>geometry</th>\n",
       "    </tr>\n",
       "  </thead>\n",
       "  <tbody>\n",
       "    <tr>\n",
       "      <th>0</th>\n",
       "      <td>1</td>\n",
       "      <td>Aeugst am Albis</td>\n",
       "      <td>POLYGON ((680805.25 237763.620000001, 681154.0...</td>\n",
       "    </tr>\n",
       "    <tr>\n",
       "      <th>1</th>\n",
       "      <td>2</td>\n",
       "      <td>Affoltern am Albis</td>\n",
       "      <td>POLYGON ((678521.9299999997 238539.8399999999,...</td>\n",
       "    </tr>\n",
       "  </tbody>\n",
       "</table>\n",
       "</div>"
      ],
      "text/plain": [
       "   id                name                                           geometry\n",
       "0   1     Aeugst am Albis  POLYGON ((680805.25 237763.620000001, 681154.0...\n",
       "1   2  Affoltern am Albis  POLYGON ((678521.9299999997 238539.8399999999,..."
      ]
     },
     "execution_count": 58,
     "metadata": {},
     "output_type": "execute_result"
    }
   ],
   "source": [
    "#Communes\n",
    "gdf_gem = gdf_gem[['GMDNR', 'GMDNAME', 'geometry']]\n",
    "gdf_gem.rename(columns={'GMDNR': 'id', 'GMDNAME': 'name'}, inplace=True)\n",
    "gdf_gem.head(2)"
   ]
  },
  {
   "cell_type": "markdown",
   "metadata": {},
   "source": [
    "## Set CRS"
   ]
  },
  {
   "cell_type": "code",
   "execution_count": 59,
   "metadata": {},
   "outputs": [
    {
     "data": {
      "text/html": [
       "<div>\n",
       "<style>\n",
       "    .dataframe thead tr:only-child th {\n",
       "        text-align: right;\n",
       "    }\n",
       "\n",
       "    .dataframe thead th {\n",
       "        text-align: left;\n",
       "    }\n",
       "\n",
       "    .dataframe tbody tr th {\n",
       "        vertical-align: top;\n",
       "    }\n",
       "</style>\n",
       "<table border=\"1\" class=\"dataframe\">\n",
       "  <thead>\n",
       "    <tr style=\"text-align: right;\">\n",
       "      <th></th>\n",
       "      <th>id</th>\n",
       "      <th>geometry</th>\n",
       "      <th>name</th>\n",
       "    </tr>\n",
       "  </thead>\n",
       "  <tbody>\n",
       "    <tr>\n",
       "      <th>0</th>\n",
       "      <td>CH</td>\n",
       "      <td>POLYGON ((8.573085379703551 47.80606973745201,...</td>\n",
       "      <td>Schweiz</td>\n",
       "    </tr>\n",
       "  </tbody>\n",
       "</table>\n",
       "</div>"
      ],
      "text/plain": [
       "   id                                           geometry     name\n",
       "0  CH  POLYGON ((8.573085379703551 47.80606973745201,...  Schweiz"
      ]
     },
     "execution_count": 59,
     "metadata": {},
     "output_type": "execute_result"
    }
   ],
   "source": [
    "#Switzerland\n",
    "gdf_CH.crs = {'init': 'epsg:21781'}\n",
    "gdf_CH = gdf_CH.to_crs(epsg=4326)\n",
    "gdf_CH.head(2)"
   ]
  },
  {
   "cell_type": "code",
   "execution_count": 60,
   "metadata": {},
   "outputs": [
    {
     "data": {
      "text/html": [
       "<div>\n",
       "<style>\n",
       "    .dataframe thead tr:only-child th {\n",
       "        text-align: right;\n",
       "    }\n",
       "\n",
       "    .dataframe thead th {\n",
       "        text-align: left;\n",
       "    }\n",
       "\n",
       "    .dataframe tbody tr th {\n",
       "        vertical-align: top;\n",
       "    }\n",
       "</style>\n",
       "<table border=\"1\" class=\"dataframe\">\n",
       "  <thead>\n",
       "    <tr style=\"text-align: right;\">\n",
       "      <th></th>\n",
       "      <th>id</th>\n",
       "      <th>name</th>\n",
       "      <th>geometry</th>\n",
       "    </tr>\n",
       "  </thead>\n",
       "  <tbody>\n",
       "    <tr>\n",
       "      <th>0</th>\n",
       "      <td>1</td>\n",
       "      <td>Zürich</td>\n",
       "      <td>POLYGON ((8.669420659009052 47.67467256651023,...</td>\n",
       "    </tr>\n",
       "    <tr>\n",
       "      <th>1</th>\n",
       "      <td>2</td>\n",
       "      <td>Bern / Berne</td>\n",
       "      <td>(POLYGON ((7.090860566456467 46.90381814041309...</td>\n",
       "    </tr>\n",
       "  </tbody>\n",
       "</table>\n",
       "</div>"
      ],
      "text/plain": [
       "   id          name                                           geometry\n",
       "0   1        Zürich  POLYGON ((8.669420659009052 47.67467256651023,...\n",
       "1   2  Bern / Berne  (POLYGON ((7.090860566456467 46.90381814041309..."
      ]
     },
     "execution_count": 60,
     "metadata": {},
     "output_type": "execute_result"
    }
   ],
   "source": [
    "#Cantons\n",
    "gdf_kant.crs = {'init': 'epsg:21781'}\n",
    "gdf_kant = gdf_kant.to_crs(epsg=4326)\n",
    "gdf_kant.head(2)"
   ]
  },
  {
   "cell_type": "code",
   "execution_count": 61,
   "metadata": {},
   "outputs": [
    {
     "data": {
      "text/html": [
       "<div>\n",
       "<style>\n",
       "    .dataframe thead tr:only-child th {\n",
       "        text-align: right;\n",
       "    }\n",
       "\n",
       "    .dataframe thead th {\n",
       "        text-align: left;\n",
       "    }\n",
       "\n",
       "    .dataframe tbody tr th {\n",
       "        vertical-align: top;\n",
       "    }\n",
       "</style>\n",
       "<table border=\"1\" class=\"dataframe\">\n",
       "  <thead>\n",
       "    <tr style=\"text-align: right;\">\n",
       "      <th></th>\n",
       "      <th>id</th>\n",
       "      <th>name</th>\n",
       "      <th>geometry</th>\n",
       "    </tr>\n",
       "  </thead>\n",
       "  <tbody>\n",
       "    <tr>\n",
       "      <th>0</th>\n",
       "      <td>101</td>\n",
       "      <td>Bezirk Affoltern</td>\n",
       "      <td>POLYGON ((8.486980667267138 47.35268128170803,...</td>\n",
       "    </tr>\n",
       "    <tr>\n",
       "      <th>1</th>\n",
       "      <td>102</td>\n",
       "      <td>Bezirk Andelfingen</td>\n",
       "      <td>POLYGON ((8.669420659009052 47.67467256651023,...</td>\n",
       "    </tr>\n",
       "  </tbody>\n",
       "</table>\n",
       "</div>"
      ],
      "text/plain": [
       "    id                name                                           geometry\n",
       "0  101    Bezirk Affoltern  POLYGON ((8.486980667267138 47.35268128170803,...\n",
       "1  102  Bezirk Andelfingen  POLYGON ((8.669420659009052 47.67467256651023,..."
      ]
     },
     "execution_count": 61,
     "metadata": {},
     "output_type": "execute_result"
    }
   ],
   "source": [
    "#Districts\n",
    "gdf_bez.crs = {'init': 'epsg:21781'}\n",
    "gdf_bez = gdf_bez.to_crs(epsg=4326)\n",
    "gdf_bez.head(2)"
   ]
  },
  {
   "cell_type": "code",
   "execution_count": 62,
   "metadata": {},
   "outputs": [
    {
     "data": {
      "text/html": [
       "<div>\n",
       "<style>\n",
       "    .dataframe thead tr:only-child th {\n",
       "        text-align: right;\n",
       "    }\n",
       "\n",
       "    .dataframe thead th {\n",
       "        text-align: left;\n",
       "    }\n",
       "\n",
       "    .dataframe tbody tr th {\n",
       "        vertical-align: top;\n",
       "    }\n",
       "</style>\n",
       "<table border=\"1\" class=\"dataframe\">\n",
       "  <thead>\n",
       "    <tr style=\"text-align: right;\">\n",
       "      <th></th>\n",
       "      <th>id</th>\n",
       "      <th>name</th>\n",
       "      <th>geometry</th>\n",
       "    </tr>\n",
       "  </thead>\n",
       "  <tbody>\n",
       "    <tr>\n",
       "      <th>0</th>\n",
       "      <td>1</td>\n",
       "      <td>Aeugst am Albis</td>\n",
       "      <td>POLYGON ((8.506787225179224 47.28581829343611,...</td>\n",
       "    </tr>\n",
       "    <tr>\n",
       "      <th>1</th>\n",
       "      <td>2</td>\n",
       "      <td>Affoltern am Albis</td>\n",
       "      <td>POLYGON ((8.476743445695709 47.29307496188522,...</td>\n",
       "    </tr>\n",
       "  </tbody>\n",
       "</table>\n",
       "</div>"
      ],
      "text/plain": [
       "   id                name                                           geometry\n",
       "0   1     Aeugst am Albis  POLYGON ((8.506787225179224 47.28581829343611,...\n",
       "1   2  Affoltern am Albis  POLYGON ((8.476743445695709 47.29307496188522,..."
      ]
     },
     "execution_count": 62,
     "metadata": {},
     "output_type": "execute_result"
    }
   ],
   "source": [
    "#Communes\n",
    "gdf_gem.crs = {'init': 'epsg:21781'}\n",
    "gdf_gem = gdf_gem.to_crs(epsg=4326)\n",
    "gdf_gem.head(2)"
   ]
  },
  {
   "cell_type": "markdown",
   "metadata": {},
   "source": [
    "## Export as Geo-JSON"
   ]
  },
  {
   "cell_type": "code",
   "execution_count": 74,
   "metadata": {
    "collapsed": true
   },
   "outputs": [],
   "source": [
    "#Switzerland\n",
    "geodata_CH = gdf_CH.set_index('id').to_json()\n",
    "with open('web/geojson/geodata_CH.js', 'w') as f:\n",
    "    f.write('var geodata_CH = ' + str(geodata_CH))  "
   ]
  },
  {
   "cell_type": "code",
   "execution_count": 75,
   "metadata": {
    "collapsed": true
   },
   "outputs": [],
   "source": [
    "#Cantons\n",
    "geodata_kant = gdf_kant.set_index('id').to_json()\n",
    "with open('web/geojson/geodata_kant.js', 'w') as f:\n",
    "    f.write('var geodata_kant = ' + str(geodata_kant))  "
   ]
  },
  {
   "cell_type": "code",
   "execution_count": 76,
   "metadata": {
    "collapsed": true
   },
   "outputs": [],
   "source": [
    "#Districts\n",
    "geodata_bez = gdf_bez.set_index('id').to_json()\n",
    "with open('web/geojson/geodata_bez.js', 'w') as f:\n",
    "    f.write('var geodata_bez = ' + str(geodata_bez))  "
   ]
  },
  {
   "cell_type": "code",
   "execution_count": 77,
   "metadata": {
    "collapsed": true
   },
   "outputs": [],
   "source": [
    "#Communes\n",
    "geodata_gem = gdf_gem.set_index('id').to_json()\n",
    "with open('web/geojson/geodata_gem.js', 'w') as f:\n",
    "    f.write('var geodata_gem = ' + str(geodata_gem))  "
   ]
  },
  {
   "cell_type": "markdown",
   "metadata": {
    "collapsed": true
   },
   "source": [
    "## Export the IDs seperately, as CSV"
   ]
  },
  {
   "cell_type": "code",
   "execution_count": 71,
   "metadata": {},
   "outputs": [
    {
     "data": {
      "text/html": [
       "<div>\n",
       "<style>\n",
       "    .dataframe thead tr:only-child th {\n",
       "        text-align: right;\n",
       "    }\n",
       "\n",
       "    .dataframe thead th {\n",
       "        text-align: left;\n",
       "    }\n",
       "\n",
       "    .dataframe tbody tr th {\n",
       "        vertical-align: top;\n",
       "    }\n",
       "</style>\n",
       "<table border=\"1\" class=\"dataframe\">\n",
       "  <thead>\n",
       "    <tr style=\"text-align: right;\">\n",
       "      <th></th>\n",
       "      <th>id</th>\n",
       "      <th>name</th>\n",
       "    </tr>\n",
       "  </thead>\n",
       "  <tbody>\n",
       "    <tr>\n",
       "      <th>0</th>\n",
       "      <td>1</td>\n",
       "      <td>Zürich</td>\n",
       "    </tr>\n",
       "    <tr>\n",
       "      <th>1</th>\n",
       "      <td>2</td>\n",
       "      <td>Bern / Berne</td>\n",
       "    </tr>\n",
       "  </tbody>\n",
       "</table>\n",
       "</div>"
      ],
      "text/plain": [
       "   id          name\n",
       "0   1        Zürich\n",
       "1   2  Bern / Berne"
      ]
     },
     "execution_count": 71,
     "metadata": {},
     "output_type": "execute_result"
    }
   ],
   "source": [
    "#Cantons\n",
    "df_kant_ids = gdf_kant[['id', 'name']]\n",
    "df_kant_ids.to_csv('StructuredData/kant-ids.csv', index=False)\n",
    "df_temp = pd.read_csv('StructuredData/kant-ids.csv')\n",
    "df_temp.head(2)"
   ]
  },
  {
   "cell_type": "code",
   "execution_count": 72,
   "metadata": {},
   "outputs": [
    {
     "data": {
      "text/html": [
       "<div>\n",
       "<style>\n",
       "    .dataframe thead tr:only-child th {\n",
       "        text-align: right;\n",
       "    }\n",
       "\n",
       "    .dataframe thead th {\n",
       "        text-align: left;\n",
       "    }\n",
       "\n",
       "    .dataframe tbody tr th {\n",
       "        vertical-align: top;\n",
       "    }\n",
       "</style>\n",
       "<table border=\"1\" class=\"dataframe\">\n",
       "  <thead>\n",
       "    <tr style=\"text-align: right;\">\n",
       "      <th></th>\n",
       "      <th>id</th>\n",
       "      <th>name</th>\n",
       "    </tr>\n",
       "  </thead>\n",
       "  <tbody>\n",
       "    <tr>\n",
       "      <th>0</th>\n",
       "      <td>101</td>\n",
       "      <td>Bezirk Affoltern</td>\n",
       "    </tr>\n",
       "    <tr>\n",
       "      <th>1</th>\n",
       "      <td>102</td>\n",
       "      <td>Bezirk Andelfingen</td>\n",
       "    </tr>\n",
       "  </tbody>\n",
       "</table>\n",
       "</div>"
      ],
      "text/plain": [
       "    id                name\n",
       "0  101    Bezirk Affoltern\n",
       "1  102  Bezirk Andelfingen"
      ]
     },
     "execution_count": 72,
     "metadata": {},
     "output_type": "execute_result"
    }
   ],
   "source": [
    "#Districts\n",
    "df_bez_ids = gdf_bez[['id', 'name']]\n",
    "df_bez_ids.to_csv('StructuredData/bez-ids.csv', index=False)\n",
    "df_temp = pd.read_csv('StructuredData/bez-ids.csv')\n",
    "df_temp.head(2)"
   ]
  },
  {
   "cell_type": "code",
   "execution_count": 73,
   "metadata": {},
   "outputs": [
    {
     "data": {
      "text/html": [
       "<div>\n",
       "<style>\n",
       "    .dataframe thead tr:only-child th {\n",
       "        text-align: right;\n",
       "    }\n",
       "\n",
       "    .dataframe thead th {\n",
       "        text-align: left;\n",
       "    }\n",
       "\n",
       "    .dataframe tbody tr th {\n",
       "        vertical-align: top;\n",
       "    }\n",
       "</style>\n",
       "<table border=\"1\" class=\"dataframe\">\n",
       "  <thead>\n",
       "    <tr style=\"text-align: right;\">\n",
       "      <th></th>\n",
       "      <th>id</th>\n",
       "      <th>name</th>\n",
       "    </tr>\n",
       "  </thead>\n",
       "  <tbody>\n",
       "    <tr>\n",
       "      <th>0</th>\n",
       "      <td>1</td>\n",
       "      <td>Aeugst am Albis</td>\n",
       "    </tr>\n",
       "    <tr>\n",
       "      <th>1</th>\n",
       "      <td>2</td>\n",
       "      <td>Affoltern am Albis</td>\n",
       "    </tr>\n",
       "  </tbody>\n",
       "</table>\n",
       "</div>"
      ],
      "text/plain": [
       "   id                name\n",
       "0   1     Aeugst am Albis\n",
       "1   2  Affoltern am Albis"
      ]
     },
     "execution_count": 73,
     "metadata": {},
     "output_type": "execute_result"
    }
   ],
   "source": [
    "#Communes\n",
    "df_gem_ids = gdf_gem[['id', 'name']]\n",
    "df_gem_ids.to_csv('StructuredData/gem-ids.csv', index=False)\n",
    "df_temp = pd.read_csv('StructuredData/gem-ids.csv')\n",
    "df_temp.head(2)"
   ]
  }
 ],
 "metadata": {
  "kernelspec": {
   "display_name": "Python 3",
   "language": "python",
   "name": "python3"
  },
  "language_info": {
   "codemirror_mode": {
    "name": "ipython",
    "version": 3
   },
   "file_extension": ".py",
   "mimetype": "text/x-python",
   "name": "python",
   "nbconvert_exporter": "python",
   "pygments_lexer": "ipython3",
   "version": "3.6.1"
  }
 },
 "nbformat": 4,
 "nbformat_minor": 2
}
