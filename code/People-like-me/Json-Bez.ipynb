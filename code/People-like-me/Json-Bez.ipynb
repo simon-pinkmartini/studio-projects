{
 "cells": [
  {
   "cell_type": "code",
   "execution_count": 1,
   "metadata": {
    "collapsed": true
   },
   "outputs": [],
   "source": [
    "import pandas as pd"
   ]
  },
  {
   "cell_type": "code",
   "execution_count": 135,
   "metadata": {
    "collapsed": true
   },
   "outputs": [],
   "source": [
    "pd.set_option(\"display.float_format\", \"{:,.1f}\".format) "
   ]
  },
  {
   "cell_type": "markdown",
   "metadata": {},
   "source": [
    "This file loads sociodemographic data (age, married, household size, ...) from excel/csv form and puts it into a json from that the javascript will be able to understand and work with."
   ]
  },
  {
   "cell_type": "markdown",
   "metadata": {},
   "source": [
    "## Load the IDs and Create Base Dictionary"
   ]
  },
  {
   "cell_type": "markdown",
   "metadata": {},
   "source": [
    "We first get an ID of all the districts that we can represent. Then we make a dictionary with one key for each ID. The entry is an empty dictionary"
   ]
  },
  {
   "cell_type": "code",
   "execution_count": 136,
   "metadata": {
    "collapsed": true
   },
   "outputs": [],
   "source": [
    "df_ids = pd.read_csv('StructuredData/bez-ids.csv')"
   ]
  },
  {
   "cell_type": "code",
   "execution_count": 137,
   "metadata": {},
   "outputs": [
    {
     "data": {
      "text/html": [
       "<div>\n",
       "<style>\n",
       "    .dataframe thead tr:only-child th {\n",
       "        text-align: right;\n",
       "    }\n",
       "\n",
       "    .dataframe thead th {\n",
       "        text-align: left;\n",
       "    }\n",
       "\n",
       "    .dataframe tbody tr th {\n",
       "        vertical-align: top;\n",
       "    }\n",
       "</style>\n",
       "<table border=\"1\" class=\"dataframe\">\n",
       "  <thead>\n",
       "    <tr style=\"text-align: right;\">\n",
       "      <th></th>\n",
       "      <th>id</th>\n",
       "      <th>name</th>\n",
       "    </tr>\n",
       "  </thead>\n",
       "  <tbody>\n",
       "    <tr>\n",
       "      <th>0</th>\n",
       "      <td>101</td>\n",
       "      <td>Bezirk Affoltern</td>\n",
       "    </tr>\n",
       "    <tr>\n",
       "      <th>1</th>\n",
       "      <td>102</td>\n",
       "      <td>Bezirk Andelfingen</td>\n",
       "    </tr>\n",
       "  </tbody>\n",
       "</table>\n",
       "</div>"
      ],
      "text/plain": [
       "    id                name\n",
       "0  101    Bezirk Affoltern\n",
       "1  102  Bezirk Andelfingen"
      ]
     },
     "execution_count": 137,
     "metadata": {},
     "output_type": "execute_result"
    }
   ],
   "source": [
    "df_ids.head(2)"
   ]
  },
  {
   "cell_type": "code",
   "execution_count": 138,
   "metadata": {},
   "outputs": [],
   "source": [
    "data = {}"
   ]
  },
  {
   "cell_type": "code",
   "execution_count": 139,
   "metadata": {},
   "outputs": [],
   "source": [
    "for this_id in df_ids['id']:\n",
    "    data[this_id] = {}    "
   ]
  },
  {
   "cell_type": "markdown",
   "metadata": {},
   "source": [
    "## Load the sociodemographic data and attach to the dictionary"
   ]
  },
  {
   "cell_type": "markdown",
   "metadata": {},
   "source": [
    "### Households"
   ]
  },
  {
   "cell_type": "code",
   "execution_count": 140,
   "metadata": {
    "collapsed": true
   },
   "outputs": [],
   "source": [
    "df_hh = pd.read_csv('StructuredData/bez-Haushaltsgroesse.csv')"
   ]
  },
  {
   "cell_type": "code",
   "execution_count": 141,
   "metadata": {},
   "outputs": [
    {
     "data": {
      "text/html": [
       "<div>\n",
       "<style>\n",
       "    .dataframe thead tr:only-child th {\n",
       "        text-align: right;\n",
       "    }\n",
       "\n",
       "    .dataframe thead th {\n",
       "        text-align: left;\n",
       "    }\n",
       "\n",
       "    .dataframe tbody tr th {\n",
       "        vertical-align: top;\n",
       "    }\n",
       "</style>\n",
       "<table border=\"1\" class=\"dataframe\">\n",
       "  <thead>\n",
       "    <tr style=\"text-align: right;\">\n",
       "      <th></th>\n",
       "      <th>1</th>\n",
       "      <th>2</th>\n",
       "      <th>3</th>\n",
       "      <th>4</th>\n",
       "      <th>5</th>\n",
       "      <th>6+</th>\n",
       "      <th>Bezirk_Name</th>\n",
       "      <th>Bezirk_ID</th>\n",
       "    </tr>\n",
       "  </thead>\n",
       "  <tbody>\n",
       "    <tr>\n",
       "      <th>0</th>\n",
       "      <td>-25.0</td>\n",
       "      <td>3.3</td>\n",
       "      <td>-4.0</td>\n",
       "      <td>16.1</td>\n",
       "      <td>4.4</td>\n",
       "      <td>-8.6</td>\n",
       "      <td>Bezirk Affoltern</td>\n",
       "      <td>101</td>\n",
       "    </tr>\n",
       "    <tr>\n",
       "      <th>1</th>\n",
       "      <td>-25.7</td>\n",
       "      <td>7.4</td>\n",
       "      <td>-5.9</td>\n",
       "      <td>9.1</td>\n",
       "      <td>13.9</td>\n",
       "      <td>-10.0</td>\n",
       "      <td>Bezirk Andelfingen</td>\n",
       "      <td>102</td>\n",
       "    </tr>\n",
       "  </tbody>\n",
       "</table>\n",
       "</div>"
      ],
      "text/plain": [
       "      1   2    3    4    5    6+         Bezirk_Name  Bezirk_ID\n",
       "0 -25.0 3.3 -4.0 16.1  4.4  -8.6    Bezirk Affoltern        101\n",
       "1 -25.7 7.4 -5.9  9.1 13.9 -10.0  Bezirk Andelfingen        102"
      ]
     },
     "execution_count": 141,
     "metadata": {},
     "output_type": "execute_result"
    }
   ],
   "source": [
    "df_hh.head(2)"
   ]
  },
  {
   "cell_type": "code",
   "execution_count": 142,
   "metadata": {},
   "outputs": [],
   "source": [
    "for this_id in data.keys():\n",
    "    tempdict = df_hh[df_hh['Bezirk_ID'] == this_id].round(1).to_dict(orient='records')[0]\n",
    "    tempdict.pop('Bezirk_ID')\n",
    "    tempdict.pop('Bezirk_Name')\n",
    "    data[this_id]['Haushaltsgroesse'] = tempdict"
   ]
  },
  {
   "cell_type": "markdown",
   "metadata": {},
   "source": [
    "### Age"
   ]
  },
  {
   "cell_type": "code",
   "execution_count": 143,
   "metadata": {
    "collapsed": true
   },
   "outputs": [],
   "source": [
    "df_age = pd.read_csv('StructuredData/bez-Alter.csv')"
   ]
  },
  {
   "cell_type": "code",
   "execution_count": 144,
   "metadata": {},
   "outputs": [
    {
     "data": {
      "text/html": [
       "<div>\n",
       "<style>\n",
       "    .dataframe thead tr:only-child th {\n",
       "        text-align: right;\n",
       "    }\n",
       "\n",
       "    .dataframe thead th {\n",
       "        text-align: left;\n",
       "    }\n",
       "\n",
       "    .dataframe tbody tr th {\n",
       "        vertical-align: top;\n",
       "    }\n",
       "</style>\n",
       "<table border=\"1\" class=\"dataframe\">\n",
       "  <thead>\n",
       "    <tr style=\"text-align: right;\">\n",
       "      <th></th>\n",
       "      <th>0</th>\n",
       "      <th>1</th>\n",
       "      <th>2</th>\n",
       "      <th>3</th>\n",
       "      <th>4</th>\n",
       "      <th>5</th>\n",
       "      <th>6</th>\n",
       "      <th>7</th>\n",
       "      <th>8</th>\n",
       "      <th>9</th>\n",
       "      <th>...</th>\n",
       "      <th>93</th>\n",
       "      <th>94</th>\n",
       "      <th>95</th>\n",
       "      <th>96</th>\n",
       "      <th>97</th>\n",
       "      <th>98</th>\n",
       "      <th>99</th>\n",
       "      <th>100</th>\n",
       "      <th>Bezirk_Name</th>\n",
       "      <th>Bezirk_ID</th>\n",
       "    </tr>\n",
       "  </thead>\n",
       "  <tbody>\n",
       "    <tr>\n",
       "      <th>0</th>\n",
       "      <td>-3.6</td>\n",
       "      <td>5.7</td>\n",
       "      <td>6.7</td>\n",
       "      <td>11.2</td>\n",
       "      <td>11.7</td>\n",
       "      <td>13.4</td>\n",
       "      <td>12.5</td>\n",
       "      <td>23.4</td>\n",
       "      <td>5.9</td>\n",
       "      <td>25.2</td>\n",
       "      <td>...</td>\n",
       "      <td>-49.9</td>\n",
       "      <td>-65.5</td>\n",
       "      <td>-57.2</td>\n",
       "      <td>-52.1</td>\n",
       "      <td>-44.7</td>\n",
       "      <td>-76.4</td>\n",
       "      <td>-65.1</td>\n",
       "      <td>-69.0</td>\n",
       "      <td>Bezirk Affoltern</td>\n",
       "      <td>101</td>\n",
       "    </tr>\n",
       "    <tr>\n",
       "      <th>1</th>\n",
       "      <td>-2.5</td>\n",
       "      <td>-11.5</td>\n",
       "      <td>4.6</td>\n",
       "      <td>7.1</td>\n",
       "      <td>5.4</td>\n",
       "      <td>-1.3</td>\n",
       "      <td>16.0</td>\n",
       "      <td>6.7</td>\n",
       "      <td>16.6</td>\n",
       "      <td>16.4</td>\n",
       "      <td>...</td>\n",
       "      <td>-50.4</td>\n",
       "      <td>-38.6</td>\n",
       "      <td>-34.0</td>\n",
       "      <td>-37.7</td>\n",
       "      <td>-47.2</td>\n",
       "      <td>37.9</td>\n",
       "      <td>-12.7</td>\n",
       "      <td>-48.2</td>\n",
       "      <td>Bezirk Andelfingen</td>\n",
       "      <td>102</td>\n",
       "    </tr>\n",
       "  </tbody>\n",
       "</table>\n",
       "<p>2 rows × 103 columns</p>\n",
       "</div>"
      ],
      "text/plain": [
       "     0     1   2    3    4    5    6    7    8    9    ...        93    94  \\\n",
       "0 -3.6   5.7 6.7 11.2 11.7 13.4 12.5 23.4  5.9 25.2    ...     -49.9 -65.5   \n",
       "1 -2.5 -11.5 4.6  7.1  5.4 -1.3 16.0  6.7 16.6 16.4    ...     -50.4 -38.6   \n",
       "\n",
       "     95    96    97    98    99   100         Bezirk_Name  Bezirk_ID  \n",
       "0 -57.2 -52.1 -44.7 -76.4 -65.1 -69.0    Bezirk Affoltern        101  \n",
       "1 -34.0 -37.7 -47.2  37.9 -12.7 -48.2  Bezirk Andelfingen        102  \n",
       "\n",
       "[2 rows x 103 columns]"
      ]
     },
     "execution_count": 144,
     "metadata": {},
     "output_type": "execute_result"
    }
   ],
   "source": [
    "df_age.head(2)"
   ]
  },
  {
   "cell_type": "code",
   "execution_count": 145,
   "metadata": {
    "collapsed": true
   },
   "outputs": [],
   "source": [
    "for this_id in data.keys():\n",
    "    tempdict = df_age[df_age['Bezirk_ID'] == this_id].round(1).to_dict(orient='records')[0]\n",
    "    tempdict.pop('Bezirk_ID')\n",
    "    tempdict.pop('Bezirk_Name')\n",
    "    data[this_id]['Alter'] = tempdict"
   ]
  },
  {
   "cell_type": "markdown",
   "metadata": {},
   "source": [
    "### Marital Status"
   ]
  },
  {
   "cell_type": "code",
   "execution_count": 146,
   "metadata": {},
   "outputs": [],
   "source": [
    "df_ziv = pd.read_csv('StructuredData/bez-Zivilstand.csv')"
   ]
  },
  {
   "cell_type": "code",
   "execution_count": 147,
   "metadata": {},
   "outputs": [
    {
     "data": {
      "text/html": [
       "<div>\n",
       "<style>\n",
       "    .dataframe thead tr:only-child th {\n",
       "        text-align: right;\n",
       "    }\n",
       "\n",
       "    .dataframe thead th {\n",
       "        text-align: left;\n",
       "    }\n",
       "\n",
       "    .dataframe tbody tr th {\n",
       "        vertical-align: top;\n",
       "    }\n",
       "</style>\n",
       "<table border=\"1\" class=\"dataframe\">\n",
       "  <thead>\n",
       "    <tr style=\"text-align: right;\">\n",
       "      <th></th>\n",
       "      <th>Ledig</th>\n",
       "      <th>Verheiratet</th>\n",
       "      <th>Geschieden</th>\n",
       "      <th>Wervitwet</th>\n",
       "      <th>Bezirk_Name</th>\n",
       "      <th>Bezirk_ID</th>\n",
       "    </tr>\n",
       "  </thead>\n",
       "  <tbody>\n",
       "    <tr>\n",
       "      <th>0</th>\n",
       "      <td>-5.3</td>\n",
       "      <td>1.6</td>\n",
       "      <td>3.5</td>\n",
       "      <td>27.5</td>\n",
       "      <td>Arrondissement administratif Jura bernois</td>\n",
       "      <td>241</td>\n",
       "    </tr>\n",
       "    <tr>\n",
       "      <th>1</th>\n",
       "      <td>-0.3</td>\n",
       "      <td>1.2</td>\n",
       "      <td>-6.1</td>\n",
       "      <td>2.8</td>\n",
       "      <td>Bezirk Aarau</td>\n",
       "      <td>1901</td>\n",
       "    </tr>\n",
       "  </tbody>\n",
       "</table>\n",
       "</div>"
      ],
      "text/plain": [
       "   Ledig  Verheiratet  Geschieden  Wervitwet  \\\n",
       "0   -5.3          1.6         3.5       27.5   \n",
       "1   -0.3          1.2        -6.1        2.8   \n",
       "\n",
       "                                 Bezirk_Name  Bezirk_ID  \n",
       "0  Arrondissement administratif Jura bernois        241  \n",
       "1                               Bezirk Aarau       1901  "
      ]
     },
     "execution_count": 147,
     "metadata": {},
     "output_type": "execute_result"
    }
   ],
   "source": [
    "df_ziv.head(2)"
   ]
  },
  {
   "cell_type": "code",
   "execution_count": 148,
   "metadata": {
    "collapsed": true
   },
   "outputs": [],
   "source": [
    "for this_id in data.keys():\n",
    "    tempdict = df_ziv[df_ziv['Bezirk_ID'] == this_id].round(1).to_dict(orient='records')[0]\n",
    "    tempdict.pop('Bezirk_ID')\n",
    "    tempdict.pop('Bezirk_Name')\n",
    "    data[this_id]['Zivilstand'] = tempdict"
   ]
  },
  {
   "cell_type": "markdown",
   "metadata": {},
   "source": [
    "## Export to JSON"
   ]
  },
  {
   "cell_type": "code",
   "execution_count": 149,
   "metadata": {},
   "outputs": [],
   "source": [
    "with open('web/json/data_bez.js', 'w') as f:\n",
    "    f.write('var data = ' + str(data))"
   ]
  },
  {
   "cell_type": "code",
   "execution_count": null,
   "metadata": {
    "collapsed": true
   },
   "outputs": [],
   "source": []
  }
 ],
 "metadata": {
  "kernelspec": {
   "display_name": "Python 3",
   "language": "python",
   "name": "python3"
  },
  "language_info": {
   "codemirror_mode": {
    "name": "ipython",
    "version": 3
   },
   "file_extension": ".py",
   "mimetype": "text/x-python",
   "name": "python",
   "nbconvert_exporter": "python",
   "pygments_lexer": "ipython3",
   "version": "3.6.1"
  }
 },
 "nbformat": 4,
 "nbformat_minor": 2
}
