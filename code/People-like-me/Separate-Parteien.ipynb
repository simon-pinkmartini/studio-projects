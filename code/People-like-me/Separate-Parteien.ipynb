{
 "cells": [
  {
   "cell_type": "code",
   "execution_count": 2,
   "metadata": {
    "collapsed": true
   },
   "outputs": [],
   "source": [
    "import pandas as pd"
   ]
  },
  {
   "cell_type": "code",
   "execution_count": 3,
   "metadata": {
    "collapsed": true
   },
   "outputs": [],
   "source": [
    "%matplotlib inline"
   ]
  },
  {
   "cell_type": "markdown",
   "metadata": {},
   "source": [
    "## Read data and separate Switzerland, Cantons, Districts, Communes"
   ]
  },
  {
   "cell_type": "markdown",
   "metadata": {},
   "source": [
    "### Load the Excel with all the data in it"
   ]
  },
  {
   "cell_type": "code",
   "execution_count": 15,
   "metadata": {},
   "outputs": [],
   "source": [
    "df = pd.read_excel('ReadinData/px-x-0102010000_103 - Parteien.xlsx', sheetname='relrel')"
   ]
  },
  {
   "cell_type": "code",
   "execution_count": 16,
   "metadata": {},
   "outputs": [
    {
     "data": {
      "text/html": [
       "<div>\n",
       "<style>\n",
       "    .dataframe thead tr:only-child th {\n",
       "        text-align: right;\n",
       "    }\n",
       "\n",
       "    .dataframe thead th {\n",
       "        text-align: left;\n",
       "    }\n",
       "\n",
       "    .dataframe tbody tr th {\n",
       "        vertical-align: top;\n",
       "    }\n",
       "</style>\n",
       "<table border=\"1\" class=\"dataframe\">\n",
       "  <thead>\n",
       "    <tr style=\"text-align: right;\">\n",
       "      <th></th>\n",
       "      <th>Nummer</th>\n",
       "      <th>Einheit</th>\n",
       "      <th>BDP</th>\n",
       "      <th>CVP</th>\n",
       "      <th>EDU</th>\n",
       "      <th>EVP</th>\n",
       "      <th>FDP</th>\n",
       "      <th>GLP</th>\n",
       "      <th>Grüne</th>\n",
       "      <th>SP</th>\n",
       "      <th>SVP</th>\n",
       "      <th>Übrige</th>\n",
       "    </tr>\n",
       "  </thead>\n",
       "  <tbody>\n",
       "    <tr>\n",
       "      <th>0</th>\n",
       "      <td>8100</td>\n",
       "      <td>Schweiz</td>\n",
       "      <td>0.000000</td>\n",
       "      <td>0.000000</td>\n",
       "      <td>0.000000</td>\n",
       "      <td>0.000000</td>\n",
       "      <td>0.000000</td>\n",
       "      <td>0.00000</td>\n",
       "      <td>0.000000</td>\n",
       "      <td>0.000000</td>\n",
       "      <td>0.000000</td>\n",
       "      <td>0.000000</td>\n",
       "    </tr>\n",
       "    <tr>\n",
       "      <th>1</th>\n",
       "      <td>4551</td>\n",
       "      <td>...... Aadorf</td>\n",
       "      <td>-17.504673</td>\n",
       "      <td>72.846195</td>\n",
       "      <td>111.243296</td>\n",
       "      <td>8.748266</td>\n",
       "      <td>-38.426064</td>\n",
       "      <td>25.40505</td>\n",
       "      <td>-26.529719</td>\n",
       "      <td>-44.767115</td>\n",
       "      <td>36.936559</td>\n",
       "      <td>-96.692709</td>\n",
       "    </tr>\n",
       "  </tbody>\n",
       "</table>\n",
       "</div>"
      ],
      "text/plain": [
       "   Nummer        Einheit        BDP        CVP         EDU       EVP  \\\n",
       "0    8100        Schweiz   0.000000   0.000000    0.000000  0.000000   \n",
       "1    4551  ...... Aadorf -17.504673  72.846195  111.243296  8.748266   \n",
       "\n",
       "         FDP       GLP      Grüne         SP        SVP     Übrige  \n",
       "0   0.000000   0.00000   0.000000   0.000000   0.000000   0.000000  \n",
       "1 -38.426064  25.40505 -26.529719 -44.767115  36.936559 -96.692709  "
      ]
     },
     "execution_count": 16,
     "metadata": {},
     "output_type": "execute_result"
    }
   ],
   "source": [
    "df.head(2)"
   ]
  },
  {
   "cell_type": "code",
   "execution_count": 17,
   "metadata": {
    "collapsed": true
   },
   "outputs": [],
   "source": [
    "#Make sure we don't have any NaN in there\n",
    "df = df[df['Einheit'].notnull()]"
   ]
  },
  {
   "cell_type": "markdown",
   "metadata": {},
   "source": [
    "### Load some helper files"
   ]
  },
  {
   "cell_type": "code",
   "execution_count": 18,
   "metadata": {},
   "outputs": [
    {
     "data": {
      "text/html": [
       "<div>\n",
       "<style>\n",
       "    .dataframe thead tr:only-child th {\n",
       "        text-align: right;\n",
       "    }\n",
       "\n",
       "    .dataframe thead th {\n",
       "        text-align: left;\n",
       "    }\n",
       "\n",
       "    .dataframe tbody tr th {\n",
       "        vertical-align: top;\n",
       "    }\n",
       "</style>\n",
       "<table border=\"1\" class=\"dataframe\">\n",
       "  <thead>\n",
       "    <tr style=\"text-align: right;\">\n",
       "      <th></th>\n",
       "      <th>Kanton_ABK</th>\n",
       "      <th>Kanton_ID</th>\n",
       "      <th>Kanton_Name</th>\n",
       "      <th>Kanton_Name2</th>\n",
       "    </tr>\n",
       "  </thead>\n",
       "  <tbody>\n",
       "    <tr>\n",
       "      <th>0</th>\n",
       "      <td>ZH</td>\n",
       "      <td>1</td>\n",
       "      <td>Zürich</td>\n",
       "      <td>Zürich</td>\n",
       "    </tr>\n",
       "    <tr>\n",
       "      <th>1</th>\n",
       "      <td>BE</td>\n",
       "      <td>2</td>\n",
       "      <td>Bern</td>\n",
       "      <td>Bern / Berne</td>\n",
       "    </tr>\n",
       "  </tbody>\n",
       "</table>\n",
       "</div>"
      ],
      "text/plain": [
       "  Kanton_ABK  Kanton_ID Kanton_Name  Kanton_Name2\n",
       "0         ZH          1      Zürich        Zürich\n",
       "1         BE          2        Bern  Bern / Berne"
      ]
     },
     "execution_count": 18,
     "metadata": {},
     "output_type": "execute_result"
    }
   ],
   "source": [
    "#Load the numbers and abbreviations file for the cantons\n",
    "df_kant_ids = pd.read_csv('HelperData/Kantone-ABK-ID.csv')\n",
    "df_kant_ids.head(2)"
   ]
  },
  {
   "cell_type": "code",
   "execution_count": 19,
   "metadata": {},
   "outputs": [
    {
     "data": {
      "text/html": [
       "<div>\n",
       "<style>\n",
       "    .dataframe thead tr:only-child th {\n",
       "        text-align: right;\n",
       "    }\n",
       "\n",
       "    .dataframe thead th {\n",
       "        text-align: left;\n",
       "    }\n",
       "\n",
       "    .dataframe tbody tr th {\n",
       "        vertical-align: top;\n",
       "    }\n",
       "</style>\n",
       "<table border=\"1\" class=\"dataframe\">\n",
       "  <thead>\n",
       "    <tr style=\"text-align: right;\">\n",
       "      <th></th>\n",
       "      <th>Hist.-Nummer</th>\n",
       "      <th>Kanton</th>\n",
       "      <th>Bezirksnummer</th>\n",
       "      <th>Bezirksname</th>\n",
       "      <th>BFS Gde-nummer</th>\n",
       "      <th>Gemeindename</th>\n",
       "      <th>Datum der Aufnahme</th>\n",
       "    </tr>\n",
       "  </thead>\n",
       "  <tbody>\n",
       "    <tr>\n",
       "      <th>0</th>\n",
       "      <td>13256</td>\n",
       "      <td>ZH</td>\n",
       "      <td>101</td>\n",
       "      <td>Affoltern</td>\n",
       "      <td>1</td>\n",
       "      <td>Aeugst am Albis</td>\n",
       "      <td>1976-11-15</td>\n",
       "    </tr>\n",
       "    <tr>\n",
       "      <th>1</th>\n",
       "      <td>11742</td>\n",
       "      <td>ZH</td>\n",
       "      <td>101</td>\n",
       "      <td>Affoltern</td>\n",
       "      <td>2</td>\n",
       "      <td>Affoltern am Albis</td>\n",
       "      <td>1960-01-01</td>\n",
       "    </tr>\n",
       "  </tbody>\n",
       "</table>\n",
       "</div>"
      ],
      "text/plain": [
       "   Hist.-Nummer Kanton  Bezirksnummer Bezirksname  BFS Gde-nummer  \\\n",
       "0         13256     ZH            101   Affoltern               1   \n",
       "1         11742     ZH            101   Affoltern               2   \n",
       "\n",
       "         Gemeindename Datum der Aufnahme  \n",
       "0     Aeugst am Albis         1976-11-15  \n",
       "1  Affoltern am Albis         1960-01-01  "
      ]
     },
     "execution_count": 19,
     "metadata": {},
     "output_type": "execute_result"
    }
   ],
   "source": [
    "#Load the canton/district infos for the communes\n",
    "df_gem_ids = pd.read_excel('HelperData/Gemeindestand-2015.xls')\n",
    "df_gem_ids.head(2)"
   ]
  },
  {
   "cell_type": "code",
   "execution_count": 20,
   "metadata": {},
   "outputs": [
    {
     "data": {
      "text/html": [
       "<div>\n",
       "<style>\n",
       "    .dataframe thead tr:only-child th {\n",
       "        text-align: right;\n",
       "    }\n",
       "\n",
       "    .dataframe thead th {\n",
       "        text-align: left;\n",
       "    }\n",
       "\n",
       "    .dataframe tbody tr th {\n",
       "        vertical-align: top;\n",
       "    }\n",
       "</style>\n",
       "<table border=\"1\" class=\"dataframe\">\n",
       "  <thead>\n",
       "    <tr style=\"text-align: right;\">\n",
       "      <th></th>\n",
       "      <th>Kanton_ABK</th>\n",
       "      <th>Bezirk_ID</th>\n",
       "      <th>Bezirk_Name</th>\n",
       "      <th>Gemeinde_ID</th>\n",
       "    </tr>\n",
       "  </thead>\n",
       "  <tbody>\n",
       "    <tr>\n",
       "      <th>0</th>\n",
       "      <td>ZH</td>\n",
       "      <td>101</td>\n",
       "      <td>Affoltern</td>\n",
       "      <td>1</td>\n",
       "    </tr>\n",
       "    <tr>\n",
       "      <th>1</th>\n",
       "      <td>ZH</td>\n",
       "      <td>101</td>\n",
       "      <td>Affoltern</td>\n",
       "      <td>2</td>\n",
       "    </tr>\n",
       "  </tbody>\n",
       "</table>\n",
       "</div>"
      ],
      "text/plain": [
       "  Kanton_ABK  Bezirk_ID Bezirk_Name  Gemeinde_ID\n",
       "0         ZH        101   Affoltern            1\n",
       "1         ZH        101   Affoltern            2"
      ]
     },
     "execution_count": 20,
     "metadata": {},
     "output_type": "execute_result"
    }
   ],
   "source": [
    "df_gem_ids.pop('Hist.-Nummer')\n",
    "df_gem_ids.pop('Gemeindename')\n",
    "df_gem_ids.pop('Datum der Aufnahme')\n",
    "df_gem_ids.rename(columns={'Bezirksnummer': 'Bezirk_ID', 'Bezirksname': 'Bezirk_Name', 'BFS Gde-nummer': 'Gemeinde_ID', 'Kanton': 'Kanton_ABK'}, inplace=True)\n",
    "df_gem_ids.head(2)"
   ]
  },
  {
   "cell_type": "code",
   "execution_count": 21,
   "metadata": {},
   "outputs": [
    {
     "data": {
      "text/html": [
       "<div>\n",
       "<style>\n",
       "    .dataframe thead tr:only-child th {\n",
       "        text-align: right;\n",
       "    }\n",
       "\n",
       "    .dataframe thead th {\n",
       "        text-align: left;\n",
       "    }\n",
       "\n",
       "    .dataframe tbody tr th {\n",
       "        vertical-align: top;\n",
       "    }\n",
       "</style>\n",
       "<table border=\"1\" class=\"dataframe\">\n",
       "  <thead>\n",
       "    <tr style=\"text-align: right;\">\n",
       "      <th></th>\n",
       "      <th>Kanton_ABK</th>\n",
       "      <th>Bezirk_ID</th>\n",
       "      <th>Bezirk_Name</th>\n",
       "    </tr>\n",
       "  </thead>\n",
       "  <tbody>\n",
       "    <tr>\n",
       "      <th>0</th>\n",
       "      <td>ZH</td>\n",
       "      <td>101</td>\n",
       "      <td>Affoltern</td>\n",
       "    </tr>\n",
       "    <tr>\n",
       "      <th>14</th>\n",
       "      <td>ZH</td>\n",
       "      <td>102</td>\n",
       "      <td>Andelfingen</td>\n",
       "    </tr>\n",
       "  </tbody>\n",
       "</table>\n",
       "</div>"
      ],
      "text/plain": [
       "   Kanton_ABK  Bezirk_ID  Bezirk_Name\n",
       "0          ZH        101    Affoltern\n",
       "14         ZH        102  Andelfingen"
      ]
     },
     "execution_count": 21,
     "metadata": {},
     "output_type": "execute_result"
    }
   ],
   "source": [
    "#Construct a set of district ids\n",
    "df_bez_ids = df_gem_ids.drop_duplicates(subset='Bezirk_ID')\n",
    "df_bez_ids.pop('Gemeinde_ID')\n",
    "df_bez_ids.head(2)"
   ]
  },
  {
   "cell_type": "markdown",
   "metadata": {},
   "source": [
    "## Get a dataframe for each geopraphic level"
   ]
  },
  {
   "cell_type": "markdown",
   "metadata": {},
   "source": [
    "### Separate Switzerland"
   ]
  },
  {
   "cell_type": "code",
   "execution_count": 22,
   "metadata": {},
   "outputs": [
    {
     "data": {
      "text/html": [
       "<div>\n",
       "<style>\n",
       "    .dataframe thead tr:only-child th {\n",
       "        text-align: right;\n",
       "    }\n",
       "\n",
       "    .dataframe thead th {\n",
       "        text-align: left;\n",
       "    }\n",
       "\n",
       "    .dataframe tbody tr th {\n",
       "        vertical-align: top;\n",
       "    }\n",
       "</style>\n",
       "<table border=\"1\" class=\"dataframe\">\n",
       "  <thead>\n",
       "    <tr style=\"text-align: right;\">\n",
       "      <th></th>\n",
       "      <th>BDP</th>\n",
       "      <th>CVP</th>\n",
       "      <th>EDU</th>\n",
       "      <th>EVP</th>\n",
       "      <th>FDP</th>\n",
       "      <th>GLP</th>\n",
       "      <th>Grüne</th>\n",
       "      <th>SP</th>\n",
       "      <th>SVP</th>\n",
       "      <th>Übrige</th>\n",
       "    </tr>\n",
       "  </thead>\n",
       "  <tbody>\n",
       "    <tr>\n",
       "      <th>0</th>\n",
       "      <td>0.0</td>\n",
       "      <td>0.0</td>\n",
       "      <td>0.0</td>\n",
       "      <td>0.0</td>\n",
       "      <td>0.0</td>\n",
       "      <td>0.0</td>\n",
       "      <td>0.0</td>\n",
       "      <td>0.0</td>\n",
       "      <td>0.0</td>\n",
       "      <td>0.0</td>\n",
       "    </tr>\n",
       "  </tbody>\n",
       "</table>\n",
       "</div>"
      ],
      "text/plain": [
       "   BDP  CVP  EDU  EVP  FDP  GLP  Grüne   SP  SVP  Übrige\n",
       "0  0.0  0.0  0.0  0.0  0.0  0.0    0.0  0.0  0.0     0.0"
      ]
     },
     "execution_count": 22,
     "metadata": {},
     "output_type": "execute_result"
    }
   ],
   "source": [
    "#Switzerland\n",
    "df_ch = df[df['Einheit'] == 'Schweiz']\n",
    "df_ch.pop('Einheit')\n",
    "df_ch.pop('Nummer')\n",
    "df_ch.head(2)"
   ]
  },
  {
   "cell_type": "code",
   "execution_count": 12,
   "metadata": {},
   "outputs": [
    {
     "data": {
      "text/plain": [
       "(1, 10)"
      ]
     },
     "execution_count": 12,
     "metadata": {},
     "output_type": "execute_result"
    }
   ],
   "source": [
    "df_ch.shape"
   ]
  },
  {
   "cell_type": "markdown",
   "metadata": {},
   "source": [
    "### Separate the cantons"
   ]
  },
  {
   "cell_type": "code",
   "execution_count": 13,
   "metadata": {},
   "outputs": [
    {
     "ename": "ValueError",
     "evalue": "Cannot set a frame with no defined index and a value that cannot be converted to a Series",
     "output_type": "error",
     "traceback": [
      "\u001b[0;31m---------------------------------------------------------------------------\u001b[0m",
      "\u001b[0;31mValueError\u001b[0m                                Traceback (most recent call last)",
      "\u001b[0;32m/usr/local/lib/python3.6/site-packages/pandas/core/common.py\u001b[0m in \u001b[0;36m_asarray_tuplesafe\u001b[0;34m(values, dtype)\u001b[0m\n\u001b[1;32m    376\u001b[0m                 \u001b[0mresult\u001b[0m \u001b[0;34m=\u001b[0m \u001b[0mnp\u001b[0m\u001b[0;34m.\u001b[0m\u001b[0mempty\u001b[0m\u001b[0;34m(\u001b[0m\u001b[0mlen\u001b[0m\u001b[0;34m(\u001b[0m\u001b[0mvalues\u001b[0m\u001b[0;34m)\u001b[0m\u001b[0;34m,\u001b[0m \u001b[0mdtype\u001b[0m\u001b[0;34m=\u001b[0m\u001b[0mobject\u001b[0m\u001b[0;34m)\u001b[0m\u001b[0;34m\u001b[0m\u001b[0m\n\u001b[0;32m--> 377\u001b[0;31m                 \u001b[0mresult\u001b[0m\u001b[0;34m[\u001b[0m\u001b[0;34m:\u001b[0m\u001b[0;34m]\u001b[0m \u001b[0;34m=\u001b[0m \u001b[0mvalues\u001b[0m\u001b[0;34m\u001b[0m\u001b[0m\n\u001b[0m\u001b[1;32m    378\u001b[0m             \u001b[0;32mexcept\u001b[0m \u001b[0mValueError\u001b[0m\u001b[0;34m:\u001b[0m\u001b[0;34m\u001b[0m\u001b[0m\n",
      "\u001b[0;31mValueError\u001b[0m: could not broadcast input array from shape (0,1) into shape (0)",
      "\nDuring handling of the above exception, another exception occurred:\n",
      "\u001b[0;31mTypeError\u001b[0m                                 Traceback (most recent call last)",
      "\u001b[0;32m/usr/local/lib/python3.6/site-packages/pandas/core/frame.py\u001b[0m in \u001b[0;36m_ensure_valid_index\u001b[0;34m(self, value)\u001b[0m\n\u001b[1;32m   2375\u001b[0m             \u001b[0;32mtry\u001b[0m\u001b[0;34m:\u001b[0m\u001b[0;34m\u001b[0m\u001b[0m\n\u001b[0;32m-> 2376\u001b[0;31m                 \u001b[0mvalue\u001b[0m \u001b[0;34m=\u001b[0m \u001b[0mSeries\u001b[0m\u001b[0;34m(\u001b[0m\u001b[0mvalue\u001b[0m\u001b[0;34m)\u001b[0m\u001b[0;34m\u001b[0m\u001b[0m\n\u001b[0m\u001b[1;32m   2377\u001b[0m             \u001b[0;32mexcept\u001b[0m\u001b[0;34m:\u001b[0m\u001b[0;34m\u001b[0m\u001b[0m\n",
      "\u001b[0;32m/usr/local/lib/python3.6/site-packages/pandas/core/series.py\u001b[0m in \u001b[0;36m__init__\u001b[0;34m(self, data, index, dtype, name, copy, fastpath)\u001b[0m\n\u001b[1;32m    247\u001b[0m                 data = _sanitize_array(data, index, dtype, copy,\n\u001b[0;32m--> 248\u001b[0;31m                                        raise_cast_failure=True)\n\u001b[0m\u001b[1;32m    249\u001b[0m \u001b[0;34m\u001b[0m\u001b[0m\n",
      "\u001b[0;32m/usr/local/lib/python3.6/site-packages/pandas/core/series.py\u001b[0m in \u001b[0;36m_sanitize_array\u001b[0;34m(data, index, dtype, copy, raise_cast_failure)\u001b[0m\n\u001b[1;32m   3028\u001b[0m         \u001b[0;32melse\u001b[0m\u001b[0;34m:\u001b[0m\u001b[0;34m\u001b[0m\u001b[0m\n\u001b[0;32m-> 3029\u001b[0;31m             \u001b[0msubarr\u001b[0m \u001b[0;34m=\u001b[0m \u001b[0m_asarray_tuplesafe\u001b[0m\u001b[0;34m(\u001b[0m\u001b[0mdata\u001b[0m\u001b[0;34m,\u001b[0m \u001b[0mdtype\u001b[0m\u001b[0;34m=\u001b[0m\u001b[0mdtype\u001b[0m\u001b[0;34m)\u001b[0m\u001b[0;34m\u001b[0m\u001b[0m\n\u001b[0m\u001b[1;32m   3030\u001b[0m \u001b[0;34m\u001b[0m\u001b[0m\n",
      "\u001b[0;32m/usr/local/lib/python3.6/site-packages/pandas/core/common.py\u001b[0m in \u001b[0;36m_asarray_tuplesafe\u001b[0;34m(values, dtype)\u001b[0m\n\u001b[1;32m    379\u001b[0m                 \u001b[0;31m# we have a list-of-list\u001b[0m\u001b[0;34m\u001b[0m\u001b[0;34m\u001b[0m\u001b[0m\n\u001b[0;32m--> 380\u001b[0;31m                 \u001b[0mresult\u001b[0m\u001b[0;34m[\u001b[0m\u001b[0;34m:\u001b[0m\u001b[0;34m]\u001b[0m \u001b[0;34m=\u001b[0m \u001b[0;34m[\u001b[0m\u001b[0mtuple\u001b[0m\u001b[0;34m(\u001b[0m\u001b[0mx\u001b[0m\u001b[0;34m)\u001b[0m \u001b[0;32mfor\u001b[0m \u001b[0mx\u001b[0m \u001b[0;32min\u001b[0m \u001b[0mvalues\u001b[0m\u001b[0;34m]\u001b[0m\u001b[0;34m\u001b[0m\u001b[0m\n\u001b[0m\u001b[1;32m    381\u001b[0m \u001b[0;34m\u001b[0m\u001b[0m\n",
      "\u001b[0;32m/usr/local/lib/python3.6/site-packages/pandas/core/common.py\u001b[0m in \u001b[0;36m<listcomp>\u001b[0;34m(.0)\u001b[0m\n\u001b[1;32m    379\u001b[0m                 \u001b[0;31m# we have a list-of-list\u001b[0m\u001b[0;34m\u001b[0m\u001b[0;34m\u001b[0m\u001b[0m\n\u001b[0;32m--> 380\u001b[0;31m                 \u001b[0mresult\u001b[0m\u001b[0;34m[\u001b[0m\u001b[0;34m:\u001b[0m\u001b[0;34m]\u001b[0m \u001b[0;34m=\u001b[0m \u001b[0;34m[\u001b[0m\u001b[0mtuple\u001b[0m\u001b[0;34m(\u001b[0m\u001b[0mx\u001b[0m\u001b[0;34m)\u001b[0m \u001b[0;32mfor\u001b[0m \u001b[0mx\u001b[0m \u001b[0;32min\u001b[0m \u001b[0mvalues\u001b[0m\u001b[0;34m]\u001b[0m\u001b[0;34m\u001b[0m\u001b[0m\n\u001b[0m\u001b[1;32m    381\u001b[0m \u001b[0;34m\u001b[0m\u001b[0m\n",
      "\u001b[0;31mTypeError\u001b[0m: 'numpy.int64' object is not iterable",
      "\nDuring handling of the above exception, another exception occurred:\n",
      "\u001b[0;31mValueError\u001b[0m                                Traceback (most recent call last)",
      "\u001b[0;32m<ipython-input-13-135c6d4ffa5d>\u001b[0m in \u001b[0;36m<module>\u001b[0;34m()\u001b[0m\n\u001b[1;32m      1\u001b[0m \u001b[0;31m#Cantons - there should be 26 of them\u001b[0m\u001b[0;34m\u001b[0m\u001b[0;34m\u001b[0m\u001b[0m\n\u001b[1;32m      2\u001b[0m \u001b[0mdf_kant\u001b[0m \u001b[0;34m=\u001b[0m \u001b[0mdf\u001b[0m\u001b[0;34m[\u001b[0m\u001b[0mdf\u001b[0m\u001b[0;34m[\u001b[0m\u001b[0;34m'Einheit'\u001b[0m\u001b[0;34m]\u001b[0m\u001b[0;34m.\u001b[0m\u001b[0mstr\u001b[0m\u001b[0;34m.\u001b[0m\u001b[0mcontains\u001b[0m\u001b[0;34m(\u001b[0m\u001b[0;34m'^- '\u001b[0m\u001b[0;34m)\u001b[0m\u001b[0;34m]\u001b[0m\u001b[0;34m\u001b[0m\u001b[0m\n\u001b[0;32m----> 3\u001b[0;31m \u001b[0mdf_kant\u001b[0m\u001b[0;34m[\u001b[0m\u001b[0;34m'Kanton_Name'\u001b[0m\u001b[0;34m]\u001b[0m \u001b[0;34m=\u001b[0m \u001b[0mdf_kant\u001b[0m\u001b[0;34m[\u001b[0m\u001b[0;34m'Einheit'\u001b[0m\u001b[0;34m]\u001b[0m\u001b[0;34m.\u001b[0m\u001b[0mstr\u001b[0m\u001b[0;34m.\u001b[0m\u001b[0mextract\u001b[0m\u001b[0;34m(\u001b[0m\u001b[0;34m'^- (.*)'\u001b[0m\u001b[0;34m,\u001b[0m \u001b[0mexpand\u001b[0m\u001b[0;34m=\u001b[0m\u001b[0;32mTrue\u001b[0m\u001b[0;34m)\u001b[0m\u001b[0;34m\u001b[0m\u001b[0m\n\u001b[0m\u001b[1;32m      4\u001b[0m \u001b[0mdf_kant\u001b[0m\u001b[0;34m.\u001b[0m\u001b[0mhead\u001b[0m\u001b[0;34m(\u001b[0m\u001b[0;36m2\u001b[0m\u001b[0;34m)\u001b[0m\u001b[0;34m\u001b[0m\u001b[0m\n",
      "\u001b[0;32m/usr/local/lib/python3.6/site-packages/pandas/core/frame.py\u001b[0m in \u001b[0;36m__setitem__\u001b[0;34m(self, key, value)\u001b[0m\n\u001b[1;32m   2329\u001b[0m         \u001b[0;32melse\u001b[0m\u001b[0;34m:\u001b[0m\u001b[0;34m\u001b[0m\u001b[0m\n\u001b[1;32m   2330\u001b[0m             \u001b[0;31m# set column\u001b[0m\u001b[0;34m\u001b[0m\u001b[0;34m\u001b[0m\u001b[0m\n\u001b[0;32m-> 2331\u001b[0;31m             \u001b[0mself\u001b[0m\u001b[0;34m.\u001b[0m\u001b[0m_set_item\u001b[0m\u001b[0;34m(\u001b[0m\u001b[0mkey\u001b[0m\u001b[0;34m,\u001b[0m \u001b[0mvalue\u001b[0m\u001b[0;34m)\u001b[0m\u001b[0;34m\u001b[0m\u001b[0m\n\u001b[0m\u001b[1;32m   2332\u001b[0m \u001b[0;34m\u001b[0m\u001b[0m\n\u001b[1;32m   2333\u001b[0m     \u001b[0;32mdef\u001b[0m \u001b[0m_setitem_slice\u001b[0m\u001b[0;34m(\u001b[0m\u001b[0mself\u001b[0m\u001b[0;34m,\u001b[0m \u001b[0mkey\u001b[0m\u001b[0;34m,\u001b[0m \u001b[0mvalue\u001b[0m\u001b[0;34m)\u001b[0m\u001b[0;34m:\u001b[0m\u001b[0;34m\u001b[0m\u001b[0m\n",
      "\u001b[0;32m/usr/local/lib/python3.6/site-packages/pandas/core/frame.py\u001b[0m in \u001b[0;36m_set_item\u001b[0;34m(self, key, value)\u001b[0m\n\u001b[1;32m   2394\u001b[0m         \"\"\"\n\u001b[1;32m   2395\u001b[0m \u001b[0;34m\u001b[0m\u001b[0m\n\u001b[0;32m-> 2396\u001b[0;31m         \u001b[0mself\u001b[0m\u001b[0;34m.\u001b[0m\u001b[0m_ensure_valid_index\u001b[0m\u001b[0;34m(\u001b[0m\u001b[0mvalue\u001b[0m\u001b[0;34m)\u001b[0m\u001b[0;34m\u001b[0m\u001b[0m\n\u001b[0m\u001b[1;32m   2397\u001b[0m         \u001b[0mvalue\u001b[0m \u001b[0;34m=\u001b[0m \u001b[0mself\u001b[0m\u001b[0;34m.\u001b[0m\u001b[0m_sanitize_column\u001b[0m\u001b[0;34m(\u001b[0m\u001b[0mkey\u001b[0m\u001b[0;34m,\u001b[0m \u001b[0mvalue\u001b[0m\u001b[0;34m)\u001b[0m\u001b[0;34m\u001b[0m\u001b[0m\n\u001b[1;32m   2398\u001b[0m         \u001b[0mNDFrame\u001b[0m\u001b[0;34m.\u001b[0m\u001b[0m_set_item\u001b[0m\u001b[0;34m(\u001b[0m\u001b[0mself\u001b[0m\u001b[0;34m,\u001b[0m \u001b[0mkey\u001b[0m\u001b[0;34m,\u001b[0m \u001b[0mvalue\u001b[0m\u001b[0;34m)\u001b[0m\u001b[0;34m\u001b[0m\u001b[0m\n",
      "\u001b[0;32m/usr/local/lib/python3.6/site-packages/pandas/core/frame.py\u001b[0m in \u001b[0;36m_ensure_valid_index\u001b[0;34m(self, value)\u001b[0m\n\u001b[1;32m   2376\u001b[0m                 \u001b[0mvalue\u001b[0m \u001b[0;34m=\u001b[0m \u001b[0mSeries\u001b[0m\u001b[0;34m(\u001b[0m\u001b[0mvalue\u001b[0m\u001b[0;34m)\u001b[0m\u001b[0;34m\u001b[0m\u001b[0m\n\u001b[1;32m   2377\u001b[0m             \u001b[0;32mexcept\u001b[0m\u001b[0;34m:\u001b[0m\u001b[0;34m\u001b[0m\u001b[0m\n\u001b[0;32m-> 2378\u001b[0;31m                 raise ValueError('Cannot set a frame with no defined index '\n\u001b[0m\u001b[1;32m   2379\u001b[0m                                  \u001b[0;34m'and a value that cannot be converted to a '\u001b[0m\u001b[0;34m\u001b[0m\u001b[0m\n\u001b[1;32m   2380\u001b[0m                                  'Series')\n",
      "\u001b[0;31mValueError\u001b[0m: Cannot set a frame with no defined index and a value that cannot be converted to a Series"
     ]
    }
   ],
   "source": [
    "#Cantons - there should be 26 of them\n",
    "df_kant = df[df['Einheit'].str.contains('^- ')]\n",
    "df_kant['Kanton_Name'] = df_kant['Einheit'].str.extract('^- (.*)', expand=True)\n",
    "df_kant.head(2)"
   ]
  },
  {
   "cell_type": "code",
   "execution_count": 15,
   "metadata": {},
   "outputs": [
    {
     "data": {
      "text/html": [
       "<div>\n",
       "<style>\n",
       "    .dataframe thead tr:only-child th {\n",
       "        text-align: right;\n",
       "    }\n",
       "\n",
       "    .dataframe thead th {\n",
       "        text-align: left;\n",
       "    }\n",
       "\n",
       "    .dataframe tbody tr th {\n",
       "        vertical-align: top;\n",
       "    }\n",
       "</style>\n",
       "<table border=\"1\" class=\"dataframe\">\n",
       "  <thead>\n",
       "    <tr style=\"text-align: right;\">\n",
       "      <th></th>\n",
       "      <th>0</th>\n",
       "      <th>1</th>\n",
       "      <th>2</th>\n",
       "      <th>3</th>\n",
       "      <th>4</th>\n",
       "      <th>5</th>\n",
       "      <th>6</th>\n",
       "      <th>7</th>\n",
       "      <th>8</th>\n",
       "      <th>9</th>\n",
       "      <th>...</th>\n",
       "      <th>94</th>\n",
       "      <th>95</th>\n",
       "      <th>96</th>\n",
       "      <th>97</th>\n",
       "      <th>98</th>\n",
       "      <th>99</th>\n",
       "      <th>100</th>\n",
       "      <th>Kanton_Name</th>\n",
       "      <th>Kanton_ABK</th>\n",
       "      <th>Kanton_ID</th>\n",
       "    </tr>\n",
       "  </thead>\n",
       "  <tbody>\n",
       "    <tr>\n",
       "      <th>0</th>\n",
       "      <td>10.140814</td>\n",
       "      <td>10.189053</td>\n",
       "      <td>6.717105</td>\n",
       "      <td>4.113012</td>\n",
       "      <td>3.863790</td>\n",
       "      <td>1.440426</td>\n",
       "      <td>1.528121</td>\n",
       "      <td>0.158892</td>\n",
       "      <td>-0.562474</td>\n",
       "      <td>-2.143233</td>\n",
       "      <td>...</td>\n",
       "      <td>-7.446098</td>\n",
       "      <td>-7.251524</td>\n",
       "      <td>-12.883064</td>\n",
       "      <td>-12.916293</td>\n",
       "      <td>-9.923975</td>\n",
       "      <td>-11.694637</td>\n",
       "      <td>-17.112433</td>\n",
       "      <td>Zürich</td>\n",
       "      <td>ZH</td>\n",
       "      <td>1</td>\n",
       "    </tr>\n",
       "    <tr>\n",
       "      <th>1</th>\n",
       "      <td>-4.726403</td>\n",
       "      <td>-6.898074</td>\n",
       "      <td>-5.190242</td>\n",
       "      <td>-3.755251</td>\n",
       "      <td>-5.147559</td>\n",
       "      <td>-4.903439</td>\n",
       "      <td>-5.454057</td>\n",
       "      <td>-4.361319</td>\n",
       "      <td>-5.196198</td>\n",
       "      <td>-6.478511</td>\n",
       "      <td>...</td>\n",
       "      <td>19.993818</td>\n",
       "      <td>17.798107</td>\n",
       "      <td>22.045135</td>\n",
       "      <td>12.675966</td>\n",
       "      <td>22.641016</td>\n",
       "      <td>29.919495</td>\n",
       "      <td>18.411909</td>\n",
       "      <td>Bern / Berne</td>\n",
       "      <td>BE</td>\n",
       "      <td>2</td>\n",
       "    </tr>\n",
       "  </tbody>\n",
       "</table>\n",
       "<p>2 rows × 104 columns</p>\n",
       "</div>"
      ],
      "text/plain": [
       "           0          1         2         3         4         5         6  \\\n",
       "0  10.140814  10.189053  6.717105  4.113012  3.863790  1.440426  1.528121   \n",
       "1  -4.726403  -6.898074 -5.190242 -3.755251 -5.147559 -4.903439 -5.454057   \n",
       "\n",
       "          7         8         9    ...             94         95         96  \\\n",
       "0  0.158892 -0.562474 -2.143233    ...      -7.446098  -7.251524 -12.883064   \n",
       "1 -4.361319 -5.196198 -6.478511    ...      19.993818  17.798107  22.045135   \n",
       "\n",
       "          97         98         99        100   Kanton_Name  Kanton_ABK  \\\n",
       "0 -12.916293  -9.923975 -11.694637 -17.112433        Zürich          ZH   \n",
       "1  12.675966  22.641016  29.919495  18.411909  Bern / Berne          BE   \n",
       "\n",
       "   Kanton_ID  \n",
       "0          1  \n",
       "1          2  \n",
       "\n",
       "[2 rows x 104 columns]"
      ]
     },
     "execution_count": 15,
     "metadata": {},
     "output_type": "execute_result"
    }
   ],
   "source": [
    "#Add the ID and Abbreviations\n",
    "df_kant = df_kant.merge(df_kant_ids, how='inner', left_on='Kanton_Name', right_on='Kanton_Name2')\n",
    "df_kant.pop('Kanton_Name2')\n",
    "df_kant.pop('Einheit')\n",
    "df_kant.pop('Kanton_Name_y')\n",
    "df_kant.pop('Nummer')\n",
    "df_kant.rename(columns={'Kanton_Name_x': 'Kanton_Name'}, inplace=True)\n",
    "df_kant.head(2)"
   ]
  },
  {
   "cell_type": "code",
   "execution_count": 16,
   "metadata": {},
   "outputs": [
    {
     "data": {
      "text/plain": [
       "(26, 104)"
      ]
     },
     "execution_count": 16,
     "metadata": {},
     "output_type": "execute_result"
    }
   ],
   "source": [
    "df_kant.shape"
   ]
  },
  {
   "cell_type": "markdown",
   "metadata": {},
   "source": [
    "### Separate the districts"
   ]
  },
  {
   "cell_type": "code",
   "execution_count": 24,
   "metadata": {},
   "outputs": [
    {
     "name": "stderr",
     "output_type": "stream",
     "text": [
      "/usr/local/lib/python3.6/site-packages/ipykernel_launcher.py:3: SettingWithCopyWarning: \n",
      "A value is trying to be set on a copy of a slice from a DataFrame.\n",
      "Try using .loc[row_indexer,col_indexer] = value instead\n",
      "\n",
      "See the caveats in the documentation: http://pandas.pydata.org/pandas-docs/stable/indexing.html#indexing-view-versus-copy\n",
      "  This is separate from the ipykernel package so we can avoid doing imports until\n",
      "/usr/local/lib/python3.6/site-packages/ipykernel_launcher.py:4: SettingWithCopyWarning: \n",
      "A value is trying to be set on a copy of a slice from a DataFrame.\n",
      "Try using .loc[row_indexer,col_indexer] = value instead\n",
      "\n",
      "See the caveats in the documentation: http://pandas.pydata.org/pandas-docs/stable/indexing.html#indexing-view-versus-copy\n",
      "  after removing the cwd from sys.path.\n"
     ]
    },
    {
     "data": {
      "text/html": [
       "<div>\n",
       "<style>\n",
       "    .dataframe thead tr:only-child th {\n",
       "        text-align: right;\n",
       "    }\n",
       "\n",
       "    .dataframe thead th {\n",
       "        text-align: left;\n",
       "    }\n",
       "\n",
       "    .dataframe tbody tr th {\n",
       "        vertical-align: top;\n",
       "    }\n",
       "</style>\n",
       "<table border=\"1\" class=\"dataframe\">\n",
       "  <thead>\n",
       "    <tr style=\"text-align: right;\">\n",
       "      <th></th>\n",
       "      <th>BDP</th>\n",
       "      <th>CVP</th>\n",
       "      <th>EDU</th>\n",
       "      <th>EVP</th>\n",
       "      <th>FDP</th>\n",
       "      <th>GLP</th>\n",
       "      <th>Grüne</th>\n",
       "      <th>SP</th>\n",
       "      <th>SVP</th>\n",
       "      <th>Übrige</th>\n",
       "      <th>Bezirk_Name</th>\n",
       "      <th>Bezirk_ID</th>\n",
       "    </tr>\n",
       "  </thead>\n",
       "  <tbody>\n",
       "    <tr>\n",
       "      <th>2325</th>\n",
       "      <td>35.885794</td>\n",
       "      <td>-75.890329</td>\n",
       "      <td>189.822990</td>\n",
       "      <td>113.305617</td>\n",
       "      <td>-46.314238</td>\n",
       "      <td>-50.193447</td>\n",
       "      <td>-4.555478</td>\n",
       "      <td>37.353166</td>\n",
       "      <td>24.497188</td>\n",
       "      <td>-22.688626</td>\n",
       "      <td>Arrondissement administratif Jura bernois</td>\n",
       "      <td>241</td>\n",
       "    </tr>\n",
       "    <tr>\n",
       "      <th>2326</th>\n",
       "      <td>8.333334</td>\n",
       "      <td>-53.290309</td>\n",
       "      <td>0.255768</td>\n",
       "      <td>143.318110</td>\n",
       "      <td>6.338554</td>\n",
       "      <td>31.987789</td>\n",
       "      <td>-7.884385</td>\n",
       "      <td>8.533223</td>\n",
       "      <td>8.017378</td>\n",
       "      <td>-58.376541</td>\n",
       "      <td>Bezirk Aarau</td>\n",
       "      <td>1901</td>\n",
       "    </tr>\n",
       "  </tbody>\n",
       "</table>\n",
       "</div>"
      ],
      "text/plain": [
       "            BDP        CVP         EDU         EVP        FDP        GLP  \\\n",
       "2325  35.885794 -75.890329  189.822990  113.305617 -46.314238 -50.193447   \n",
       "2326   8.333334 -53.290309    0.255768  143.318110   6.338554  31.987789   \n",
       "\n",
       "         Grüne         SP        SVP     Übrige  \\\n",
       "2325 -4.555478  37.353166  24.497188 -22.688626   \n",
       "2326 -7.884385   8.533223   8.017378 -58.376541   \n",
       "\n",
       "                                    Bezirk_Name  Bezirk_ID  \n",
       "2325  Arrondissement administratif Jura bernois        241  \n",
       "2326                               Bezirk Aarau       1901  "
      ]
     },
     "execution_count": 24,
     "metadata": {},
     "output_type": "execute_result"
    }
   ],
   "source": [
    "#Districts - there should be 148 of them\n",
    "df_bez = df[df['Einheit'].str.contains('^>> ')]\n",
    "df_bez['Bezirk_Name'] = df_bez['Einheit'].str.extract('^>> (.*)', expand=True)\n",
    "df_bez['Bezirk_ID'] = df_bez['Nummer'].astype(int)\n",
    "df_bez.pop('Nummer')\n",
    "df_bez.pop('Einheit')\n",
    "df_bez.head(2)"
   ]
  },
  {
   "cell_type": "code",
   "execution_count": 25,
   "metadata": {},
   "outputs": [
    {
     "data": {
      "text/plain": [
       "(148, 12)"
      ]
     },
     "execution_count": 25,
     "metadata": {},
     "output_type": "execute_result"
    }
   ],
   "source": [
    "df_bez.shape"
   ]
  },
  {
   "cell_type": "markdown",
   "metadata": {},
   "source": [
    "### Separate the communes"
   ]
  },
  {
   "cell_type": "code",
   "execution_count": 26,
   "metadata": {},
   "outputs": [
    {
     "name": "stderr",
     "output_type": "stream",
     "text": [
      "/usr/local/lib/python3.6/site-packages/ipykernel_launcher.py:3: SettingWithCopyWarning: \n",
      "A value is trying to be set on a copy of a slice from a DataFrame.\n",
      "Try using .loc[row_indexer,col_indexer] = value instead\n",
      "\n",
      "See the caveats in the documentation: http://pandas.pydata.org/pandas-docs/stable/indexing.html#indexing-view-versus-copy\n",
      "  This is separate from the ipykernel package so we can avoid doing imports until\n",
      "/usr/local/lib/python3.6/site-packages/ipykernel_launcher.py:4: SettingWithCopyWarning: \n",
      "A value is trying to be set on a copy of a slice from a DataFrame.\n",
      "Try using .loc[row_indexer,col_indexer] = value instead\n",
      "\n",
      "See the caveats in the documentation: http://pandas.pydata.org/pandas-docs/stable/indexing.html#indexing-view-versus-copy\n",
      "  after removing the cwd from sys.path.\n"
     ]
    },
    {
     "data": {
      "text/html": [
       "<div>\n",
       "<style>\n",
       "    .dataframe thead tr:only-child th {\n",
       "        text-align: right;\n",
       "    }\n",
       "\n",
       "    .dataframe thead th {\n",
       "        text-align: left;\n",
       "    }\n",
       "\n",
       "    .dataframe tbody tr th {\n",
       "        vertical-align: top;\n",
       "    }\n",
       "</style>\n",
       "<table border=\"1\" class=\"dataframe\">\n",
       "  <thead>\n",
       "    <tr style=\"text-align: right;\">\n",
       "      <th></th>\n",
       "      <th>BDP</th>\n",
       "      <th>CVP</th>\n",
       "      <th>EDU</th>\n",
       "      <th>EVP</th>\n",
       "      <th>FDP</th>\n",
       "      <th>GLP</th>\n",
       "      <th>Grüne</th>\n",
       "      <th>SP</th>\n",
       "      <th>SVP</th>\n",
       "      <th>Übrige</th>\n",
       "      <th>Gemeinde_ID</th>\n",
       "      <th>Gemeinde_Name</th>\n",
       "    </tr>\n",
       "  </thead>\n",
       "  <tbody>\n",
       "    <tr>\n",
       "      <th>1</th>\n",
       "      <td>-17.504673</td>\n",
       "      <td>72.846195</td>\n",
       "      <td>111.243296</td>\n",
       "      <td>8.748266</td>\n",
       "      <td>-38.426064</td>\n",
       "      <td>25.405050</td>\n",
       "      <td>-26.529719</td>\n",
       "      <td>-44.767115</td>\n",
       "      <td>36.936559</td>\n",
       "      <td>-96.692709</td>\n",
       "      <td>4551</td>\n",
       "      <td>Aadorf</td>\n",
       "    </tr>\n",
       "    <tr>\n",
       "      <th>2</th>\n",
       "      <td>-11.602571</td>\n",
       "      <td>-54.139354</td>\n",
       "      <td>-38.232626</td>\n",
       "      <td>99.063276</td>\n",
       "      <td>10.369443</td>\n",
       "      <td>70.622188</td>\n",
       "      <td>25.372588</td>\n",
       "      <td>40.593077</td>\n",
       "      <td>-22.995957</td>\n",
       "      <td>-47.999942</td>\n",
       "      <td>4001</td>\n",
       "      <td>Aarau</td>\n",
       "    </tr>\n",
       "  </tbody>\n",
       "</table>\n",
       "</div>"
      ],
      "text/plain": [
       "         BDP        CVP         EDU        EVP        FDP        GLP  \\\n",
       "1 -17.504673  72.846195  111.243296   8.748266 -38.426064  25.405050   \n",
       "2 -11.602571 -54.139354  -38.232626  99.063276  10.369443  70.622188   \n",
       "\n",
       "       Grüne         SP        SVP     Übrige  Gemeinde_ID Gemeinde_Name  \n",
       "1 -26.529719 -44.767115  36.936559 -96.692709         4551        Aadorf  \n",
       "2  25.372588  40.593077 -22.995957 -47.999942         4001         Aarau  "
      ]
     },
     "execution_count": 26,
     "metadata": {},
     "output_type": "execute_result"
    }
   ],
   "source": [
    "#Gemeinden - there should be 2324 of them\n",
    "df_gem = df[df['Einheit'].str.contains('^\\.\\.\\.\\.\\.\\.')]\n",
    "df_gem['Gemeinde_ID'] = df_gem['Nummer']\n",
    "df_gem['Gemeinde_Name'] = df_gem['Einheit'].str.extract('^\\.\\.\\.\\.\\.\\. (.*)', expand=True)\n",
    "df_gem.pop('Nummer')\n",
    "df_gem.pop('Einheit')\n",
    "df_gem.head(2)"
   ]
  },
  {
   "cell_type": "code",
   "execution_count": 27,
   "metadata": {},
   "outputs": [
    {
     "data": {
      "text/plain": [
       "(2324, 12)"
      ]
     },
     "execution_count": 27,
     "metadata": {},
     "output_type": "execute_result"
    }
   ],
   "source": [
    "df_gem.shape"
   ]
  },
  {
   "cell_type": "markdown",
   "metadata": {},
   "source": [
    "## Export the data"
   ]
  },
  {
   "cell_type": "code",
   "execution_count": 28,
   "metadata": {},
   "outputs": [
    {
     "data": {
      "text/html": [
       "<div>\n",
       "<style>\n",
       "    .dataframe thead tr:only-child th {\n",
       "        text-align: right;\n",
       "    }\n",
       "\n",
       "    .dataframe thead th {\n",
       "        text-align: left;\n",
       "    }\n",
       "\n",
       "    .dataframe tbody tr th {\n",
       "        vertical-align: top;\n",
       "    }\n",
       "</style>\n",
       "<table border=\"1\" class=\"dataframe\">\n",
       "  <thead>\n",
       "    <tr style=\"text-align: right;\">\n",
       "      <th></th>\n",
       "      <th>BDP</th>\n",
       "      <th>CVP</th>\n",
       "      <th>EDU</th>\n",
       "      <th>EVP</th>\n",
       "      <th>FDP</th>\n",
       "      <th>GLP</th>\n",
       "      <th>Grüne</th>\n",
       "      <th>SP</th>\n",
       "      <th>SVP</th>\n",
       "      <th>Übrige</th>\n",
       "    </tr>\n",
       "  </thead>\n",
       "  <tbody>\n",
       "    <tr>\n",
       "      <th>0</th>\n",
       "      <td>0.0</td>\n",
       "      <td>0.0</td>\n",
       "      <td>0.0</td>\n",
       "      <td>0.0</td>\n",
       "      <td>0.0</td>\n",
       "      <td>0.0</td>\n",
       "      <td>0.0</td>\n",
       "      <td>0.0</td>\n",
       "      <td>0.0</td>\n",
       "      <td>0.0</td>\n",
       "    </tr>\n",
       "  </tbody>\n",
       "</table>\n",
       "</div>"
      ],
      "text/plain": [
       "   BDP  CVP  EDU  EVP  FDP  GLP  Grüne   SP  SVP  Übrige\n",
       "0  0.0  0.0  0.0  0.0  0.0  0.0    0.0  0.0  0.0     0.0"
      ]
     },
     "execution_count": 28,
     "metadata": {},
     "output_type": "execute_result"
    }
   ],
   "source": [
    "#Switzerland\n",
    "df_ch.to_csv('StructuredData/CH-Parteien.csv', index=False)\n",
    "df_temp = pd.read_csv('StructuredData/CH-Parteien.csv')\n",
    "df_temp.head(2)"
   ]
  },
  {
   "cell_type": "code",
   "execution_count": 22,
   "metadata": {
    "scrolled": true
   },
   "outputs": [
    {
     "data": {
      "text/html": [
       "<div>\n",
       "<style>\n",
       "    .dataframe thead tr:only-child th {\n",
       "        text-align: right;\n",
       "    }\n",
       "\n",
       "    .dataframe thead th {\n",
       "        text-align: left;\n",
       "    }\n",
       "\n",
       "    .dataframe tbody tr th {\n",
       "        vertical-align: top;\n",
       "    }\n",
       "</style>\n",
       "<table border=\"1\" class=\"dataframe\">\n",
       "  <thead>\n",
       "    <tr style=\"text-align: right;\">\n",
       "      <th></th>\n",
       "      <th>0</th>\n",
       "      <th>1</th>\n",
       "      <th>2</th>\n",
       "      <th>3</th>\n",
       "      <th>4</th>\n",
       "      <th>5</th>\n",
       "      <th>6</th>\n",
       "      <th>7</th>\n",
       "      <th>8</th>\n",
       "      <th>9</th>\n",
       "      <th>...</th>\n",
       "      <th>94</th>\n",
       "      <th>95</th>\n",
       "      <th>96</th>\n",
       "      <th>97</th>\n",
       "      <th>98</th>\n",
       "      <th>99</th>\n",
       "      <th>100</th>\n",
       "      <th>Kanton_Name</th>\n",
       "      <th>Kanton_ABK</th>\n",
       "      <th>Kanton_ID</th>\n",
       "    </tr>\n",
       "  </thead>\n",
       "  <tbody>\n",
       "    <tr>\n",
       "      <th>0</th>\n",
       "      <td>10.140814</td>\n",
       "      <td>10.189053</td>\n",
       "      <td>6.717105</td>\n",
       "      <td>4.113012</td>\n",
       "      <td>3.863790</td>\n",
       "      <td>1.440426</td>\n",
       "      <td>1.528121</td>\n",
       "      <td>0.158892</td>\n",
       "      <td>-0.562474</td>\n",
       "      <td>-2.143233</td>\n",
       "      <td>...</td>\n",
       "      <td>-7.446098</td>\n",
       "      <td>-7.251524</td>\n",
       "      <td>-12.883064</td>\n",
       "      <td>-12.916293</td>\n",
       "      <td>-9.923975</td>\n",
       "      <td>-11.694637</td>\n",
       "      <td>-17.112433</td>\n",
       "      <td>Zürich</td>\n",
       "      <td>ZH</td>\n",
       "      <td>1</td>\n",
       "    </tr>\n",
       "    <tr>\n",
       "      <th>1</th>\n",
       "      <td>-4.726403</td>\n",
       "      <td>-6.898074</td>\n",
       "      <td>-5.190242</td>\n",
       "      <td>-3.755251</td>\n",
       "      <td>-5.147559</td>\n",
       "      <td>-4.903439</td>\n",
       "      <td>-5.454057</td>\n",
       "      <td>-4.361319</td>\n",
       "      <td>-5.196198</td>\n",
       "      <td>-6.478511</td>\n",
       "      <td>...</td>\n",
       "      <td>19.993818</td>\n",
       "      <td>17.798107</td>\n",
       "      <td>22.045135</td>\n",
       "      <td>12.675966</td>\n",
       "      <td>22.641016</td>\n",
       "      <td>29.919495</td>\n",
       "      <td>18.411909</td>\n",
       "      <td>Bern / Berne</td>\n",
       "      <td>BE</td>\n",
       "      <td>2</td>\n",
       "    </tr>\n",
       "  </tbody>\n",
       "</table>\n",
       "<p>2 rows × 104 columns</p>\n",
       "</div>"
      ],
      "text/plain": [
       "           0          1         2         3         4         5         6  \\\n",
       "0  10.140814  10.189053  6.717105  4.113012  3.863790  1.440426  1.528121   \n",
       "1  -4.726403  -6.898074 -5.190242 -3.755251 -5.147559 -4.903439 -5.454057   \n",
       "\n",
       "          7         8         9    ...             94         95         96  \\\n",
       "0  0.158892 -0.562474 -2.143233    ...      -7.446098  -7.251524 -12.883064   \n",
       "1 -4.361319 -5.196198 -6.478511    ...      19.993818  17.798107  22.045135   \n",
       "\n",
       "          97         98         99        100   Kanton_Name  Kanton_ABK  \\\n",
       "0 -12.916293  -9.923975 -11.694637 -17.112433        Zürich          ZH   \n",
       "1  12.675966  22.641016  29.919495  18.411909  Bern / Berne          BE   \n",
       "\n",
       "   Kanton_ID  \n",
       "0          1  \n",
       "1          2  \n",
       "\n",
       "[2 rows x 104 columns]"
      ]
     },
     "execution_count": 22,
     "metadata": {},
     "output_type": "execute_result"
    }
   ],
   "source": [
    "#Cantons\n",
    "df_kant.to_csv('StructuredData/kant-Parteien.csv', index=False)\n",
    "df_temp = pd.read_csv('StructuredData/kant-Parteien.csv')\n",
    "df_temp.head(2)"
   ]
  },
  {
   "cell_type": "code",
   "execution_count": 29,
   "metadata": {},
   "outputs": [
    {
     "data": {
      "text/html": [
       "<div>\n",
       "<style>\n",
       "    .dataframe thead tr:only-child th {\n",
       "        text-align: right;\n",
       "    }\n",
       "\n",
       "    .dataframe thead th {\n",
       "        text-align: left;\n",
       "    }\n",
       "\n",
       "    .dataframe tbody tr th {\n",
       "        vertical-align: top;\n",
       "    }\n",
       "</style>\n",
       "<table border=\"1\" class=\"dataframe\">\n",
       "  <thead>\n",
       "    <tr style=\"text-align: right;\">\n",
       "      <th></th>\n",
       "      <th>BDP</th>\n",
       "      <th>CVP</th>\n",
       "      <th>EDU</th>\n",
       "      <th>EVP</th>\n",
       "      <th>FDP</th>\n",
       "      <th>GLP</th>\n",
       "      <th>Grüne</th>\n",
       "      <th>SP</th>\n",
       "      <th>SVP</th>\n",
       "      <th>Übrige</th>\n",
       "      <th>Bezirk_Name</th>\n",
       "      <th>Bezirk_ID</th>\n",
       "    </tr>\n",
       "  </thead>\n",
       "  <tbody>\n",
       "    <tr>\n",
       "      <th>0</th>\n",
       "      <td>35.885794</td>\n",
       "      <td>-75.890329</td>\n",
       "      <td>189.822990</td>\n",
       "      <td>113.305617</td>\n",
       "      <td>-46.314238</td>\n",
       "      <td>-50.193447</td>\n",
       "      <td>-4.555478</td>\n",
       "      <td>37.353166</td>\n",
       "      <td>24.497188</td>\n",
       "      <td>-22.688626</td>\n",
       "      <td>Arrondissement administratif Jura bernois</td>\n",
       "      <td>241</td>\n",
       "    </tr>\n",
       "    <tr>\n",
       "      <th>1</th>\n",
       "      <td>8.333334</td>\n",
       "      <td>-53.290309</td>\n",
       "      <td>0.255768</td>\n",
       "      <td>143.318110</td>\n",
       "      <td>6.338554</td>\n",
       "      <td>31.987789</td>\n",
       "      <td>-7.884385</td>\n",
       "      <td>8.533223</td>\n",
       "      <td>8.017378</td>\n",
       "      <td>-58.376541</td>\n",
       "      <td>Bezirk Aarau</td>\n",
       "      <td>1901</td>\n",
       "    </tr>\n",
       "  </tbody>\n",
       "</table>\n",
       "</div>"
      ],
      "text/plain": [
       "         BDP        CVP         EDU         EVP        FDP        GLP  \\\n",
       "0  35.885794 -75.890329  189.822990  113.305617 -46.314238 -50.193447   \n",
       "1   8.333334 -53.290309    0.255768  143.318110   6.338554  31.987789   \n",
       "\n",
       "      Grüne         SP        SVP     Übrige  \\\n",
       "0 -4.555478  37.353166  24.497188 -22.688626   \n",
       "1 -7.884385   8.533223   8.017378 -58.376541   \n",
       "\n",
       "                                 Bezirk_Name  Bezirk_ID  \n",
       "0  Arrondissement administratif Jura bernois        241  \n",
       "1                               Bezirk Aarau       1901  "
      ]
     },
     "execution_count": 29,
     "metadata": {},
     "output_type": "execute_result"
    }
   ],
   "source": [
    "#Districts\n",
    "df_bez.to_csv('StructuredData/bez-Parteien.csv', index=False)\n",
    "df_temp = pd.read_csv('StructuredData/bez-Parteien.csv')\n",
    "df_temp.head(2)"
   ]
  },
  {
   "cell_type": "code",
   "execution_count": 30,
   "metadata": {},
   "outputs": [
    {
     "data": {
      "text/html": [
       "<div>\n",
       "<style>\n",
       "    .dataframe thead tr:only-child th {\n",
       "        text-align: right;\n",
       "    }\n",
       "\n",
       "    .dataframe thead th {\n",
       "        text-align: left;\n",
       "    }\n",
       "\n",
       "    .dataframe tbody tr th {\n",
       "        vertical-align: top;\n",
       "    }\n",
       "</style>\n",
       "<table border=\"1\" class=\"dataframe\">\n",
       "  <thead>\n",
       "    <tr style=\"text-align: right;\">\n",
       "      <th></th>\n",
       "      <th>BDP</th>\n",
       "      <th>CVP</th>\n",
       "      <th>EDU</th>\n",
       "      <th>EVP</th>\n",
       "      <th>FDP</th>\n",
       "      <th>GLP</th>\n",
       "      <th>Grüne</th>\n",
       "      <th>SP</th>\n",
       "      <th>SVP</th>\n",
       "      <th>Übrige</th>\n",
       "      <th>Gemeinde_ID</th>\n",
       "      <th>Gemeinde_Name</th>\n",
       "    </tr>\n",
       "  </thead>\n",
       "  <tbody>\n",
       "    <tr>\n",
       "      <th>0</th>\n",
       "      <td>-17.504673</td>\n",
       "      <td>72.846195</td>\n",
       "      <td>111.243296</td>\n",
       "      <td>8.748266</td>\n",
       "      <td>-38.426064</td>\n",
       "      <td>25.405050</td>\n",
       "      <td>-26.529719</td>\n",
       "      <td>-44.767115</td>\n",
       "      <td>36.936559</td>\n",
       "      <td>-96.692709</td>\n",
       "      <td>4551</td>\n",
       "      <td>Aadorf</td>\n",
       "    </tr>\n",
       "    <tr>\n",
       "      <th>1</th>\n",
       "      <td>-11.602571</td>\n",
       "      <td>-54.139354</td>\n",
       "      <td>-38.232626</td>\n",
       "      <td>99.063276</td>\n",
       "      <td>10.369443</td>\n",
       "      <td>70.622188</td>\n",
       "      <td>25.372588</td>\n",
       "      <td>40.593077</td>\n",
       "      <td>-22.995957</td>\n",
       "      <td>-47.999942</td>\n",
       "      <td>4001</td>\n",
       "      <td>Aarau</td>\n",
       "    </tr>\n",
       "  </tbody>\n",
       "</table>\n",
       "</div>"
      ],
      "text/plain": [
       "         BDP        CVP         EDU        EVP        FDP        GLP  \\\n",
       "0 -17.504673  72.846195  111.243296   8.748266 -38.426064  25.405050   \n",
       "1 -11.602571 -54.139354  -38.232626  99.063276  10.369443  70.622188   \n",
       "\n",
       "       Grüne         SP        SVP     Übrige  Gemeinde_ID Gemeinde_Name  \n",
       "0 -26.529719 -44.767115  36.936559 -96.692709         4551        Aadorf  \n",
       "1  25.372588  40.593077 -22.995957 -47.999942         4001         Aarau  "
      ]
     },
     "execution_count": 30,
     "metadata": {},
     "output_type": "execute_result"
    }
   ],
   "source": [
    "#Communes\n",
    "df_gem.to_csv('StructuredData/gem-Parteien.csv', index=False)\n",
    "df_temp = pd.read_csv('StructuredData/gem-Parteien.csv')\n",
    "df_temp.head(2)"
   ]
  },
  {
   "cell_type": "code",
   "execution_count": null,
   "metadata": {
    "collapsed": true
   },
   "outputs": [],
   "source": []
  }
 ],
 "metadata": {
  "kernelspec": {
   "display_name": "Python 3",
   "language": "python",
   "name": "python3"
  },
  "language_info": {
   "codemirror_mode": {
    "name": "ipython",
    "version": 3
   },
   "file_extension": ".py",
   "mimetype": "text/x-python",
   "name": "python",
   "nbconvert_exporter": "python",
   "pygments_lexer": "ipython3",
   "version": "3.6.1"
  }
 },
 "nbformat": 4,
 "nbformat_minor": 2
}
