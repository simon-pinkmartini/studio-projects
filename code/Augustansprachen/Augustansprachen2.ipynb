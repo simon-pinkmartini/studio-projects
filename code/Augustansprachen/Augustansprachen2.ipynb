{
 "cells": [
  {
   "cell_type": "code",
   "execution_count": 1,
   "metadata": {
    "collapsed": true
   },
   "outputs": [],
   "source": [
    "import pandas as pd"
   ]
  },
  {
   "cell_type": "code",
   "execution_count": 2,
   "metadata": {
    "collapsed": true
   },
   "outputs": [],
   "source": [
    "import matplotlib.pyplot as plt"
   ]
  },
  {
   "cell_type": "code",
   "execution_count": 3,
   "metadata": {
    "collapsed": true
   },
   "outputs": [],
   "source": [
    "%matplotlib inline"
   ]
  },
  {
   "cell_type": "code",
   "execution_count": 4,
   "metadata": {
    "collapsed": true
   },
   "outputs": [],
   "source": [
    "from sklearn.feature_extraction.text import CountVectorizer\n",
    "from sklearn.feature_extraction.text import TfidfVectorizer"
   ]
  },
  {
   "cell_type": "code",
   "execution_count": 256,
   "metadata": {
    "collapsed": true
   },
   "outputs": [],
   "source": [
    "from sklearn.metrics.pairwise import cosine_similarity"
   ]
  },
  {
   "cell_type": "code",
   "execution_count": 26,
   "metadata": {
    "collapsed": true
   },
   "outputs": [],
   "source": [
    "from sklearn.feature_extraction import stop_words"
   ]
  },
  {
   "cell_type": "code",
   "execution_count": 31,
   "metadata": {
    "collapsed": true
   },
   "outputs": [],
   "source": [
    "from sklearn.cluster import KMeans"
   ]
  },
  {
   "cell_type": "code",
   "execution_count": 5,
   "metadata": {
    "collapsed": true
   },
   "outputs": [],
   "source": [
    "import spacy"
   ]
  },
  {
   "cell_type": "code",
   "execution_count": 27,
   "metadata": {
    "collapsed": true
   },
   "outputs": [],
   "source": [
    "from textblob import TextBlob"
   ]
  },
  {
   "cell_type": "code",
   "execution_count": 43,
   "metadata": {
    "collapsed": true
   },
   "outputs": [],
   "source": [
    "import re"
   ]
  },
  {
   "cell_type": "code",
   "execution_count": 6,
   "metadata": {
    "collapsed": true
   },
   "outputs": [],
   "source": [
    "pd.set_option(\"display.max_colwidth\", 200)"
   ]
  },
  {
   "cell_type": "code",
   "execution_count": 7,
   "metadata": {
    "collapsed": true
   },
   "outputs": [],
   "source": [
    "pd.set_option(\"display.max_rows\", 500)"
   ]
  },
  {
   "cell_type": "markdown",
   "metadata": {},
   "source": [
    "## Load the texts"
   ]
  },
  {
   "cell_type": "code",
   "execution_count": 384,
   "metadata": {},
   "outputs": [
    {
     "data": {
      "text/html": [
       "<div>\n",
       "<style>\n",
       "    .dataframe thead tr:only-child th {\n",
       "        text-align: right;\n",
       "    }\n",
       "\n",
       "    .dataframe thead th {\n",
       "        text-align: left;\n",
       "    }\n",
       "\n",
       "    .dataframe tbody tr th {\n",
       "        vertical-align: top;\n",
       "    }\n",
       "</style>\n",
       "<table border=\"1\" class=\"dataframe\">\n",
       "  <thead>\n",
       "    <tr style=\"text-align: right;\">\n",
       "      <th></th>\n",
       "      <th>Jahr</th>\n",
       "      <th>Redner</th>\n",
       "      <th>Funktion</th>\n",
       "      <th>Partei</th>\n",
       "      <th>Sprache</th>\n",
       "      <th>Ort</th>\n",
       "      <th>Titel</th>\n",
       "      <th>Anrede</th>\n",
       "      <th>Präambel</th>\n",
       "      <th>Text</th>\n",
       "      <th>URL</th>\n",
       "    </tr>\n",
       "  </thead>\n",
       "  <tbody>\n",
       "    <tr>\n",
       "      <th>0</th>\n",
       "      <td>2016</td>\n",
       "      <td>Didier Burkhalter</td>\n",
       "      <td>BR</td>\n",
       "      <td>FDP</td>\n",
       "      <td>fr</td>\n",
       "      <td>Vallorbe</td>\n",
       "      <td>«Le mariage suisse de l’eau et du feu»</td>\n",
       "      <td>Mesdames et Messieurs les représentants des autorités,\\nMesdames et Messieurs,\\n\\nChers habitants de notre pays, Chers amis,</td>\n",
       "      <td>NaN</td>\n",
       "      <td>Mesdames et Messieurs les représentants des autorités,\\nMesdames et Messieurs,\\n\\nChers habitants de notre pays, Chers amis,\\n\\nQuel plaisir de partager la Fête nationale avec vous ! Et le 1er ao...</td>\n",
       "      <td>https://www.admin.ch/gov/de/start/dokumentation/reden/reden-der-bundesraete.msg-id-62929.html</td>\n",
       "    </tr>\n",
       "    <tr>\n",
       "      <th>1</th>\n",
       "      <td>2016</td>\n",
       "      <td>Doris Leuthard</td>\n",
       "      <td>BR</td>\n",
       "      <td>CVP</td>\n",
       "      <td>de</td>\n",
       "      <td>Schaffhausen</td>\n",
       "      <td>Wer entscheidet, muss zuhören!</td>\n",
       "      <td>Sehr geehrter Herr Regierungspräsident (Reto Dubach)\\nSehr geehrter Herr Stadtpräsident (Peter Neukomm)\\nSehr geehrter Herr Schilling (Präsident NHG-SH)\\nLiebe Schaffhauserinnen und Schaffhauser\\n...</td>\n",
       "      <td>NaN</td>\n",
       "      <td>Sehr geehrter Herr Regierungspräsident (Reto Dubach)\\nSehr geehrter Herr Stadtpräsident (Peter Neukomm)\\nSehr geehrter Herr Schilling (Präsident NHG-SH)\\nLiebe Schaffhauserinnen und Schaffhauser\\n...</td>\n",
       "      <td>https://www.admin.ch/gov/de/start/dokumentation/reden/reden-der-bundesraete.msg-id-62930.html</td>\n",
       "    </tr>\n",
       "  </tbody>\n",
       "</table>\n",
       "</div>"
      ],
      "text/plain": [
       "   Jahr             Redner Funktion Partei Sprache           Ort  \\\n",
       "0  2016  Didier Burkhalter       BR    FDP      fr      Vallorbe   \n",
       "1  2016     Doris Leuthard       BR    CVP      de  Schaffhausen   \n",
       "\n",
       "                                    Titel  \\\n",
       "0  «Le mariage suisse de l’eau et du feu»   \n",
       "1          Wer entscheidet, muss zuhören!   \n",
       "\n",
       "                                                                                                                                                                                                    Anrede  \\\n",
       "0                                                                             Mesdames et Messieurs les représentants des autorités,\\nMesdames et Messieurs,\\n\\nChers habitants de notre pays, Chers amis,   \n",
       "1  Sehr geehrter Herr Regierungspräsident (Reto Dubach)\\nSehr geehrter Herr Stadtpräsident (Peter Neukomm)\\nSehr geehrter Herr Schilling (Präsident NHG-SH)\\nLiebe Schaffhauserinnen und Schaffhauser\\n...   \n",
       "\n",
       "  Präambel  \\\n",
       "0      NaN   \n",
       "1      NaN   \n",
       "\n",
       "                                                                                                                                                                                                      Text  \\\n",
       "0   Mesdames et Messieurs les représentants des autorités,\\nMesdames et Messieurs,\\n\\nChers habitants de notre pays, Chers amis,\\n\\nQuel plaisir de partager la Fête nationale avec vous ! Et le 1er ao...   \n",
       "1  Sehr geehrter Herr Regierungspräsident (Reto Dubach)\\nSehr geehrter Herr Stadtpräsident (Peter Neukomm)\\nSehr geehrter Herr Schilling (Präsident NHG-SH)\\nLiebe Schaffhauserinnen und Schaffhauser\\n...   \n",
       "\n",
       "                                                                                             URL  \n",
       "0  https://www.admin.ch/gov/de/start/dokumentation/reden/reden-der-bundesraete.msg-id-62929.html  \n",
       "1  https://www.admin.ch/gov/de/start/dokumentation/reden/reden-der-bundesraete.msg-id-62930.html  "
      ]
     },
     "execution_count": 384,
     "metadata": {},
     "output_type": "execute_result"
    }
   ],
   "source": [
    "df = pd.read_excel('Reden.xlsx')\n",
    "df.head(2)"
   ]
  },
  {
   "cell_type": "code",
   "execution_count": 385,
   "metadata": {
    "collapsed": true
   },
   "outputs": [],
   "source": [
    "## LIMITING TO PRESIDENTS RIGHT NOW!!!!!!!!!!!!"
   ]
  },
  {
   "cell_type": "code",
   "execution_count": 386,
   "metadata": {},
   "outputs": [
    {
     "data": {
      "text/plain": [
       "0     17\n",
       "1     18\n",
       "2     19\n",
       "3     20\n",
       "4     21\n",
       "5     22\n",
       "6     23\n",
       "7     24\n",
       "8     25\n",
       "9     26\n",
       "10    27\n",
       "11    28\n",
       "12    29\n",
       "13    30\n",
       "14    31\n",
       "15    32\n",
       "16    33\n",
       "17    34\n",
       "18    35\n",
       "19    36\n",
       "20    37\n",
       "21    38\n",
       "22    39\n",
       "23    40\n",
       "24    41\n",
       "25    42\n",
       "26    43\n",
       "27    44\n",
       "28    45\n",
       "29    46\n",
       "30    47\n",
       "31    48\n",
       "32    49\n",
       "33    50\n",
       "Name: index, dtype: int64"
      ]
     },
     "execution_count": 386,
     "metadata": {},
     "output_type": "execute_result"
    }
   ],
   "source": [
    "df = df[df['Funktion'] == \"BP\"].reset_index()\n",
    "df.pop('index')"
   ]
  },
  {
   "cell_type": "code",
   "execution_count": 387,
   "metadata": {},
   "outputs": [
    {
     "data": {
      "text/html": [
       "<div>\n",
       "<style>\n",
       "    .dataframe thead tr:only-child th {\n",
       "        text-align: right;\n",
       "    }\n",
       "\n",
       "    .dataframe thead th {\n",
       "        text-align: left;\n",
       "    }\n",
       "\n",
       "    .dataframe tbody tr th {\n",
       "        vertical-align: top;\n",
       "    }\n",
       "</style>\n",
       "<table border=\"1\" class=\"dataframe\">\n",
       "  <thead>\n",
       "    <tr style=\"text-align: right;\">\n",
       "      <th></th>\n",
       "      <th>Jahr</th>\n",
       "      <th>Redner</th>\n",
       "      <th>Funktion</th>\n",
       "      <th>Partei</th>\n",
       "      <th>Sprache</th>\n",
       "      <th>Ort</th>\n",
       "      <th>Titel</th>\n",
       "      <th>Anrede</th>\n",
       "      <th>Präambel</th>\n",
       "      <th>Text</th>\n",
       "      <th>URL</th>\n",
       "    </tr>\n",
       "  </thead>\n",
       "  <tbody>\n",
       "    <tr>\n",
       "      <th>0</th>\n",
       "      <td>2017</td>\n",
       "      <td>Doris Leuthard</td>\n",
       "      <td>BP</td>\n",
       "      <td>CVP</td>\n",
       "      <td>de</td>\n",
       "      <td>NaN</td>\n",
       "      <td>Ansprache von Bundespräsidentin Doris Leuthard zum 1. August 2017</td>\n",
       "      <td>Sehr geehrte Damen und Herren</td>\n",
       "      <td>NaN</td>\n",
       "      <td>Sehr geehrte Damen und Herren\\n\\nIch hoffe, sie konnten den bisherigen Sommer geniessen und dürfen heute mit der Familie, mit Freunden – in der Gemeinde unseren Nationalfeiertag begehen. Ich gratu...</td>\n",
       "      <td>https://www.admin.ch/gov/de/start/dokumentation/reden/ansprachen-zum-nationalfeiertag/2017.html</td>\n",
       "    </tr>\n",
       "    <tr>\n",
       "      <th>1</th>\n",
       "      <td>2016</td>\n",
       "      <td>Johann N. Schneider-Ammann</td>\n",
       "      <td>BP</td>\n",
       "      <td>FDP</td>\n",
       "      <td>de</td>\n",
       "      <td>NaN</td>\n",
       "      <td>Ansprache von Bundespräsident Johann N. Schneider-Ammann zum 1. August 2016</td>\n",
       "      <td>Liebe Mitbürgerinnen und Mitbürger</td>\n",
       "      <td>NaN</td>\n",
       "      <td>Liebe Mitbürgerinnen und Mitbürger\\n\\nDer 1. August ist ein guter Tag,\\num über die Chancen nachzudenken,\\ndie unser Land uns bietet.\\n\\nIch nenne heute drei:\\nBildung, Innovation und Unabhängigke...</td>\n",
       "      <td>https://www.admin.ch/gov/de/start/dokumentation/reden/ansprachen-zum-nationalfeiertag/2016.html</td>\n",
       "    </tr>\n",
       "  </tbody>\n",
       "</table>\n",
       "</div>"
      ],
      "text/plain": [
       "   Jahr                      Redner Funktion Partei Sprache  Ort  \\\n",
       "0  2017              Doris Leuthard       BP    CVP      de  NaN   \n",
       "1  2016  Johann N. Schneider-Ammann       BP    FDP      de  NaN   \n",
       "\n",
       "                                                                         Titel  \\\n",
       "0            Ansprache von Bundespräsidentin Doris Leuthard zum 1. August 2017   \n",
       "1  Ansprache von Bundespräsident Johann N. Schneider-Ammann zum 1. August 2016   \n",
       "\n",
       "                               Anrede Präambel  \\\n",
       "0       Sehr geehrte Damen und Herren      NaN   \n",
       "1  Liebe Mitbürgerinnen und Mitbürger      NaN   \n",
       "\n",
       "                                                                                                                                                                                                      Text  \\\n",
       "0  Sehr geehrte Damen und Herren\\n\\nIch hoffe, sie konnten den bisherigen Sommer geniessen und dürfen heute mit der Familie, mit Freunden – in der Gemeinde unseren Nationalfeiertag begehen. Ich gratu...   \n",
       "1  Liebe Mitbürgerinnen und Mitbürger\\n\\nDer 1. August ist ein guter Tag,\\num über die Chancen nachzudenken,\\ndie unser Land uns bietet.\\n\\nIch nenne heute drei:\\nBildung, Innovation und Unabhängigke...   \n",
       "\n",
       "                                                                                               URL  \n",
       "0  https://www.admin.ch/gov/de/start/dokumentation/reden/ansprachen-zum-nationalfeiertag/2017.html  \n",
       "1  https://www.admin.ch/gov/de/start/dokumentation/reden/ansprachen-zum-nationalfeiertag/2016.html  "
      ]
     },
     "execution_count": 387,
     "metadata": {},
     "output_type": "execute_result"
    }
   ],
   "source": [
    "df.head(2)"
   ]
  },
  {
   "cell_type": "markdown",
   "metadata": {},
   "source": [
    "## Some basic stuff"
   ]
  },
  {
   "cell_type": "markdown",
   "metadata": {},
   "source": [
    "### Most used adresses"
   ]
  },
  {
   "cell_type": "code",
   "execution_count": 388,
   "metadata": {},
   "outputs": [
    {
     "data": {
      "text/plain": [
       "Liebe Mitbürgerinnen und Mitbürger                                                                          11\n",
       "Liebe Mitbürgerinnen, liebe Mitbürger                                                                        2\n",
       "Sehr geehrte Damen und Herren                                                                                1\n",
       "Liebe Mitbürgerinnen und Mitbürger\\nCharas convischinas e chars convischins                                  1\n",
       "Liebe Mitbürgerinnen und Mitbürger, meine Damen und Herren                                                   1\n",
       "Liebe Mitbürgerinnen und Mitbürger!                                                                          1\n",
       "Liebe Mitbürgerinnen und Mitbürger in der Schweiz und im Ausland                                             1\n",
       "Liebe Mitbürgerinnen und Mitbürger, guten Tag                                                                1\n",
       "Sehr geehrte Damen und Herren\\nLiebe Einwohnerinnen und Einwohner unseres Landes                             1\n",
       "Liebe Schweizerinnen und Schweizer, liebe Einwohnerinnen und Einwohner dieses Landes                         1\n",
       "Meine Damen und Herren                                                                                       1\n",
       "Liebe Schweizerinnen und Schweizer im In- und Ausland, Liebe Ausländerinnen und Ausländer in der Schweiz     1\n",
       "Name: Anrede, dtype: int64"
      ]
     },
     "execution_count": 388,
     "metadata": {},
     "output_type": "execute_result"
    }
   ],
   "source": [
    "df.Anrede.value_counts()"
   ]
  },
  {
   "cell_type": "markdown",
   "metadata": {},
   "source": [
    "### Longest addresses"
   ]
  },
  {
   "cell_type": "code",
   "execution_count": 389,
   "metadata": {
    "collapsed": true
   },
   "outputs": [],
   "source": [
    "df['Anrede-Len'] = df['Anrede'].str.len()"
   ]
  },
  {
   "cell_type": "code",
   "execution_count": 390,
   "metadata": {},
   "outputs": [
    {
     "data": {
      "text/html": [
       "<div>\n",
       "<style>\n",
       "    .dataframe thead tr:only-child th {\n",
       "        text-align: right;\n",
       "    }\n",
       "\n",
       "    .dataframe thead th {\n",
       "        text-align: left;\n",
       "    }\n",
       "\n",
       "    .dataframe tbody tr th {\n",
       "        vertical-align: top;\n",
       "    }\n",
       "</style>\n",
       "<table border=\"1\" class=\"dataframe\">\n",
       "  <thead>\n",
       "    <tr style=\"text-align: right;\">\n",
       "      <th></th>\n",
       "      <th>Jahr</th>\n",
       "      <th>Redner</th>\n",
       "      <th>Anrede</th>\n",
       "      <th>Anrede-Len</th>\n",
       "    </tr>\n",
       "  </thead>\n",
       "  <tbody>\n",
       "    <tr>\n",
       "      <th>16</th>\n",
       "      <td>2001</td>\n",
       "      <td>Moritz Leuenberger</td>\n",
       "      <td>Liebe Schweizerinnen und Schweizer im In- und Ausland, Liebe Ausländerinnen und Ausländer in der Schweiz</td>\n",
       "      <td>104.0</td>\n",
       "    </tr>\n",
       "    <tr>\n",
       "      <th>10</th>\n",
       "      <td>2007</td>\n",
       "      <td>Micheline Calmy-Rey</td>\n",
       "      <td>Liebe Schweizerinnen und Schweizer, liebe Einwohnerinnen und Einwohner dieses Landes</td>\n",
       "      <td>84.0</td>\n",
       "    </tr>\n",
       "    <tr>\n",
       "      <th>3</th>\n",
       "      <td>2014</td>\n",
       "      <td>Didier Burkhalter</td>\n",
       "      <td>Sehr geehrte Damen und Herren\\nLiebe Einwohnerinnen und Einwohner unseres Landes</td>\n",
       "      <td>79.0</td>\n",
       "    </tr>\n",
       "    <tr>\n",
       "      <th>5</th>\n",
       "      <td>2012</td>\n",
       "      <td>Eveline Widmer-Schlumpf</td>\n",
       "      <td>Liebe Mitbürgerinnen und Mitbürger\\nCharas convischinas e chars convischins</td>\n",
       "      <td>74.0</td>\n",
       "    </tr>\n",
       "    <tr>\n",
       "      <th>12</th>\n",
       "      <td>2005</td>\n",
       "      <td>Samuel Schmid</td>\n",
       "      <td>Liebe Mitbürgerinnen und Mitbürger in der Schweiz und im Ausland</td>\n",
       "      <td>64.0</td>\n",
       "    </tr>\n",
       "  </tbody>\n",
       "</table>\n",
       "</div>"
      ],
      "text/plain": [
       "    Jahr                   Redner  \\\n",
       "16  2001       Moritz Leuenberger   \n",
       "10  2007      Micheline Calmy-Rey   \n",
       "3   2014        Didier Burkhalter   \n",
       "5   2012  Eveline Widmer-Schlumpf   \n",
       "12  2005            Samuel Schmid   \n",
       "\n",
       "                                                                                                      Anrede  \\\n",
       "16  Liebe Schweizerinnen und Schweizer im In- und Ausland, Liebe Ausländerinnen und Ausländer in der Schweiz   \n",
       "10                      Liebe Schweizerinnen und Schweizer, liebe Einwohnerinnen und Einwohner dieses Landes   \n",
       "3                           Sehr geehrte Damen und Herren\\nLiebe Einwohnerinnen und Einwohner unseres Landes   \n",
       "5                                Liebe Mitbürgerinnen und Mitbürger\\nCharas convischinas e chars convischins   \n",
       "12                                          Liebe Mitbürgerinnen und Mitbürger in der Schweiz und im Ausland   \n",
       "\n",
       "    Anrede-Len  \n",
       "16       104.0  \n",
       "10        84.0  \n",
       "3         79.0  \n",
       "5         74.0  \n",
       "12        64.0  "
      ]
     },
     "execution_count": 390,
     "metadata": {},
     "output_type": "execute_result"
    }
   ],
   "source": [
    "df.sort_values(by='Anrede-Len', ascending=False)[['Jahr', 'Redner', 'Anrede', 'Anrede-Len']].head(5)"
   ]
  },
  {
   "cell_type": "markdown",
   "metadata": {},
   "source": [
    "### Text length"
   ]
  },
  {
   "cell_type": "code",
   "execution_count": 391,
   "metadata": {
    "collapsed": true
   },
   "outputs": [],
   "source": [
    "df['Text-Len'] = df['Text'].str.len()"
   ]
  },
  {
   "cell_type": "code",
   "execution_count": 392,
   "metadata": {},
   "outputs": [
    {
     "data": {
      "text/plain": [
       "<matplotlib.axes._subplots.AxesSubplot at 0x11e74c748>"
      ]
     },
     "execution_count": 392,
     "metadata": {},
     "output_type": "execute_result"
    },
    {
     "data": {
      "image/png": "[encoded data removed]",
      "text/plain": [
       "<matplotlib.figure.Figure at 0x1141af630>"
      ]
     },
     "metadata": {},
     "output_type": "display_data"
    }
   ],
   "source": [
    "df.plot(kind=\"bar\", y='Text-Len', x='Jahr', figsize=(10,6))"
   ]
  },
  {
   "cell_type": "markdown",
   "metadata": {},
   "source": [
    "### Longest Text"
   ]
  },
  {
   "cell_type": "code",
   "execution_count": 393,
   "metadata": {},
   "outputs": [
    {
     "data": {
      "text/html": [
       "<div>\n",
       "<style>\n",
       "    .dataframe thead tr:only-child th {\n",
       "        text-align: right;\n",
       "    }\n",
       "\n",
       "    .dataframe thead th {\n",
       "        text-align: left;\n",
       "    }\n",
       "\n",
       "    .dataframe tbody tr th {\n",
       "        vertical-align: top;\n",
       "    }\n",
       "</style>\n",
       "<table border=\"1\" class=\"dataframe\">\n",
       "  <thead>\n",
       "    <tr style=\"text-align: right;\">\n",
       "      <th></th>\n",
       "      <th>Jahr</th>\n",
       "      <th>Redner</th>\n",
       "      <th>Text-Len</th>\n",
       "    </tr>\n",
       "  </thead>\n",
       "  <tbody>\n",
       "    <tr>\n",
       "      <th>19</th>\n",
       "      <td>1998</td>\n",
       "      <td>Flavio Cotti</td>\n",
       "      <td>13470</td>\n",
       "    </tr>\n",
       "    <tr>\n",
       "      <th>32</th>\n",
       "      <td>1985</td>\n",
       "      <td>Kurt Furgler</td>\n",
       "      <td>7476</td>\n",
       "    </tr>\n",
       "    <tr>\n",
       "      <th>33</th>\n",
       "      <td>1978</td>\n",
       "      <td>Willi Ritschard</td>\n",
       "      <td>6913</td>\n",
       "    </tr>\n",
       "    <tr>\n",
       "      <th>3</th>\n",
       "      <td>2014</td>\n",
       "      <td>Didier Burkhalter</td>\n",
       "      <td>5827</td>\n",
       "    </tr>\n",
       "    <tr>\n",
       "      <th>24</th>\n",
       "      <td>1993</td>\n",
       "      <td>Adolf Ogi</td>\n",
       "      <td>5534</td>\n",
       "    </tr>\n",
       "  </tbody>\n",
       "</table>\n",
       "</div>"
      ],
      "text/plain": [
       "    Jahr             Redner  Text-Len\n",
       "19  1998       Flavio Cotti     13470\n",
       "32  1985       Kurt Furgler      7476\n",
       "33  1978    Willi Ritschard      6913\n",
       "3   2014  Didier Burkhalter      5827\n",
       "24  1993          Adolf Ogi      5534"
      ]
     },
     "execution_count": 393,
     "metadata": {},
     "output_type": "execute_result"
    }
   ],
   "source": [
    "df.sort_values(by='Text-Len', ascending=False)[['Jahr', 'Redner', 'Text-Len']].head(5)"
   ]
  },
  {
   "cell_type": "code",
   "execution_count": 394,
   "metadata": {},
   "outputs": [
    {
     "data": {
      "text/plain": [
       "Partei\n",
       "BDP    5147.000000\n",
       "CVP    5146.777778\n",
       "FDP    3932.555556\n",
       "SP     4088.636364\n",
       "SVP    3935.750000\n",
       "Name: Text-Len, dtype: float64"
      ]
     },
     "execution_count": 394,
     "metadata": {},
     "output_type": "execute_result"
    }
   ],
   "source": [
    "df.groupby(\"Partei\")['Text-Len'].mean()"
   ]
  },
  {
   "cell_type": "markdown",
   "metadata": {},
   "source": [
    "## Word evolution - scikit for beginners"
   ]
  },
  {
   "cell_type": "code",
   "execution_count": 396,
   "metadata": {},
   "outputs": [
    {
     "data": {
      "text/plain": [
       "<34x4223 sparse matrix of type '<class 'numpy.float64'>'\n",
       "\twith 11157 stored elements in Compressed Sparse Row format>"
      ]
     },
     "execution_count": 396,
     "metadata": {},
     "output_type": "execute_result"
    }
   ],
   "source": [
    "#First let's use a TF-vectorizer on all words without any tokenization\n",
    "#This gives the frequency of each word in a particular text (rows add up to 1)\n",
    "vectorizer = TfidfVectorizer(use_idf=False, norm='l1')\n",
    "matrix = vectorizer.fit_transform(df['Text'])\n",
    "matrix"
   ]
  },
  {
   "cell_type": "code",
   "execution_count": 397,
   "metadata": {},
   "outputs": [
    {
     "data": {
      "text/html": [
       "<div>\n",
       "<style>\n",
       "    .dataframe thead tr:only-child th {\n",
       "        text-align: right;\n",
       "    }\n",
       "\n",
       "    .dataframe thead th {\n",
       "        text-align: left;\n",
       "    }\n",
       "\n",
       "    .dataframe tbody tr th {\n",
       "        vertical-align: top;\n",
       "    }\n",
       "</style>\n",
       "<table border=\"1\" class=\"dataframe\">\n",
       "  <thead>\n",
       "    <tr style=\"text-align: right;\">\n",
       "      <th></th>\n",
       "      <th>02</th>\n",
       "      <th>10</th>\n",
       "      <th>100</th>\n",
       "      <th>1291</th>\n",
       "      <th>15</th>\n",
       "      <th>150</th>\n",
       "      <th>157</th>\n",
       "      <th>1648</th>\n",
       "      <th>1798</th>\n",
       "      <th>1803</th>\n",
       "      <th>...</th>\n",
       "      <th>überzeugt</th>\n",
       "      <th>überzeugung</th>\n",
       "      <th>überzeugungen</th>\n",
       "      <th>üblich</th>\n",
       "      <th>übrigen</th>\n",
       "      <th>übt</th>\n",
       "      <th>übten</th>\n",
       "      <th>Jahr</th>\n",
       "      <th>Redner</th>\n",
       "      <th>Partei</th>\n",
       "    </tr>\n",
       "  </thead>\n",
       "  <tbody>\n",
       "    <tr>\n",
       "      <th>0</th>\n",
       "      <td>0.0</td>\n",
       "      <td>0.0</td>\n",
       "      <td>0.0</td>\n",
       "      <td>0.0</td>\n",
       "      <td>0.0</td>\n",
       "      <td>0.0</td>\n",
       "      <td>0.0</td>\n",
       "      <td>0.0</td>\n",
       "      <td>0.0</td>\n",
       "      <td>0.0</td>\n",
       "      <td>...</td>\n",
       "      <td>0.0</td>\n",
       "      <td>0.0</td>\n",
       "      <td>0.0</td>\n",
       "      <td>0.0</td>\n",
       "      <td>0.0</td>\n",
       "      <td>0.0</td>\n",
       "      <td>0.0</td>\n",
       "      <td>2017</td>\n",
       "      <td>Doris Leuthard</td>\n",
       "      <td>CVP</td>\n",
       "    </tr>\n",
       "    <tr>\n",
       "      <th>1</th>\n",
       "      <td>0.0</td>\n",
       "      <td>0.0</td>\n",
       "      <td>0.0</td>\n",
       "      <td>0.0</td>\n",
       "      <td>0.0</td>\n",
       "      <td>0.0</td>\n",
       "      <td>0.0</td>\n",
       "      <td>0.0</td>\n",
       "      <td>0.0</td>\n",
       "      <td>0.0</td>\n",
       "      <td>...</td>\n",
       "      <td>0.0</td>\n",
       "      <td>0.0</td>\n",
       "      <td>0.0</td>\n",
       "      <td>0.0</td>\n",
       "      <td>0.0</td>\n",
       "      <td>0.0</td>\n",
       "      <td>0.0</td>\n",
       "      <td>2016</td>\n",
       "      <td>Johann N. Schneider-Ammann</td>\n",
       "      <td>FDP</td>\n",
       "    </tr>\n",
       "  </tbody>\n",
       "</table>\n",
       "<p>2 rows × 4226 columns</p>\n",
       "</div>"
      ],
      "text/plain": [
       "    02   10  100  1291   15  150  157  1648  1798  1803   ...    überzeugt  \\\n",
       "0  0.0  0.0  0.0   0.0  0.0  0.0  0.0   0.0   0.0   0.0   ...          0.0   \n",
       "1  0.0  0.0  0.0   0.0  0.0  0.0  0.0   0.0   0.0   0.0   ...          0.0   \n",
       "\n",
       "   überzeugung  überzeugungen  üblich  übrigen  übt  übten  Jahr  \\\n",
       "0          0.0            0.0     0.0      0.0  0.0    0.0  2017   \n",
       "1          0.0            0.0     0.0      0.0  0.0    0.0  2016   \n",
       "\n",
       "                       Redner  Partei  \n",
       "0              Doris Leuthard     CVP  \n",
       "1  Johann N. Schneider-Ammann     FDP  \n",
       "\n",
       "[2 rows x 4226 columns]"
      ]
     },
     "execution_count": 397,
     "metadata": {},
     "output_type": "execute_result"
    }
   ],
   "source": [
    "results = pd.DataFrame(matrix.toarray(), columns=vectorizer.get_feature_names())\n",
    "results['Jahr'] = df['Jahr']\n",
    "results['Redner'] = df['Redner']\n",
    "results['Partei'] = df['Partei']\n",
    "results.head(2)"
   ]
  },
  {
   "cell_type": "markdown",
   "metadata": {},
   "source": [
    "### Word frequencies over time"
   ]
  },
  {
   "cell_type": "code",
   "execution_count": 398,
   "metadata": {},
   "outputs": [
    {
     "data": {
      "text/plain": [
       "<matplotlib.axes._subplots.AxesSubplot at 0x1207c4f28>"
      ]
     },
     "execution_count": 398,
     "metadata": {},
     "output_type": "execute_result"
    },
    {
     "data": {
      "image/png": "[encoded data removed]",
      "text/plain": [
       "<matplotlib.figure.Figure at 0x11ee4be10>"
      ]
     },
     "metadata": {},
     "output_type": "display_data"
    },
    {
     "data": {
      "image/png": "[encoded data removed]",
      "text/plain": [
       "<matplotlib.figure.Figure at 0x11ee437b8>"
      ]
     },
     "metadata": {},
     "output_type": "display_data"
    },
    {
     "data": {
      "image/png": "[encoded data removed]",
      "text/plain": [
       "<matplotlib.figure.Figure at 0x11e7d9d68>"
      ]
     },
     "metadata": {},
     "output_type": "display_data"
    },
    {
     "data": {
      "image/png": "[encoded data removed]",
      "text/plain": [
       "<matplotlib.figure.Figure at 0x11f14d828>"
      ]
     },
     "metadata": {},
     "output_type": "display_data"
    },
    {
     "data": {
      "image/png": "[encoded data removed]",
      "text/plain": [
       "<matplotlib.figure.Figure at 0x117cabfd0>"
      ]
     },
     "metadata": {},
     "output_type": "display_data"
    },
    {
     "data": {
      "image/png": "[encoded data removed]",
      "text/plain": [
       "<matplotlib.figure.Figure at 0x11f223278>"
      ]
     },
     "metadata": {},
     "output_type": "display_data"
    },
    {
     "data": {
      "image/png": "[encoded data removed]",
      "text/plain": [
       "<matplotlib.figure.Figure at 0x1201d3a20>"
      ]
     },
     "metadata": {},
     "output_type": "display_data"
    },
    {
     "data": {
      "image/png": "[encoded data removed]",
      "text/plain": [
       "<matplotlib.figure.Figure at 0x12027d588>"
      ]
     },
     "metadata": {},
     "output_type": "display_data"
    },
    {
     "data": {
      "image/png": "[encoded data removed]",
      "text/plain": [
       "<matplotlib.figure.Figure at 0x1203e5390>"
      ]
     },
     "metadata": {},
     "output_type": "display_data"
    },
    {
     "data": {
      "image/png": "[encoded data removed]",
      "text/plain": [
       "<matplotlib.figure.Figure at 0x120470550>"
      ]
     },
     "metadata": {},
     "output_type": "display_data"
    },
    {
     "data": {
      "image/png": "[encoded data removed]",
      "text/plain": [
       "<matplotlib.figure.Figure at 0x1206659b0>"
      ]
     },
     "metadata": {},
     "output_type": "display_data"
    }
   ],
   "source": [
    "results.plot(kind=\"bar\", y='schweiz', x='Jahr', figsize=(10,4))\n",
    "results.plot(kind=\"bar\", y='freiheit', x='Jahr', figsize=(10,4))\n",
    "results.plot(kind=\"bar\", y='wirtschaft', x='Jahr', figsize=(10,4))\n",
    "results.plot(kind=\"bar\", y='demokratie', x='Jahr', figsize=(10,4))\n",
    "results.plot(kind=\"bar\", y='menschen', x='Jahr', figsize=(10,4))\n",
    "results.plot(kind=\"bar\", y='heimat', x='Jahr', figsize=(10,4))\n",
    "results.plot(kind=\"bar\", y='europa', x='Jahr', figsize=(10,4))\n",
    "results.plot(kind=\"bar\", y='zukunft', x='Jahr', figsize=(10,4))\n",
    "results.plot(kind=\"bar\", y='vergangenheit', x='Jahr', figsize=(10,4))\n",
    "results.plot(kind=\"bar\", y='staat', x='Jahr', figsize=(10,4))\n",
    "results.plot(kind=\"bar\", y='wir', x='Jahr', figsize=(10,4))"
   ]
  },
  {
   "cell_type": "markdown",
   "metadata": {},
   "source": [
    "### How often they talked about Switzerland"
   ]
  },
  {
   "cell_type": "code",
   "execution_count": 399,
   "metadata": {},
   "outputs": [
    {
     "data": {
      "text/html": [
       "<div>\n",
       "<style>\n",
       "    .dataframe thead tr:only-child th {\n",
       "        text-align: right;\n",
       "    }\n",
       "\n",
       "    .dataframe thead th {\n",
       "        text-align: left;\n",
       "    }\n",
       "\n",
       "    .dataframe tbody tr th {\n",
       "        vertical-align: top;\n",
       "    }\n",
       "</style>\n",
       "<table border=\"1\" class=\"dataframe\">\n",
       "  <thead>\n",
       "    <tr style=\"text-align: right;\">\n",
       "      <th></th>\n",
       "      <th>Jahr</th>\n",
       "      <th>Redner</th>\n",
       "      <th>Partei</th>\n",
       "      <th>schweiz</th>\n",
       "    </tr>\n",
       "  </thead>\n",
       "  <tbody>\n",
       "    <tr>\n",
       "      <th>17</th>\n",
       "      <td>2000</td>\n",
       "      <td>Adolf Ogi</td>\n",
       "      <td>SVP</td>\n",
       "      <td>0.028986</td>\n",
       "    </tr>\n",
       "    <tr>\n",
       "      <th>3</th>\n",
       "      <td>2014</td>\n",
       "      <td>Didier Burkhalter</td>\n",
       "      <td>FDP</td>\n",
       "      <td>0.023015</td>\n",
       "    </tr>\n",
       "    <tr>\n",
       "      <th>4</th>\n",
       "      <td>2013</td>\n",
       "      <td>Ueli Maurer</td>\n",
       "      <td>SVP</td>\n",
       "      <td>0.019780</td>\n",
       "    </tr>\n",
       "    <tr>\n",
       "      <th>6</th>\n",
       "      <td>2011</td>\n",
       "      <td>Micheline Calmy-Rey</td>\n",
       "      <td>SP</td>\n",
       "      <td>0.015411</td>\n",
       "    </tr>\n",
       "    <tr>\n",
       "      <th>16</th>\n",
       "      <td>2001</td>\n",
       "      <td>Moritz Leuenberger</td>\n",
       "      <td>SP</td>\n",
       "      <td>0.015152</td>\n",
       "    </tr>\n",
       "  </tbody>\n",
       "</table>\n",
       "</div>"
      ],
      "text/plain": [
       "    Jahr               Redner Partei   schweiz\n",
       "17  2000            Adolf Ogi    SVP  0.028986\n",
       "3   2014    Didier Burkhalter    FDP  0.023015\n",
       "4   2013          Ueli Maurer    SVP  0.019780\n",
       "6   2011  Micheline Calmy-Rey     SP  0.015411\n",
       "16  2001   Moritz Leuenberger     SP  0.015152"
      ]
     },
     "execution_count": 399,
     "metadata": {},
     "output_type": "execute_result"
    }
   ],
   "source": [
    "results.sort_values(by=\"schweiz\", ascending=False).head(5)[['Jahr', 'Redner', 'Partei', 'schweiz']]"
   ]
  },
  {
   "cell_type": "code",
   "execution_count": 400,
   "metadata": {},
   "outputs": [
    {
     "data": {
      "text/html": [
       "<div>\n",
       "<style>\n",
       "    .dataframe thead tr:only-child th {\n",
       "        text-align: right;\n",
       "    }\n",
       "\n",
       "    .dataframe thead th {\n",
       "        text-align: left;\n",
       "    }\n",
       "\n",
       "    .dataframe tbody tr th {\n",
       "        vertical-align: top;\n",
       "    }\n",
       "</style>\n",
       "<table border=\"1\" class=\"dataframe\">\n",
       "  <thead>\n",
       "    <tr style=\"text-align: right;\">\n",
       "      <th></th>\n",
       "      <th>Jahr</th>\n",
       "      <th>Redner</th>\n",
       "      <th>Partei</th>\n",
       "      <th>schweiz</th>\n",
       "    </tr>\n",
       "  </thead>\n",
       "  <tbody>\n",
       "    <tr>\n",
       "      <th>33</th>\n",
       "      <td>1978</td>\n",
       "      <td>Willi Ritschard</td>\n",
       "      <td>SP</td>\n",
       "      <td>0.000000</td>\n",
       "    </tr>\n",
       "    <tr>\n",
       "      <th>29</th>\n",
       "      <td>1988</td>\n",
       "      <td>Otto Stich</td>\n",
       "      <td>SP</td>\n",
       "      <td>0.000000</td>\n",
       "    </tr>\n",
       "    <tr>\n",
       "      <th>27</th>\n",
       "      <td>1990</td>\n",
       "      <td>Arnold Koller</td>\n",
       "      <td>CVP</td>\n",
       "      <td>0.001927</td>\n",
       "    </tr>\n",
       "    <tr>\n",
       "      <th>8</th>\n",
       "      <td>2009</td>\n",
       "      <td>Hans-Rudolf Merz</td>\n",
       "      <td>FDP</td>\n",
       "      <td>0.002611</td>\n",
       "    </tr>\n",
       "    <tr>\n",
       "      <th>32</th>\n",
       "      <td>1985</td>\n",
       "      <td>Kurt Furgler</td>\n",
       "      <td>CVP</td>\n",
       "      <td>0.002796</td>\n",
       "    </tr>\n",
       "  </tbody>\n",
       "</table>\n",
       "</div>"
      ],
      "text/plain": [
       "    Jahr            Redner Partei   schweiz\n",
       "33  1978   Willi Ritschard     SP  0.000000\n",
       "29  1988        Otto Stich     SP  0.000000\n",
       "27  1990     Arnold Koller    CVP  0.001927\n",
       "8   2009  Hans-Rudolf Merz    FDP  0.002611\n",
       "32  1985      Kurt Furgler    CVP  0.002796"
      ]
     },
     "execution_count": 400,
     "metadata": {},
     "output_type": "execute_result"
    }
   ],
   "source": [
    "results.sort_values(by=\"schweiz\").head(5)[['Jahr', 'Redner', 'Partei', 'schweiz']]"
   ]
  },
  {
   "cell_type": "markdown",
   "metadata": {},
   "source": [
    "### What the parties are talking abut"
   ]
  },
  {
   "cell_type": "code",
   "execution_count": 401,
   "metadata": {},
   "outputs": [
    {
     "data": {
      "text/plain": [
       "Partei\n",
       "SVP    0.017389\n",
       "FDP    0.010574\n",
       "BDP    0.007673\n",
       "SP     0.006951\n",
       "CVP    0.006559\n",
       "Name: schweiz, dtype: float64"
      ]
     },
     "execution_count": 401,
     "metadata": {},
     "output_type": "execute_result"
    }
   ],
   "source": [
    "results.groupby('Partei')['schweiz'].mean().sort_values(ascending=False)"
   ]
  },
  {
   "cell_type": "code",
   "execution_count": 402,
   "metadata": {},
   "outputs": [
    {
     "data": {
      "text/plain": [
       "Partei\n",
       "BDP    0.003836\n",
       "FDP    0.001983\n",
       "SP     0.001738\n",
       "SVP    0.001503\n",
       "CVP    0.001387\n",
       "Name: europa, dtype: float64"
      ]
     },
     "execution_count": 402,
     "metadata": {},
     "output_type": "execute_result"
    }
   ],
   "source": [
    "results.groupby('Partei')['europa'].mean().sort_values(ascending=False)"
   ]
  },
  {
   "cell_type": "code",
   "execution_count": 403,
   "metadata": {},
   "outputs": [
    {
     "data": {
      "text/plain": [
       "Partei\n",
       "SP     0.004194\n",
       "FDP    0.001383\n",
       "SVP    0.001316\n",
       "BDP    0.001279\n",
       "CVP    0.001076\n",
       "Name: demokratie, dtype: float64"
      ]
     },
     "execution_count": 403,
     "metadata": {},
     "output_type": "execute_result"
    }
   ],
   "source": [
    "results.groupby('Partei')['demokratie'].mean().sort_values(ascending=False)"
   ]
  },
  {
   "cell_type": "code",
   "execution_count": 404,
   "metadata": {},
   "outputs": [
    {
     "data": {
      "text/plain": [
       "Partei\n",
       "BDP    0.037084\n",
       "SVP    0.032747\n",
       "CVP    0.027910\n",
       "SP     0.027816\n",
       "FDP    0.023586\n",
       "Name: wir, dtype: float64"
      ]
     },
     "execution_count": 404,
     "metadata": {},
     "output_type": "execute_result"
    }
   ],
   "source": [
    "results.groupby('Partei')['wir'].mean().sort_values(ascending=False)"
   ]
  },
  {
   "cell_type": "code",
   "execution_count": 405,
   "metadata": {},
   "outputs": [
    {
     "data": {
      "text/plain": [
       "Partei\n",
       "BDP    0.002558\n",
       "SP     0.002541\n",
       "FDP    0.002502\n",
       "CVP    0.002477\n",
       "SVP    0.000899\n",
       "Name: menschen, dtype: float64"
      ]
     },
     "execution_count": 405,
     "metadata": {},
     "output_type": "execute_result"
    }
   ],
   "source": [
    "results.groupby('Partei')['menschen'].mean().sort_values(ascending=False)"
   ]
  },
  {
   "cell_type": "markdown",
   "metadata": {},
   "source": [
    "### Switzerland vs the People"
   ]
  },
  {
   "cell_type": "code",
   "execution_count": 406,
   "metadata": {},
   "outputs": [
    {
     "data": {
      "text/plain": [
       "<matplotlib.text.Text at 0x1213e0048>"
      ]
     },
     "execution_count": 406,
     "metadata": {},
     "output_type": "execute_result"
    },
    {
     "data": {
      "image/png": "[encoded data removed]",
      "text/plain": [
       "<matplotlib.figure.Figure at 0x11f702828>"
      ]
     },
     "metadata": {},
     "output_type": "display_data"
    }
   ],
   "source": [
    "colormap = {\n",
    "    'SVP': 'green',\n",
    "    'SP': 'red',\n",
    "    'CVP': 'orange',\n",
    "    'FDP': 'blue',\n",
    "    'BDP': 'yellow'\n",
    "}\n",
    "colors = results['Partei'].apply(lambda partei: colormap[partei])\n",
    "\n",
    "ax = results.plot(x='schweiz', y='menschen', kind='scatter', color=colors, xlim=(0,0.03), ylim=(-0.002,0.01))\n",
    "ax.set_title(\"Wer über was spricht\")"
   ]
  },
  {
   "cell_type": "markdown",
   "metadata": {},
   "source": [
    "### Most used words"
   ]
  },
  {
   "cell_type": "code",
   "execution_count": null,
   "metadata": {
    "collapsed": true
   },
   "outputs": [],
   "source": []
  },
  {
   "cell_type": "markdown",
   "metadata": {
    "collapsed": true
   },
   "source": [
    "## Clustering"
   ]
  },
  {
   "cell_type": "markdown",
   "metadata": {},
   "source": [
    "### some stopwords"
   ]
  },
  {
   "cell_type": "code",
   "execution_count": 408,
   "metadata": {},
   "outputs": [],
   "source": [
    "with open('stopwords/stopwords_129.txt', 'r') as f:\n",
    "    stopwords_129 = re.split('\\n', f.read())"
   ]
  },
  {
   "cell_type": "code",
   "execution_count": 409,
   "metadata": {
    "collapsed": true
   },
   "outputs": [],
   "source": [
    "with open('stopwords/stopwords_621.txt', 'r') as f:\n",
    "    stopwords_621 = re.split('\\n', f.read())"
   ]
  },
  {
   "cell_type": "code",
   "execution_count": 410,
   "metadata": {
    "collapsed": true
   },
   "outputs": [],
   "source": [
    "with open('stopwords/stopwords_1852.txt', 'r') as f:\n",
    "    stopwords_1852 = re.split('\\n', f.read())"
   ]
  },
  {
   "cell_type": "code",
   "execution_count": 411,
   "metadata": {
    "collapsed": true
   },
   "outputs": [],
   "source": [
    "specific_stopwords = ['august', 'mitbürgerinnen', 'mitbürger', 'damen', 'herren', 'liebe', 'jahr', 'tag']\n",
    "#specific_stopwords += ['schweiz', 'land', 'landes']"
   ]
  },
  {
   "cell_type": "code",
   "execution_count": 412,
   "metadata": {},
   "outputs": [],
   "source": [
    "stopwords = stopwords_1852 + specific_stopwords"
   ]
  },
  {
   "cell_type": "markdown",
   "metadata": {},
   "source": [
    "### Vectorize + Cluster"
   ]
  },
  {
   "cell_type": "code",
   "execution_count": 413,
   "metadata": {
    "collapsed": true
   },
   "outputs": [],
   "source": [
    "# Vectorize and save into a new dataframe\n",
    "vec = TfidfVectorizer(stop_words=stopwords,\n",
    "                      max_df=0.9,\n",
    "                      min_df=0.1,\n",
    "                      #stop_words=custom_stopwords, #or use custom_stopwords as defined above\n",
    "                      #max_features=100,\n",
    "                      use_idf=True)\n",
    "\n",
    "# Fit from the 'text' column of our dataframe\n",
    "matrix = vec.fit_transform(df['Text'])\n",
    "\n",
    "# Then turn it into a new dataframe\n",
    "results = pd.DataFrame(matrix.toarray(), columns=vec.get_feature_names())"
   ]
  },
  {
   "cell_type": "code",
   "execution_count": 414,
   "metadata": {},
   "outputs": [
    {
     "name": "stdout",
     "output_type": "stream",
     "text": [
      "Fitting 4 clusters using a  (34, 345) matrix\n"
     ]
    },
    {
     "data": {
      "text/plain": [
       "<bound method KMeans.fit of KMeans(algorithm='auto', copy_x=True, init='k-means++', max_iter=300,\n",
       "    n_clusters=4, n_init=10, n_jobs=1, precompute_distances='auto',\n",
       "    random_state=None, tol=0.0001, verbose=0)>"
      ]
     },
     "execution_count": 414,
     "metadata": {},
     "output_type": "execute_result"
    }
   ],
   "source": [
    "# How many clusters?\n",
    "number_of_clusters=4\n",
    "km = KMeans(n_clusters=number_of_clusters)\n",
    "\n",
    "print(\"Fitting\", number_of_clusters, \"clusters using a \", matrix.shape, \"matrix\")\n",
    "\n",
    "# Let's fit it!\n",
    "km.fit(matrix)\n",
    "km.fit"
   ]
  },
  {
   "cell_type": "code",
   "execution_count": 415,
   "metadata": {},
   "outputs": [
    {
     "name": "stdout",
     "output_type": "stream",
     "text": [
      "Top terms per cluster:\n",
      "Cluster 0: geschichte entwicklung zukunft solidarität landes\n",
      "Cluster 1: demokratie welt heimat menschen staat\n",
      "Cluster 2: welt feiern zeiten unabhängigkeit europa\n",
      "Cluster 3: freiheit schweizer solidarität landes schweizerinnen\n"
     ]
    }
   ],
   "source": [
    "print(\"Top terms per cluster:\")\n",
    "order_centroids = km.cluster_centers_.argsort()[:, ::-1]\n",
    "terms = vec.get_feature_names()\n",
    "\n",
    "for i in range(number_of_clusters):\n",
    "    top_ten_words = [terms[ind] for ind in order_centroids[i, :5]]\n",
    "    print(\"Cluster {}: {}\".format(i, ' '.join(top_ten_words)))\n",
    "    "
   ]
  },
  {
   "cell_type": "code",
   "execution_count": 416,
   "metadata": {
    "scrolled": true
   },
   "outputs": [],
   "source": [
    "df['category'] = km.labels_"
   ]
  },
  {
   "cell_type": "code",
   "execution_count": 417,
   "metadata": {},
   "outputs": [
    {
     "data": {
      "text/plain": [
       "<matplotlib.axes._subplots.AxesSubplot at 0x11d616f60>"
      ]
     },
     "execution_count": 417,
     "metadata": {},
     "output_type": "execute_result"
    },
    {
     "data": {
      "image/png": "[encoded data removed]",
      "text/plain": [
       "<matplotlib.figure.Figure at 0x11d5af208>"
      ]
     },
     "metadata": {},
     "output_type": "display_data"
    }
   ],
   "source": [
    "df[['Partei', 'category']].groupby(['Partei', 'category']).size().unstack().plot(kind=\"bar\", stacked=True)"
   ]
  },
  {
   "cell_type": "code",
   "execution_count": 245,
   "metadata": {
    "collapsed": true
   },
   "outputs": [],
   "source": [
    "#Useful configs so far: max_df=0.9, min_df=0.1, number_of_clusters=4, stopwords_1852\n",
    "#There is quite some overlap over the categories. Also, the composition across parties is not very clear."
   ]
  },
  {
   "cell_type": "markdown",
   "metadata": {},
   "source": [
    "## Similarity"
   ]
  },
  {
   "cell_type": "code",
   "execution_count": 418,
   "metadata": {
    "collapsed": true
   },
   "outputs": [],
   "source": [
    "#There is actually a big difference if we use stopwords or not!!!!!!!!!\n",
    "vec = CountVectorizer(stop_words=stopwords_621)\n",
    "matrix = vec.fit_transform(df['Text'])"
   ]
  },
  {
   "cell_type": "code",
   "execution_count": 419,
   "metadata": {},
   "outputs": [
    {
     "data": {
      "text/html": [
       "<div>\n",
       "<style>\n",
       "    .dataframe thead tr:only-child th {\n",
       "        text-align: right;\n",
       "    }\n",
       "\n",
       "    .dataframe thead th {\n",
       "        text-align: left;\n",
       "    }\n",
       "\n",
       "    .dataframe tbody tr th {\n",
       "        vertical-align: top;\n",
       "    }\n",
       "</style>\n",
       "<table border=\"1\" class=\"dataframe\">\n",
       "  <thead>\n",
       "    <tr style=\"text-align: right;\">\n",
       "      <th></th>\n",
       "      <th>02</th>\n",
       "      <th>10</th>\n",
       "      <th>100</th>\n",
       "      <th>1291</th>\n",
       "      <th>15</th>\n",
       "      <th>150</th>\n",
       "      <th>157</th>\n",
       "      <th>1648</th>\n",
       "      <th>1798</th>\n",
       "      <th>1803</th>\n",
       "      <th>...</th>\n",
       "      <th>überwinden</th>\n",
       "      <th>überwindung</th>\n",
       "      <th>überwunden</th>\n",
       "      <th>überzeugt</th>\n",
       "      <th>überzeugung</th>\n",
       "      <th>überzeugungen</th>\n",
       "      <th>üblich</th>\n",
       "      <th>übrigen</th>\n",
       "      <th>übt</th>\n",
       "      <th>übten</th>\n",
       "    </tr>\n",
       "  </thead>\n",
       "  <tbody>\n",
       "    <tr>\n",
       "      <th>0</th>\n",
       "      <td>0</td>\n",
       "      <td>0</td>\n",
       "      <td>0</td>\n",
       "      <td>0</td>\n",
       "      <td>0</td>\n",
       "      <td>0</td>\n",
       "      <td>0</td>\n",
       "      <td>0</td>\n",
       "      <td>0</td>\n",
       "      <td>0</td>\n",
       "      <td>...</td>\n",
       "      <td>0</td>\n",
       "      <td>0</td>\n",
       "      <td>0</td>\n",
       "      <td>0</td>\n",
       "      <td>0</td>\n",
       "      <td>0</td>\n",
       "      <td>0</td>\n",
       "      <td>0</td>\n",
       "      <td>0</td>\n",
       "      <td>0</td>\n",
       "    </tr>\n",
       "    <tr>\n",
       "      <th>1</th>\n",
       "      <td>0</td>\n",
       "      <td>0</td>\n",
       "      <td>0</td>\n",
       "      <td>0</td>\n",
       "      <td>0</td>\n",
       "      <td>0</td>\n",
       "      <td>0</td>\n",
       "      <td>0</td>\n",
       "      <td>0</td>\n",
       "      <td>0</td>\n",
       "      <td>...</td>\n",
       "      <td>0</td>\n",
       "      <td>0</td>\n",
       "      <td>0</td>\n",
       "      <td>0</td>\n",
       "      <td>0</td>\n",
       "      <td>0</td>\n",
       "      <td>0</td>\n",
       "      <td>0</td>\n",
       "      <td>0</td>\n",
       "      <td>0</td>\n",
       "    </tr>\n",
       "  </tbody>\n",
       "</table>\n",
       "<p>2 rows × 3826 columns</p>\n",
       "</div>"
      ],
      "text/plain": [
       "   02  10  100  1291  15  150  157  1648  1798  1803  ...    überwinden  \\\n",
       "0   0   0    0     0   0    0    0     0     0     0  ...             0   \n",
       "1   0   0    0     0   0    0    0     0     0     0  ...             0   \n",
       "\n",
       "   überwindung  überwunden  überzeugt  überzeugung  überzeugungen  üblich  \\\n",
       "0            0           0          0            0              0       0   \n",
       "1            0           0          0            0              0       0   \n",
       "\n",
       "   übrigen  übt  übten  \n",
       "0        0    0      0  \n",
       "1        0    0      0  \n",
       "\n",
       "[2 rows x 3826 columns]"
      ]
     },
     "execution_count": 419,
     "metadata": {},
     "output_type": "execute_result"
    }
   ],
   "source": [
    "results = pd.DataFrame(matrix.toarray(), columns=vec.get_feature_names())\n",
    "results.head(2)"
   ]
  },
  {
   "cell_type": "markdown",
   "metadata": {},
   "source": [
    "### Most conventional and most unconventional speech"
   ]
  },
  {
   "cell_type": "code",
   "execution_count": 420,
   "metadata": {},
   "outputs": [],
   "source": [
    "results_mean = results.mean().to_frame().transpose()"
   ]
  },
  {
   "cell_type": "code",
   "execution_count": 421,
   "metadata": {},
   "outputs": [],
   "source": [
    "similarities = cosine_similarity(results, results_mean)"
   ]
  },
  {
   "cell_type": "code",
   "execution_count": 422,
   "metadata": {},
   "outputs": [],
   "source": [
    "df['conventionality'] = similarities"
   ]
  },
  {
   "cell_type": "code",
   "execution_count": 423,
   "metadata": {},
   "outputs": [
    {
     "data": {
      "text/html": [
       "<div>\n",
       "<style>\n",
       "    .dataframe thead tr:only-child th {\n",
       "        text-align: right;\n",
       "    }\n",
       "\n",
       "    .dataframe thead th {\n",
       "        text-align: left;\n",
       "    }\n",
       "\n",
       "    .dataframe tbody tr th {\n",
       "        vertical-align: top;\n",
       "    }\n",
       "</style>\n",
       "<table border=\"1\" class=\"dataframe\">\n",
       "  <thead>\n",
       "    <tr style=\"text-align: right;\">\n",
       "      <th></th>\n",
       "      <th>Jahr</th>\n",
       "      <th>Redner</th>\n",
       "      <th>conventionality</th>\n",
       "    </tr>\n",
       "  </thead>\n",
       "  <tbody>\n",
       "    <tr>\n",
       "      <th>29</th>\n",
       "      <td>1988</td>\n",
       "      <td>Otto Stich</td>\n",
       "      <td>0.337685</td>\n",
       "    </tr>\n",
       "    <tr>\n",
       "      <th>8</th>\n",
       "      <td>2009</td>\n",
       "      <td>Hans-Rudolf Merz</td>\n",
       "      <td>0.350926</td>\n",
       "    </tr>\n",
       "    <tr>\n",
       "      <th>11</th>\n",
       "      <td>2006</td>\n",
       "      <td>Moritz Leuenberger</td>\n",
       "      <td>0.367713</td>\n",
       "    </tr>\n",
       "    <tr>\n",
       "      <th>31</th>\n",
       "      <td>1986</td>\n",
       "      <td>Alphons Egli</td>\n",
       "      <td>0.370697</td>\n",
       "    </tr>\n",
       "    <tr>\n",
       "      <th>27</th>\n",
       "      <td>1990</td>\n",
       "      <td>Arnold Koller</td>\n",
       "      <td>0.411946</td>\n",
       "    </tr>\n",
       "  </tbody>\n",
       "</table>\n",
       "</div>"
      ],
      "text/plain": [
       "    Jahr              Redner  conventionality\n",
       "29  1988          Otto Stich         0.337685\n",
       "8   2009    Hans-Rudolf Merz         0.350926\n",
       "11  2006  Moritz Leuenberger         0.367713\n",
       "31  1986        Alphons Egli         0.370697\n",
       "27  1990       Arnold Koller         0.411946"
      ]
     },
     "execution_count": 423,
     "metadata": {},
     "output_type": "execute_result"
    }
   ],
   "source": [
    "#The least conventional speeches\n",
    "df.sort_values(by=\"conventionality\").head(5)[['Jahr', 'Redner', 'conventionality']]"
   ]
  },
  {
   "cell_type": "code",
   "execution_count": 424,
   "metadata": {},
   "outputs": [
    {
     "data": {
      "text/html": [
       "<div>\n",
       "<style>\n",
       "    .dataframe thead tr:only-child th {\n",
       "        text-align: right;\n",
       "    }\n",
       "\n",
       "    .dataframe thead th {\n",
       "        text-align: left;\n",
       "    }\n",
       "\n",
       "    .dataframe tbody tr th {\n",
       "        vertical-align: top;\n",
       "    }\n",
       "</style>\n",
       "<table border=\"1\" class=\"dataframe\">\n",
       "  <thead>\n",
       "    <tr style=\"text-align: right;\">\n",
       "      <th></th>\n",
       "      <th>Jahr</th>\n",
       "      <th>Redner</th>\n",
       "      <th>conventionality</th>\n",
       "    </tr>\n",
       "  </thead>\n",
       "  <tbody>\n",
       "    <tr>\n",
       "      <th>24</th>\n",
       "      <td>1993</td>\n",
       "      <td>Adolf Ogi</td>\n",
       "      <td>0.619549</td>\n",
       "    </tr>\n",
       "    <tr>\n",
       "      <th>4</th>\n",
       "      <td>2013</td>\n",
       "      <td>Ueli Maurer</td>\n",
       "      <td>0.609257</td>\n",
       "    </tr>\n",
       "    <tr>\n",
       "      <th>3</th>\n",
       "      <td>2014</td>\n",
       "      <td>Didier Burkhalter</td>\n",
       "      <td>0.601521</td>\n",
       "    </tr>\n",
       "    <tr>\n",
       "      <th>10</th>\n",
       "      <td>2007</td>\n",
       "      <td>Micheline Calmy-Rey</td>\n",
       "      <td>0.559960</td>\n",
       "    </tr>\n",
       "    <tr>\n",
       "      <th>17</th>\n",
       "      <td>2000</td>\n",
       "      <td>Adolf Ogi</td>\n",
       "      <td>0.551561</td>\n",
       "    </tr>\n",
       "  </tbody>\n",
       "</table>\n",
       "</div>"
      ],
      "text/plain": [
       "    Jahr               Redner  conventionality\n",
       "24  1993            Adolf Ogi         0.619549\n",
       "4   2013          Ueli Maurer         0.609257\n",
       "3   2014    Didier Burkhalter         0.601521\n",
       "10  2007  Micheline Calmy-Rey         0.559960\n",
       "17  2000            Adolf Ogi         0.551561"
      ]
     },
     "execution_count": 424,
     "metadata": {},
     "output_type": "execute_result"
    }
   ],
   "source": [
    "#The most conventional speeches\n",
    "df.sort_values(by=\"conventionality\", ascending=False).head(5)[['Jahr', 'Redner', 'conventionality']]"
   ]
  },
  {
   "cell_type": "markdown",
   "metadata": {},
   "source": [
    "### Conventionality by parties"
   ]
  },
  {
   "cell_type": "code",
   "execution_count": 425,
   "metadata": {},
   "outputs": [
    {
     "data": {
      "text/plain": [
       "Partei\n",
       "BDP    0.514143\n",
       "CVP    0.471373\n",
       "FDP    0.493575\n",
       "SP     0.479186\n",
       "SVP    0.572353\n",
       "Name: conventionality, dtype: float64"
      ]
     },
     "execution_count": 425,
     "metadata": {},
     "output_type": "execute_result"
    }
   ],
   "source": [
    "#This totally makes sense\n",
    "df.groupby('Partei')['conventionality'].mean()"
   ]
  },
  {
   "cell_type": "code",
   "execution_count": 426,
   "metadata": {},
   "outputs": [
    {
     "data": {
      "image/png": "[encoded data removed]",
      "text/plain": [
       "<matplotlib.figure.Figure at 0x11d776d30>"
      ]
     },
     "metadata": {},
     "output_type": "display_data"
    }
   ],
   "source": [
    "colormap = {\n",
    "    'SVP': 'green',\n",
    "    'SP': 'red',\n",
    "    'CVP': 'orange',\n",
    "    'FDP': 'blue',\n",
    "    'BDP': 'yellow'\n",
    "}\n",
    "placemap = {\n",
    "    'SVP': 5,\n",
    "    'SP': 1,\n",
    "    'CVP': 3,\n",
    "    'FDP': 4,\n",
    "    'BDP': 2\n",
    "}\n",
    "colors = df['Partei'].apply(lambda partei: colormap[partei])\n",
    "df['places'] = df['Partei'].apply(lambda partei: placemap[partei])\n",
    "\n",
    "\n",
    "ax = df.plot(x='places', y='conventionality', kind='scatter', color=colors, s=150, alpha=0.8)"
   ]
  },
  {
   "cell_type": "markdown",
   "metadata": {},
   "source": [
    "## Emotions"
   ]
  },
  {
   "cell_type": "code",
   "execution_count": 427,
   "metadata": {
    "collapsed": true
   },
   "outputs": [],
   "source": [
    "#Nomad"
   ]
  },
  {
   "cell_type": "markdown",
   "metadata": {},
   "source": [
    "## set up the emolex"
   ]
  },
  {
   "cell_type": "code",
   "execution_count": 428,
   "metadata": {},
   "outputs": [
    {
     "data": {
      "text/html": [
       "<div>\n",
       "<style>\n",
       "    .dataframe thead tr:only-child th {\n",
       "        text-align: right;\n",
       "    }\n",
       "\n",
       "    .dataframe thead th {\n",
       "        text-align: left;\n",
       "    }\n",
       "\n",
       "    .dataframe tbody tr th {\n",
       "        vertical-align: top;\n",
       "    }\n",
       "</style>\n",
       "<table border=\"1\" class=\"dataframe\">\n",
       "  <thead>\n",
       "    <tr style=\"text-align: right;\">\n",
       "      <th></th>\n",
       "      <th>word</th>\n",
       "      <th>positive</th>\n",
       "      <th>negative</th>\n",
       "      <th>anger</th>\n",
       "      <th>anticipation</th>\n",
       "      <th>disgust</th>\n",
       "      <th>fear</th>\n",
       "      <th>joy</th>\n",
       "      <th>sadness</th>\n",
       "      <th>surprise</th>\n",
       "      <th>trust</th>\n",
       "    </tr>\n",
       "  </thead>\n",
       "  <tbody>\n",
       "    <tr>\n",
       "      <th>0</th>\n",
       "      <td>Aal</td>\n",
       "      <td>0</td>\n",
       "      <td>0</td>\n",
       "      <td>0</td>\n",
       "      <td>0</td>\n",
       "      <td>0</td>\n",
       "      <td>1</td>\n",
       "      <td>0</td>\n",
       "      <td>0</td>\n",
       "      <td>0</td>\n",
       "      <td>0</td>\n",
       "    </tr>\n",
       "    <tr>\n",
       "      <th>1</th>\n",
       "      <td>Aasfresser</td>\n",
       "      <td>0</td>\n",
       "      <td>1</td>\n",
       "      <td>0</td>\n",
       "      <td>0</td>\n",
       "      <td>0</td>\n",
       "      <td>0</td>\n",
       "      <td>0</td>\n",
       "      <td>0</td>\n",
       "      <td>0</td>\n",
       "      <td>0</td>\n",
       "    </tr>\n",
       "  </tbody>\n",
       "</table>\n",
       "</div>"
      ],
      "text/plain": [
       "         word  positive  negative  anger  anticipation  disgust  fear  joy  \\\n",
       "0         Aal         0         0      0             0        0     1    0   \n",
       "1  Aasfresser         0         1      0             0        0     0    0   \n",
       "\n",
       "   sadness  surprise  trust  \n",
       "0        0         0      0  \n",
       "1        0         0      0  "
      ]
     },
     "execution_count": 428,
     "metadata": {},
     "output_type": "execute_result"
    }
   ],
   "source": [
    "filepath = \"emolex/NRC-Emotion-Lexicon-v0.92-InManyLanguages-German.xlsx\"\n",
    "emolex_df = pd.read_excel(filepath)\n",
    "emolex_df.head(2)"
   ]
  },
  {
   "cell_type": "code",
   "execution_count": 429,
   "metadata": {},
   "outputs": [
    {
     "data": {
      "text/plain": [
       "(11812, 11)"
      ]
     },
     "execution_count": 429,
     "metadata": {},
     "output_type": "execute_result"
    }
   ],
   "source": [
    "emolex_df.shape"
   ]
  },
  {
   "cell_type": "code",
   "execution_count": 430,
   "metadata": {},
   "outputs": [
    {
     "data": {
      "text/plain": [
       "(9629, 11)"
      ]
     },
     "execution_count": 430,
     "metadata": {},
     "output_type": "execute_result"
    }
   ],
   "source": [
    "#There are about 1500 duplicates\n",
    "emolex_df.drop_duplicates(subset='word', inplace=True)\n",
    "emolex_df.shape"
   ]
  },
  {
   "cell_type": "code",
   "execution_count": 431,
   "metadata": {
    "collapsed": true
   },
   "outputs": [],
   "source": [
    "positive_words = emolex_df[emolex_df.positive == 1].word\n",
    "negative_words = emolex_df[emolex_df.negative == 1].word\n",
    "anger_words = emolex_df[emolex_df.anger == 1].word\n",
    "anticipation_words = emolex_df[emolex_df.anticipation == 1].word\n",
    "disgust_words = emolex_df[emolex_df.disgust == 1].word\n",
    "fear_words = emolex_df[emolex_df.fear == 1].word\n",
    "joy_words = emolex_df[emolex_df.joy == 1].word\n",
    "sadness_words = emolex_df[emolex_df.sadness == 1].word\n",
    "surprise_words = emolex_df[emolex_df.surprise == 1].word\n",
    "trust_words = emolex_df[emolex_df.trust == 1].word"
   ]
  },
  {
   "cell_type": "code",
   "execution_count": 432,
   "metadata": {},
   "outputs": [
    {
     "data": {
      "text/html": [
       "<div>\n",
       "<style>\n",
       "    .dataframe thead tr:only-child th {\n",
       "        text-align: right;\n",
       "    }\n",
       "\n",
       "    .dataframe thead th {\n",
       "        text-align: left;\n",
       "    }\n",
       "\n",
       "    .dataframe tbody tr th {\n",
       "        vertical-align: top;\n",
       "    }\n",
       "</style>\n",
       "<table border=\"1\" class=\"dataframe\">\n",
       "  <thead>\n",
       "    <tr style=\"text-align: right;\">\n",
       "      <th></th>\n",
       "      <th>word</th>\n",
       "      <th>positive</th>\n",
       "      <th>negative</th>\n",
       "      <th>anger</th>\n",
       "      <th>anticipation</th>\n",
       "      <th>disgust</th>\n",
       "      <th>fear</th>\n",
       "      <th>joy</th>\n",
       "      <th>sadness</th>\n",
       "      <th>surprise</th>\n",
       "      <th>trust</th>\n",
       "    </tr>\n",
       "  </thead>\n",
       "  <tbody>\n",
       "    <tr>\n",
       "      <th>2129</th>\n",
       "      <td>Demokratie</td>\n",
       "      <td>1</td>\n",
       "      <td>0</td>\n",
       "      <td>0</td>\n",
       "      <td>0</td>\n",
       "      <td>0</td>\n",
       "      <td>0</td>\n",
       "      <td>0</td>\n",
       "      <td>0</td>\n",
       "      <td>0</td>\n",
       "      <td>0</td>\n",
       "    </tr>\n",
       "  </tbody>\n",
       "</table>\n",
       "</div>"
      ],
      "text/plain": [
       "            word  positive  negative  anger  anticipation  disgust  fear  joy  \\\n",
       "2129  Demokratie         1         0      0             0        0     0    0   \n",
       "\n",
       "      sadness  surprise  trust  \n",
       "2129        0         0      0  "
      ]
     },
     "execution_count": 432,
     "metadata": {},
     "output_type": "execute_result"
    }
   ],
   "source": [
    "emolex_df[emolex_df['word'] == 'Demokratie']"
   ]
  },
  {
   "cell_type": "markdown",
   "metadata": {},
   "source": [
    "### Vectorize the speeches"
   ]
  },
  {
   "cell_type": "code",
   "execution_count": 433,
   "metadata": {},
   "outputs": [
    {
     "data": {
      "text/html": [
       "<div>\n",
       "<style>\n",
       "    .dataframe thead tr:only-child th {\n",
       "        text-align: right;\n",
       "    }\n",
       "\n",
       "    .dataframe thead th {\n",
       "        text-align: left;\n",
       "    }\n",
       "\n",
       "    .dataframe tbody tr th {\n",
       "        vertical-align: top;\n",
       "    }\n",
       "</style>\n",
       "<table border=\"1\" class=\"dataframe\">\n",
       "  <thead>\n",
       "    <tr style=\"text-align: right;\">\n",
       "      <th></th>\n",
       "      <th>Aal</th>\n",
       "      <th>Aasfresser</th>\n",
       "      <th>Abakus</th>\n",
       "      <th>abba</th>\n",
       "      <th>abbauen</th>\n",
       "      <th>Abbaustoffwechsel</th>\n",
       "      <th>abbilden</th>\n",
       "      <th>Abbildung</th>\n",
       "      <th>abbrechen</th>\n",
       "      <th>Abdeckung</th>\n",
       "      <th>...</th>\n",
       "      <th>Zyanid</th>\n",
       "      <th>zyklisch</th>\n",
       "      <th>Zyklon</th>\n",
       "      <th>Zyklus</th>\n",
       "      <th>Zylinder</th>\n",
       "      <th>zylindrisch</th>\n",
       "      <th>Zyniker</th>\n",
       "      <th>Zyste</th>\n",
       "      <th>zystische</th>\n",
       "      <th>Zytoplasma</th>\n",
       "    </tr>\n",
       "  </thead>\n",
       "  <tbody>\n",
       "    <tr>\n",
       "      <th>0</th>\n",
       "      <td>0.0</td>\n",
       "      <td>0.0</td>\n",
       "      <td>0.0</td>\n",
       "      <td>0.0</td>\n",
       "      <td>0.0</td>\n",
       "      <td>0.0</td>\n",
       "      <td>0.0</td>\n",
       "      <td>0.0</td>\n",
       "      <td>0.0</td>\n",
       "      <td>0.0</td>\n",
       "      <td>...</td>\n",
       "      <td>0.0</td>\n",
       "      <td>0.0</td>\n",
       "      <td>0.0</td>\n",
       "      <td>0.0</td>\n",
       "      <td>0.0</td>\n",
       "      <td>0.0</td>\n",
       "      <td>0.0</td>\n",
       "      <td>0.0</td>\n",
       "      <td>0.0</td>\n",
       "      <td>0.0</td>\n",
       "    </tr>\n",
       "    <tr>\n",
       "      <th>1</th>\n",
       "      <td>0.0</td>\n",
       "      <td>0.0</td>\n",
       "      <td>0.0</td>\n",
       "      <td>0.0</td>\n",
       "      <td>0.0</td>\n",
       "      <td>0.0</td>\n",
       "      <td>0.0</td>\n",
       "      <td>0.0</td>\n",
       "      <td>0.0</td>\n",
       "      <td>0.0</td>\n",
       "      <td>...</td>\n",
       "      <td>0.0</td>\n",
       "      <td>0.0</td>\n",
       "      <td>0.0</td>\n",
       "      <td>0.0</td>\n",
       "      <td>0.0</td>\n",
       "      <td>0.0</td>\n",
       "      <td>0.0</td>\n",
       "      <td>0.0</td>\n",
       "      <td>0.0</td>\n",
       "      <td>0.0</td>\n",
       "    </tr>\n",
       "    <tr>\n",
       "      <th>2</th>\n",
       "      <td>0.0</td>\n",
       "      <td>0.0</td>\n",
       "      <td>0.0</td>\n",
       "      <td>0.0</td>\n",
       "      <td>0.0</td>\n",
       "      <td>0.0</td>\n",
       "      <td>0.0</td>\n",
       "      <td>0.0</td>\n",
       "      <td>0.0</td>\n",
       "      <td>0.0</td>\n",
       "      <td>...</td>\n",
       "      <td>0.0</td>\n",
       "      <td>0.0</td>\n",
       "      <td>0.0</td>\n",
       "      <td>0.0</td>\n",
       "      <td>0.0</td>\n",
       "      <td>0.0</td>\n",
       "      <td>0.0</td>\n",
       "      <td>0.0</td>\n",
       "      <td>0.0</td>\n",
       "      <td>0.0</td>\n",
       "    </tr>\n",
       "    <tr>\n",
       "      <th>3</th>\n",
       "      <td>0.0</td>\n",
       "      <td>0.0</td>\n",
       "      <td>0.0</td>\n",
       "      <td>0.0</td>\n",
       "      <td>0.0</td>\n",
       "      <td>0.0</td>\n",
       "      <td>0.0</td>\n",
       "      <td>0.0</td>\n",
       "      <td>0.0</td>\n",
       "      <td>0.0</td>\n",
       "      <td>...</td>\n",
       "      <td>0.0</td>\n",
       "      <td>0.0</td>\n",
       "      <td>0.0</td>\n",
       "      <td>0.0</td>\n",
       "      <td>0.0</td>\n",
       "      <td>0.0</td>\n",
       "      <td>0.0</td>\n",
       "      <td>0.0</td>\n",
       "      <td>0.0</td>\n",
       "      <td>0.0</td>\n",
       "    </tr>\n",
       "    <tr>\n",
       "      <th>4</th>\n",
       "      <td>0.0</td>\n",
       "      <td>0.0</td>\n",
       "      <td>0.0</td>\n",
       "      <td>0.0</td>\n",
       "      <td>0.0</td>\n",
       "      <td>0.0</td>\n",
       "      <td>0.0</td>\n",
       "      <td>0.0</td>\n",
       "      <td>0.0</td>\n",
       "      <td>0.0</td>\n",
       "      <td>...</td>\n",
       "      <td>0.0</td>\n",
       "      <td>0.0</td>\n",
       "      <td>0.0</td>\n",
       "      <td>0.0</td>\n",
       "      <td>0.0</td>\n",
       "      <td>0.0</td>\n",
       "      <td>0.0</td>\n",
       "      <td>0.0</td>\n",
       "      <td>0.0</td>\n",
       "      <td>0.0</td>\n",
       "    </tr>\n",
       "  </tbody>\n",
       "</table>\n",
       "<p>5 rows × 9629 columns</p>\n",
       "</div>"
      ],
      "text/plain": [
       "   Aal  Aasfresser  Abakus  abba  abbauen  Abbaustoffwechsel  abbilden  \\\n",
       "0  0.0         0.0     0.0   0.0      0.0                0.0       0.0   \n",
       "1  0.0         0.0     0.0   0.0      0.0                0.0       0.0   \n",
       "2  0.0         0.0     0.0   0.0      0.0                0.0       0.0   \n",
       "3  0.0         0.0     0.0   0.0      0.0                0.0       0.0   \n",
       "4  0.0         0.0     0.0   0.0      0.0                0.0       0.0   \n",
       "\n",
       "   Abbildung  abbrechen  Abdeckung     ...      Zyanid  zyklisch  Zyklon  \\\n",
       "0        0.0        0.0        0.0     ...         0.0       0.0     0.0   \n",
       "1        0.0        0.0        0.0     ...         0.0       0.0     0.0   \n",
       "2        0.0        0.0        0.0     ...         0.0       0.0     0.0   \n",
       "3        0.0        0.0        0.0     ...         0.0       0.0     0.0   \n",
       "4        0.0        0.0        0.0     ...         0.0       0.0     0.0   \n",
       "\n",
       "   Zyklus  Zylinder  zylindrisch  Zyniker  Zyste  zystische  Zytoplasma  \n",
       "0     0.0       0.0          0.0      0.0    0.0        0.0         0.0  \n",
       "1     0.0       0.0          0.0      0.0    0.0        0.0         0.0  \n",
       "2     0.0       0.0          0.0      0.0    0.0        0.0         0.0  \n",
       "3     0.0       0.0          0.0      0.0    0.0        0.0         0.0  \n",
       "4     0.0       0.0          0.0      0.0    0.0        0.0         0.0  \n",
       "\n",
       "[5 rows x 9629 columns]"
      ]
     },
     "execution_count": 433,
     "metadata": {},
     "output_type": "execute_result"
    }
   ],
   "source": [
    "vec = TfidfVectorizer(vocabulary=emolex_df.word,\n",
    "                      use_idf=False,\n",
    "                      norm='l1')\n",
    "\n",
    "matrix = vec.fit_transform(df['Text'])\n",
    "wordcount_df = pd.DataFrame(matrix.toarray(), columns=vec.get_feature_names())\n",
    "wordcount_df.head()"
   ]
  },
  {
   "cell_type": "code",
   "execution_count": 434,
   "metadata": {
    "collapsed": true
   },
   "outputs": [],
   "source": [
    "df['positive'] = wordcount_df[positive_words].sum(axis=1)\n",
    "df['negative'] = wordcount_df[negative_words].sum(axis=1)\n",
    "df['anger'] = wordcount_df[anger_words].sum(axis=1)\n",
    "df['anticipation'] = wordcount_df[anticipation_words].sum(axis=1)\n",
    "df['disgust'] = wordcount_df[disgust_words].sum(axis=1)\n",
    "df['fear'] = wordcount_df[fear_words].sum(axis=1)\n",
    "df['joy'] = wordcount_df[joy_words].sum(axis=1)\n",
    "df['sadness'] = wordcount_df[sadness_words].sum(axis=1)\n",
    "df['surprise'] = wordcount_df[surprise_words].sum(axis=1)\n",
    "df['trust'] = wordcount_df[trust_words].sum(axis=1)"
   ]
  },
  {
   "cell_type": "code",
   "execution_count": 442,
   "metadata": {
    "collapsed": true
   },
   "outputs": [],
   "source": [
    "df['emotionality'] = df.anger + df.anticipation + df.disgust + df.fear + df.joy + df.sadness + df.surprise + df.trust"
   ]
  },
  {
   "cell_type": "markdown",
   "metadata": {},
   "source": [
    "### Rank speeches by emotion"
   ]
  },
  {
   "cell_type": "code",
   "execution_count": 441,
   "metadata": {},
   "outputs": [
    {
     "data": {
      "text/html": [
       "<div>\n",
       "<style>\n",
       "    .dataframe thead tr:only-child th {\n",
       "        text-align: right;\n",
       "    }\n",
       "\n",
       "    .dataframe thead th {\n",
       "        text-align: left;\n",
       "    }\n",
       "\n",
       "    .dataframe tbody tr th {\n",
       "        vertical-align: top;\n",
       "    }\n",
       "</style>\n",
       "<table border=\"1\" class=\"dataframe\">\n",
       "  <thead>\n",
       "    <tr style=\"text-align: right;\">\n",
       "      <th></th>\n",
       "      <th>Jahr</th>\n",
       "      <th>Redner</th>\n",
       "      <th>negative</th>\n",
       "    </tr>\n",
       "  </thead>\n",
       "  <tbody>\n",
       "    <tr>\n",
       "      <th>21</th>\n",
       "      <td>1996</td>\n",
       "      <td>Jean-Pascal Delamuraz</td>\n",
       "      <td>0.255319</td>\n",
       "    </tr>\n",
       "    <tr>\n",
       "      <th>24</th>\n",
       "      <td>1993</td>\n",
       "      <td>Adolf Ogi</td>\n",
       "      <td>0.196721</td>\n",
       "    </tr>\n",
       "    <tr>\n",
       "      <th>11</th>\n",
       "      <td>2006</td>\n",
       "      <td>Moritz Leuenberger</td>\n",
       "      <td>0.195122</td>\n",
       "    </tr>\n",
       "    <tr>\n",
       "      <th>18</th>\n",
       "      <td>1999</td>\n",
       "      <td>Ruth Dreifuss</td>\n",
       "      <td>0.186047</td>\n",
       "    </tr>\n",
       "    <tr>\n",
       "      <th>4</th>\n",
       "      <td>2013</td>\n",
       "      <td>Ueli Maurer</td>\n",
       "      <td>0.177778</td>\n",
       "    </tr>\n",
       "  </tbody>\n",
       "</table>\n",
       "</div>"
      ],
      "text/plain": [
       "    Jahr                 Redner  negative\n",
       "21  1996  Jean-Pascal Delamuraz  0.255319\n",
       "24  1993              Adolf Ogi  0.196721\n",
       "11  2006     Moritz Leuenberger  0.195122\n",
       "18  1999          Ruth Dreifuss  0.186047\n",
       "4   2013            Ueli Maurer  0.177778"
      ]
     },
     "execution_count": 441,
     "metadata": {},
     "output_type": "execute_result"
    }
   ],
   "source": [
    "#the most negative\n",
    "df.sort_values(by=\"negative\", ascending=False)[['Jahr', 'Redner', 'negative']].head(5)"
   ]
  },
  {
   "cell_type": "code",
   "execution_count": 437,
   "metadata": {},
   "outputs": [
    {
     "data": {
      "text/html": [
       "<div>\n",
       "<style>\n",
       "    .dataframe thead tr:only-child th {\n",
       "        text-align: right;\n",
       "    }\n",
       "\n",
       "    .dataframe thead th {\n",
       "        text-align: left;\n",
       "    }\n",
       "\n",
       "    .dataframe tbody tr th {\n",
       "        vertical-align: top;\n",
       "    }\n",
       "</style>\n",
       "<table border=\"1\" class=\"dataframe\">\n",
       "  <thead>\n",
       "    <tr style=\"text-align: right;\">\n",
       "      <th></th>\n",
       "      <th>Jahr</th>\n",
       "      <th>Redner</th>\n",
       "      <th>positive</th>\n",
       "    </tr>\n",
       "  </thead>\n",
       "  <tbody>\n",
       "    <tr>\n",
       "      <th>8</th>\n",
       "      <td>2009</td>\n",
       "      <td>Hans-Rudolf Merz</td>\n",
       "      <td>0.481481</td>\n",
       "    </tr>\n",
       "    <tr>\n",
       "      <th>16</th>\n",
       "      <td>2001</td>\n",
       "      <td>Moritz Leuenberger</td>\n",
       "      <td>0.472222</td>\n",
       "    </tr>\n",
       "    <tr>\n",
       "      <th>9</th>\n",
       "      <td>2008</td>\n",
       "      <td>Pascal Couchepin</td>\n",
       "      <td>0.384615</td>\n",
       "    </tr>\n",
       "    <tr>\n",
       "      <th>1</th>\n",
       "      <td>2016</td>\n",
       "      <td>Johann N. Schneider-Ammann</td>\n",
       "      <td>0.380952</td>\n",
       "    </tr>\n",
       "    <tr>\n",
       "      <th>17</th>\n",
       "      <td>2000</td>\n",
       "      <td>Adolf Ogi</td>\n",
       "      <td>0.375000</td>\n",
       "    </tr>\n",
       "  </tbody>\n",
       "</table>\n",
       "</div>"
      ],
      "text/plain": [
       "    Jahr                      Redner  positive\n",
       "8   2009            Hans-Rudolf Merz  0.481481\n",
       "16  2001          Moritz Leuenberger  0.472222\n",
       "9   2008            Pascal Couchepin  0.384615\n",
       "1   2016  Johann N. Schneider-Ammann  0.380952\n",
       "17  2000                   Adolf Ogi  0.375000"
      ]
     },
     "execution_count": 437,
     "metadata": {},
     "output_type": "execute_result"
    }
   ],
   "source": [
    "#the most positive\n",
    "df.sort_values(by=\"positive\", ascending=False)[['Jahr', 'Redner', 'positive']].head(5)"
   ]
  },
  {
   "cell_type": "code",
   "execution_count": 438,
   "metadata": {},
   "outputs": [
    {
     "data": {
      "text/html": [
       "<div>\n",
       "<style>\n",
       "    .dataframe thead tr:only-child th {\n",
       "        text-align: right;\n",
       "    }\n",
       "\n",
       "    .dataframe thead th {\n",
       "        text-align: left;\n",
       "    }\n",
       "\n",
       "    .dataframe tbody tr th {\n",
       "        vertical-align: top;\n",
       "    }\n",
       "</style>\n",
       "<table border=\"1\" class=\"dataframe\">\n",
       "  <thead>\n",
       "    <tr style=\"text-align: right;\">\n",
       "      <th></th>\n",
       "      <th>Jahr</th>\n",
       "      <th>Redner</th>\n",
       "      <th>anger</th>\n",
       "    </tr>\n",
       "  </thead>\n",
       "  <tbody>\n",
       "    <tr>\n",
       "      <th>25</th>\n",
       "      <td>1992</td>\n",
       "      <td>René Felber</td>\n",
       "      <td>0.111111</td>\n",
       "    </tr>\n",
       "    <tr>\n",
       "      <th>30</th>\n",
       "      <td>1987</td>\n",
       "      <td>Pierre Aubert</td>\n",
       "      <td>0.071429</td>\n",
       "    </tr>\n",
       "    <tr>\n",
       "      <th>24</th>\n",
       "      <td>1993</td>\n",
       "      <td>Adolf Ogi</td>\n",
       "      <td>0.065574</td>\n",
       "    </tr>\n",
       "    <tr>\n",
       "      <th>6</th>\n",
       "      <td>2011</td>\n",
       "      <td>Micheline Calmy-Rey</td>\n",
       "      <td>0.062500</td>\n",
       "    </tr>\n",
       "    <tr>\n",
       "      <th>12</th>\n",
       "      <td>2005</td>\n",
       "      <td>Samuel Schmid</td>\n",
       "      <td>0.060000</td>\n",
       "    </tr>\n",
       "  </tbody>\n",
       "</table>\n",
       "</div>"
      ],
      "text/plain": [
       "    Jahr               Redner     anger\n",
       "25  1992          René Felber  0.111111\n",
       "30  1987        Pierre Aubert  0.071429\n",
       "24  1993            Adolf Ogi  0.065574\n",
       "6   2011  Micheline Calmy-Rey  0.062500\n",
       "12  2005        Samuel Schmid  0.060000"
      ]
     },
     "execution_count": 438,
     "metadata": {},
     "output_type": "execute_result"
    }
   ],
   "source": [
    "#the most angry\n",
    "df.sort_values(by=\"anger\", ascending=False)[['Jahr', 'Redner', 'anger']].head(5)"
   ]
  },
  {
   "cell_type": "code",
   "execution_count": 439,
   "metadata": {},
   "outputs": [
    {
     "data": {
      "text/html": [
       "<div>\n",
       "<style>\n",
       "    .dataframe thead tr:only-child th {\n",
       "        text-align: right;\n",
       "    }\n",
       "\n",
       "    .dataframe thead th {\n",
       "        text-align: left;\n",
       "    }\n",
       "\n",
       "    .dataframe tbody tr th {\n",
       "        vertical-align: top;\n",
       "    }\n",
       "</style>\n",
       "<table border=\"1\" class=\"dataframe\">\n",
       "  <thead>\n",
       "    <tr style=\"text-align: right;\">\n",
       "      <th></th>\n",
       "      <th>Jahr</th>\n",
       "      <th>Redner</th>\n",
       "      <th>joy</th>\n",
       "    </tr>\n",
       "  </thead>\n",
       "  <tbody>\n",
       "    <tr>\n",
       "      <th>8</th>\n",
       "      <td>2009</td>\n",
       "      <td>Hans-Rudolf Merz</td>\n",
       "      <td>0.222222</td>\n",
       "    </tr>\n",
       "    <tr>\n",
       "      <th>16</th>\n",
       "      <td>2001</td>\n",
       "      <td>Moritz Leuenberger</td>\n",
       "      <td>0.222222</td>\n",
       "    </tr>\n",
       "    <tr>\n",
       "      <th>20</th>\n",
       "      <td>1997</td>\n",
       "      <td>Arnold Koller</td>\n",
       "      <td>0.214286</td>\n",
       "    </tr>\n",
       "    <tr>\n",
       "      <th>10</th>\n",
       "      <td>2007</td>\n",
       "      <td>Micheline Calmy-Rey</td>\n",
       "      <td>0.181818</td>\n",
       "    </tr>\n",
       "    <tr>\n",
       "      <th>9</th>\n",
       "      <td>2008</td>\n",
       "      <td>Pascal Couchepin</td>\n",
       "      <td>0.173077</td>\n",
       "    </tr>\n",
       "  </tbody>\n",
       "</table>\n",
       "</div>"
      ],
      "text/plain": [
       "    Jahr               Redner       joy\n",
       "8   2009     Hans-Rudolf Merz  0.222222\n",
       "16  2001   Moritz Leuenberger  0.222222\n",
       "20  1997        Arnold Koller  0.214286\n",
       "10  2007  Micheline Calmy-Rey  0.181818\n",
       "9   2008     Pascal Couchepin  0.173077"
      ]
     },
     "execution_count": 439,
     "metadata": {},
     "output_type": "execute_result"
    }
   ],
   "source": [
    "#the most joyful\n",
    "df.sort_values(by=\"joy\", ascending=False)[['Jahr', 'Redner', 'joy']].head(5)"
   ]
  },
  {
   "cell_type": "code",
   "execution_count": 443,
   "metadata": {},
   "outputs": [
    {
     "data": {
      "text/html": [
       "<div>\n",
       "<style>\n",
       "    .dataframe thead tr:only-child th {\n",
       "        text-align: right;\n",
       "    }\n",
       "\n",
       "    .dataframe thead th {\n",
       "        text-align: left;\n",
       "    }\n",
       "\n",
       "    .dataframe tbody tr th {\n",
       "        vertical-align: top;\n",
       "    }\n",
       "</style>\n",
       "<table border=\"1\" class=\"dataframe\">\n",
       "  <thead>\n",
       "    <tr style=\"text-align: right;\">\n",
       "      <th></th>\n",
       "      <th>Jahr</th>\n",
       "      <th>Redner</th>\n",
       "      <th>emotionality</th>\n",
       "    </tr>\n",
       "  </thead>\n",
       "  <tbody>\n",
       "    <tr>\n",
       "      <th>16</th>\n",
       "      <td>2001</td>\n",
       "      <td>Moritz Leuenberger</td>\n",
       "      <td>1.027778</td>\n",
       "    </tr>\n",
       "    <tr>\n",
       "      <th>9</th>\n",
       "      <td>2008</td>\n",
       "      <td>Pascal Couchepin</td>\n",
       "      <td>0.788462</td>\n",
       "    </tr>\n",
       "    <tr>\n",
       "      <th>20</th>\n",
       "      <td>1997</td>\n",
       "      <td>Arnold Koller</td>\n",
       "      <td>0.785714</td>\n",
       "    </tr>\n",
       "    <tr>\n",
       "      <th>27</th>\n",
       "      <td>1990</td>\n",
       "      <td>Arnold Koller</td>\n",
       "      <td>0.736842</td>\n",
       "    </tr>\n",
       "    <tr>\n",
       "      <th>0</th>\n",
       "      <td>2017</td>\n",
       "      <td>Doris Leuthard</td>\n",
       "      <td>0.681818</td>\n",
       "    </tr>\n",
       "  </tbody>\n",
       "</table>\n",
       "</div>"
      ],
      "text/plain": [
       "    Jahr              Redner  emotionality\n",
       "16  2001  Moritz Leuenberger      1.027778\n",
       "9   2008    Pascal Couchepin      0.788462\n",
       "20  1997       Arnold Koller      0.785714\n",
       "27  1990       Arnold Koller      0.736842\n",
       "0   2017      Doris Leuthard      0.681818"
      ]
     },
     "execution_count": 443,
     "metadata": {},
     "output_type": "execute_result"
    }
   ],
   "source": [
    "#most overall emotionality\n",
    "df.sort_values(by=\"emotionality\", ascending=False)[['Jahr', 'Redner', 'emotionality']].head(5)"
   ]
  },
  {
   "cell_type": "markdown",
   "metadata": {},
   "source": [
    "### Emotions over time"
   ]
  },
  {
   "cell_type": "code",
   "execution_count": 453,
   "metadata": {},
   "outputs": [
    {
     "data": {
      "text/plain": [
       "<matplotlib.axes._subplots.AxesSubplot at 0x1215a2048>"
      ]
     },
     "execution_count": 453,
     "metadata": {},
     "output_type": "execute_result"
    },
    {
     "data": {
      "image/png": "[encoded data removed]",
      "text/plain": [
       "<matplotlib.figure.Figure at 0x11ee2bf60>"
      ]
     },
     "metadata": {},
     "output_type": "display_data"
    }
   ],
   "source": [
    "#general emotionality\n",
    "fig, ax = plt.subplots()\n",
    "\n",
    "df.plot(kind='scatter', x='Jahr', y='emotionality', ax=ax)"
   ]
  },
  {
   "cell_type": "code",
   "execution_count": 452,
   "metadata": {},
   "outputs": [
    {
     "data": {
      "text/plain": [
       "<matplotlib.axes._subplots.AxesSubplot at 0x1202b7588>"
      ]
     },
     "execution_count": 452,
     "metadata": {},
     "output_type": "execute_result"
    },
    {
     "data": {
      "image/png": "[encoded data removed]",
      "text/plain": [
       "<matplotlib.figure.Figure at 0x12075a438>"
      ]
     },
     "metadata": {},
     "output_type": "display_data"
    }
   ],
   "source": [
    "#speeches have become more positive, yay!\n",
    "fig, ax = plt.subplots()\n",
    "\n",
    "df.plot(kind='scatter', x='Jahr', y='positive', color='blue', ax=ax)\n",
    "df.plot(kind='scatter', x='Jahr', y='negative', color='red', ax=ax)"
   ]
  },
  {
   "cell_type": "code",
   "execution_count": 461,
   "metadata": {
    "scrolled": false
   },
   "outputs": [
    {
     "data": {
      "text/plain": [
       "<matplotlib.axes._subplots.AxesSubplot at 0x11f069c50>"
      ]
     },
     "execution_count": 461,
     "metadata": {},
     "output_type": "execute_result"
    },
    {
     "data": {
      "image/png": "[encoded data removed]",
      "text/plain": [
       "<matplotlib.figure.Figure at 0x11f8ab5c0>"
      ]
     },
     "metadata": {},
     "output_type": "display_data"
    }
   ],
   "source": [
    "#\n",
    "fig = plt.figure(figsize=(10,15))\n",
    "\n",
    "ax1 = fig.add_subplot(4, 2, 1)\n",
    "df.plot(kind='scatter', x='Jahr', y='anger', color='red', title='anger', ax=ax1)\n",
    "\n",
    "ax2 = fig.add_subplot(4, 2, 2)\n",
    "df.plot(kind='scatter', x='Jahr', y='joy', color='orange', title='joy', ax=ax2)\n",
    "\n",
    "ax3 = fig.add_subplot(4, 2, 3)\n",
    "df.plot(kind='scatter', x='Jahr', y='anticipation', color='lightblue', title='anticipation', ax=ax3)\n",
    "\n",
    "ax4 = fig.add_subplot(4, 2, 4)\n",
    "df.plot(kind='scatter', x='Jahr', y='disgust', color='pink', title='disgust', ax=ax4)\n",
    "\n",
    "ax5 = fig.add_subplot(4, 2, 5)\n",
    "df.plot(kind='scatter', x='Jahr', y='fear', color='green', title='fear', ax=ax5)\n",
    "\n",
    "ax6 = fig.add_subplot(4, 2, 6)\n",
    "df.plot(kind='scatter', x='Jahr', y='sadness', color='black', title='sadness', ax=ax6)\n",
    "\n",
    "ax7 = fig.add_subplot(4, 2, 7)\n",
    "df.plot(kind='scatter', x='Jahr', y='surprise', color='blue', title='surprise', ax=ax7)\n",
    "\n",
    "ax8 = fig.add_subplot(4, 2, 8)\n",
    "df.plot(kind='scatter', x='Jahr', y='trust', color='darkgreen', title='trust', ax=ax8)"
   ]
  },
  {
   "cell_type": "markdown",
   "metadata": {},
   "source": [
    "### Emotions by party"
   ]
  },
  {
   "cell_type": "code",
   "execution_count": null,
   "metadata": {
    "collapsed": true
   },
   "outputs": [],
   "source": []
  },
  {
   "cell_type": "code",
   "execution_count": null,
   "metadata": {
    "collapsed": true
   },
   "outputs": [],
   "source": []
  },
  {
   "cell_type": "code",
   "execution_count": null,
   "metadata": {
    "collapsed": true
   },
   "outputs": [],
   "source": []
  },
  {
   "cell_type": "markdown",
   "metadata": {},
   "source": [
    "## Tokenize"
   ]
  },
  {
   "cell_type": "code",
   "execution_count": 239,
   "metadata": {
    "collapsed": true
   },
   "outputs": [],
   "source": [
    "def textblob_tokenizer(str_input):\n",
    "    blob = TextBlob(str_input.lower())\n",
    "    tokens = blob.words\n",
    "    words = [token.stem() for token in tokens]\n",
    "    return words"
   ]
  },
  {
   "cell_type": "code",
   "execution_count": 248,
   "metadata": {},
   "outputs": [
    {
     "data": {
      "text/plain": [
       "['sehr',\n",
       " 'geehrt',\n",
       " 'damen',\n",
       " 'und',\n",
       " 'herren',\n",
       " 'ich',\n",
       " 'freue',\n",
       " 'mich',\n",
       " 'sehr',\n",
       " 'hier',\n",
       " 'in',\n",
       " 'lindau',\n",
       " 'zu',\n",
       " 'ihnen',\n",
       " 'sprechen',\n",
       " 'zu',\n",
       " 'dürfen',\n",
       " 'ich',\n",
       " 'bin',\n",
       " 'ja',\n",
       " 'ein',\n",
       " 'verfecht',\n",
       " 'de',\n",
       " 'früh-französisch',\n",
       " 'und',\n",
       " 'deshalb',\n",
       " 'muss',\n",
       " 'ich',\n",
       " 'natürlich',\n",
       " 'auch',\n",
       " 'konsequ',\n",
       " 'sein',\n",
       " 'ich',\n",
       " 'werd',\n",
       " 'heut',\n",
       " 'also',\n",
       " 'mein',\n",
       " 'früh-deutsch',\n",
       " 'an',\n",
       " 'ihnen',\n",
       " 'ausprobieren',\n",
       " 'hier',\n",
       " 'in',\n",
       " 'lindau',\n",
       " 'liegen',\n",
       " 'die',\n",
       " 'anfäng',\n",
       " 'de',\n",
       " 'berühmtesten',\n",
       " 'bouillonwürfel',\n",
       " 'der',\n",
       " 'welt',\n",
       " 'hier',\n",
       " 'in',\n",
       " 'lindau',\n",
       " 'wurd',\n",
       " 'der',\n",
       " 'weltberühmt',\n",
       " 'juliu',\n",
       " 'maggi',\n",
       " 'zum',\n",
       " 'unternehm',\n",
       " 'im',\n",
       " 'alter',\n",
       " 'von',\n",
       " 'nur',\n",
       " '23',\n",
       " 'jahren',\n",
       " 'übernimmt',\n",
       " 'er',\n",
       " '1869',\n",
       " 'die',\n",
       " 'hammer-mühl',\n",
       " 'in',\n",
       " 'kemptthal',\n",
       " 'von',\n",
       " 'seinem',\n",
       " 'vater',\n",
       " 'und',\n",
       " 'wird',\n",
       " 'in',\n",
       " 'der',\n",
       " 'folg',\n",
       " 'einer',\n",
       " 'der',\n",
       " 'bedeutendsten',\n",
       " 'mühlenbesitz',\n",
       " 'in',\n",
       " 'der',\n",
       " 'schweiz',\n",
       " 'doch',\n",
       " 'die',\n",
       " 'industrialisierung',\n",
       " 'also',\n",
       " 'neue',\n",
       " 'techniken',\n",
       " 'und',\n",
       " 'die',\n",
       " 'ausländisch',\n",
       " 'konkurrenz',\n",
       " 'bringt',\n",
       " 'sein',\n",
       " 'geschäft',\n",
       " 'in',\n",
       " 'arg',\n",
       " 'bedrängni',\n",
       " 'maggi',\n",
       " 'reagiert',\n",
       " 'pragmatisch',\n",
       " 'intellig',\n",
       " 'und',\n",
       " 'zukunftsgerichtet',\n",
       " 'er',\n",
       " 'beginnt',\n",
       " 'nicht',\n",
       " 'einfach',\n",
       " 'die',\n",
       " 'produkt',\n",
       " 'zu',\n",
       " 'steigern',\n",
       " 'und',\n",
       " 'er',\n",
       " 'setzt',\n",
       " 'auch',\n",
       " 'nicht',\n",
       " 'einfach',\n",
       " 'auf',\n",
       " 'preiskampf',\n",
       " 'stattdessen',\n",
       " 'steigt',\n",
       " 'er',\n",
       " 'in',\n",
       " 'lebensmittelgeschäft',\n",
       " 'ein',\n",
       " 'genauer',\n",
       " 'in',\n",
       " 'die',\n",
       " 'verarbeitung',\n",
       " 'von',\n",
       " '„leguminosen',\n",
       " 'also',\n",
       " 'hülsenfrüchten',\n",
       " 'zu',\n",
       " 'einem',\n",
       " 'neuartigen',\n",
       " 'lebensmittel',\n",
       " 'der',\n",
       " 'rest',\n",
       " 'ist',\n",
       " 'geschicht',\n",
       " 'juliu',\n",
       " 'maggi',\n",
       " 'war',\n",
       " 'übrigen',\n",
       " 'von',\n",
       " 'seinem',\n",
       " 'eigenen',\n",
       " 'produkt',\n",
       " 'dermassen',\n",
       " 'begeistert',\n",
       " 'dass',\n",
       " 'er',\n",
       " 'ein',\n",
       " 'seiner',\n",
       " 'töchter',\n",
       " 'leguminosa',\n",
       " 'nennen',\n",
       " 'wollt',\n",
       " 'erst',\n",
       " 'der',\n",
       " 'erbittert',\n",
       " 'widerstand',\n",
       " 'der',\n",
       " 'ganzen',\n",
       " 'famili',\n",
       " 'bracht',\n",
       " 'maggi',\n",
       " 'schliesslich',\n",
       " 'von',\n",
       " 'diesem',\n",
       " 'plan',\n",
       " 'ab',\n",
       " 'die',\n",
       " 'tochter',\n",
       " 'wurd',\n",
       " 'dann',\n",
       " 'auf',\n",
       " 'den',\n",
       " 'namen',\n",
       " 'luci',\n",
       " 'getauft',\n",
       " 'wofür',\n",
       " 'sie',\n",
       " 'sicher',\n",
       " 'sehr',\n",
       " 'dankbar',\n",
       " 'war',\n",
       " 'juliu',\n",
       " 'maggi',\n",
       " 'stellt',\n",
       " 'ausgezeichnet',\n",
       " 'fragen',\n",
       " 'welch',\n",
       " 'sind',\n",
       " 'die',\n",
       " 'vielversprechenden',\n",
       " 'märkte',\n",
       " 'wie',\n",
       " 'baue',\n",
       " 'ich',\n",
       " 'ein',\n",
       " 'unternehmenskultur',\n",
       " 'auf',\n",
       " 'die',\n",
       " 'die',\n",
       " 'mitarbeitenden',\n",
       " 'motiviert',\n",
       " 'auch',\n",
       " 'unser',\n",
       " 'land',\n",
       " 'muss',\n",
       " 'sich',\n",
       " 'fragen',\n",
       " 'stellen',\n",
       " 'wie',\n",
       " 'gelingt',\n",
       " 'es',\n",
       " 'un',\n",
       " 'auch',\n",
       " 'in',\n",
       " 'zukunft',\n",
       " 'wettbewerbsfähigkeit',\n",
       " 'und',\n",
       " 'solidarität',\n",
       " 'zu',\n",
       " 'verbinden',\n",
       " 'wie',\n",
       " 'halten',\n",
       " 'wir',\n",
       " 'unser',\n",
       " 'gesellschaft',\n",
       " 'zusammen',\n",
       " 'und',\n",
       " 'da',\n",
       " 'trotz',\n",
       " 'einer',\n",
       " 'wachsenden',\n",
       " 'kulturellen',\n",
       " 'vielfalt',\n",
       " 'in',\n",
       " 'unserem',\n",
       " 'land',\n",
       " 'wie',\n",
       " 'bewahren',\n",
       " 'wir',\n",
       " 'die',\n",
       " 'tradit',\n",
       " 'der',\n",
       " 'humanitären',\n",
       " 'schweiz',\n",
       " 'und',\n",
       " 'da',\n",
       " 'in',\n",
       " 'einer',\n",
       " 'zeit',\n",
       " 'in',\n",
       " 'der',\n",
       " 'flüchtling',\n",
       " 'häufig',\n",
       " 'nur',\n",
       " 'noch',\n",
       " 'al',\n",
       " 'bedrohung',\n",
       " 'wahrgenommen',\n",
       " 'werden',\n",
       " 'auch',\n",
       " 'in',\n",
       " 'bezug',\n",
       " 'auf',\n",
       " 'europa',\n",
       " 'müssen',\n",
       " 'wir',\n",
       " 'un',\n",
       " 'die',\n",
       " 'richtigen',\n",
       " 'fragen',\n",
       " 'stellen',\n",
       " 'wie',\n",
       " 'gelingt',\n",
       " 'es',\n",
       " 'un',\n",
       " 'unser',\n",
       " 'identität',\n",
       " 'und',\n",
       " 'unser',\n",
       " 'politisch',\n",
       " 'kultur',\n",
       " 'zu',\n",
       " 'erhalten',\n",
       " 'und',\n",
       " 'dabei',\n",
       " 'trotzdem',\n",
       " 'einen',\n",
       " 'weg',\n",
       " 'mit',\n",
       " 'unseren',\n",
       " 'europäischen',\n",
       " 'nachbarn',\n",
       " 'zu',\n",
       " 'finden',\n",
       " 'der',\n",
       " 'nicht',\n",
       " 'in',\n",
       " 'die',\n",
       " 'isol',\n",
       " 'führt',\n",
       " 'die',\n",
       " 'herausforderungen',\n",
       " 'im',\n",
       " 'zusammenhang',\n",
       " 'mit',\n",
       " 'der',\n",
       " 'eu',\n",
       " 'sind',\n",
       " 'beträchtlich',\n",
       " 'sowohl',\n",
       " 'bei',\n",
       " 'der',\n",
       " 'frage',\n",
       " 'der',\n",
       " 'migrat',\n",
       " 'wie',\n",
       " 'auch',\n",
       " 'beim',\n",
       " 'institutionellen',\n",
       " 'verhältni',\n",
       " 'zu',\n",
       " 'unserem',\n",
       " 'wichtigsten',\n",
       " 'handelspartn',\n",
       " 'allerd',\n",
       " 'so',\n",
       " 'ungewöhnlich',\n",
       " 'ist',\n",
       " 'da',\n",
       " 'nicht',\n",
       " 'wir',\n",
       " 'konnten',\n",
       " 'den',\n",
       " 'entwicklungen',\n",
       " 'in',\n",
       " 'unser',\n",
       " 'nachbarschaft',\n",
       " 'noch',\n",
       " 'nie',\n",
       " 'einfach',\n",
       " 'entspannt',\n",
       " 'zusehen',\n",
       " 'da',\n",
       " 'zeigt',\n",
       " 'ein',\n",
       " 'blick',\n",
       " 'in',\n",
       " 'die',\n",
       " 'geschicht',\n",
       " 'es',\n",
       " 'ist',\n",
       " 'auch',\n",
       " 'nicht',\n",
       " 'überraschend',\n",
       " 'wir',\n",
       " 'sind',\n",
       " 'geographisch',\n",
       " 'und',\n",
       " 'kulturel',\n",
       " 'mittendrin',\n",
       " 'und',\n",
       " 'tun',\n",
       " 'un',\n",
       " 'vielleicht',\n",
       " 'gerad',\n",
       " 'deswegen',\n",
       " 'manchmal',\n",
       " 'schwer',\n",
       " 'mit',\n",
       " 'unser',\n",
       " 'umgebung',\n",
       " 'wir',\n",
       " 'sind',\n",
       " 'ein',\n",
       " 'multikulturel',\n",
       " 'land',\n",
       " 'kulturel',\n",
       " 'auf',\n",
       " 'engst',\n",
       " 'verbunden',\n",
       " 'mit',\n",
       " 'den',\n",
       " 'drei',\n",
       " 'grossen',\n",
       " 'sprachräumen',\n",
       " 'kontinentaleuropa',\n",
       " 'unser',\n",
       " 'identität',\n",
       " 'haben',\n",
       " 'wir',\n",
       " 'immer',\n",
       " 'sowohl',\n",
       " 'mit',\n",
       " 'unseren',\n",
       " 'nachbarn',\n",
       " 'al',\n",
       " 'auch',\n",
       " 'gegen',\n",
       " 'unser',\n",
       " 'nachbarn',\n",
       " 'definiert',\n",
       " 'und',\n",
       " 'al',\n",
       " 'ein',\n",
       " 'land',\n",
       " 'de',\n",
       " 'föderalismu',\n",
       " 'und',\n",
       " 'der',\n",
       " 'direkten',\n",
       " 'demokrati',\n",
       " 'haben',\n",
       " 'wir',\n",
       " 'un',\n",
       " 'stet',\n",
       " 'etwa',\n",
       " 'schwer',\n",
       " 'getan',\n",
       " 'mit',\n",
       " 'zentralistischen',\n",
       " 'ansätzen',\n",
       " 'wer',\n",
       " 'sich',\n",
       " 'mit',\n",
       " 'schweizer',\n",
       " 'geschicht',\n",
       " 'beschäftigt',\n",
       " 'muss',\n",
       " 'sich',\n",
       " 'gar',\n",
       " 'die',\n",
       " 'frage',\n",
       " 'stellen',\n",
       " 'war',\n",
       " 'unser',\n",
       " 'verhältni',\n",
       " 'zu',\n",
       " 'den',\n",
       " 'nachbarn',\n",
       " 'überhaupt',\n",
       " 'je',\n",
       " 'reibungsfrei',\n",
       " 'vielleicht',\n",
       " 'am',\n",
       " 'ehesten',\n",
       " 'in',\n",
       " 'der',\n",
       " 'unheimlichen',\n",
       " 'aber',\n",
       " 'stabilen',\n",
       " 'welt',\n",
       " 'de',\n",
       " 'kalten',\n",
       " 'krieg',\n",
       " 'al',\n",
       " 'die',\n",
       " 'schweiz',\n",
       " 'ein',\n",
       " 'geopolitisch',\n",
       " 'nisch',\n",
       " 'besetzen',\n",
       " 'konnt',\n",
       " 'seither',\n",
       " 'ist',\n",
       " 'die',\n",
       " 'welt',\n",
       " 'wieder',\n",
       " 'nervöser',\n",
       " 'volatil',\n",
       " 'unvorhersehbar',\n",
       " 'geworden',\n",
       " 'isolationismu',\n",
       " 'kann',\n",
       " 'kein',\n",
       " 'option',\n",
       " 'sein',\n",
       " 'zur',\n",
       " 'zusammenarbeit',\n",
       " 'mit',\n",
       " 'europa',\n",
       " 'gibt',\n",
       " 'es',\n",
       " 'kein',\n",
       " 'sinnvol',\n",
       " 'altern',\n",
       " 'wir',\n",
       " 'sind',\n",
       " 'ein',\n",
       " 'der',\n",
       " 'traditionel',\n",
       " 'weltoffensten',\n",
       " 'länder',\n",
       " 'der',\n",
       " 'welt',\n",
       " 'wir',\n",
       " 'würden',\n",
       " 'ärmer',\n",
       " 'werden',\n",
       " 'nicht',\n",
       " 'nur',\n",
       " 'im',\n",
       " 'portemonnai',\n",
       " 'vor',\n",
       " 'allem',\n",
       " 'im',\n",
       " 'geist',\n",
       " 'die',\n",
       " 'eu',\n",
       " 'befindet',\n",
       " 'sich',\n",
       " 'in',\n",
       " 'der',\n",
       " 'schwierigsten',\n",
       " 'situat',\n",
       " 'ihrer',\n",
       " 'geschicht',\n",
       " 'es',\n",
       " 'gilt',\n",
       " 'den',\n",
       " 'realitäten',\n",
       " 'in',\n",
       " 'aug',\n",
       " 'zu',\n",
       " 'blicken',\n",
       " 'gewiss',\n",
       " 'die',\n",
       " 'mitglied',\n",
       " 'der',\n",
       " 'eu',\n",
       " 'sollen',\n",
       " 'un',\n",
       " 'und',\n",
       " 'unser',\n",
       " 'situat',\n",
       " 'besser',\n",
       " 'verstehen',\n",
       " 'bei',\n",
       " 'un',\n",
       " 'sorgen',\n",
       " 'druck',\n",
       " 'auf',\n",
       " 'die',\n",
       " 'löhne',\n",
       " 'in',\n",
       " 'den',\n",
       " 'grenzregionen',\n",
       " 'hohe',\n",
       " 'mieten',\n",
       " 'belastet',\n",
       " 'infrastrukturen',\n",
       " 'für',\n",
       " 'unbehagen',\n",
       " 'aber',\n",
       " 'wir',\n",
       " 'müssen',\n",
       " 'unsererseit',\n",
       " 'auch',\n",
       " 'die',\n",
       " 'eu',\n",
       " 'besser',\n",
       " 'verstehen',\n",
       " 'verstehen',\n",
       " 'bedeutet',\n",
       " 'die',\n",
       " 'eu',\n",
       " 'in',\n",
       " 'ihren',\n",
       " 'historischen',\n",
       " 'voraussetzungen',\n",
       " 'und',\n",
       " 'gegenwärtigen',\n",
       " 'spannungsfeldern',\n",
       " 'begreifen',\n",
       " 'verstehen',\n",
       " 'heisst',\n",
       " 'nicht',\n",
       " 'mit',\n",
       " 'allem',\n",
       " 'wa',\n",
       " 'die',\n",
       " 'eu',\n",
       " 'macht',\n",
       " 'einverstanden',\n",
       " 'sein',\n",
       " 'nur',\n",
       " 'wenn',\n",
       " 'wir',\n",
       " 'unser',\n",
       " 'interessen',\n",
       " 'und',\n",
       " 'die',\n",
       " 'der',\n",
       " 'anderen',\n",
       " 'wirklich',\n",
       " 'kennen',\n",
       " 'ist',\n",
       " 'es',\n",
       " 'möglich',\n",
       " 'ein',\n",
       " 'gute',\n",
       " 'lösung',\n",
       " 'mit',\n",
       " 'unserem',\n",
       " 'wichtigsten',\n",
       " 'handelspartn',\n",
       " 'zu',\n",
       " 'finden',\n",
       " 'und',\n",
       " 'ein',\n",
       " 'solch',\n",
       " 'lösung',\n",
       " 'gilt',\n",
       " 'es',\n",
       " 'zu',\n",
       " 'finden',\n",
       " 'da',\n",
       " 'wird',\n",
       " 'un',\n",
       " 'auch',\n",
       " 'gelingen',\n",
       " 'wir',\n",
       " 'sind',\n",
       " 'deshalb',\n",
       " 'europapolitisch',\n",
       " 'al',\n",
       " 'realisten',\n",
       " 'und',\n",
       " 'pragmatik',\n",
       " 'gefordert',\n",
       " 'und',\n",
       " 'um',\n",
       " 'auch',\n",
       " 'da',\n",
       " 'deutlich',\n",
       " 'zu',\n",
       " 'sagen',\n",
       " 'realismu',\n",
       " 'ist',\n",
       " 'nicht',\n",
       " 'defätismu',\n",
       " 'im',\n",
       " 'gegenteil',\n",
       " 'realismu',\n",
       " 'stärkt',\n",
       " 'un',\n",
       " 'ein',\n",
       " 'weiter',\n",
       " 'wichtig',\n",
       " 'lektion',\n",
       " 'die',\n",
       " 'wir',\n",
       " 'unser',\n",
       " 'geschicht',\n",
       " 'verdanken',\n",
       " 'ist',\n",
       " 'unser',\n",
       " 'will',\n",
       " 'zum',\n",
       " 'zusammenhalt',\n",
       " 'auch',\n",
       " 'und',\n",
       " 'gerad',\n",
       " 'al',\n",
       " 'mächtige',\n",
       " 'fliehkräft',\n",
       " 'wirkten',\n",
       " 'die',\n",
       " 'alten',\n",
       " 'eidgenossen',\n",
       " 'hielten',\n",
       " 'zusammen',\n",
       " 'al',\n",
       " 'die',\n",
       " 'religionskrieg',\n",
       " 'ihr',\n",
       " 'gemeinschaft',\n",
       " 'bedroht',\n",
       " 'und',\n",
       " 'entschieden',\n",
       " 'sich',\n",
       " 'gegen',\n",
       " 'allianzen',\n",
       " 'mit',\n",
       " 'ihren',\n",
       " 'glaubensbrüdern',\n",
       " 'au',\n",
       " 'anderen',\n",
       " 'ländern',\n",
       " 'im',\n",
       " 'ersten',\n",
       " 'weltkrieg',\n",
       " 'al',\n",
       " 'die',\n",
       " 'schweiz',\n",
       " 'wiederum',\n",
       " 'auseinanderzudriften',\n",
       " 'droht',\n",
       " 'hielt',\n",
       " 'man',\n",
       " 'zusammen',\n",
       " 'trotz',\n",
       " 'der',\n",
       " 'jeweiligen',\n",
       " 'kulturellen',\n",
       " 'sympathien',\n",
       " 'für',\n",
       " 'die',\n",
       " 'kriegsführenden',\n",
       " 'staaten',\n",
       " 'deutschland',\n",
       " 'und',\n",
       " 'frankreich',\n",
       " 'auch',\n",
       " 'in',\n",
       " 'den',\n",
       " 'dreissig',\n",
       " 'und',\n",
       " 'vierzig',\n",
       " 'jahren',\n",
       " 'in',\n",
       " 'der',\n",
       " 'ära',\n",
       " 'von',\n",
       " 'totalitarismu',\n",
       " 'und',\n",
       " 'faschismu',\n",
       " 'widerstand',\n",
       " 'die',\n",
       " 'schweiz',\n",
       " 'den',\n",
       " 'sirenengesängen',\n",
       " 'de',\n",
       " 'ethnischen',\n",
       " 'nationalismu',\n",
       " 'die',\n",
       " 'unser',\n",
       " 'land',\n",
       " 'zerstört',\n",
       " 'hätten',\n",
       " 'wären',\n",
       " 'sie',\n",
       " 'erhört',\n",
       " 'worden',\n",
       " 'wir',\n",
       " 'hielten',\n",
       " 'zusammen',\n",
       " 'obwohl',\n",
       " 'wir',\n",
       " 'so',\n",
       " 'verschieden',\n",
       " 'sind',\n",
       " 'religiö',\n",
       " 'politisch',\n",
       " 'sprachlich',\n",
       " 'oder',\n",
       " 'sozial',\n",
       " 'wir',\n",
       " 'sind',\n",
       " 'vielfältig',\n",
       " 'und',\n",
       " 'da',\n",
       " 'ist',\n",
       " 'ein',\n",
       " 'stärke',\n",
       " 'auch',\n",
       " 'heut',\n",
       " 'zeigt',\n",
       " 'sich',\n",
       " 'dass',\n",
       " 'die',\n",
       " 'gesellschaftlich',\n",
       " 'kohäsion',\n",
       " 'kein',\n",
       " 'zustand',\n",
       " 'ist',\n",
       " 'sondern',\n",
       " 'ein',\n",
       " 'aufgab',\n",
       " 'die',\n",
       " 'nie',\n",
       " 'zu',\n",
       " 'end',\n",
       " 'sein',\n",
       " 'wird',\n",
       " 'der',\n",
       " 'stadt-land-graben',\n",
       " 'droht',\n",
       " 'seit',\n",
       " 'einig',\n",
       " 'zeit',\n",
       " 'sich',\n",
       " 'eher',\n",
       " 'wieder',\n",
       " 'zu',\n",
       " 'vertiefen',\n",
       " 'die',\n",
       " 'schweiz',\n",
       " 'ist',\n",
       " 'auch',\n",
       " 'integrationspolitisch',\n",
       " 'gefordert',\n",
       " 'wir',\n",
       " 'haben',\n",
       " 'einen',\n",
       " 'der',\n",
       " 'höchsten',\n",
       " 'ausländeranteil',\n",
       " 'der',\n",
       " 'welt',\n",
       " 'wir',\n",
       " 'leben',\n",
       " 'in',\n",
       " 'unsicheren',\n",
       " 'zeiten',\n",
       " 'finanzkris',\n",
       " 'schuldenkris',\n",
       " 'eurokris',\n",
       " 'die',\n",
       " 'alterung',\n",
       " 'unser',\n",
       " 'gesellschaft',\n",
       " 'der',\n",
       " 'sich',\n",
       " 'verschärfend',\n",
       " 'global',\n",
       " 'wettbewerb',\n",
       " 'bei',\n",
       " 'starkem',\n",
       " 'franken',\n",
       " 'die',\n",
       " 'heraufdämmernd',\n",
       " 'digital',\n",
       " 'revolut',\n",
       " 'globalisierung',\n",
       " 'ungleichheit',\n",
       " 'aufstieg',\n",
       " 'neuer',\n",
       " 'mächte',\n",
       " 'ein',\n",
       " 'flüchtlingskris',\n",
       " 'die',\n",
       " 'auch',\n",
       " 'unser',\n",
       " 'land',\n",
       " 'herausfordert',\n",
       " 'dies',\n",
       " 'unsicherheit',\n",
       " 'ist',\n",
       " 'ein',\n",
       " 'guter',\n",
       " 'zeitpunkt',\n",
       " 'wieder',\n",
       " 'einmal',\n",
       " 'eingehend',\n",
       " 'darüber',\n",
       " 'zu',\n",
       " 'debattieren',\n",
       " 'wa',\n",
       " 'wirklich',\n",
       " 'wichtig',\n",
       " 'ist',\n",
       " 'für',\n",
       " 'unser',\n",
       " 'land',\n",
       " 'hier',\n",
       " 'gibt',\n",
       " 'unser',\n",
       " 'geschicht',\n",
       " 'ein',\n",
       " 'klare',\n",
       " 'antwort',\n",
       " 'wirklich',\n",
       " 'wichtig',\n",
       " 'war',\n",
       " 'und',\n",
       " 'ist',\n",
       " 'ein',\n",
       " 'kluge',\n",
       " 'politik',\n",
       " 'de',\n",
       " 'zusammenhalt',\n",
       " 'da',\n",
       " 'ist',\n",
       " 'bi',\n",
       " 'heut',\n",
       " 'die',\n",
       " 'grundlag',\n",
       " 'unser',\n",
       " 'erfolg',\n",
       " 'da',\n",
       " 'bedeutet',\n",
       " 'zum',\n",
       " 'beispiel',\n",
       " 'wir',\n",
       " 'müssen',\n",
       " 'die',\n",
       " 'flankierenden',\n",
       " 'massnahmen',\n",
       " 'erhalten',\n",
       " 'ältere',\n",
       " 'arbeitnehmend',\n",
       " 'und',\n",
       " 'frauen',\n",
       " 'müssen',\n",
       " 'verstärkt',\n",
       " 'in',\n",
       " 'den',\n",
       " 'arbeitsmarkt',\n",
       " 'integriert',\n",
       " 'werden',\n",
       " 'hier',\n",
       " 'sind',\n",
       " 'insbesonder',\n",
       " 'die',\n",
       " 'arbeitgeb',\n",
       " 'in',\n",
       " 'unserem',\n",
       " 'land',\n",
       " 'gefordert',\n",
       " 'die',\n",
       " 'bevölkerung',\n",
       " 'muss',\n",
       " 'davon',\n",
       " 'überzeugt',\n",
       " 'sein',\n",
       " 'dass',\n",
       " 'unser',\n",
       " 'offenheit',\n",
       " 'sie',\n",
       " 'nicht',\n",
       " 'gefährdet',\n",
       " 'weder',\n",
       " 'auf',\n",
       " 'dem',\n",
       " 'arbeitsmarkt',\n",
       " 'noch',\n",
       " 'auf',\n",
       " 'dem',\n",
       " 'wohnungsmarkt',\n",
       " 'mit',\n",
       " 'anderen',\n",
       " 'worten',\n",
       " 'da',\n",
       " 'miteinand',\n",
       " 'muss',\n",
       " 'stärker',\n",
       " 'bleiben',\n",
       " 'al',\n",
       " 'da',\n",
       " 'gegeneinand',\n",
       " 'gerad',\n",
       " 'in',\n",
       " 'einer',\n",
       " 'zeit',\n",
       " 'in',\n",
       " 'der',\n",
       " 'wir',\n",
       " 'merken',\n",
       " 'dass',\n",
       " 'wir',\n",
       " 'nicht',\n",
       " 'all',\n",
       " 'selber',\n",
       " 'steuern',\n",
       " 'können',\n",
       " 'müssen',\n",
       " 'wir',\n",
       " 'die',\n",
       " 'fundament',\n",
       " 'der',\n",
       " 'schweiz',\n",
       " 'stärken',\n",
       " 'zu',\n",
       " 'diesen',\n",
       " 'fundamenten',\n",
       " 'gehören',\n",
       " 'auch',\n",
       " 'die',\n",
       " 'gesellschaftlich',\n",
       " 'fair',\n",
       " 'und',\n",
       " 'die',\n",
       " 'sozial',\n",
       " 'sicherheit',\n",
       " ...]"
      ]
     },
     "execution_count": 248,
     "metadata": {},
     "output_type": "execute_result"
    }
   ],
   "source": [
    "textblob_tokenizer(text)"
   ]
  },
  {
   "cell_type": "code",
   "execution_count": 246,
   "metadata": {
    "collapsed": true
   },
   "outputs": [],
   "source": [
    "text = '''\n",
    "    Sehr geehrte Damen und Herren\n",
    "\n",
    "Ich freue mich sehr, hier in Lindau zu Ihnen sprechen zu dürfen. Ich bin ja ein Verfechter des Früh-Französisch - und deshalb muss ich natürlich auch konsequent sein. Ich werde heute also mein Früh-Deutsch an Ihnen ausprobieren.\n",
    "\n",
    "Hier in Lindau liegen die Anfänge des berühmtesten Bouillonwürfels der Welt. Hier in Lindau wurde der weltberühmte Julius Maggi zum Unternehmer.\n",
    "\n",
    "Im Alter von nur 23 Jahren übernimmt er 1869 die Hammer-mühle in Kemptthal von seinem Vater und wird in der Folge einer der bedeutendsten Mühlenbesitzer in der Schweiz.\n",
    "\n",
    "Doch die Industrialisierung - also neue Techniken und die ausländische Konkurrenz - bringt sein Geschäft in arge Bedrängnis. Maggi reagiert pragmatisch, intelligent und zukunftsgerichtet. Er beginnt nicht einfach, die Produktion zu steigern und er setzt auch nicht einfach auf Preiskampf.\n",
    "\n",
    "Stattdessen steigt er ins Lebensmittelgeschäft ein. Genauer: in die Verarbeitung von „Leguminosen\", also Hülsenfrüchten, zu einem neuartigen\n",
    "Lebensmittel. Der Rest ist Geschichte.\n",
    "\n",
    "Julius Maggi war übrigens von seinem eigenen Produkt dermassen begeistert, dass er eine seiner Töchter Leguminosa nennen wollte. Erst der erbitterte Widerstand der ganzen Familie brachte Maggi schliesslich von diesem Plan ab. Die Tochter wurde dann auf den Namen Lucy getauft - wofür sie sicher sehr dankbar war.\n",
    "\n",
    "Julius Maggi stellte ausgezeichnete Fragen: Welches sind die vielversprechenden Märkte? Wie baue ich eine Unternehmenskultur auf, die die Mitarbeitenden motiviert?\n",
    "\n",
    "Auch unser Land muss sich Fragen stellen.\n",
    "\n",
    "    Wie gelingt es uns auch in Zukunft, Wettbewerbsfähigkeit und Solidarität zu verbinden?\n",
    "    Wie halten wir unsere Gesellschaft zusammen? Und das trotz einer wachsenden kulturellen Vielfalt in unserem Land?\n",
    "    Wie bewahren wir die Tradition der humanitären Schweiz? Und das in einer Zeit, in der Flüchtlinge häufig nur noch als Bedrohung wahrgenommen werden? \n",
    "\n",
    "Auch in Bezug auf Europa müssen wir uns die richtigen Fragen stellen:\n",
    "\n",
    "    Wie gelingt es uns, unsere Identität und unsere politische Kultur zu erhalten?\n",
    "    Und dabei trotzdem einen Weg mit unseren europäischen Nachbarn zu finden, der nicht in die Isolation führt? \n",
    "\n",
    "Die Herausforderungen im Zusammenhang mit der EU sind beträchtlich - sowohl bei der Frage der Migration wie auch beim institutionellen Verhältnis zu unserem wichtigsten Handelspartner.\n",
    "\n",
    "Allerdings: So ungewöhnlich ist das nicht. Wir konnten den Entwicklungen in unserer Nachbarschaft noch nie einfach entspannt zusehen. Das zeigt ein Blick in die Geschichte.\n",
    "\n",
    "Es ist auch nicht überraschend:\n",
    "\n",
    "    Wir sind, geographisch und kulturell, mittendrin und tun uns - vielleicht gerade deswegen - manchmal schwer mit unserer Umgebung.\n",
    "    Wir sind ein multikulturelles Land - kulturell aufs engste verbunden mit den drei grossen Sprachräumen Kontinentaleuropas.\n",
    "    Unsere Identität haben wir immer sowohl mit unseren Nachbarn als auch gegen unsere Nachbarn definiert.\n",
    "    Und als ein Land des Föderalismus und der direkten Demokratie haben wir uns stets etwas schwer getan mit zentralistischen Ansätzen. \n",
    "\n",
    "Wer sich mit Schweizer Geschichte beschäftigt, muss sich gar die Frage stellen: War unser Verhältnis zu den Nachbarn überhaupt je reibungsfrei?\n",
    "\n",
    "Vielleicht am ehesten in der unheimlichen, aber stabilen Welt des Kalten Krieges, als die Schweiz eine geopolitische Nische besetzen konnte. Seither ist die Welt wieder nervöser, volatiler, unvorhersehbarer geworden.\n",
    "\n",
    "Isolationismus kann keine Option sein. Zur Zusammenarbeit mit Europa gibt es keine sinnvolle Alternative. Wir sind eines der traditionell weltoffensten Länder der Welt. Wir würden ärmer werden - nicht nur im Portemonnaie, vor allem im Geist.\n",
    "\n",
    "Die EU befindet sich in der schwierigsten Situation ihrer Geschichte. Es gilt, den Realitäten ins Auge zu blicken.\n",
    "\n",
    "Gewiss, die Mitglieder der EU sollen uns und unsere Situation besser verstehen. Bei uns sorgen Druck auf die Löhne in den Grenzregionen, hohe Mieten, belastete Infrastrukturen für Unbehagen.\n",
    "\n",
    "Aber wir müssen unsererseits auch die EU besser verstehen. Verstehen bedeutet: die EU in ihren historischen Voraussetzungen und gegenwärtigen Spannungsfeldern begreifen. Verstehen heisst nicht: mit allem, was die EU macht, einverstanden sein.\n",
    "\n",
    "Nur wenn wir unsere Interessen und die der anderen wirklich kennen, ist es möglich, eine gute Lösung mit unserem wichtigsten Handelspartner zu finden. Und eine solche Lösung gilt es zu finden. Das wird uns auch gelingen.\n",
    "\n",
    "Wir sind deshalb europapolitisch als Realisten und Pragmatiker gefordert. Und um auch das deutlich zu sagen: Realismus ist nicht Defätismus. Im Gegenteil: Realismus stärkt uns.\n",
    "\n",
    "Eine weitere wichtige Lektion, die wir unserer Geschichte verdanken, ist unser Wille zum Zusammenhalt. Auch und gerade, als mächtige Fliehkräfte wirkten.\n",
    "\n",
    "    Die Alten Eidgenossen hielten zusammen, als die Religionskriege ihre Gemeinschaft bedrohte, und entschieden sich gegen Allianzen mit ihren Glaubensbrüdern aus anderen Ländern.\n",
    "    Im Ersten Weltkrieg - als die Schweiz wiederum auseinanderzudriften drohte - hielt man zusammen, trotz der jeweiligen kulturellen Sympathien für die kriegsführenden Staaten Deutschland und Frankreich.\n",
    "    Auch in den dreissiger und vierziger Jahren, in der Ära von Totalitarismus und Faschismus, widerstand die Schweiz den Sirenengesängen\n",
    "    des ethnischen Nationalismus, die unser Land zerstört hätten, wären sie erhört worden. \n",
    "\n",
    "Wir hielten zusammen, obwohl wir so verschieden sind - religiös, politisch, sprachlich oder sozial. Wir sind vielfältig und das ist eine Stärke. Auch heute zeigt sich, dass die gesellschaftliche Kohäsion kein Zustand ist - sondern eine Aufgabe, die nie zu Ende sein wird:\n",
    "\n",
    "    Der Stadt-Land-Graben droht seit einiger Zeit, sich eher wieder zu vertiefen.\n",
    "    Die Schweiz ist auch integrationspolitisch gefordert. Wir haben einen der höchsten Ausländeranteile der Welt. \n",
    "\n",
    "Wir leben in unsicheren Zeiten:\n",
    "\n",
    "    Finanzkrise, Schuldenkrise, Eurokrise,\n",
    "    die Alterung unserer Gesellschaft,\n",
    "    der sich verschärfende globale Wettbewerb bei starkem Franken,\n",
    "    die heraufdämmernde digitale Revolution,\n",
    "    Globalisierung, Ungleichheit, Aufstieg neuer Mächte,\n",
    "    eine Flüchtlingskrise, die auch unser Land herausfordert. \n",
    "\n",
    "Diese Unsicherheit ist ein guter Zeitpunkt, wieder einmal eingehend darüber zu debattieren, was wirklich wichtig ist für unser Land. Hier gibt unsere Geschichte eine klare Antwort: Wirklich wichtig war und ist eine kluge Politik des Zusammenhalts. Das ist bis heute die Grundlage unseres Erfolges.\n",
    "\n",
    "Das bedeutet zum Beispiel: Wir müssen die flankierenden Massnahmen erhalten. Ältere Arbeitnehmende und Frauen müssen verstärkt in den Arbeitsmarkt integriert werden. Hier sind insbesondere die Arbeitgeber in unserem Land gefordert.\n",
    "\n",
    "Die Bevölkerung muss davon überzeugt sein, dass unsere Offenheit sie nicht gefährdet. Weder auf dem Arbeitsmarkt noch auf dem Wohnungsmarkt. Mit anderen Worten: das Miteinander muss stärker bleiben als das Gegeneinander.\n",
    "\n",
    "Gerade in einer Zeit, in der wir merken, dass wir nicht alles selber steuern können, müssen wir die Fundamente der Schweiz stärken. Zu diesen Fundamenten gehören auch die gesellschaftliche Fairness und die soziale Sicherheit im Alter. Wenn wir diese vernachlässigen, werden wir feststellen, dass die Unsicherheit nicht nur von aussen kommt, sondern auch noch von innen.\n",
    "\n",
    "Wenn es im Laufe unserer Geschichte wirklich kritisch wurde, haben wir immer zusammengehalten. Im Innern - aber auch gegen aussen. Im Interesse unseres Landes. Denn dieses nationale Interesse ist unteilbar.\n",
    "\n",
    "Den Menschen in der Schweiz ist am besten gedient, wenn wir realistisch und nüchtern bleiben.\n",
    "\n",
    "Ist das weniger emotional? Vielleicht.\n",
    "\n",
    "Ist es aber auch weniger patriotisch? Nein. Denn Realismus stärkt die Schweiz.\n",
    "\n",
    "Ich wünsche allen ein schönes Dorffest und einen schönen Bundesfeiertag. \n",
    "'''"
   ]
  },
  {
   "cell_type": "code",
   "execution_count": null,
   "metadata": {
    "collapsed": true
   },
   "outputs": [],
   "source": []
  }
 ],
 "metadata": {
  "kernelspec": {
   "display_name": "Python 3",
   "language": "python",
   "name": "python3"
  },
  "language_info": {
   "codemirror_mode": {
    "name": "ipython",
    "version": 3
   },
   "file_extension": ".py",
   "mimetype": "text/x-python",
   "name": "python",
   "nbconvert_exporter": "python",
   "pygments_lexer": "ipython3",
   "version": "3.6.1"
  }
 },
 "nbformat": 4,
 "nbformat_minor": 2
}
