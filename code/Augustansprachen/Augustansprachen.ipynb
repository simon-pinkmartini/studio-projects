{
 "cells": [
  {
   "cell_type": "code",
   "execution_count": 1,
   "metadata": {
    "collapsed": true
   },
   "outputs": [],
   "source": [
    "import pandas as pd"
   ]
  },
  {
   "cell_type": "code",
   "execution_count": 44,
   "metadata": {
    "collapsed": true
   },
   "outputs": [],
   "source": [
    "import matplotlib.pyplot as plt"
   ]
  },
  {
   "cell_type": "code",
   "execution_count": 22,
   "metadata": {
    "collapsed": true
   },
   "outputs": [],
   "source": [
    "%matplotlib inline"
   ]
  },
  {
   "cell_type": "code",
   "execution_count": 2,
   "metadata": {
    "collapsed": true
   },
   "outputs": [],
   "source": [
    "from sklearn.feature_extraction.text import CountVectorizer\n",
    "from sklearn.feature_extraction.text import TfidfVectorizer"
   ]
  },
  {
   "cell_type": "code",
   "execution_count": 46,
   "metadata": {
    "collapsed": true
   },
   "outputs": [],
   "source": [
    "import spacy"
   ]
  },
  {
   "cell_type": "code",
   "execution_count": 11,
   "metadata": {
    "collapsed": true
   },
   "outputs": [],
   "source": [
    "pd.set_option(\"display.max_colwidth\", 200)"
   ]
  },
  {
   "cell_type": "code",
   "execution_count": 61,
   "metadata": {
    "collapsed": true
   },
   "outputs": [],
   "source": [
    "pd.set_option(\"display.max_rows\", 500)"
   ]
  },
  {
   "cell_type": "markdown",
   "metadata": {},
   "source": [
    "## Load the texts"
   ]
  },
  {
   "cell_type": "code",
   "execution_count": 4,
   "metadata": {},
   "outputs": [
    {
     "data": {
      "text/html": [
       "<div>\n",
       "<style>\n",
       "    .dataframe thead tr:only-child th {\n",
       "        text-align: right;\n",
       "    }\n",
       "\n",
       "    .dataframe thead th {\n",
       "        text-align: left;\n",
       "    }\n",
       "\n",
       "    .dataframe tbody tr th {\n",
       "        vertical-align: top;\n",
       "    }\n",
       "</style>\n",
       "<table border=\"1\" class=\"dataframe\">\n",
       "  <thead>\n",
       "    <tr style=\"text-align: right;\">\n",
       "      <th></th>\n",
       "      <th>Jahr</th>\n",
       "      <th>Redner</th>\n",
       "      <th>Partei</th>\n",
       "      <th>Titel</th>\n",
       "      <th>Anrede</th>\n",
       "      <th>Präambel</th>\n",
       "      <th>Text</th>\n",
       "    </tr>\n",
       "  </thead>\n",
       "  <tbody>\n",
       "    <tr>\n",
       "      <th>0</th>\n",
       "      <td>2017</td>\n",
       "      <td>Doris Leuthard</td>\n",
       "      <td>CVP</td>\n",
       "      <td>Ansprache von Bundespräsidentin Doris Leuthard...</td>\n",
       "      <td>Sehr geehrte Damen und Herren</td>\n",
       "      <td>NaN</td>\n",
       "      <td>Sehr geehrte Damen und Herren\\n\\nIch hoffe, si...</td>\n",
       "    </tr>\n",
       "    <tr>\n",
       "      <th>1</th>\n",
       "      <td>2016</td>\n",
       "      <td>Johann N. Schneider-Ammann</td>\n",
       "      <td>FDP</td>\n",
       "      <td>Ansprache von Bundespräsident Johann N. Schnei...</td>\n",
       "      <td>Liebe Mitbürgerinnen und Mitbürger</td>\n",
       "      <td>NaN</td>\n",
       "      <td>Liebe Mitbürgerinnen und Mitbürger\\n\\nDer 1. A...</td>\n",
       "    </tr>\n",
       "  </tbody>\n",
       "</table>\n",
       "</div>"
      ],
      "text/plain": [
       "   Jahr                      Redner Partei  \\\n",
       "0  2017              Doris Leuthard    CVP   \n",
       "1  2016  Johann N. Schneider-Ammann    FDP   \n",
       "\n",
       "                                               Titel  \\\n",
       "0  Ansprache von Bundespräsidentin Doris Leuthard...   \n",
       "1  Ansprache von Bundespräsident Johann N. Schnei...   \n",
       "\n",
       "                               Anrede Präambel  \\\n",
       "0       Sehr geehrte Damen und Herren      NaN   \n",
       "1  Liebe Mitbürgerinnen und Mitbürger      NaN   \n",
       "\n",
       "                                                Text  \n",
       "0  Sehr geehrte Damen und Herren\\n\\nIch hoffe, si...  \n",
       "1  Liebe Mitbürgerinnen und Mitbürger\\n\\nDer 1. A...  "
      ]
     },
     "execution_count": 4,
     "metadata": {},
     "output_type": "execute_result"
    }
   ],
   "source": [
    "df = pd.read_excel('Reden.xlsx')\n",
    "df.head(2)"
   ]
  },
  {
   "cell_type": "markdown",
   "metadata": {},
   "source": [
    "## Some basic stuff"
   ]
  },
  {
   "cell_type": "markdown",
   "metadata": {},
   "source": [
    "### Most used adresses"
   ]
  },
  {
   "cell_type": "code",
   "execution_count": 6,
   "metadata": {},
   "outputs": [
    {
     "data": {
      "text/plain": [
       "Liebe Mitbürgerinnen und Mitbürger                                                                          10\n",
       "Liebe Mitbürgerinnen, liebe Mitbürger                                                                        2\n",
       "Liebe Mitbürgerinnen und Mitbürger, guten Tag                                                                1\n",
       "Sehr geehrte Damen und Herren                                                                                1\n",
       "Sehr geehrte Damen und Herren\\nLiebe Einwohnerinnen und Einwohner unseres Landes                             1\n",
       "Meine Damen und Herren                                                                                       1\n",
       "Liebe Schweizerinnen und Schweizer im In- und Ausland, Liebe Ausländerinnen und Ausländer in der Schweiz     1\n",
       "Liebe Mitbürgerinnen und Mitbürger in der Schweiz und im Ausland                                             1\n",
       "Liebe Mitbürgerinnen und Mitbürger!                                                                          1\n",
       "Liebe Mitbürgerinnen und Mitbürger, meine Damen und Herren                                                   1\n",
       "Liebe Schweizerinnen und Schweizer, liebe Einwohnerinnen und Einwohner dieses Landes                         1\n",
       "Liebe Mitbürgerinnen und Mitbürger\\nCharas convischinas e chars convischins                                  1\n",
       "Name: Anrede, dtype: int64"
      ]
     },
     "execution_count": 6,
     "metadata": {},
     "output_type": "execute_result"
    }
   ],
   "source": [
    "df.Anrede.value_counts()"
   ]
  },
  {
   "cell_type": "markdown",
   "metadata": {},
   "source": [
    "### Longest addresses"
   ]
  },
  {
   "cell_type": "code",
   "execution_count": 20,
   "metadata": {},
   "outputs": [],
   "source": [
    "df['Anrede-Len'] = df['Anrede'].str.len()"
   ]
  },
  {
   "cell_type": "code",
   "execution_count": 21,
   "metadata": {},
   "outputs": [
    {
     "data": {
      "text/html": [
       "<div>\n",
       "<style>\n",
       "    .dataframe thead tr:only-child th {\n",
       "        text-align: right;\n",
       "    }\n",
       "\n",
       "    .dataframe thead th {\n",
       "        text-align: left;\n",
       "    }\n",
       "\n",
       "    .dataframe tbody tr th {\n",
       "        vertical-align: top;\n",
       "    }\n",
       "</style>\n",
       "<table border=\"1\" class=\"dataframe\">\n",
       "  <thead>\n",
       "    <tr style=\"text-align: right;\">\n",
       "      <th></th>\n",
       "      <th>Jahr</th>\n",
       "      <th>Redner</th>\n",
       "      <th>Anrede</th>\n",
       "      <th>Anrede-Len</th>\n",
       "    </tr>\n",
       "  </thead>\n",
       "  <tbody>\n",
       "    <tr>\n",
       "      <th>16</th>\n",
       "      <td>2001</td>\n",
       "      <td>Moritz Leuenberger</td>\n",
       "      <td>Liebe Schweizerinnen und Schweizer im In- und Ausland, Liebe Ausländerinnen und Ausländer in der Schweiz</td>\n",
       "      <td>104.0</td>\n",
       "    </tr>\n",
       "    <tr>\n",
       "      <th>10</th>\n",
       "      <td>2007</td>\n",
       "      <td>Micheline Calmy-Rey</td>\n",
       "      <td>Liebe Schweizerinnen und Schweizer, liebe Einwohnerinnen und Einwohner dieses Landes</td>\n",
       "      <td>84.0</td>\n",
       "    </tr>\n",
       "    <tr>\n",
       "      <th>3</th>\n",
       "      <td>2014</td>\n",
       "      <td>Didier Burkhalter</td>\n",
       "      <td>Sehr geehrte Damen und Herren\\nLiebe Einwohnerinnen und Einwohner unseres Landes</td>\n",
       "      <td>79.0</td>\n",
       "    </tr>\n",
       "    <tr>\n",
       "      <th>5</th>\n",
       "      <td>2012</td>\n",
       "      <td>Eveline Widmer-Schlumpf</td>\n",
       "      <td>Liebe Mitbürgerinnen und Mitbürger\\nCharas convischinas e chars convischins</td>\n",
       "      <td>74.0</td>\n",
       "    </tr>\n",
       "    <tr>\n",
       "      <th>12</th>\n",
       "      <td>2005</td>\n",
       "      <td>Samuel Schmid</td>\n",
       "      <td>Liebe Mitbürgerinnen und Mitbürger in der Schweiz und im Ausland</td>\n",
       "      <td>64.0</td>\n",
       "    </tr>\n",
       "  </tbody>\n",
       "</table>\n",
       "</div>"
      ],
      "text/plain": [
       "    Jahr                   Redner  \\\n",
       "16  2001       Moritz Leuenberger   \n",
       "10  2007      Micheline Calmy-Rey   \n",
       "3   2014        Didier Burkhalter   \n",
       "5   2012  Eveline Widmer-Schlumpf   \n",
       "12  2005            Samuel Schmid   \n",
       "\n",
       "                                                                                                      Anrede  \\\n",
       "16  Liebe Schweizerinnen und Schweizer im In- und Ausland, Liebe Ausländerinnen und Ausländer in der Schweiz   \n",
       "10                      Liebe Schweizerinnen und Schweizer, liebe Einwohnerinnen und Einwohner dieses Landes   \n",
       "3                           Sehr geehrte Damen und Herren\\nLiebe Einwohnerinnen und Einwohner unseres Landes   \n",
       "5                                Liebe Mitbürgerinnen und Mitbürger\\nCharas convischinas e chars convischins   \n",
       "12                                          Liebe Mitbürgerinnen und Mitbürger in der Schweiz und im Ausland   \n",
       "\n",
       "    Anrede-Len  \n",
       "16       104.0  \n",
       "10        84.0  \n",
       "3         79.0  \n",
       "5         74.0  \n",
       "12        64.0  "
      ]
     },
     "execution_count": 21,
     "metadata": {},
     "output_type": "execute_result"
    }
   ],
   "source": [
    "df.sort_values(by='Anrede-Len', ascending=False)[['Jahr', 'Redner', 'Anrede', 'Anrede-Len']].head(5)"
   ]
  },
  {
   "cell_type": "markdown",
   "metadata": {},
   "source": [
    "### Text length"
   ]
  },
  {
   "cell_type": "code",
   "execution_count": 23,
   "metadata": {
    "collapsed": true
   },
   "outputs": [],
   "source": [
    "df['Text-Len'] = df['Text'].str.len()"
   ]
  },
  {
   "cell_type": "code",
   "execution_count": 27,
   "metadata": {},
   "outputs": [
    {
     "data": {
      "text/plain": [
       "<matplotlib.axes._subplots.AxesSubplot at 0x1134f0748>"
      ]
     },
     "execution_count": 27,
     "metadata": {},
     "output_type": "execute_result"
    },
    {
     "data": {
      "image/png": "[encoded data removed]",
      "text/plain": [
       "<matplotlib.figure.Figure at 0x1135ddef0>"
      ]
     },
     "metadata": {},
     "output_type": "display_data"
    }
   ],
   "source": [
    "df.plot(kind=\"bar\", y='Text-Len', x='Jahr', figsize=(10,6))"
   ]
  },
  {
   "cell_type": "markdown",
   "metadata": {},
   "source": [
    "### Longest Text"
   ]
  },
  {
   "cell_type": "code",
   "execution_count": 28,
   "metadata": {},
   "outputs": [
    {
     "data": {
      "text/html": [
       "<div>\n",
       "<style>\n",
       "    .dataframe thead tr:only-child th {\n",
       "        text-align: right;\n",
       "    }\n",
       "\n",
       "    .dataframe thead th {\n",
       "        text-align: left;\n",
       "    }\n",
       "\n",
       "    .dataframe tbody tr th {\n",
       "        vertical-align: top;\n",
       "    }\n",
       "</style>\n",
       "<table border=\"1\" class=\"dataframe\">\n",
       "  <thead>\n",
       "    <tr style=\"text-align: right;\">\n",
       "      <th></th>\n",
       "      <th>Jahr</th>\n",
       "      <th>Redner</th>\n",
       "      <th>Text-Len</th>\n",
       "    </tr>\n",
       "  </thead>\n",
       "  <tbody>\n",
       "    <tr>\n",
       "      <th>19</th>\n",
       "      <td>1998</td>\n",
       "      <td>Flavio Cotti</td>\n",
       "      <td>13470</td>\n",
       "    </tr>\n",
       "    <tr>\n",
       "      <th>32</th>\n",
       "      <td>1985</td>\n",
       "      <td>Kurt Furgler</td>\n",
       "      <td>7476</td>\n",
       "    </tr>\n",
       "    <tr>\n",
       "      <th>3</th>\n",
       "      <td>2014</td>\n",
       "      <td>Didier Burkhalter</td>\n",
       "      <td>5827</td>\n",
       "    </tr>\n",
       "    <tr>\n",
       "      <th>24</th>\n",
       "      <td>1993</td>\n",
       "      <td>Adolf Ogi</td>\n",
       "      <td>5534</td>\n",
       "    </tr>\n",
       "    <tr>\n",
       "      <th>25</th>\n",
       "      <td>1992</td>\n",
       "      <td>René Felber</td>\n",
       "      <td>5481</td>\n",
       "    </tr>\n",
       "  </tbody>\n",
       "</table>\n",
       "</div>"
      ],
      "text/plain": [
       "    Jahr             Redner  Text-Len\n",
       "19  1998       Flavio Cotti     13470\n",
       "32  1985       Kurt Furgler      7476\n",
       "3   2014  Didier Burkhalter      5827\n",
       "24  1993          Adolf Ogi      5534\n",
       "25  1992        René Felber      5481"
      ]
     },
     "execution_count": 28,
     "metadata": {},
     "output_type": "execute_result"
    }
   ],
   "source": [
    "df.sort_values(by='Text-Len', ascending=False)[['Jahr', 'Redner', 'Text-Len']].head(5)"
   ]
  },
  {
   "cell_type": "code",
   "execution_count": 90,
   "metadata": {},
   "outputs": [
    {
     "data": {
      "text/plain": [
       "Partei\n",
       "BDP    5147.000000\n",
       "CVP    5146.777778\n",
       "FDP    3932.555556\n",
       "SP     3806.200000\n",
       "SVP    3935.750000\n",
       "Name: Text-Len, dtype: float64"
      ]
     },
     "execution_count": 90,
     "metadata": {},
     "output_type": "execute_result"
    }
   ],
   "source": [
    "df.groupby(\"Partei\")['Text-Len'].mean()"
   ]
  },
  {
   "cell_type": "markdown",
   "metadata": {},
   "source": [
    "## Try some scikit"
   ]
  },
  {
   "cell_type": "code",
   "execution_count": 64,
   "metadata": {},
   "outputs": [
    {
     "data": {
      "text/plain": [
       "<33x4119 sparse matrix of type '<class 'numpy.float64'>'\n",
       "\twith 10715 stored elements in Compressed Sparse Row format>"
      ]
     },
     "execution_count": 64,
     "metadata": {},
     "output_type": "execute_result"
    }
   ],
   "source": [
    "#First let's use a TF-vectorizer on all words without any tokenization\n",
    "#This gives the frequency of each word in a particular text (rows add up to 1)\n",
    "vectorizer = TfidfVectorizer(use_idf=False, norm='l1')\n",
    "matrix = vectorizer.fit_transform(df['Text'])\n",
    "matrix"
   ]
  },
  {
   "cell_type": "code",
   "execution_count": 70,
   "metadata": {},
   "outputs": [
    {
     "data": {
      "text/html": [
       "<div>\n",
       "<style>\n",
       "    .dataframe thead tr:only-child th {\n",
       "        text-align: right;\n",
       "    }\n",
       "\n",
       "    .dataframe thead th {\n",
       "        text-align: left;\n",
       "    }\n",
       "\n",
       "    .dataframe tbody tr th {\n",
       "        vertical-align: top;\n",
       "    }\n",
       "</style>\n",
       "<table border=\"1\" class=\"dataframe\">\n",
       "  <thead>\n",
       "    <tr style=\"text-align: right;\">\n",
       "      <th></th>\n",
       "      <th>02</th>\n",
       "      <th>10</th>\n",
       "      <th>100</th>\n",
       "      <th>1291</th>\n",
       "      <th>15</th>\n",
       "      <th>150</th>\n",
       "      <th>157</th>\n",
       "      <th>1648</th>\n",
       "      <th>1798</th>\n",
       "      <th>1803</th>\n",
       "      <th>...</th>\n",
       "      <th>überzeugt</th>\n",
       "      <th>überzeugung</th>\n",
       "      <th>überzeugungen</th>\n",
       "      <th>üblich</th>\n",
       "      <th>übrigen</th>\n",
       "      <th>übt</th>\n",
       "      <th>übten</th>\n",
       "      <th>Jahr</th>\n",
       "      <th>Redner</th>\n",
       "      <th>Partei</th>\n",
       "    </tr>\n",
       "  </thead>\n",
       "  <tbody>\n",
       "    <tr>\n",
       "      <th>0</th>\n",
       "      <td>0.0</td>\n",
       "      <td>0.0</td>\n",
       "      <td>0.0</td>\n",
       "      <td>0.0</td>\n",
       "      <td>0.0</td>\n",
       "      <td>0.0</td>\n",
       "      <td>0.0</td>\n",
       "      <td>0.0</td>\n",
       "      <td>0.0</td>\n",
       "      <td>0.0</td>\n",
       "      <td>...</td>\n",
       "      <td>0.0</td>\n",
       "      <td>0.0</td>\n",
       "      <td>0.0</td>\n",
       "      <td>0.0</td>\n",
       "      <td>0.0</td>\n",
       "      <td>0.0</td>\n",
       "      <td>0.0</td>\n",
       "      <td>2017</td>\n",
       "      <td>Doris Leuthard</td>\n",
       "      <td>CVP</td>\n",
       "    </tr>\n",
       "    <tr>\n",
       "      <th>1</th>\n",
       "      <td>0.0</td>\n",
       "      <td>0.0</td>\n",
       "      <td>0.0</td>\n",
       "      <td>0.0</td>\n",
       "      <td>0.0</td>\n",
       "      <td>0.0</td>\n",
       "      <td>0.0</td>\n",
       "      <td>0.0</td>\n",
       "      <td>0.0</td>\n",
       "      <td>0.0</td>\n",
       "      <td>...</td>\n",
       "      <td>0.0</td>\n",
       "      <td>0.0</td>\n",
       "      <td>0.0</td>\n",
       "      <td>0.0</td>\n",
       "      <td>0.0</td>\n",
       "      <td>0.0</td>\n",
       "      <td>0.0</td>\n",
       "      <td>2016</td>\n",
       "      <td>Johann N. Schneider-Ammann</td>\n",
       "      <td>FDP</td>\n",
       "    </tr>\n",
       "  </tbody>\n",
       "</table>\n",
       "<p>2 rows × 4122 columns</p>\n",
       "</div>"
      ],
      "text/plain": [
       "    02   10  100  1291   15  150  157  1648  1798  1803   ...    überzeugt  \\\n",
       "0  0.0  0.0  0.0   0.0  0.0  0.0  0.0   0.0   0.0   0.0   ...          0.0   \n",
       "1  0.0  0.0  0.0   0.0  0.0  0.0  0.0   0.0   0.0   0.0   ...          0.0   \n",
       "\n",
       "   überzeugung  überzeugungen  üblich  übrigen  übt  übten  Jahr  \\\n",
       "0          0.0            0.0     0.0      0.0  0.0    0.0  2017   \n",
       "1          0.0            0.0     0.0      0.0  0.0    0.0  2016   \n",
       "\n",
       "                       Redner  Partei  \n",
       "0              Doris Leuthard     CVP  \n",
       "1  Johann N. Schneider-Ammann     FDP  \n",
       "\n",
       "[2 rows x 4122 columns]"
      ]
     },
     "execution_count": 70,
     "metadata": {},
     "output_type": "execute_result"
    }
   ],
   "source": [
    "results = pd.DataFrame(matrix.toarray(), columns=vectorizer.get_feature_names())\n",
    "results['Jahr'] = df['Jahr']\n",
    "results['Redner'] = df['Redner']\n",
    "results['Partei'] = df['Partei']\n",
    "results.head(2)"
   ]
  },
  {
   "cell_type": "markdown",
   "metadata": {},
   "source": [
    "### Word frequencies over time"
   ]
  },
  {
   "cell_type": "code",
   "execution_count": 69,
   "metadata": {},
   "outputs": [
    {
     "data": {
      "text/plain": [
       "<matplotlib.axes._subplots.AxesSubplot at 0x12545fcf8>"
      ]
     },
     "execution_count": 69,
     "metadata": {},
     "output_type": "execute_result"
    },
    {
     "data": {
      "image/png": "[encoded data removed]",
      "text/plain": [
       "<matplotlib.figure.Figure at 0x149cb4438>"
      ]
     },
     "metadata": {},
     "output_type": "display_data"
    },
    {
     "data": {
      "image/png": "[encoded data removed]",
      "text/plain": [
       "<matplotlib.figure.Figure at 0x149a47f98>"
      ]
     },
     "metadata": {},
     "output_type": "display_data"
    },
    {
     "data": {
      "image/png": "[encoded data removed]",
      "text/plain": [
       "<matplotlib.figure.Figure at 0x149c58908>"
      ]
     },
     "metadata": {},
     "output_type": "display_data"
    },
    {
     "data": {
      "image/png": "[encoded data removed]",
      "text/plain": [
       "<matplotlib.figure.Figure at 0x124c53080>"
      ]
     },
     "metadata": {},
     "output_type": "display_data"
    },
    {
     "data": {
      "image/png": "[encoded data removed]",
      "text/plain": [
       "<matplotlib.figure.Figure at 0x1255ed208>"
      ]
     },
     "metadata": {},
     "output_type": "display_data"
    },
    {
     "data": {
      "image/png": "[encoded data removed]",
      "text/plain": [
       "<matplotlib.figure.Figure at 0x146c36fd0>"
      ]
     },
     "metadata": {},
     "output_type": "display_data"
    },
    {
     "data": {
      "image/png": "[encoded data removed]",
      "text/plain": [
       "<matplotlib.figure.Figure at 0x124c03dd8>"
      ]
     },
     "metadata": {},
     "output_type": "display_data"
    },
    {
     "data": {
      "image/png": "[encoded data removed]",
      "text/plain": [
       "<matplotlib.figure.Figure at 0x124887fd0>"
      ]
     },
     "metadata": {},
     "output_type": "display_data"
    },
    {
     "data": {
      "image/png": "[encoded data removed]",
      "text/plain": [
       "<matplotlib.figure.Figure at 0x14657c390>"
      ]
     },
     "metadata": {},
     "output_type": "display_data"
    },
    {
     "data": {
      "image/png": "[encoded data removed]",
      "text/plain": [
       "<matplotlib.figure.Figure at 0x1465a4048>"
      ]
     },
     "metadata": {},
     "output_type": "display_data"
    },
    {
     "data": {
      "image/png": "[encoded data removed]",
      "text/plain": [
       "<matplotlib.figure.Figure at 0x1257ed898>"
      ]
     },
     "metadata": {},
     "output_type": "display_data"
    }
   ],
   "source": [
    "results.plot(kind=\"bar\", y='schweiz', x='Jahr', figsize=(10,4))\n",
    "results.plot(kind=\"bar\", y='freiheit', x='Jahr', figsize=(10,4))\n",
    "results.plot(kind=\"bar\", y='wirtschaft', x='Jahr', figsize=(10,4))\n",
    "results.plot(kind=\"bar\", y='demokratie', x='Jahr', figsize=(10,4))\n",
    "results.plot(kind=\"bar\", y='menschen', x='Jahr', figsize=(10,4))\n",
    "results.plot(kind=\"bar\", y='heimat', x='Jahr', figsize=(10,4))\n",
    "results.plot(kind=\"bar\", y='europa', x='Jahr', figsize=(10,4))\n",
    "results.plot(kind=\"bar\", y='zukunft', x='Jahr', figsize=(10,4))\n",
    "results.plot(kind=\"bar\", y='vergangenheit', x='Jahr', figsize=(10,4))\n",
    "results.plot(kind=\"bar\", y='staat', x='Jahr', figsize=(10,4))\n",
    "results.plot(kind=\"bar\", y='wir', x='Jahr', figsize=(10,4))"
   ]
  },
  {
   "cell_type": "markdown",
   "metadata": {},
   "source": [
    "### How often they talked about Switzerland"
   ]
  },
  {
   "cell_type": "code",
   "execution_count": 72,
   "metadata": {},
   "outputs": [
    {
     "data": {
      "text/html": [
       "<div>\n",
       "<style>\n",
       "    .dataframe thead tr:only-child th {\n",
       "        text-align: right;\n",
       "    }\n",
       "\n",
       "    .dataframe thead th {\n",
       "        text-align: left;\n",
       "    }\n",
       "\n",
       "    .dataframe tbody tr th {\n",
       "        vertical-align: top;\n",
       "    }\n",
       "</style>\n",
       "<table border=\"1\" class=\"dataframe\">\n",
       "  <thead>\n",
       "    <tr style=\"text-align: right;\">\n",
       "      <th></th>\n",
       "      <th>Jahr</th>\n",
       "      <th>Redner</th>\n",
       "      <th>Partei</th>\n",
       "      <th>schweiz</th>\n",
       "    </tr>\n",
       "  </thead>\n",
       "  <tbody>\n",
       "    <tr>\n",
       "      <th>17</th>\n",
       "      <td>2000</td>\n",
       "      <td>Adolf Ogi</td>\n",
       "      <td>SVP</td>\n",
       "      <td>0.028986</td>\n",
       "    </tr>\n",
       "    <tr>\n",
       "      <th>3</th>\n",
       "      <td>2014</td>\n",
       "      <td>Didier Burkhalter</td>\n",
       "      <td>FDP</td>\n",
       "      <td>0.023015</td>\n",
       "    </tr>\n",
       "    <tr>\n",
       "      <th>4</th>\n",
       "      <td>2013</td>\n",
       "      <td>Ueli Maurer</td>\n",
       "      <td>SVP</td>\n",
       "      <td>0.019780</td>\n",
       "    </tr>\n",
       "    <tr>\n",
       "      <th>6</th>\n",
       "      <td>2011</td>\n",
       "      <td>Micheline Calmy-Rey</td>\n",
       "      <td>SP</td>\n",
       "      <td>0.015411</td>\n",
       "    </tr>\n",
       "    <tr>\n",
       "      <th>16</th>\n",
       "      <td>2001</td>\n",
       "      <td>Moritz Leuenberger</td>\n",
       "      <td>SP</td>\n",
       "      <td>0.015152</td>\n",
       "    </tr>\n",
       "  </tbody>\n",
       "</table>\n",
       "</div>"
      ],
      "text/plain": [
       "    Jahr               Redner Partei   schweiz\n",
       "17  2000            Adolf Ogi    SVP  0.028986\n",
       "3   2014    Didier Burkhalter    FDP  0.023015\n",
       "4   2013          Ueli Maurer    SVP  0.019780\n",
       "6   2011  Micheline Calmy-Rey     SP  0.015411\n",
       "16  2001   Moritz Leuenberger     SP  0.015152"
      ]
     },
     "execution_count": 72,
     "metadata": {},
     "output_type": "execute_result"
    }
   ],
   "source": [
    "results.sort_values(by=\"schweiz\", ascending=False).head(5)[['Jahr', 'Redner', 'Partei', 'schweiz']]"
   ]
  },
  {
   "cell_type": "code",
   "execution_count": 73,
   "metadata": {},
   "outputs": [
    {
     "data": {
      "text/html": [
       "<div>\n",
       "<style>\n",
       "    .dataframe thead tr:only-child th {\n",
       "        text-align: right;\n",
       "    }\n",
       "\n",
       "    .dataframe thead th {\n",
       "        text-align: left;\n",
       "    }\n",
       "\n",
       "    .dataframe tbody tr th {\n",
       "        vertical-align: top;\n",
       "    }\n",
       "</style>\n",
       "<table border=\"1\" class=\"dataframe\">\n",
       "  <thead>\n",
       "    <tr style=\"text-align: right;\">\n",
       "      <th></th>\n",
       "      <th>Jahr</th>\n",
       "      <th>Redner</th>\n",
       "      <th>Partei</th>\n",
       "      <th>schweiz</th>\n",
       "    </tr>\n",
       "  </thead>\n",
       "  <tbody>\n",
       "    <tr>\n",
       "      <th>29</th>\n",
       "      <td>1988</td>\n",
       "      <td>Otto Stich</td>\n",
       "      <td>SP</td>\n",
       "      <td>0.000000</td>\n",
       "    </tr>\n",
       "    <tr>\n",
       "      <th>27</th>\n",
       "      <td>1990</td>\n",
       "      <td>Arnold Koller</td>\n",
       "      <td>CVP</td>\n",
       "      <td>0.001927</td>\n",
       "    </tr>\n",
       "    <tr>\n",
       "      <th>8</th>\n",
       "      <td>2009</td>\n",
       "      <td>Hans-Rudolf Merz</td>\n",
       "      <td>FDP</td>\n",
       "      <td>0.002611</td>\n",
       "    </tr>\n",
       "    <tr>\n",
       "      <th>32</th>\n",
       "      <td>1985</td>\n",
       "      <td>Kurt Furgler</td>\n",
       "      <td>CVP</td>\n",
       "      <td>0.002796</td>\n",
       "    </tr>\n",
       "    <tr>\n",
       "      <th>18</th>\n",
       "      <td>1999</td>\n",
       "      <td>Ruth Dreifuss</td>\n",
       "      <td>SP</td>\n",
       "      <td>0.003597</td>\n",
       "    </tr>\n",
       "  </tbody>\n",
       "</table>\n",
       "</div>"
      ],
      "text/plain": [
       "    Jahr            Redner Partei   schweiz\n",
       "29  1988        Otto Stich     SP  0.000000\n",
       "27  1990     Arnold Koller    CVP  0.001927\n",
       "8   2009  Hans-Rudolf Merz    FDP  0.002611\n",
       "32  1985      Kurt Furgler    CVP  0.002796\n",
       "18  1999     Ruth Dreifuss     SP  0.003597"
      ]
     },
     "execution_count": 73,
     "metadata": {},
     "output_type": "execute_result"
    }
   ],
   "source": [
    "results.sort_values(by=\"schweiz\").head(5)[['Jahr', 'Redner', 'Partei', 'schweiz']]"
   ]
  },
  {
   "cell_type": "markdown",
   "metadata": {},
   "source": [
    "### What the parties are talking abut"
   ]
  },
  {
   "cell_type": "code",
   "execution_count": 75,
   "metadata": {},
   "outputs": [
    {
     "data": {
      "text/plain": [
       "Partei\n",
       "SVP    0.017389\n",
       "FDP    0.010574\n",
       "BDP    0.007673\n",
       "SP     0.007646\n",
       "CVP    0.006559\n",
       "Name: schweiz, dtype: float64"
      ]
     },
     "execution_count": 75,
     "metadata": {},
     "output_type": "execute_result"
    }
   ],
   "source": [
    "results.groupby('Partei')['schweiz'].mean().sort_values(ascending=False)"
   ]
  },
  {
   "cell_type": "code",
   "execution_count": 76,
   "metadata": {},
   "outputs": [
    {
     "data": {
      "text/plain": [
       "Partei\n",
       "BDP    0.003836\n",
       "FDP    0.001983\n",
       "SP     0.001912\n",
       "SVP    0.001503\n",
       "CVP    0.001387\n",
       "Name: europa, dtype: float64"
      ]
     },
     "execution_count": 76,
     "metadata": {},
     "output_type": "execute_result"
    }
   ],
   "source": [
    "results.groupby('Partei')['europa'].mean().sort_values(ascending=False)"
   ]
  },
  {
   "cell_type": "code",
   "execution_count": 77,
   "metadata": {},
   "outputs": [
    {
     "data": {
      "text/plain": [
       "Partei\n",
       "SP     0.004427\n",
       "FDP    0.001383\n",
       "SVP    0.001316\n",
       "BDP    0.001279\n",
       "CVP    0.001076\n",
       "Name: demokratie, dtype: float64"
      ]
     },
     "execution_count": 77,
     "metadata": {},
     "output_type": "execute_result"
    }
   ],
   "source": [
    "results.groupby('Partei')['demokratie'].mean().sort_values(ascending=False)"
   ]
  },
  {
   "cell_type": "code",
   "execution_count": 78,
   "metadata": {},
   "outputs": [
    {
     "data": {
      "text/plain": [
       "Partei\n",
       "BDP    0.037084\n",
       "SVP    0.032747\n",
       "CVP    0.027910\n",
       "SP     0.027525\n",
       "FDP    0.023586\n",
       "Name: wir, dtype: float64"
      ]
     },
     "execution_count": 78,
     "metadata": {},
     "output_type": "execute_result"
    }
   ],
   "source": [
    "results.groupby('Partei')['wir'].mean().sort_values(ascending=False)"
   ]
  },
  {
   "cell_type": "code",
   "execution_count": 79,
   "metadata": {},
   "outputs": [
    {
     "data": {
      "text/plain": [
       "Partei\n",
       "SP     0.002702\n",
       "BDP    0.002558\n",
       "FDP    0.002502\n",
       "CVP    0.002477\n",
       "SVP    0.000899\n",
       "Name: menschen, dtype: float64"
      ]
     },
     "execution_count": 79,
     "metadata": {},
     "output_type": "execute_result"
    }
   ],
   "source": [
    "results.groupby('Partei')['menschen'].mean().sort_values(ascending=False)"
   ]
  },
  {
   "cell_type": "markdown",
   "metadata": {},
   "source": [
    "### Switzerland vs the People"
   ]
  },
  {
   "cell_type": "code",
   "execution_count": 89,
   "metadata": {},
   "outputs": [
    {
     "data": {
      "text/plain": [
       "<matplotlib.text.Text at 0x12ca6f5f8>"
      ]
     },
     "execution_count": 89,
     "metadata": {},
     "output_type": "execute_result"
    },
    {
     "data": {
      "image/png": "[encoded data removed]",
      "text/plain": [
       "<matplotlib.figure.Figure at 0x12c867a90>"
      ]
     },
     "metadata": {},
     "output_type": "display_data"
    }
   ],
   "source": [
    "colormap = {\n",
    "    'SVP': 'green',\n",
    "    'SP': 'red',\n",
    "    'CVP': 'orange',\n",
    "    'FDP': 'blue',\n",
    "    'BDP': 'yellow'\n",
    "}\n",
    "colors = results['Partei'].apply(lambda partei: colormap[partei])\n",
    "\n",
    "ax = results.plot(x='schweiz', y='menschen', kind='scatter', color=colors, xlim=(0,0.03), ylim=(-0.002,0.01))\n",
    "ax.set_title(\"Wer über was spricht\")"
   ]
  },
  {
   "cell_type": "code",
   "execution_count": 87,
   "metadata": {
    "collapsed": true
   },
   "outputs": [],
   "source": [
    "results.plot?"
   ]
  },
  {
   "cell_type": "markdown",
   "metadata": {},
   "source": [
    "### Most used words"
   ]
  },
  {
   "cell_type": "code",
   "execution_count": 58,
   "metadata": {
    "collapsed": true
   },
   "outputs": [],
   "source": [
    "#Now let's use a TFIDF-vectorizer on all words without any tokenization\n",
    "#This gives the frequency of each word relative to all texts (?)\n",
    "vectorizer = TfidfVectorizer()\n",
    "matrix = vectorizer.fit_transform(df['Text'])\n",
    "results2 = pd.DataFrame(matrix.toarray(), columns=vectorizer.get_feature_names())"
   ]
  },
  {
   "cell_type": "code",
   "execution_count": 62,
   "metadata": {},
   "outputs": [
    {
     "data": {
      "text/plain": [
       "und                     10.126792\n",
       "die                      9.052116\n",
       "wir                      6.449877\n",
       "der                      6.448986\n",
       "in                       4.395476\n",
       "zu                       3.404101\n",
       "uns                      3.107038\n",
       "ist                      3.059011\n",
       "das                      2.639132\n",
       "den                      2.307471\n",
       "nicht                    2.242119\n",
       "es                       2.236180\n",
       "schweiz                  2.225004\n",
       "auch                     2.203809\n",
       "sie                      2.113634\n",
       "für                      1.950344\n",
       "mit                      1.919087\n",
       "unsere                   1.913837\n",
       "dass                     1.859753\n",
       "ich                      1.801438\n",
       "auf                      1.690709\n",
       "sind                     1.681991\n",
       "eine                     1.607900\n",
       "von                      1.572369\n",
       "sich                     1.549563\n",
       "an                       1.527051\n",
       "ein                      1.417236\n",
       "im                       1.407940\n",
       "haben                    1.402331\n",
       "land                     1.312530\n",
       "aber                     1.177482\n",
       "des                      1.174752\n",
       "müssen                   1.101557\n",
       "dem                      1.069682\n",
       "wenn                     1.062143\n",
       "wie                      1.060381\n",
       "unserer                  0.983798\n",
       "einer                    0.980213\n",
       "als                      0.950673\n",
       "zukunft                  0.950395\n",
       "welt                     0.934865\n",
       "was                      0.897220\n",
       "hat                      0.894763\n",
       "unser                    0.891491\n",
       "können                   0.890407\n",
       "alle                     0.872009\n",
       "werden                   0.865809\n",
       "august                   0.850286\n",
       "heute                    0.847000\n",
       "nur                      0.843027\n",
       "diese                    0.834651\n",
       "immer                    0.831762\n",
       "liebe                    0.819286\n",
       "unseres                  0.802375\n",
       "aus                      0.798875\n",
       "sein                     0.789782\n",
       "um                       0.780813\n",
       "am                       0.780455\n",
       "freiheit                 0.770304\n",
       "einen                    0.767915\n",
       "so                       0.757455\n",
       "demokratie               0.753861\n",
       "tag                      0.752634\n",
       "mehr                     0.750451\n",
       "menschen                 0.743732\n",
       "vor                      0.739501\n",
       "hier                     0.723825\n",
       "landes                   0.716964\n",
       "mitbürgerinnen           0.715898\n",
       "wird                     0.715311\n",
       "mitbürger                0.697969\n",
       "oder                     0.688292\n",
       "zur                      0.676729\n",
       "wollen                   0.670322\n",
       "europa                   0.666147\n",
       "bei                      0.663838\n",
       "schweizer                0.648955\n",
       "viele                    0.646477\n",
       "leben                    0.644222\n",
       "unserem                  0.641873\n",
       "wieder                   0.636465\n",
       "heimat                   0.628852\n",
       "noch                     0.627048\n",
       "wo                       0.618865\n",
       "gibt                     0.616680\n",
       "zum                      0.605634\n",
       "staat                    0.605275\n",
       "durch                    0.604532\n",
       "geht                     0.604002\n",
       "muss                     0.602791\n",
       "diesem                   0.596381\n",
       "denn                     0.592166\n",
       "sondern                  0.589956\n",
       "einem                    0.588434\n",
       "dieses                   0.587529\n",
       "dieser                   0.584121\n",
       "probleme                 0.582383\n",
       "wirtschaft               0.576290\n",
       "dürfen                   0.575093\n",
       "über                     0.564926\n",
       "nach                     0.559690\n",
       "feiern                   0.557724\n",
       "zeit                     0.556947\n",
       "unseren                  0.556024\n",
       "geschichte               0.550279\n",
       "ihnen                    0.547443\n",
       "solidarität              0.538790\n",
       "soll                     0.532610\n",
       "war                      0.527398\n",
       "kann                     0.524105\n",
       "meine                    0.522818\n",
       "diesen                   0.521925\n",
       "zwischen                 0.514440\n",
       "dies                     0.511784\n",
       "seine                    0.507730\n",
       "allen                    0.506547\n",
       "politische               0.502997\n",
       "gut                      0.497434\n",
       "machen                   0.485365\n",
       "man                      0.484286\n",
       "ihre                     0.482620\n",
       "nationalfeiertag         0.478117\n",
       "stolz                    0.475794\n",
       "dazu                     0.474311\n",
       "damit                    0.472309\n",
       "ohne                     0.467611\n",
       "direkte                  0.463533\n",
       "schweizerinnen           0.462920\n",
       "jahr                     0.461612\n",
       "deshalb                  0.457100\n",
       "zuversicht               0.453187\n",
       "wünsche                  0.453170\n",
       "herausforderungen        0.443972\n",
       "gesellschaft             0.442086\n",
       "er                       0.440837\n",
       "gemeinschaft             0.438663\n",
       "darauf                   0.438569\n",
       "doch                     0.437602\n",
       "grossen                  0.436329\n",
       "dann                     0.435834\n",
       "unabhängigkeit           0.425267\n",
       "allem                    0.420208\n",
       "verantwortung            0.417946\n",
       "kultur                   0.412718\n",
       "entwicklung              0.408958\n",
       "jeder                    0.405754\n",
       "stellen                  0.403603\n",
       "mir                      0.403542\n",
       "kulturen                 0.402042\n",
       "wer                      0.400994\n",
       "zeiten                   0.400847\n",
       "jahren                   0.399887\n",
       "dankbarkeit              0.398480\n",
       "sehr                     0.396310\n",
       "keine                    0.392897\n",
       "anderen                  0.392803\n",
       "volk                     0.386364\n",
       "werte                    0.385691\n",
       "all                      0.385667\n",
       "eines                    0.384856\n",
       "gemeinsam                0.384326\n",
       "alles                    0.383857\n",
       "träume                   0.379803\n",
       "dank                     0.379570\n",
       "ganz                     0.378684\n",
       "vom                      0.378228\n",
       "staaten                  0.377662\n",
       "neue                     0.376331\n",
       "etwas                    0.375561\n",
       "aller                    0.374566\n",
       "eidgenossenschaft        0.372399\n",
       "ihren                    0.368707\n",
       "zusammen                 0.368678\n",
       "unter                    0.368404\n",
       "stärken                  0.364063\n",
       "steht                    0.363921\n",
       "jahre                    0.362705\n",
       "ihrer                    0.362342\n",
       "bin                      0.361456\n",
       "heisst                   0.361436\n",
       "frei                     0.359355\n",
       "da                       0.357993\n",
       "bundesrat                0.355488\n",
       "wissen                   0.353688\n",
       "nutzen                   0.347360\n",
       "dafür                    0.347090\n",
       "weil                     0.344627\n",
       "erhalten                 0.342928\n",
       "mich                     0.342831\n",
       "vergangenheit            0.341060\n",
       "besonders                0.340279\n",
       "jede                     0.338168\n",
       "neuen                    0.336217\n",
       "weg                      0.334490\n",
       "also                     0.328432\n",
       "sozialen                 0.328062\n",
       "politischen              0.327744\n",
       "gute                     0.327289\n",
       "lösen                    0.327220\n",
       "andere                   0.326412\n",
       "zwar                     0.325762\n",
       "braucht                  0.324954\n",
       "dabei                    0.324703\n",
       "viel                     0.323650\n",
       "geworden                 0.323609\n",
       "fest                     0.322027\n",
       "stark                    0.320997\n",
       "wohlstand                0.317003\n",
       "herren                   0.316305\n",
       "gerade                   0.316227\n",
       "macht                    0.315271\n",
       "glücklich                0.312021\n",
       "einmal                   0.309356\n",
       "wirtschaftlichen         0.308167\n",
       "weit                     0.307360\n",
       "bürger                   0.306759\n",
       "tun                      0.306644\n",
       "direkten                 0.306141\n",
       "sorgen                   0.305418\n",
       "begehen                  0.305340\n",
       "fragen                   0.305046\n",
       "vorfahren                0.304934\n",
       "handeln                  0.304682\n",
       "damen                    0.303596\n",
       "europäischen             0.303111\n",
       "blick                    0.301771\n",
       "selbst                   0.300923\n",
       "denen                    0.300425\n",
       "mut                      0.300206\n",
       "darum                    0.298767\n",
       "heutigen                 0.297675\n",
       "bis                      0.296277\n",
       "gehören                  0.295298\n",
       "leisten                  0.295114\n",
       "ob                       0.294535\n",
       "bleiben                  0.291981\n",
       "eigenen                  0.291763\n",
       "liegt                    0.290735\n",
       "beziehungen              0.289828\n",
       "brauchen                 0.289569\n",
       "platz                    0.289180\n",
       "welche                   0.286752\n",
       "ganze                    0.286278\n",
       "vielfalt                 0.285280\n",
       "frage                    0.284688\n",
       "schon                    0.284538\n",
       "weiss                    0.284250\n",
       "lösung                   0.284207\n",
       "chancen                  0.283461\n",
       "sei                      0.282795\n",
       "                          ...    \n",
       "eröffnet                 0.017815\n",
       "fundamente               0.017815\n",
       "äusserte                 0.017815\n",
       "motta                    0.017815\n",
       "mündung                  0.017815\n",
       "tessiner                 0.017815\n",
       "schilderte               0.017815\n",
       "1967                     0.017815\n",
       "erregte                  0.017815\n",
       "bildete                  0.017815\n",
       "überwunden               0.017815\n",
       "150                      0.017815\n",
       "illustriert              0.017815\n",
       "1803                     0.017815\n",
       "schreckten               0.017815\n",
       "1921                     0.017815\n",
       "überrascht               0.017815\n",
       "schulen                  0.017815\n",
       "diesjährige              0.017815\n",
       "200                      0.017815\n",
       "poetisch                 0.017815\n",
       "stärkere                 0.017815\n",
       "errungenschaft           0.017815\n",
       "schufen                  0.017815\n",
       "früh                     0.017815\n",
       "bezahlt                  0.017815\n",
       "innert                   0.017815\n",
       "billiges                 0.017815\n",
       "freiheitserklärung       0.017815\n",
       "di                       0.017815\n",
       "todestag                 0.017815\n",
       "advokaten                0.017815\n",
       "affronta                 0.017815\n",
       "verbinden                0.017815\n",
       "hinzuwirken              0.017815\n",
       "erhaltung                0.017815\n",
       "beschreiben              0.017815\n",
       "aiuto                    0.017815\n",
       "quale                    0.017815\n",
       "zuzustimmen              0.017815\n",
       "betrachtete              0.017815\n",
       "mitgegebenen             0.017815\n",
       "inzwischen               0.017815\n",
       "hinzu                    0.017815\n",
       "eilt                     0.017815\n",
       "versammelte              0.017815\n",
       "stoppani                 0.017815\n",
       "alla                     0.017815\n",
       "betrifft                 0.017815\n",
       "vermittelt               0.017815\n",
       "verkünden                0.017815\n",
       "bittet                   0.017815\n",
       "verkündet                0.017815\n",
       "provisorische            0.017815\n",
       "verdammt                 0.017815\n",
       "abhängt                  0.017815\n",
       "beweis                   0.017815\n",
       "strecken                 0.017815\n",
       "edi                      0.017815\n",
       "abschluss                0.017815\n",
       "schmerz                  0.017815\n",
       "rückschläge              0.017815\n",
       "funktion                 0.017815\n",
       "sue                      0.017815\n",
       "zweihundert              0.017815\n",
       "freigelassen             0.017815\n",
       "betten                   0.017815\n",
       "zweifels                 0.017815\n",
       "abzeichnende             0.017815\n",
       "teilweise                0.017815\n",
       "zentraler                0.017815\n",
       "klarer                   0.017815\n",
       "gegenwehr                0.017815\n",
       "auswanderung             0.017815\n",
       "liberi                   0.017815\n",
       "begrüsse                 0.017815\n",
       "festigte                 0.017815\n",
       "empfinden                0.017815\n",
       "empfinde                 0.017815\n",
       "begriffe                 0.017815\n",
       "lateinischen             0.017815\n",
       "untertanenschaft         0.017815\n",
       "emotionsgeladenen        0.017815\n",
       "spitze                   0.017815\n",
       "unterricht               0.017815\n",
       "aussenminister           0.017815\n",
       "begreift                 0.017815\n",
       "nell                     0.017815\n",
       "weitergegebene           0.017815\n",
       "coscienza                0.017815\n",
       "ausstellung              0.017815\n",
       "sprachenartikels         0.017815\n",
       "come                     0.017815\n",
       "prende                   0.017815\n",
       "libertà                  0.017815\n",
       "nebeneinanderleben       0.017815\n",
       "kürzliche                0.017815\n",
       "nebeneinander            0.017815\n",
       "ausführungen             0.017815\n",
       "svizzero                 0.017815\n",
       "wende                    0.017815\n",
       "weltsprache              0.017815\n",
       "kürze                    0.017815\n",
       "unaufhaltsame            0.017815\n",
       "lichte                   0.017815\n",
       "danach                   0.017815\n",
       "unbeschwerten            0.017815\n",
       "grazia                   0.017815\n",
       "licht                    0.017815\n",
       "weltkriegs               0.017815\n",
       "festes                   0.017815\n",
       "grabens                  0.017815\n",
       "ausgewogeneres           0.017815\n",
       "ausgewogenheit           0.017815\n",
       "endgültigen              0.017815\n",
       "cittadini                0.017815\n",
       "fiducia                  0.017815\n",
       "annahme                  0.017815\n",
       "auszeichnen              0.017815\n",
       "sympathie                0.017815\n",
       "gefangenen               0.017815\n",
       "profonde                 0.017815\n",
       "nella                    0.017815\n",
       "befreiungsbewegung       0.017815\n",
       "befreit                  0.017815\n",
       "ging                     0.017815\n",
       "bedeuten                 0.017815\n",
       "bedeutende               0.017815\n",
       "wahrzeichen              0.017815\n",
       "waffen                   0.017815\n",
       "bedeutungsvollsten       0.017815\n",
       "gewährleisten            0.017815\n",
       "einstimmigkeit           0.017815\n",
       "bedingungen              0.017815\n",
       "sprechender              0.017815\n",
       "befassen                 0.017815\n",
       "beendigt                 0.017815\n",
       "beendet                  0.017815\n",
       "gewollten                0.017815\n",
       "squarciate               0.017815\n",
       "finanzielle              0.017815\n",
       "tagen                    0.017815\n",
       "cisalpiner               0.017815\n",
       "lebendig                 0.017815\n",
       "auszuruhen               0.017815\n",
       "gleichermassen           0.017815\n",
       "sprachenfrage            0.017815\n",
       "nubi                     0.017815\n",
       "avvenire                 0.017815\n",
       "chiama                   0.017815\n",
       "wegweisend               0.017815\n",
       "begann                   0.017815\n",
       "profeticamente           0.017815\n",
       "gefälle                  0.017815\n",
       "sprachgebiet             0.017815\n",
       "sprachgebiete            0.017815\n",
       "bundespräsidenten        0.017815\n",
       "cassarate                0.017815\n",
       "campione                 0.017815\n",
       "sprachgemeinschaft       0.017815\n",
       "käme                     0.017815\n",
       "grundbedingungen         0.017815\n",
       "grundgedanke             0.017815\n",
       "ausbruch                 0.017815\n",
       "entsprechenden           0.017815\n",
       "entspannte               0.017815\n",
       "apparsa                  0.017815\n",
       "fra                      0.017815\n",
       "forze                    0.017815\n",
       "wollte                   0.017815\n",
       "geschenk                 0.017815\n",
       "dei                      0.017815\n",
       "arbeitslosenraten        0.017815\n",
       "wohlfahrtsstaates        0.017815\n",
       "vocazione                0.017815\n",
       "restlichen               0.017815\n",
       "voll                     0.017815\n",
       "eingeschlagenen          0.017815\n",
       "nannten                  0.017815\n",
       "entscheidenden           0.017815\n",
       "sole                     0.017815\n",
       "vollzogen                0.017815\n",
       "solidität                0.017815\n",
       "skizziert                0.017815\n",
       "sitz                     0.017815\n",
       "della                    0.017815\n",
       "stiessen                 0.017815\n",
       "nachmittag               0.017815\n",
       "heftigen                 0.017815\n",
       "zentrale                 0.017815\n",
       "beschliessen             0.017815\n",
       "epoche                   0.017815\n",
       "sfolgorare               0.017815\n",
       "febbraio                 0.017815\n",
       "suo                      0.017815\n",
       "hauch                    0.017815\n",
       "februarnachmittag        0.017815\n",
       "ansprache                0.017815\n",
       "ansprachen               0.017815\n",
       "ansteht                  0.017815\n",
       "februar                  0.017815\n",
       "randregionen             0.017815\n",
       "porta                    0.017815\n",
       "tutta                    0.017815\n",
       "führten                  0.017815\n",
       "kopernikanische          0.017815\n",
       "rat                      0.017815\n",
       "gegensatz                0.017815\n",
       "gebiet                   0.017815\n",
       "drangen                  0.017815\n",
       "svizzeri                 0.017815\n",
       "lippenbekenntnis         0.017815\n",
       "fordern                  0.017815\n",
       "buman                    0.017815\n",
       "wettbewerbsfähigkeit     0.017815\n",
       "folgenden                0.017815\n",
       "darstellt                0.017815\n",
       "repentino                0.017815\n",
       "einiger                  0.017815\n",
       "umweltschutzes           0.017815\n",
       "englischen               0.017815\n",
       "dreissigsten             0.017815\n",
       "beispielsweise           0.017815\n",
       "unabdingbare             0.017815\n",
       "ausbeutung               0.017815\n",
       "kulturkreis              0.017815\n",
       "unabhängigen             0.017815\n",
       "bekennen                 0.017815\n",
       "aufgreifen               0.017815\n",
       "formulierte              0.017815\n",
       "entgegenbringen          0.017815\n",
       "de                       0.017815\n",
       "löste                    0.017815\n",
       "wirklichen               0.017815\n",
       "läuteten                 0.017815\n",
       "papier                   0.017815\n",
       "willens                  0.017815\n",
       "brennend                 0.017815\n",
       "unvermittelt             0.017815\n",
       "stadtglocken             0.017815\n",
       "uhr                      0.017815\n",
       "nationalität             0.017815\n",
       "länger                   0.017815\n",
       "luganesi                 0.017815\n",
       "vordringliche            0.017815\n",
       "aufgerüttelt             0.017815\n",
       "bekommt                  0.017815\n",
       "dürrenmatt               0.017815\n",
       "aufgewachten             0.017815\n",
       "grande                   0.017815\n",
       "Length: 4119, dtype: float64"
      ]
     },
     "execution_count": 62,
     "metadata": {},
     "output_type": "execute_result"
    }
   ],
   "source": [
    "results2.sum().sort_values(ascending=False)"
   ]
  },
  {
   "cell_type": "code",
   "execution_count": null,
   "metadata": {
    "collapsed": true
   },
   "outputs": [],
   "source": []
  },
  {
   "cell_type": "code",
   "execution_count": null,
   "metadata": {
    "collapsed": true
   },
   "outputs": [],
   "source": []
  },
  {
   "cell_type": "code",
   "execution_count": null,
   "metadata": {
    "collapsed": true
   },
   "outputs": [],
   "source": [
    "## Lets use a vectorizer with tokenization and stemming\n",
    "## This doesnt really work as expected"
   ]
  },
  {
   "cell_type": "code",
   "execution_count": 47,
   "metadata": {
    "collapsed": true
   },
   "outputs": [],
   "source": [
    "nlp = spacy.load('de')"
   ]
  },
  {
   "cell_type": "code",
   "execution_count": 51,
   "metadata": {},
   "outputs": [
    {
     "data": {
      "text/plain": [
       "['ich',\n",
       " 'hoffe',\n",
       " 'hoffen',\n",
       " ',',\n",
       " 'sie',\n",
       " 'konnten',\n",
       " 'den',\n",
       " 'bisherigen',\n",
       " 'sommer',\n",
       " 'geniessen',\n",
       " 'und',\n",
       " 'dürfen',\n",
       " 'heute',\n",
       " 'mit',\n",
       " 'der',\n",
       " 'familie',\n",
       " ',',\n",
       " 'mit',\n",
       " 'freunden',\n",
       " '–',\n",
       " 'in',\n",
       " 'der',\n",
       " 'gemeinde',\n",
       " 'unseren',\n",
       " 'nationalfeiertag',\n",
       " 'begehen',\n",
       " '.']"
      ]
     },
     "execution_count": 51,
     "metadata": {},
     "output_type": "execute_result"
    }
   ],
   "source": [
    "doc = nlp(\"Ich hoffe hoffen, sie konnten den bisherigen Sommer geniessen und dürfen heute mit der Familie, mit Freunden – in der Gemeinde unseren Nationalfeiertag begehen.\")\n",
    "#have to use list comprehension\n",
    "tokens = [token.lemma_ for token in doc]\n",
    "tokens"
   ]
  },
  {
   "cell_type": "code",
   "execution_count": null,
   "metadata": {
    "collapsed": true
   },
   "outputs": [],
   "source": [
    "http://scikit-learn.org/stable/modules/generated/sklearn.metrics.pairwise.cosine_similarity.html"
   ]
  }
 ],
 "metadata": {
  "kernelspec": {
   "display_name": "Python 3",
   "language": "python",
   "name": "python3"
  },
  "language_info": {
   "codemirror_mode": {
    "name": "ipython",
    "version": 3
   },
   "file_extension": ".py",
   "mimetype": "text/x-python",
   "name": "python",
   "nbconvert_exporter": "python",
   "pygments_lexer": "ipython3",
   "version": "3.6.1"
  }
 },
 "nbformat": 4,
 "nbformat_minor": 2
}
