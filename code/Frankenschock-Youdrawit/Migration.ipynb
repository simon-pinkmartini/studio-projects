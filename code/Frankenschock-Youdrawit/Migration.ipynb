{
 "cells": [
  {
   "cell_type": "markdown",
   "metadata": {},
   "source": [
    "## Mass download the Excels"
   ]
  },
  {
   "cell_type": "code",
   "execution_count": 1,
   "metadata": {
    "collapsed": true
   },
   "outputs": [],
   "source": [
    "import requests"
   ]
  },
  {
   "cell_type": "code",
   "execution_count": 13,
   "metadata": {
    "collapsed": true
   },
   "outputs": [],
   "source": [
    "base_url = 'https://www.sem.admin.ch/dam/data/sem/publiservice/statistik/auslaenderstatistik/'"
   ]
  },
  {
   "cell_type": "code",
   "execution_count": 39,
   "metadata": {
    "collapsed": true
   },
   "outputs": [],
   "source": [
    "def download(year, month):\n",
    "    path = str(year) + '/' + '{:02d}'.format(month) + '/'    \n",
    "    filename = '4-10-Bil-Tot-Kat-d-J-' + str(year) + '-' + '{:02d}'.format(month) + '.xlsx'\n",
    "    url = base_url + path + filename\n",
    "    response = requests.get(url)\n",
    "    savepath = 'data/migration/'\n",
    "    with open(savepath + filename, 'wb') as f:\n",
    "        f.write(response.content)"
   ]
  },
  {
   "cell_type": "code",
   "execution_count": 40,
   "metadata": {},
   "outputs": [
    {
     "name": "stdout",
     "output_type": "stream",
     "text": [
      "https://www.sem.admin.ch/dam/data/sem/publiservice/statistik/auslaenderstatistik/2010/03/4-10-Bil-Tot-Kat-d-J-2010-03.xlsx\n",
      "https://www.sem.admin.ch/dam/data/sem/publiservice/statistik/auslaenderstatistik/2010/06/4-10-Bil-Tot-Kat-d-J-2010-06.xlsx\n",
      "https://www.sem.admin.ch/dam/data/sem/publiservice/statistik/auslaenderstatistik/2010/09/4-10-Bil-Tot-Kat-d-J-2010-09.xlsx\n",
      "https://www.sem.admin.ch/dam/data/sem/publiservice/statistik/auslaenderstatistik/2010/12/4-10-Bil-Tot-Kat-d-J-2010-12.xlsx\n",
      "https://www.sem.admin.ch/dam/data/sem/publiservice/statistik/auslaenderstatistik/2011/03/4-10-Bil-Tot-Kat-d-J-2011-03.xlsx\n",
      "https://www.sem.admin.ch/dam/data/sem/publiservice/statistik/auslaenderstatistik/2011/06/4-10-Bil-Tot-Kat-d-J-2011-06.xlsx\n",
      "https://www.sem.admin.ch/dam/data/sem/publiservice/statistik/auslaenderstatistik/2011/09/4-10-Bil-Tot-Kat-d-J-2011-09.xlsx\n",
      "https://www.sem.admin.ch/dam/data/sem/publiservice/statistik/auslaenderstatistik/2011/12/4-10-Bil-Tot-Kat-d-J-2011-12.xlsx\n",
      "https://www.sem.admin.ch/dam/data/sem/publiservice/statistik/auslaenderstatistik/2012/03/4-10-Bil-Tot-Kat-d-J-2012-03.xlsx\n",
      "https://www.sem.admin.ch/dam/data/sem/publiservice/statistik/auslaenderstatistik/2012/06/4-10-Bil-Tot-Kat-d-J-2012-06.xlsx\n",
      "https://www.sem.admin.ch/dam/data/sem/publiservice/statistik/auslaenderstatistik/2012/09/4-10-Bil-Tot-Kat-d-J-2012-09.xlsx\n",
      "https://www.sem.admin.ch/dam/data/sem/publiservice/statistik/auslaenderstatistik/2012/12/4-10-Bil-Tot-Kat-d-J-2012-12.xlsx\n",
      "https://www.sem.admin.ch/dam/data/sem/publiservice/statistik/auslaenderstatistik/2013/03/4-10-Bil-Tot-Kat-d-J-2013-03.xlsx\n",
      "https://www.sem.admin.ch/dam/data/sem/publiservice/statistik/auslaenderstatistik/2013/06/4-10-Bil-Tot-Kat-d-J-2013-06.xlsx\n",
      "https://www.sem.admin.ch/dam/data/sem/publiservice/statistik/auslaenderstatistik/2013/09/4-10-Bil-Tot-Kat-d-J-2013-09.xlsx\n",
      "https://www.sem.admin.ch/dam/data/sem/publiservice/statistik/auslaenderstatistik/2013/12/4-10-Bil-Tot-Kat-d-J-2013-12.xlsx\n",
      "https://www.sem.admin.ch/dam/data/sem/publiservice/statistik/auslaenderstatistik/2014/03/4-10-Bil-Tot-Kat-d-J-2014-03.xlsx\n",
      "https://www.sem.admin.ch/dam/data/sem/publiservice/statistik/auslaenderstatistik/2014/06/4-10-Bil-Tot-Kat-d-J-2014-06.xlsx\n",
      "https://www.sem.admin.ch/dam/data/sem/publiservice/statistik/auslaenderstatistik/2014/09/4-10-Bil-Tot-Kat-d-J-2014-09.xlsx\n",
      "https://www.sem.admin.ch/dam/data/sem/publiservice/statistik/auslaenderstatistik/2014/12/4-10-Bil-Tot-Kat-d-J-2014-12.xlsx\n",
      "https://www.sem.admin.ch/dam/data/sem/publiservice/statistik/auslaenderstatistik/2015/03/4-10-Bil-Tot-Kat-d-J-2015-03.xlsx\n",
      "https://www.sem.admin.ch/dam/data/sem/publiservice/statistik/auslaenderstatistik/2015/06/4-10-Bil-Tot-Kat-d-J-2015-06.xlsx\n",
      "https://www.sem.admin.ch/dam/data/sem/publiservice/statistik/auslaenderstatistik/2015/09/4-10-Bil-Tot-Kat-d-J-2015-09.xlsx\n",
      "https://www.sem.admin.ch/dam/data/sem/publiservice/statistik/auslaenderstatistik/2015/12/4-10-Bil-Tot-Kat-d-J-2015-12.xlsx\n",
      "https://www.sem.admin.ch/dam/data/sem/publiservice/statistik/auslaenderstatistik/2016/03/4-10-Bil-Tot-Kat-d-J-2016-03.xlsx\n",
      "https://www.sem.admin.ch/dam/data/sem/publiservice/statistik/auslaenderstatistik/2016/06/4-10-Bil-Tot-Kat-d-J-2016-06.xlsx\n",
      "https://www.sem.admin.ch/dam/data/sem/publiservice/statistik/auslaenderstatistik/2016/09/4-10-Bil-Tot-Kat-d-J-2016-09.xlsx\n",
      "https://www.sem.admin.ch/dam/data/sem/publiservice/statistik/auslaenderstatistik/2016/12/4-10-Bil-Tot-Kat-d-J-2016-12.xlsx\n"
     ]
    }
   ],
   "source": [
    "for year in range(2010, 2017):\n",
    "    for month in range(3, 15, 3):\n",
    "        download(year, month)"
   ]
  },
  {
   "cell_type": "code",
   "execution_count": 58,
   "metadata": {},
   "outputs": [
    {
     "name": "stdout",
     "output_type": "stream",
     "text": [
      "https://www.sem.admin.ch/dam/data/sem/publiservice/statistik/auslaenderstatistik/2017/03/4-10-Bil-Tot-Kat-d-J-2017-03.xlsx\n",
      "https://www.sem.admin.ch/dam/data/sem/publiservice/statistik/auslaenderstatistik/2017/06/4-10-Bil-Tot-Kat-d-J-2017-06.xlsx\n"
     ]
    }
   ],
   "source": [
    "for year in range(2017, 2018):\n",
    "    for month in range(3, 9, 3):\n",
    "        download(year, month)"
   ]
  },
  {
   "cell_type": "markdown",
   "metadata": {},
   "source": [
    "## Mass read the Excel Files"
   ]
  },
  {
   "cell_type": "code",
   "execution_count": 66,
   "metadata": {
    "collapsed": true
   },
   "outputs": [],
   "source": [
    "import glob\n",
    "import pandas as pd\n",
    "import re"
   ]
  },
  {
   "cell_type": "code",
   "execution_count": 133,
   "metadata": {
    "collapsed": true
   },
   "outputs": [],
   "source": [
    "filenames = glob.glob(\"data/migration/*.xlsx\")"
   ]
  },
  {
   "cell_type": "code",
   "execution_count": 134,
   "metadata": {
    "collapsed": true
   },
   "outputs": [],
   "source": [
    "filename = []\n",
    "laufjahr = []\n",
    "df_all = pd.DataFrame({\n",
    "    'filename': filename,\n",
    "    'laufjahr': laufjahr\n",
    "})"
   ]
  },
  {
   "cell_type": "code",
   "execution_count": 135,
   "metadata": {
    "collapsed": true
   },
   "outputs": [],
   "source": [
    "for filename in filenames:\n",
    "    df = pd.read_excel(filename)\n",
    "    df_current = pd.DataFrame({\n",
    "        'filename': [filename],\n",
    "        'laufjahr': [df.loc[10, 'Unnamed: 1']]\n",
    "    })\n",
    "    df_all = df_all.append(df_current)"
   ]
  },
  {
   "cell_type": "code",
   "execution_count": 136,
   "metadata": {
    "collapsed": true
   },
   "outputs": [],
   "source": [
    "df_all = df_all.reset_index()"
   ]
  },
  {
   "cell_type": "code",
   "execution_count": 137,
   "metadata": {},
   "outputs": [
    {
     "name": "stderr",
     "output_type": "stream",
     "text": [
      "/usr/local/lib/python3.6/site-packages/ipykernel_launcher.py:1: FutureWarning: currently extract(expand=None) means expand=False (return Index/Series/DataFrame) but in a future version of pandas this will be changed to expand=True (return DataFrame)\n",
      "  \"\"\"Entry point for launching an IPython kernel.\n"
     ]
    }
   ],
   "source": [
    "df_all['month'] = df_all['filename'].str.extract(r'(\\d{2}).xlsx')"
   ]
  },
  {
   "cell_type": "code",
   "execution_count": 138,
   "metadata": {},
   "outputs": [
    {
     "name": "stderr",
     "output_type": "stream",
     "text": [
      "/usr/local/lib/python3.6/site-packages/ipykernel_launcher.py:1: FutureWarning: currently extract(expand=None) means expand=False (return Index/Series/DataFrame) but in a future version of pandas this will be changed to expand=True (return DataFrame)\n",
      "  \"\"\"Entry point for launching an IPython kernel.\n"
     ]
    }
   ],
   "source": [
    "df_all['year'] = df_all['filename'].str.extract(r'(\\d{4})\\-\\d{2}.xlsx')"
   ]
  },
  {
   "cell_type": "code",
   "execution_count": 139,
   "metadata": {
    "collapsed": true
   },
   "outputs": [],
   "source": [
    "del df_all['index']\n",
    "del df_all['filename']"
   ]
  },
  {
   "cell_type": "code",
   "execution_count": 140,
   "metadata": {
    "collapsed": true
   },
   "outputs": [],
   "source": [
    "df_all.to_csv('data/migration_q_laufjahr.csv', index=False)"
   ]
  },
  {
   "cell_type": "code",
   "execution_count": 141,
   "metadata": {
    "collapsed": true
   },
   "outputs": [],
   "source": [
    "df_03 = df_all[df_all.month == '03'].reset_index()"
   ]
  },
  {
   "cell_type": "code",
   "execution_count": 142,
   "metadata": {
    "collapsed": true
   },
   "outputs": [],
   "source": [
    "df_06 = df_all[df_all.month == '06'].reset_index()\n",
    "df_09 = df_all[df_all.month == '09'].reset_index()\n",
    "df_12 = df_all[df_all.month == '12'].reset_index()"
   ]
  },
  {
   "cell_type": "code",
   "execution_count": 143,
   "metadata": {
    "collapsed": true
   },
   "outputs": [],
   "source": [
    "df_new = df_03.copy()"
   ]
  },
  {
   "cell_type": "code",
   "execution_count": 144,
   "metadata": {
    "collapsed": true
   },
   "outputs": [],
   "source": [
    "del df_new['index']\n",
    "del df_new['laufjahr']\n",
    "del df_new['month']"
   ]
  },
  {
   "cell_type": "code",
   "execution_count": 145,
   "metadata": {
    "collapsed": true
   },
   "outputs": [],
   "source": [
    "df_new['03'] = df_03['laufjahr']"
   ]
  },
  {
   "cell_type": "code",
   "execution_count": 146,
   "metadata": {
    "collapsed": true
   },
   "outputs": [],
   "source": [
    "df_new['06'] = df_06['laufjahr'] - df_03['laufjahr']"
   ]
  },
  {
   "cell_type": "code",
   "execution_count": 147,
   "metadata": {
    "collapsed": true
   },
   "outputs": [],
   "source": [
    "df_new['09'] = df_09['laufjahr'] - df_06['laufjahr']"
   ]
  },
  {
   "cell_type": "code",
   "execution_count": 148,
   "metadata": {
    "collapsed": true
   },
   "outputs": [],
   "source": [
    "df_new['12'] = df_12['laufjahr'] - df_09['laufjahr']"
   ]
  },
  {
   "cell_type": "code",
   "execution_count": 149,
   "metadata": {},
   "outputs": [
    {
     "data": {
      "text/html": [
       "<div>\n",
       "<style>\n",
       "    .dataframe thead tr:only-child th {\n",
       "        text-align: right;\n",
       "    }\n",
       "\n",
       "    .dataframe thead th {\n",
       "        text-align: left;\n",
       "    }\n",
       "\n",
       "    .dataframe tbody tr th {\n",
       "        vertical-align: top;\n",
       "    }\n",
       "</style>\n",
       "<table border=\"1\" class=\"dataframe\">\n",
       "  <thead>\n",
       "    <tr style=\"text-align: right;\">\n",
       "      <th></th>\n",
       "      <th>year</th>\n",
       "      <th>03</th>\n",
       "      <th>06</th>\n",
       "      <th>09</th>\n",
       "      <th>12</th>\n",
       "    </tr>\n",
       "  </thead>\n",
       "  <tbody>\n",
       "    <tr>\n",
       "      <th>0</th>\n",
       "      <td>2010</td>\n",
       "      <td>15553.0</td>\n",
       "      <td>13503.0</td>\n",
       "      <td>17052.0</td>\n",
       "      <td>18694.0</td>\n",
       "    </tr>\n",
       "    <tr>\n",
       "      <th>1</th>\n",
       "      <td>2011</td>\n",
       "      <td>17707.0</td>\n",
       "      <td>14869.0</td>\n",
       "      <td>22343.0</td>\n",
       "      <td>19219.0</td>\n",
       "    </tr>\n",
       "    <tr>\n",
       "      <th>2</th>\n",
       "      <td>2012</td>\n",
       "      <td>18040.0</td>\n",
       "      <td>15980.0</td>\n",
       "      <td>18676.0</td>\n",
       "      <td>20591.0</td>\n",
       "    </tr>\n",
       "    <tr>\n",
       "      <th>3</th>\n",
       "      <td>2013</td>\n",
       "      <td>20225.0</td>\n",
       "      <td>20103.0</td>\n",
       "      <td>19312.0</td>\n",
       "      <td>21444.0</td>\n",
       "    </tr>\n",
       "    <tr>\n",
       "      <th>4</th>\n",
       "      <td>2014</td>\n",
       "      <td>20054.0</td>\n",
       "      <td>17093.0</td>\n",
       "      <td>19315.0</td>\n",
       "      <td>22432.0</td>\n",
       "    </tr>\n",
       "    <tr>\n",
       "      <th>5</th>\n",
       "      <td>2015</td>\n",
       "      <td>22928.0</td>\n",
       "      <td>12206.0</td>\n",
       "      <td>19122.0</td>\n",
       "      <td>17212.0</td>\n",
       "    </tr>\n",
       "    <tr>\n",
       "      <th>6</th>\n",
       "      <td>2016</td>\n",
       "      <td>15027.0</td>\n",
       "      <td>13963.0</td>\n",
       "      <td>15344.0</td>\n",
       "      <td>15928.0</td>\n",
       "    </tr>\n",
       "    <tr>\n",
       "      <th>7</th>\n",
       "      <td>2017</td>\n",
       "      <td>14635.0</td>\n",
       "      <td>10891.0</td>\n",
       "      <td>NaN</td>\n",
       "      <td>NaN</td>\n",
       "    </tr>\n",
       "  </tbody>\n",
       "</table>\n",
       "</div>"
      ],
      "text/plain": [
       "   year       03       06       09       12\n",
       "0  2010  15553.0  13503.0  17052.0  18694.0\n",
       "1  2011  17707.0  14869.0  22343.0  19219.0\n",
       "2  2012  18040.0  15980.0  18676.0  20591.0\n",
       "3  2013  20225.0  20103.0  19312.0  21444.0\n",
       "4  2014  20054.0  17093.0  19315.0  22432.0\n",
       "5  2015  22928.0  12206.0  19122.0  17212.0\n",
       "6  2016  15027.0  13963.0  15344.0  15928.0\n",
       "7  2017  14635.0  10891.0      NaN      NaN"
      ]
     },
     "execution_count": 149,
     "metadata": {},
     "output_type": "execute_result"
    }
   ],
   "source": [
    "df_new"
   ]
  },
  {
   "cell_type": "code",
   "execution_count": 150,
   "metadata": {
    "collapsed": true
   },
   "outputs": [],
   "source": [
    "df_new = df_new.melt(id_vars='year')"
   ]
  },
  {
   "cell_type": "code",
   "execution_count": 153,
   "metadata": {
    "collapsed": true
   },
   "outputs": [],
   "source": [
    "df_new = df_new.sort_values(by=['year', 'variable'])"
   ]
  },
  {
   "cell_type": "code",
   "execution_count": 154,
   "metadata": {
    "collapsed": true
   },
   "outputs": [],
   "source": [
    "df_new['month'] = df_new['variable'].astype(int) - 1"
   ]
  },
  {
   "cell_type": "code",
   "execution_count": 155,
   "metadata": {
    "collapsed": true
   },
   "outputs": [],
   "source": [
    "df_new['month'] = df_new['month'].apply(lambda x: '{:02d}'.format(x))"
   ]
  },
  {
   "cell_type": "code",
   "execution_count": 156,
   "metadata": {
    "collapsed": true
   },
   "outputs": [],
   "source": [
    "df_new['date'] = df_new['year'] + \"-\" + df_new['month'] + \"-15\""
   ]
  },
  {
   "cell_type": "code",
   "execution_count": 157,
   "metadata": {
    "collapsed": true
   },
   "outputs": [],
   "source": [
    "del df_new['year']\n",
    "del df_new['variable']\n",
    "del df_new['month']"
   ]
  },
  {
   "cell_type": "code",
   "execution_count": 159,
   "metadata": {
    "collapsed": true
   },
   "outputs": [],
   "source": [
    "df = df_new.copy()"
   ]
  },
  {
   "cell_type": "code",
   "execution_count": 160,
   "metadata": {
    "collapsed": true
   },
   "outputs": [],
   "source": [
    "# Only take data starting from 2013 (need to convert first)\n",
    "df['date'] = pd.to_datetime(df['date'], format='%Y-%m-%d')\n",
    "df = df.set_index('date')\n",
    "df = df['2013':].reset_index()"
   ]
  },
  {
   "cell_type": "code",
   "execution_count": 161,
   "metadata": {
    "collapsed": true
   },
   "outputs": [],
   "source": [
    "# Convert back to text\n",
    "df['date'] = df['date'].apply(lambda x: x.strftime('%Y-%m-%d'))"
   ]
  },
  {
   "cell_type": "code",
   "execution_count": 163,
   "metadata": {
    "collapsed": true
   },
   "outputs": [],
   "source": [
    "df.drop(df.value.isnull(), inplace=True)"
   ]
  },
  {
   "cell_type": "code",
   "execution_count": 164,
   "metadata": {},
   "outputs": [
    {
     "data": {
      "text/html": [
       "<div>\n",
       "<style>\n",
       "    .dataframe thead tr:only-child th {\n",
       "        text-align: right;\n",
       "    }\n",
       "\n",
       "    .dataframe thead th {\n",
       "        text-align: left;\n",
       "    }\n",
       "\n",
       "    .dataframe tbody tr th {\n",
       "        vertical-align: top;\n",
       "    }\n",
       "</style>\n",
       "<table border=\"1\" class=\"dataframe\">\n",
       "  <thead>\n",
       "    <tr style=\"text-align: right;\">\n",
       "      <th></th>\n",
       "      <th>date</th>\n",
       "      <th>value</th>\n",
       "    </tr>\n",
       "  </thead>\n",
       "  <tbody>\n",
       "    <tr>\n",
       "      <th>0</th>\n",
       "      <td>2013-02-15</td>\n",
       "      <td>20225.0</td>\n",
       "    </tr>\n",
       "    <tr>\n",
       "      <th>1</th>\n",
       "      <td>2013-05-15</td>\n",
       "      <td>20103.0</td>\n",
       "    </tr>\n",
       "    <tr>\n",
       "      <th>2</th>\n",
       "      <td>2013-08-15</td>\n",
       "      <td>19312.0</td>\n",
       "    </tr>\n",
       "    <tr>\n",
       "      <th>3</th>\n",
       "      <td>2013-11-15</td>\n",
       "      <td>21444.0</td>\n",
       "    </tr>\n",
       "    <tr>\n",
       "      <th>4</th>\n",
       "      <td>2014-02-15</td>\n",
       "      <td>20054.0</td>\n",
       "    </tr>\n",
       "    <tr>\n",
       "      <th>5</th>\n",
       "      <td>2014-05-15</td>\n",
       "      <td>17093.0</td>\n",
       "    </tr>\n",
       "    <tr>\n",
       "      <th>6</th>\n",
       "      <td>2014-08-15</td>\n",
       "      <td>19315.0</td>\n",
       "    </tr>\n",
       "    <tr>\n",
       "      <th>7</th>\n",
       "      <td>2014-11-15</td>\n",
       "      <td>22432.0</td>\n",
       "    </tr>\n",
       "    <tr>\n",
       "      <th>8</th>\n",
       "      <td>2015-02-15</td>\n",
       "      <td>22928.0</td>\n",
       "    </tr>\n",
       "    <tr>\n",
       "      <th>9</th>\n",
       "      <td>2015-05-15</td>\n",
       "      <td>12206.0</td>\n",
       "    </tr>\n",
       "    <tr>\n",
       "      <th>10</th>\n",
       "      <td>2015-08-15</td>\n",
       "      <td>19122.0</td>\n",
       "    </tr>\n",
       "    <tr>\n",
       "      <th>11</th>\n",
       "      <td>2015-11-15</td>\n",
       "      <td>17212.0</td>\n",
       "    </tr>\n",
       "    <tr>\n",
       "      <th>12</th>\n",
       "      <td>2016-02-15</td>\n",
       "      <td>15027.0</td>\n",
       "    </tr>\n",
       "    <tr>\n",
       "      <th>13</th>\n",
       "      <td>2016-05-15</td>\n",
       "      <td>13963.0</td>\n",
       "    </tr>\n",
       "    <tr>\n",
       "      <th>14</th>\n",
       "      <td>2016-08-15</td>\n",
       "      <td>15344.0</td>\n",
       "    </tr>\n",
       "    <tr>\n",
       "      <th>15</th>\n",
       "      <td>2016-11-15</td>\n",
       "      <td>15928.0</td>\n",
       "    </tr>\n",
       "    <tr>\n",
       "      <th>16</th>\n",
       "      <td>2017-02-15</td>\n",
       "      <td>14635.0</td>\n",
       "    </tr>\n",
       "    <tr>\n",
       "      <th>17</th>\n",
       "      <td>2017-05-15</td>\n",
       "      <td>10891.0</td>\n",
       "    </tr>\n",
       "  </tbody>\n",
       "</table>\n",
       "</div>"
      ],
      "text/plain": [
       "          date    value\n",
       "0   2013-02-15  20225.0\n",
       "1   2013-05-15  20103.0\n",
       "2   2013-08-15  19312.0\n",
       "3   2013-11-15  21444.0\n",
       "4   2014-02-15  20054.0\n",
       "5   2014-05-15  17093.0\n",
       "6   2014-08-15  19315.0\n",
       "7   2014-11-15  22432.0\n",
       "8   2015-02-15  22928.0\n",
       "9   2015-05-15  12206.0\n",
       "10  2015-08-15  19122.0\n",
       "11  2015-11-15  17212.0\n",
       "12  2016-02-15  15027.0\n",
       "13  2016-05-15  13963.0\n",
       "14  2016-08-15  15344.0\n",
       "15  2016-11-15  15928.0\n",
       "16  2017-02-15  14635.0\n",
       "17  2017-05-15  10891.0"
      ]
     },
     "execution_count": 164,
     "metadata": {},
     "output_type": "execute_result"
    }
   ],
   "source": [
    "df"
   ]
  },
  {
   "cell_type": "code",
   "execution_count": 165,
   "metadata": {
    "collapsed": true
   },
   "outputs": [],
   "source": [
    "df.to_csv('web/Migration.csv', index=False)"
   ]
  },
  {
   "cell_type": "code",
   "execution_count": 168,
   "metadata": {},
   "outputs": [
    {
     "data": {
      "text/plain": [
       "count       18.000000\n",
       "mean     17624.111111\n",
       "std       3471.785740\n",
       "min      10891.000000\n",
       "25%      15106.250000\n",
       "50%      18167.000000\n",
       "75%      20090.750000\n",
       "max      22928.000000\n",
       "Name: value, dtype: float64"
      ]
     },
     "execution_count": 168,
     "metadata": {},
     "output_type": "execute_result"
    }
   ],
   "source": [
    "df.value.describe()"
   ]
  },
  {
   "cell_type": "code",
   "execution_count": 169,
   "metadata": {},
   "outputs": [
    {
     "data": {
      "text/html": [
       "<div>\n",
       "<style>\n",
       "    .dataframe thead tr:only-child th {\n",
       "        text-align: right;\n",
       "    }\n",
       "\n",
       "    .dataframe thead th {\n",
       "        text-align: left;\n",
       "    }\n",
       "\n",
       "    .dataframe tbody tr th {\n",
       "        vertical-align: top;\n",
       "    }\n",
       "</style>\n",
       "<table border=\"1\" class=\"dataframe\">\n",
       "  <thead>\n",
       "    <tr style=\"text-align: right;\">\n",
       "      <th></th>\n",
       "      <th>date</th>\n",
       "      <th>value</th>\n",
       "    </tr>\n",
       "  </thead>\n",
       "  <tbody>\n",
       "    <tr>\n",
       "      <th>0</th>\n",
       "      <td>2013-02-15</td>\n",
       "      <td>20225.0</td>\n",
       "    </tr>\n",
       "    <tr>\n",
       "      <th>1</th>\n",
       "      <td>2013-05-15</td>\n",
       "      <td>20103.0</td>\n",
       "    </tr>\n",
       "    <tr>\n",
       "      <th>2</th>\n",
       "      <td>2013-08-15</td>\n",
       "      <td>19312.0</td>\n",
       "    </tr>\n",
       "    <tr>\n",
       "      <th>3</th>\n",
       "      <td>2013-11-15</td>\n",
       "      <td>21444.0</td>\n",
       "    </tr>\n",
       "    <tr>\n",
       "      <th>4</th>\n",
       "      <td>2014-02-15</td>\n",
       "      <td>20054.0</td>\n",
       "    </tr>\n",
       "    <tr>\n",
       "      <th>5</th>\n",
       "      <td>2014-05-15</td>\n",
       "      <td>17093.0</td>\n",
       "    </tr>\n",
       "    <tr>\n",
       "      <th>6</th>\n",
       "      <td>2014-08-15</td>\n",
       "      <td>19315.0</td>\n",
       "    </tr>\n",
       "    <tr>\n",
       "      <th>7</th>\n",
       "      <td>2014-11-15</td>\n",
       "      <td>22432.0</td>\n",
       "    </tr>\n",
       "    <tr>\n",
       "      <th>8</th>\n",
       "      <td>2015-02-15</td>\n",
       "      <td>22928.0</td>\n",
       "    </tr>\n",
       "    <tr>\n",
       "      <th>9</th>\n",
       "      <td>2015-05-15</td>\n",
       "      <td>12206.0</td>\n",
       "    </tr>\n",
       "    <tr>\n",
       "      <th>10</th>\n",
       "      <td>2015-08-15</td>\n",
       "      <td>19122.0</td>\n",
       "    </tr>\n",
       "    <tr>\n",
       "      <th>11</th>\n",
       "      <td>2015-11-15</td>\n",
       "      <td>17212.0</td>\n",
       "    </tr>\n",
       "    <tr>\n",
       "      <th>12</th>\n",
       "      <td>2016-02-15</td>\n",
       "      <td>15027.0</td>\n",
       "    </tr>\n",
       "    <tr>\n",
       "      <th>13</th>\n",
       "      <td>2016-05-15</td>\n",
       "      <td>13963.0</td>\n",
       "    </tr>\n",
       "    <tr>\n",
       "      <th>14</th>\n",
       "      <td>2016-08-15</td>\n",
       "      <td>15344.0</td>\n",
       "    </tr>\n",
       "    <tr>\n",
       "      <th>15</th>\n",
       "      <td>2016-11-15</td>\n",
       "      <td>15928.0</td>\n",
       "    </tr>\n",
       "    <tr>\n",
       "      <th>16</th>\n",
       "      <td>2017-02-15</td>\n",
       "      <td>14635.0</td>\n",
       "    </tr>\n",
       "    <tr>\n",
       "      <th>17</th>\n",
       "      <td>2017-05-15</td>\n",
       "      <td>10891.0</td>\n",
       "    </tr>\n",
       "  </tbody>\n",
       "</table>\n",
       "</div>"
      ],
      "text/plain": [
       "          date    value\n",
       "0   2013-02-15  20225.0\n",
       "1   2013-05-15  20103.0\n",
       "2   2013-08-15  19312.0\n",
       "3   2013-11-15  21444.0\n",
       "4   2014-02-15  20054.0\n",
       "5   2014-05-15  17093.0\n",
       "6   2014-08-15  19315.0\n",
       "7   2014-11-15  22432.0\n",
       "8   2015-02-15  22928.0\n",
       "9   2015-05-15  12206.0\n",
       "10  2015-08-15  19122.0\n",
       "11  2015-11-15  17212.0\n",
       "12  2016-02-15  15027.0\n",
       "13  2016-05-15  13963.0\n",
       "14  2016-08-15  15344.0\n",
       "15  2016-11-15  15928.0\n",
       "16  2017-02-15  14635.0\n",
       "17  2017-05-15  10891.0"
      ]
     },
     "execution_count": 169,
     "metadata": {},
     "output_type": "execute_result"
    }
   ],
   "source": [
    "df"
   ]
  },
  {
   "cell_type": "code",
   "execution_count": null,
   "metadata": {
    "collapsed": true
   },
   "outputs": [],
   "source": []
  }
 ],
 "metadata": {
  "kernelspec": {
   "display_name": "Python 3",
   "language": "python",
   "name": "python3"
  },
  "language_info": {
   "codemirror_mode": {
    "name": "ipython",
    "version": 3
   },
   "file_extension": ".py",
   "mimetype": "text/x-python",
   "name": "python",
   "nbconvert_exporter": "python",
   "pygments_lexer": "ipython3",
   "version": "3.6.1"
  }
 },
 "nbformat": 4,
 "nbformat_minor": 2
}
