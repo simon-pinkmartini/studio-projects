{
 "cells": [
  {
   "cell_type": "markdown",
   "metadata": {},
   "source": [
    "### Get all Lagebeurteilungen from the SNB Website"
   ]
  },
  {
   "cell_type": "markdown",
   "metadata": {},
   "source": [
    "Step 1: get a list of all media releases from the SNB website"
   ]
  },
  {
   "cell_type": "code",
   "execution_count": 1,
   "metadata": {},
   "outputs": [],
   "source": [
    "import requests\n",
    "from bs4 import BeautifulSoup"
   ]
  },
  {
   "cell_type": "code",
   "execution_count": 10,
   "metadata": {
    "collapsed": true
   },
   "outputs": [],
   "source": [
    "import pandas as pd"
   ]
  },
  {
   "cell_type": "code",
   "execution_count": 89,
   "metadata": {
    "collapsed": true
   },
   "outputs": [],
   "source": [
    "import re"
   ]
  },
  {
   "cell_type": "code",
   "execution_count": 6,
   "metadata": {
    "collapsed": true
   },
   "outputs": [],
   "source": [
    "base_url = 'https://www.snb.ch/de/ifor/media/id/media_releases'\n",
    "param = \"\""
   ]
  },
  {
   "cell_type": "code",
   "execution_count": 7,
   "metadata": {
    "collapsed": true
   },
   "outputs": [],
   "source": [
    "article_list = []"
   ]
  },
  {
   "cell_type": "code",
   "execution_count": 8,
   "metadata": {},
   "outputs": [
    {
     "name": "stdout",
     "output_type": "stream",
     "text": [
      "https://www.snb.ch/de/ifor/media/id/media_releases\n",
      "next\n",
      "https://www.snb.ch/de/ifor/media/id/media_releases?dsrp_eb3yeaetm.page=2\n",
      "next\n",
      "https://www.snb.ch/de/ifor/media/id/media_releases?dsrp_eb3yeaetm.page=3\n",
      "next\n",
      "https://www.snb.ch/de/ifor/media/id/media_releases?dsrp_eb3yeaetm.page=4\n",
      "next\n",
      "https://www.snb.ch/de/ifor/media/id/media_releases?dsrp_eb3yeaetm.page=5\n",
      "next\n",
      "https://www.snb.ch/de/ifor/media/id/media_releases?dsrp_eb3yeaetm.page=6\n",
      "next\n",
      "https://www.snb.ch/de/ifor/media/id/media_releases?dsrp_eb3yeaetm.page=7\n",
      "next\n",
      "https://www.snb.ch/de/ifor/media/id/media_releases?dsrp_eb3yeaetm.page=8\n",
      "next\n",
      "https://www.snb.ch/de/ifor/media/id/media_releases?dsrp_eb3yeaetm.page=9\n",
      "next\n",
      "https://www.snb.ch/de/ifor/media/id/media_releases?dsrp_eb3yeaetm.page=10\n",
      "next\n",
      "https://www.snb.ch/de/ifor/media/id/media_releases?dsrp_eb3yeaetm.page=11\n",
      "next\n",
      "https://www.snb.ch/de/ifor/media/id/media_releases?dsrp_eb3yeaetm.page=12\n",
      "next\n",
      "https://www.snb.ch/de/ifor/media/id/media_releases?dsrp_eb3yeaetm.page=13\n",
      "next\n",
      "https://www.snb.ch/de/ifor/media/id/media_releases?dsrp_eb3yeaetm.page=14\n",
      "next\n",
      "https://www.snb.ch/de/ifor/media/id/media_releases?dsrp_eb3yeaetm.page=15\n",
      "next\n",
      "https://www.snb.ch/de/ifor/media/id/media_releases?dsrp_eb3yeaetm.page=16\n",
      "next\n",
      "https://www.snb.ch/de/ifor/media/id/media_releases?dsrp_eb3yeaetm.page=17\n",
      "next\n",
      "https://www.snb.ch/de/ifor/media/id/media_releases?dsrp_eb3yeaetm.page=18\n",
      "next\n",
      "https://www.snb.ch/de/ifor/media/id/media_releases?dsrp_eb3yeaetm.page=19\n",
      "next\n",
      "https://www.snb.ch/de/ifor/media/id/media_releases?dsrp_eb3yeaetm.page=20\n",
      "next\n",
      "https://www.snb.ch/de/ifor/media/id/media_releases?dsrp_eb3yeaetm.page=21\n",
      "next\n",
      "https://www.snb.ch/de/ifor/media/id/media_releases?dsrp_eb3yeaetm.page=22\n",
      "next\n",
      "https://www.snb.ch/de/ifor/media/id/media_releases?dsrp_eb3yeaetm.page=23\n",
      "next\n",
      "https://www.snb.ch/de/ifor/media/id/media_releases?dsrp_eb3yeaetm.page=24\n",
      "next\n",
      "https://www.snb.ch/de/ifor/media/id/media_releases?dsrp_eb3yeaetm.page=25\n",
      "next\n",
      "https://www.snb.ch/de/ifor/media/id/media_releases?dsrp_eb3yeaetm.page=26\n",
      "next\n",
      "https://www.snb.ch/de/ifor/media/id/media_releases?dsrp_eb3yeaetm.page=27\n",
      "next\n",
      "https://www.snb.ch/de/ifor/media/id/media_releases?dsrp_eb3yeaetm.page=28\n",
      "exit\n"
     ]
    }
   ],
   "source": [
    "while True:\n",
    "    #navigate to webpage\n",
    "    print(base_url + param)\n",
    "    response = requests.get(base_url + param)\n",
    "    doc = BeautifulSoup(response.text, \"html.parser\")\n",
    "    articles = doc.find_all('article', class_='clearfix')\n",
    "    #get all link infos\n",
    "    for article in articles:\n",
    "        current = {}\n",
    "        current['text'] = article.find('a').text\n",
    "        current['link'] = article.find('a')['href']\n",
    "        article_list.append(current)\n",
    "    #check if there is more data\n",
    "    if doc.find('a', class_='next'):\n",
    "        param = doc.find('a', class_='next')['href']\n",
    "        print ('next')\n",
    "    else:\n",
    "        print ('exit')\n",
    "        break"
   ]
  },
  {
   "cell_type": "code",
   "execution_count": 17,
   "metadata": {},
   "outputs": [],
   "source": [
    "# save to csv so we can skip the scraping next time\n",
    "df_articles = pd.DataFrame(article_list)"
   ]
  },
  {
   "cell_type": "code",
   "execution_count": 14,
   "metadata": {},
   "outputs": [],
   "source": [
    "df_articles.to_csv('SNB-Medienmitteilungen.csv')"
   ]
  },
  {
   "cell_type": "markdown",
   "metadata": {},
   "source": [
    "Step 2: Download all Geldpolitische Lagebeurteilungen"
   ]
  },
  {
   "cell_type": "code",
   "execution_count": 86,
   "metadata": {
    "collapsed": true
   },
   "outputs": [],
   "source": [
    "df_articles = pd.read_csv('SNB-Medienmitteilungen.csv')    "
   ]
  },
  {
   "cell_type": "code",
   "execution_count": 90,
   "metadata": {
    "collapsed": true
   },
   "outputs": [],
   "source": [
    "df_lagebeurteilungen = df_articles[df_articles.text.str.contains('Geldpolitische Lagebeurteilung')]"
   ]
  },
  {
   "cell_type": "code",
   "execution_count": 91,
   "metadata": {
    "collapsed": true
   },
   "outputs": [],
   "source": [
    "lagebeurteilungen = df_lagebeurteilungen.to_dict(orient='records')"
   ]
  },
  {
   "cell_type": "code",
   "execution_count": 42,
   "metadata": {
    "collapsed": true
   },
   "outputs": [],
   "source": [
    "base_url = 'https://www.snb.ch'"
   ]
  },
  {
   "cell_type": "code",
   "execution_count": 108,
   "metadata": {},
   "outputs": [],
   "source": [
    "for lagebeurteilung in lagebeurteilungen:\n",
    "    url = base_url + lagebeurteilung['link']\n",
    "    response = requests.get(url)\n",
    "    filename = re.split('/', lagebeurteilung['link'])[-1]\n",
    "    path = 'docs/' + filename\n",
    "    with open(path, 'wb') as f:\n",
    "        f.write(response.content)"
   ]
  }
 ],
 "metadata": {
  "kernelspec": {
   "display_name": "Python 3",
   "language": "python",
   "name": "python3"
  },
  "language_info": {
   "codemirror_mode": {
    "name": "ipython",
    "version": 3
   },
   "file_extension": ".py",
   "mimetype": "text/x-python",
   "name": "python",
   "nbconvert_exporter": "python",
   "pygments_lexer": "ipython3",
   "version": "3.6.1"
  }
 },
 "nbformat": 4,
 "nbformat_minor": 2
}
