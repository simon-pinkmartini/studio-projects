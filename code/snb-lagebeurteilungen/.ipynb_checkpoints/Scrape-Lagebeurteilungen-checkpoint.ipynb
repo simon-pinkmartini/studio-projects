{
 "cells": [
  {
   "cell_type": "markdown",
   "metadata": {},
   "source": [
    "### Get all Lagebeurteilungen from the SNB Website"
   ]
  },
  {
   "cell_type": "markdown",
   "metadata": {},
   "source": [
    "Step 1: get a list of all media releases from the SNB website"
   ]
  },
  {
   "cell_type": "code",
   "execution_count": 15,
   "metadata": {
    "collapsed": true
   },
   "outputs": [],
   "source": [
    "import requests\n",
    "from bs4 import BeautifulSoup"
   ]
  },
  {
   "cell_type": "code",
   "execution_count": 17,
   "metadata": {
    "collapsed": true
   },
   "outputs": [],
   "source": [
    "import pandas as pd"
   ]
  },
  {
   "cell_type": "code",
   "execution_count": 18,
   "metadata": {
    "collapsed": true
   },
   "outputs": [],
   "source": [
    "import re"
   ]
  },
  {
   "cell_type": "code",
   "execution_count": 19,
   "metadata": {
    "collapsed": true
   },
   "outputs": [],
   "source": [
    "base_url = 'https://www.snb.ch/de/ifor/media/id/media_releases'\n",
    "param = \"\""
   ]
  },
  {
   "cell_type": "code",
   "execution_count": 20,
   "metadata": {
    "collapsed": true
   },
   "outputs": [],
   "source": [
    "article_list = []"
   ]
  },
  {
   "cell_type": "code",
   "execution_count": 21,
   "metadata": {},
   "outputs": [
    {
     "name": "stdout",
     "output_type": "stream",
     "text": [
      "https://www.snb.ch/de/ifor/media/id/media_releases\n",
      "next\n",
      "https://www.snb.ch/de/ifor/media/id/media_releases?dsrp_7jpar4yij.page=2\n",
      "next\n",
      "https://www.snb.ch/de/ifor/media/id/media_releases?dsrp_7jpar4yij.page=3\n",
      "next\n",
      "https://www.snb.ch/de/ifor/media/id/media_releases?dsrp_7jpar4yij.page=4\n",
      "next\n",
      "https://www.snb.ch/de/ifor/media/id/media_releases?dsrp_7jpar4yij.page=5\n",
      "next\n",
      "https://www.snb.ch/de/ifor/media/id/media_releases?dsrp_7jpar4yij.page=6\n",
      "next\n",
      "https://www.snb.ch/de/ifor/media/id/media_releases?dsrp_7jpar4yij.page=7\n",
      "next\n",
      "https://www.snb.ch/de/ifor/media/id/media_releases?dsrp_7jpar4yij.page=8\n",
      "next\n",
      "https://www.snb.ch/de/ifor/media/id/media_releases?dsrp_7jpar4yij.page=9\n",
      "next\n",
      "https://www.snb.ch/de/ifor/media/id/media_releases?dsrp_7jpar4yij.page=10\n",
      "next\n",
      "https://www.snb.ch/de/ifor/media/id/media_releases?dsrp_7jpar4yij.page=11\n",
      "next\n",
      "https://www.snb.ch/de/ifor/media/id/media_releases?dsrp_7jpar4yij.page=12\n",
      "next\n",
      "https://www.snb.ch/de/ifor/media/id/media_releases?dsrp_7jpar4yij.page=13\n",
      "next\n",
      "https://www.snb.ch/de/ifor/media/id/media_releases?dsrp_7jpar4yij.page=14\n",
      "next\n",
      "https://www.snb.ch/de/ifor/media/id/media_releases?dsrp_7jpar4yij.page=15\n",
      "next\n",
      "https://www.snb.ch/de/ifor/media/id/media_releases?dsrp_7jpar4yij.page=16\n",
      "next\n",
      "https://www.snb.ch/de/ifor/media/id/media_releases?dsrp_7jpar4yij.page=17\n",
      "next\n",
      "https://www.snb.ch/de/ifor/media/id/media_releases?dsrp_7jpar4yij.page=18\n",
      "next\n",
      "https://www.snb.ch/de/ifor/media/id/media_releases?dsrp_7jpar4yij.page=19\n",
      "next\n",
      "https://www.snb.ch/de/ifor/media/id/media_releases?dsrp_7jpar4yij.page=20\n",
      "next\n",
      "https://www.snb.ch/de/ifor/media/id/media_releases?dsrp_7jpar4yij.page=21\n",
      "next\n",
      "https://www.snb.ch/de/ifor/media/id/media_releases?dsrp_7jpar4yij.page=22\n",
      "next\n",
      "https://www.snb.ch/de/ifor/media/id/media_releases?dsrp_7jpar4yij.page=23\n",
      "next\n",
      "https://www.snb.ch/de/ifor/media/id/media_releases?dsrp_7jpar4yij.page=24\n",
      "next\n",
      "https://www.snb.ch/de/ifor/media/id/media_releases?dsrp_7jpar4yij.page=25\n",
      "next\n",
      "https://www.snb.ch/de/ifor/media/id/media_releases?dsrp_7jpar4yij.page=26\n",
      "next\n",
      "https://www.snb.ch/de/ifor/media/id/media_releases?dsrp_7jpar4yij.page=27\n",
      "next\n",
      "https://www.snb.ch/de/ifor/media/id/media_releases?dsrp_7jpar4yij.page=28\n",
      "exit\n"
     ]
    }
   ],
   "source": [
    "while True:\n",
    "    #navigate to webpage\n",
    "    print(base_url + param)\n",
    "    response = requests.get(base_url + param)\n",
    "    doc = BeautifulSoup(response.text, \"html.parser\")\n",
    "    articles = doc.find_all('article', class_='clearfix')\n",
    "    #get all link infos\n",
    "    for article in articles:\n",
    "        current = {}\n",
    "        current['text'] = article.find('a').text\n",
    "        current['link'] = article.find('a')['href']\n",
    "        article_list.append(current)\n",
    "    #check if there is more data\n",
    "    if doc.find('a', class_='next'):\n",
    "        param = doc.find('a', class_='next')['href']\n",
    "        print ('next')\n",
    "    else:\n",
    "        print ('exit')\n",
    "        break"
   ]
  },
  {
   "cell_type": "code",
   "execution_count": 22,
   "metadata": {
    "collapsed": true
   },
   "outputs": [],
   "source": [
    "# save to csv so we can skip the scraping next time\n",
    "df_articles = pd.DataFrame(article_list)"
   ]
  },
  {
   "cell_type": "code",
   "execution_count": 23,
   "metadata": {
    "collapsed": true
   },
   "outputs": [],
   "source": [
    "df_articles.to_csv('SNB-Medienmitteilungen.csv')"
   ]
  },
  {
   "cell_type": "markdown",
   "metadata": {},
   "source": [
    "Step 2: Download all Geldpolitische Lagebeurteilungen"
   ]
  },
  {
   "cell_type": "code",
   "execution_count": 24,
   "metadata": {
    "collapsed": true
   },
   "outputs": [],
   "source": [
    "df_articles = pd.read_csv('SNB-Medienmitteilungen.csv')    "
   ]
  },
  {
   "cell_type": "code",
   "execution_count": 25,
   "metadata": {},
   "outputs": [
    {
     "data": {
      "text/html": [
       "<div>\n",
       "<style>\n",
       "    .dataframe thead tr:only-child th {\n",
       "        text-align: right;\n",
       "    }\n",
       "\n",
       "    .dataframe thead th {\n",
       "        text-align: left;\n",
       "    }\n",
       "\n",
       "    .dataframe tbody tr th {\n",
       "        vertical-align: top;\n",
       "    }\n",
       "</style>\n",
       "<table border=\"1\" class=\"dataframe\">\n",
       "  <thead>\n",
       "    <tr style=\"text-align: right;\">\n",
       "      <th></th>\n",
       "      <th>Unnamed: 0</th>\n",
       "      <th>link</th>\n",
       "      <th>text</th>\n",
       "    </tr>\n",
       "  </thead>\n",
       "  <tbody>\n",
       "    <tr>\n",
       "      <th>0</th>\n",
       "      <td>0</td>\n",
       "      <td>/de/mmr/reference/pre_20170925/source/pre_2017...</td>\n",
       "      <td>Zahlungsbilanz und Auslandvermögen der Schweiz...</td>\n",
       "    </tr>\n",
       "    <tr>\n",
       "      <th>1</th>\n",
       "      <td>1</td>\n",
       "      <td>/de/mmr/reference/pre_20170914/source/pre_2017...</td>\n",
       "      <td>Geldpolitische Lagebeurteilung vom 14. Septemb...</td>\n",
       "    </tr>\n",
       "    <tr>\n",
       "      <th>2</th>\n",
       "      <td>2</td>\n",
       "      <td>/de/mmr/reference/pre_20170804/source/pre_2017...</td>\n",
       "      <td>Umfrage zur Zahlungsmittelnutzung in der Schweiz</td>\n",
       "    </tr>\n",
       "    <tr>\n",
       "      <th>3</th>\n",
       "      <td>3</td>\n",
       "      <td>/de/mmr/reference/pre_20170731/source/pre_2017...</td>\n",
       "      <td>Zwischenbericht der Schweizerischen Nationalba...</td>\n",
       "    </tr>\n",
       "    <tr>\n",
       "      <th>4</th>\n",
       "      <td>4</td>\n",
       "      <td>/de/mmr/reference/pre_20170629/source/pre_2017...</td>\n",
       "      <td>Die Banken in der Schweiz 2016</td>\n",
       "    </tr>\n",
       "  </tbody>\n",
       "</table>\n",
       "</div>"
      ],
      "text/plain": [
       "   Unnamed: 0                                               link  \\\n",
       "0           0  /de/mmr/reference/pre_20170925/source/pre_2017...   \n",
       "1           1  /de/mmr/reference/pre_20170914/source/pre_2017...   \n",
       "2           2  /de/mmr/reference/pre_20170804/source/pre_2017...   \n",
       "3           3  /de/mmr/reference/pre_20170731/source/pre_2017...   \n",
       "4           4  /de/mmr/reference/pre_20170629/source/pre_2017...   \n",
       "\n",
       "                                                text  \n",
       "0  Zahlungsbilanz und Auslandvermögen der Schweiz...  \n",
       "1  Geldpolitische Lagebeurteilung vom 14. Septemb...  \n",
       "2   Umfrage zur Zahlungsmittelnutzung in der Schweiz  \n",
       "3  Zwischenbericht der Schweizerischen Nationalba...  \n",
       "4                     Die Banken in der Schweiz 2016  "
      ]
     },
     "execution_count": 25,
     "metadata": {},
     "output_type": "execute_result"
    }
   ],
   "source": [
    "df_articles.head(5)"
   ]
  },
  {
   "cell_type": "code",
   "execution_count": 26,
   "metadata": {
    "collapsed": true
   },
   "outputs": [],
   "source": [
    "df_lagebeurteilungen = df_articles[df_articles.text.str.contains('Geldpolitische Lagebeurteilung')]"
   ]
  },
  {
   "cell_type": "code",
   "execution_count": 27,
   "metadata": {
    "collapsed": true
   },
   "outputs": [],
   "source": [
    "lagebeurteilungen = df_lagebeurteilungen.to_dict(orient='records')"
   ]
  },
  {
   "cell_type": "code",
   "execution_count": 28,
   "metadata": {
    "collapsed": true
   },
   "outputs": [],
   "source": [
    "base_url = 'https://www.snb.ch'"
   ]
  },
  {
   "cell_type": "code",
   "execution_count": 29,
   "metadata": {
    "collapsed": true
   },
   "outputs": [],
   "source": [
    "for lagebeurteilung in lagebeurteilungen:\n",
    "    url = base_url + lagebeurteilung['link']\n",
    "    response = requests.get(url)\n",
    "    filename = re.split('/', lagebeurteilung['link'])[-1]\n",
    "    path = 'docs2/' + filename\n",
    "    with open(path, 'wb') as f:\n",
    "        f.write(response.content)"
   ]
  },
  {
   "cell_type": "code",
   "execution_count": null,
   "metadata": {
    "collapsed": true
   },
   "outputs": [],
   "source": []
  }
 ],
 "metadata": {
  "kernelspec": {
   "display_name": "Python 3",
   "language": "python",
   "name": "python3"
  },
  "language_info": {
   "codemirror_mode": {
    "name": "ipython",
    "version": 3
   },
   "file_extension": ".py",
   "mimetype": "text/x-python",
   "name": "python",
   "nbconvert_exporter": "python",
   "pygments_lexer": "ipython3",
   "version": "3.6.1"
  }
 },
 "nbformat": 4,
 "nbformat_minor": 2
}
