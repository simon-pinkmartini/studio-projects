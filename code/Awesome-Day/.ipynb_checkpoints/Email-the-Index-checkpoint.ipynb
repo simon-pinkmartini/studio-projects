{
 "cells": [
  {
   "cell_type": "markdown",
   "metadata": {},
   "source": [
    "## Email the Awesome day Index\n",
    "\n",
    "A script to fetch the latest awesome day index and send it to all emails from a txt file"
   ]
  },
  {
   "cell_type": "code",
   "execution_count": 3,
   "metadata": {
    "collapsed": true
   },
   "outputs": [],
   "source": [
    "import requests\n",
    "import os"
   ]
  },
  {
   "cell_type": "code",
   "execution_count": 10,
   "metadata": {},
   "outputs": [],
   "source": [
    "#Fetch the latest file entry\n",
    "#path = os.path.join(os.getcwd(), \"latest.txt\")\n",
    "with open(\"latest.txt\", 'r') as f:\n",
    "    today_text = f.read()"
   ]
  },
  {
   "cell_type": "code",
   "execution_count": 11,
   "metadata": {
    "collapsed": true
   },
   "outputs": [],
   "source": [
    "#Add some info to the mail body\n",
    "mail_text = today_text + \"\\n\\nThe Awesomeness Index was sent to you by simon-pinkmartini as projectwork for the Lede Progrmme.\""
   ]
  },
  {
   "cell_type": "code",
   "execution_count": 12,
   "metadata": {},
   "outputs": [
    {
     "data": {
      "text/plain": [
       "\"Today's awesomness index is 17.\\nLife is miserable! Today is Tuesday. There is a 66 percent chance of rain. Better go straight back to bed!\\n\\nThe Awesomeness Index was sent to you by simon-pinkmartini as projectwork for the Lede Progrmme.\""
      ]
     },
     "execution_count": 12,
     "metadata": {},
     "output_type": "execute_result"
    }
   ],
   "source": [
    "mail_text"
   ]
  },
  {
   "cell_type": "code",
   "execution_count": 13,
   "metadata": {
    "collapsed": true
   },
   "outputs": [],
   "source": [
    "#This function uses mailgun's API\n",
    "def send_index(email):\n",
    "    return requests.post(\n",
    "        \"https://api.mailgun.net/v3/sandboxd3009bfa66c448a99ef04d4d3f1dc3fb.mailgun.org/messages\",\n",
    "        auth=(\"api\", \"key-6ebb7703ebf2b34fbc21dd11b50efab4\"),\n",
    "        data={\"from\": \"Awesomeness Index <postmaster@sandboxd3009bfa66c448a99ef04d4d3f1dc3fb.mailgun.org>\",\n",
    "              \"to\": email,\n",
    "              \"subject\": \"New Awesomeness Index is here!\",\n",
    "              \"text\": mail_text})"
   ]
  },
  {
   "cell_type": "code",
   "execution_count": 14,
   "metadata": {
    "collapsed": true
   },
   "outputs": [],
   "source": [
    "#All the emails are stored in a file\n",
    "#path = path = os.path.join(os.getcwd(), \"emails/emails.txt\")\n",
    "with open('emails/emails.txt', 'r') as f:\n",
    "    emails = f.readlines()"
   ]
  },
  {
   "cell_type": "code",
   "execution_count": 15,
   "metadata": {
    "collapsed": true
   },
   "outputs": [],
   "source": [
    "#Sending the mail to all addresses\n",
    "for email in emails:\n",
    "    send_index(email)"
   ]
  },
  {
   "cell_type": "code",
   "execution_count": null,
   "metadata": {
    "collapsed": true
   },
   "outputs": [],
   "source": []
  }
 ],
 "metadata": {
  "kernelspec": {
   "display_name": "Python 3",
   "language": "python",
   "name": "python3"
  },
  "language_info": {
   "codemirror_mode": {
    "name": "ipython",
    "version": 3
   },
   "file_extension": ".py",
   "mimetype": "text/x-python",
   "name": "python",
   "nbconvert_exporter": "python",
   "pygments_lexer": "ipython3",
   "version": "3.6.1"
  }
 },
 "nbformat": 4,
 "nbformat_minor": 2
}
