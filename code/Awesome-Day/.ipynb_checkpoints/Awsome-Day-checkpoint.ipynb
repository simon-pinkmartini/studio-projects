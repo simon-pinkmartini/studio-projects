{
 "cells": [
  {
   "cell_type": "markdown",
   "metadata": {},
   "source": [
    "# Awesome Day Index\n",
    "\n",
    "This code calls a couple of APIs that update on a daily basis.\n",
    "\n",
    "Based on the information, it calculates an index that tells us how awesome this day is going to be!"
   ]
  },
  {
   "cell_type": "code",
   "execution_count": 1,
   "metadata": {
    "collapsed": true
   },
   "outputs": [],
   "source": [
    "import requests\n",
    "from bs4 import BeautifulSoup\n",
    "import numpy as np\n",
    "import datetime"
   ]
  },
  {
   "cell_type": "markdown",
   "metadata": {},
   "source": [
    "## Define a data structure for our Awesome Day Index"
   ]
  },
  {
   "cell_type": "code",
   "execution_count": 70,
   "metadata": {
    "collapsed": true
   },
   "outputs": [],
   "source": [
    "#Our Awesome Day Index will be calculated an average of many indices.\n",
    "class index:\n",
    "    \n",
    "    #An instruction of how to translate values into words\n",
    "    awesomeness_types = [\n",
    "        {'minvalue': 0, 'adjective': 'totally awful', 'sentence': \"But hey, at least it can't get worse.\"},\n",
    "        {'minvalue': 10, 'adjective': 'miserable', 'sentence': \"Better go straight back to bed!\"},\n",
    "        {'minvalue': 20, 'adjective': 'bad', 'sentence': \"Good luck, you will need it!\"},\n",
    "        {'minvalue': 30, 'adjective': 'mediocre', 'sentence': \"Better buy yourself some chocolate!\"},\n",
    "        {'minvalue': 40, 'adjective': 'decent', 'sentence': \"Consider the glass almost half full.\"},\n",
    "        {'minvalue': 50, 'adjective': 'quite okay', 'sentence': \"Watch out for unexpected luck!\"},\n",
    "        {'minvalue': 60, 'adjective': 'pretty good', 'sentence': \"Time to get bullish!\"},\n",
    "        {'minvalue': 70, 'adjective': 'sweet', 'sentence': \"Today could totally be your day!\"},\n",
    "        {'minvalue': 80, 'adjective': 'fantastic', 'sentence': \"Hakuna matata, way to go!\"},\n",
    "        {'minvalue': 90, 'adjective': 'absolutely awesome', 'sentence': \"Let's rock!\"},\n",
    "    ]\n",
    "    \n",
    "    def __init__(self):\n",
    "        #The Name of this index\n",
    "        self.name = \"Awesome Index\"\n",
    "        #The value of the index (between 0 and 100)\n",
    "        self.value = 0.0\n",
    "        #The adjective describing the day\n",
    "        self.adjective = \"\"\n",
    "        #A sentence to give more color\n",
    "        self.sentence = \"\"\n",
    "        #The list of subindices\n",
    "        self.subindices = []\n",
    "        \n",
    "    def add(self, subindex):\n",
    "        #Add the subindex to the list\n",
    "        self.subindices.append(subindex)\n",
    "        #Update the index base on the values of the subindices\n",
    "        self.update()\n",
    "        \n",
    "    def update(self):    \n",
    "        #Calculate the average value\n",
    "        values = []\n",
    "        for subindex in self.subindices:\n",
    "            values.append(subindex.value)\n",
    "        if len(values) > 0:\n",
    "            self.value = np.mean(values)\n",
    "        #Choose an adjective based on the value\n",
    "        for awesomeness_type in index.awesomeness_types:\n",
    "            if self.value >= awesomeness_type['minvalue']:\n",
    "                self.adjective = awesomeness_type['adjective']\n",
    "                self.sentence = awesomeness_type['sentence']\n",
    "                \n",
    "    def to_text(self):\n",
    "        text = \"Today's awesomness index: \" + str('%d' % (round(self.value ,0))) + \". Life is \" + self.adjective + \"!\"\n",
    "        for subindex in self.subindices:\n",
    "            text += \" \" + subindex.message\n",
    "        text += \" \" + self.sentence\n",
    "        return text"
   ]
  },
  {
   "cell_type": "code",
   "execution_count": 71,
   "metadata": {
    "collapsed": true
   },
   "outputs": [],
   "source": [
    "#Each index has a set of attributes and functions\n",
    "class subindex:\n",
    "    def __init__(self):\n",
    "        #The status of the index - set to \"good\" after populating\n",
    "        self.status = \"bad\"\n",
    "        #A Title for this index\n",
    "        self.name = \"\"\n",
    "        #The value has to be set between 0 and 100\n",
    "        self.value = 0.0\n",
    "        #A message to attach to the latest value\n",
    "        self.message = \"\""
   ]
  },
  {
   "cell_type": "markdown",
   "metadata": {},
   "source": [
    "## Initialize the Awesome Index "
   ]
  },
  {
   "cell_type": "code",
   "execution_count": 72,
   "metadata": {},
   "outputs": [],
   "source": [
    "awesomeindex = index()"
   ]
  },
  {
   "cell_type": "markdown",
   "metadata": {},
   "source": [
    "## Populate the Index with many sub-indices"
   ]
  },
  {
   "cell_type": "markdown",
   "metadata": {},
   "source": [
    "### A subindex for today's weekday"
   ]
  },
  {
   "cell_type": "code",
   "execution_count": 78,
   "metadata": {
    "collapsed": true
   },
   "outputs": [],
   "source": [
    "#Initialize the subindex\n",
    "weekday_subindex = subindex()"
   ]
  },
  {
   "cell_type": "code",
   "execution_count": 79,
   "metadata": {
    "collapsed": true
   },
   "outputs": [],
   "source": [
    "#Get the current time\n",
    "timenow = datetime.datetime.now()\n",
    "weekday = timenow.strftime(\"%w\" )\n",
    "weekday_name = timenow.strftime(\"%A\" )"
   ]
  },
  {
   "cell_type": "code",
   "execution_count": 80,
   "metadata": {},
   "outputs": [],
   "source": [
    "#Here's the matrix for awesomeness and weekdays\n",
    "day_awesomeness = {\n",
    "    0: 80,\n",
    "    1: 0,\n",
    "    2: 0,\n",
    "    3: 20,\n",
    "    4: 50,\n",
    "    5: 75,\n",
    "    6: 100\n",
    "}"
   ]
  },
  {
   "cell_type": "code",
   "execution_count": 81,
   "metadata": {},
   "outputs": [],
   "source": [
    "#Asign the awesomeness value base on the matrix\n",
    "weekday_subindex.value = day_awesomeness[int(weekday)]\n",
    "weekday_subindex.message = \"Today is \" + weekday_name + \".\"\n",
    "weekday_subindex.status = \"good\""
   ]
  },
  {
   "cell_type": "code",
   "execution_count": 82,
   "metadata": {
    "collapsed": true
   },
   "outputs": [],
   "source": [
    "#Depending on the status, we will add the subindex or not\n",
    "if weekday_subindex.status == \"good\":\n",
    "    awesomeindex.add(weekday_subindex)"
   ]
  },
  {
   "cell_type": "markdown",
   "metadata": {},
   "source": [
    "### A subindex for the weather in New York!"
   ]
  },
  {
   "cell_type": "code",
   "execution_count": 83,
   "metadata": {
    "collapsed": true
   },
   "outputs": [],
   "source": [
    "#Initialize the subindex\n",
    "weather_subindex = subindex()"
   ]
  },
  {
   "cell_type": "code",
   "execution_count": 84,
   "metadata": {
    "collapsed": true
   },
   "outputs": [],
   "source": [
    "#We can use the Dark Sky API for this\n",
    "api_url = \"https://api.darksky.net/forecast/\"\n",
    "api_key = \"d2742358d5756e9f3358aa5a4ddad873\"\n",
    "Y_coord = 40.785091\n",
    "X_coord = -73.968285\n",
    "url = api_url + api_key + \"/\" + str(Y_coord) + \",\" + str(X_coord)"
   ]
  },
  {
   "cell_type": "code",
   "execution_count": 85,
   "metadata": {},
   "outputs": [],
   "source": [
    "try:\n",
    "    #Make API Call\n",
    "    response = requests.get(url)\n",
    "    data = response.json()\n",
    "    \n",
    "    #Get a couple of data points\n",
    "    forecast_for_today = data['daily']['data'][0]\n",
    "    rain = forecast_for_today['precipProbability'] #between 0 and 1 \n",
    "\n",
    "except (ConnectionError, KeyError):\n",
    "    pass\n",
    "\n",
    "else:\n",
    "    \n",
    "    #FOR LATER...\n",
    "    #clouds = forecast_for_today['cloudCover'] #between 0 and 1\n",
    "    #temp = forecast_for_today['apparentTemperatureMax'] #between 0 and 1\n",
    "    \n",
    "    #Calculate a weather subindex\n",
    "    weather_subindex.value = (1 - rain) * 100\n",
    "    \n",
    "    #Add a message\n",
    "    weather_subindex.message = \"There is a \" + str('%d' % (round(rain * 100, 0))) + \" percent chance of rain.\"\n",
    "    \n",
    "    #If we got until here, the status is good!\n",
    "    weather_subindex.status = \"good\""
   ]
  },
  {
   "cell_type": "code",
   "execution_count": 86,
   "metadata": {},
   "outputs": [],
   "source": [
    "#Depending on the status, we will add the subindex or not\n",
    "if weather_subindex.status == \"good\":\n",
    "    awesomeindex.add(weather_subindex)"
   ]
  },
  {
   "cell_type": "markdown",
   "metadata": {},
   "source": [
    "## Output the index to a textfile"
   ]
  },
  {
   "cell_type": "code",
   "execution_count": 88,
   "metadata": {},
   "outputs": [],
   "source": [
    "#Call the text function from the index class\n",
    "today_text = awesomeindex.to_text()"
   ]
  },
  {
   "cell_type": "code",
   "execution_count": 90,
   "metadata": {
    "collapsed": true
   },
   "outputs": [],
   "source": [
    "#Write to the latest file entry\n",
    "with open('latest.txt', 'w') as f:\n",
    "    f.write(today_text)"
   ]
  },
  {
   "cell_type": "code",
   "execution_count": 99,
   "metadata": {},
   "outputs": [],
   "source": [
    "#Prepare a timestamp for the filename\n",
    "datestring = datetime.datetime.now().strftime(\"%Y-%m-%d\")\n",
    "archivefile = \"archive/awesomeindex-\" + datestring + \".txt\""
   ]
  },
  {
   "cell_type": "code",
   "execution_count": 101,
   "metadata": {},
   "outputs": [],
   "source": [
    "#Write to the archive\n",
    "with open(archivefile, 'w') as f:\n",
    "    f.write(today_text)"
   ]
  },
  {
   "cell_type": "markdown",
   "metadata": {},
   "source": [
    "## Mail it"
   ]
  },
  {
   "cell_type": "code",
   "execution_count": 126,
   "metadata": {
    "collapsed": true
   },
   "outputs": [],
   "source": [
    "#This function uses mailgun's API\n",
    "def send_index(email):\n",
    "    return requests.post(\n",
    "        \"https://api.mailgun.net/v3/sandboxd3009bfa66c448a99ef04d4d3f1dc3fb.mailgun.org/messages\",\n",
    "        auth=(\"api\", \"key-6ebb7703ebf2b34fbc21dd11b50efab4\"),\n",
    "        data={\"from\": \"Awesomeness Index <postmaster@sandboxd3009bfa66c448a99ef04d4d3f1dc3fb.mailgun.org>\",\n",
    "              \"to\": email,\n",
    "              \"subject\": \"Today will be \" + awesomeindex.adjective + \"!\",\n",
    "              \"text\": today_text})"
   ]
  },
  {
   "cell_type": "code",
   "execution_count": 127,
   "metadata": {},
   "outputs": [],
   "source": [
    "#All the emails are stored in a file\n",
    "with open('emails/emails.txt', 'r') as f:\n",
    "    emails = f.readlines()"
   ]
  },
  {
   "cell_type": "code",
   "execution_count": 125,
   "metadata": {},
   "outputs": [],
   "source": [
    "#Sending the mail to all addresses\n",
    "for email in emails:\n",
    "    send_index(email)"
   ]
  },
  {
   "cell_type": "code",
   "execution_count": null,
   "metadata": {
    "collapsed": true
   },
   "outputs": [],
   "source": []
  }
 ],
 "metadata": {
  "kernelspec": {
   "display_name": "Python 3",
   "language": "python",
   "name": "python3"
  },
  "language_info": {
   "codemirror_mode": {
    "name": "ipython",
    "version": 3
   },
   "file_extension": ".py",
   "mimetype": "text/x-python",
   "name": "python",
   "nbconvert_exporter": "python",
   "pygments_lexer": "ipython3",
   "version": "3.6.1"
  }
 },
 "nbformat": 4,
 "nbformat_minor": 2
}
